{
 "cells": [
  {
   "cell_type": "code",
   "execution_count": 1,
   "id": "09da0223",
   "metadata": {},
   "outputs": [],
   "source": [
    "def test9():\n",
    "    gr = [1,2,3,6,5,4,78]\n",
    "    a=0\n",
    "    for i in gr:\n",
    "        if type(i) == int:\n",
    "            a = i+a\n",
    "    return(a)\n",
    "    "
   ]
  },
  {
   "cell_type": "code",
   "execution_count": 2,
   "id": "23fffef7",
   "metadata": {},
   "outputs": [
    {
     "data": {
      "text/plain": [
       "99"
      ]
     },
     "execution_count": 2,
     "metadata": {},
     "output_type": "execute_result"
    }
   ],
   "source": [
    "test9()"
   ]
  },
  {
   "cell_type": "code",
   "execution_count": 3,
   "id": "fd44ed9e",
   "metadata": {},
   "outputs": [],
   "source": [
    "def saprate():\n",
    "    c = 5+5\n",
    "    return c"
   ]
  },
  {
   "cell_type": "code",
   "execution_count": 4,
   "id": "a82520df",
   "metadata": {},
   "outputs": [],
   "source": [
    " a = [1,2,3,6,5,4,7,8,98,2,3,6,55,4,7,8,9,5,5,2,1,4,4,422,2,6,55,1,4,\"yash\",\"issha\",\"yashika\",\"sarah\",\"seema\",\"varsha\"]\n"
   ]
  },
  {
   "cell_type": "code",
   "execution_count": 5,
   "id": "a2309ba7",
   "metadata": {},
   "outputs": [
    {
     "data": {
      "text/plain": [
       "10"
      ]
     },
     "execution_count": 5,
     "metadata": {},
     "output_type": "execute_result"
    }
   ],
   "source": [
    "saprate()\n"
   ]
  },
  {
   "cell_type": "code",
   "execution_count": 6,
   "id": "37c534d9",
   "metadata": {},
   "outputs": [],
   "source": [
    "def test(function):\n",
    "    def test2(*args,**kwargs):\n",
    "        print(\"i m inside test\")\n",
    "        function(*args,**kwargs)\n",
    "        return function(*args,**kwargs)\n",
    "    return test2"
   ]
  },
  {
   "cell_type": "code",
   "execution_count": 7,
   "id": "4740b693",
   "metadata": {},
   "outputs": [],
   "source": [
    "@test\n",
    "def made(a,b,c):\n",
    "    return a+b+c"
   ]
  },
  {
   "cell_type": "code",
   "execution_count": 8,
   "id": "b4c38525",
   "metadata": {},
   "outputs": [
    {
     "name": "stdout",
     "output_type": "stream",
     "text": [
      "i m inside test\n"
     ]
    },
    {
     "data": {
      "text/plain": [
       "'yashishamohite'"
      ]
     },
     "execution_count": 8,
     "metadata": {},
     "output_type": "execute_result"
    }
   ],
   "source": [
    "made(\"yash\",\"isha\",\"mohite\")"
   ]
  },
  {
   "cell_type": "code",
   "execution_count": 9,
   "id": "f64a2cc7",
   "metadata": {},
   "outputs": [],
   "source": [
    "@test\n",
    "def practic():\n",
    "    l = [1,2,5,4,6,9,8,7,5,6,3,\"f\",\"fl\",\"dr\"]\n",
    "    l1 = []\n",
    "    for i in l:\n",
    "        if type(i) == str:\n",
    "            l1.append(i)\n",
    "    return l1"
   ]
  },
  {
   "cell_type": "code",
   "execution_count": 10,
   "id": "2b3ab1f3",
   "metadata": {},
   "outputs": [
    {
     "name": "stdout",
     "output_type": "stream",
     "text": [
      "i m inside test\n"
     ]
    },
    {
     "data": {
      "text/plain": [
       "['f', 'fl', 'dr']"
      ]
     },
     "execution_count": 10,
     "metadata": {},
     "output_type": "execute_result"
    }
   ],
   "source": [
    "practic()"
   ]
  },
  {
   "cell_type": "code",
   "execution_count": 11,
   "id": "73041acd",
   "metadata": {},
   "outputs": [],
   "source": [
    "@test\n",
    "\n",
    "def kgf(**kwargs):\n",
    "    return kwargs"
   ]
  },
  {
   "cell_type": "code",
   "execution_count": 12,
   "id": "cd869a08",
   "metadata": {},
   "outputs": [
    {
     "name": "stdout",
     "output_type": "stream",
     "text": [
      "i m inside test\n"
     ]
    },
    {
     "data": {
      "text/plain": [
       "{'a': 55, 'b': 89, 'c': 87}"
      ]
     },
     "execution_count": 12,
     "metadata": {},
     "output_type": "execute_result"
    }
   ],
   "source": [
    "kgf(a=55,b=89,c=87)"
   ]
  },
  {
   "cell_type": "code",
   "execution_count": 13,
   "id": "f22c7daf",
   "metadata": {},
   "outputs": [],
   "source": [
    "r = lambda x,y: x*y"
   ]
  },
  {
   "cell_type": "code",
   "execution_count": 14,
   "id": "2eeef492",
   "metadata": {},
   "outputs": [
    {
     "data": {
      "text/plain": [
       "100"
      ]
     },
     "execution_count": 14,
     "metadata": {},
     "output_type": "execute_result"
    }
   ],
   "source": [
    "r(10,10)"
   ]
  },
  {
   "cell_type": "code",
   "execution_count": 15,
   "id": "0e52dce8",
   "metadata": {},
   "outputs": [],
   "source": [
    "l = lambda x,y : x/y"
   ]
  },
  {
   "cell_type": "code",
   "execution_count": 16,
   "id": "6c172d10",
   "metadata": {},
   "outputs": [
    {
     "data": {
      "text/plain": [
       "0.5555555555555556"
      ]
     },
     "execution_count": 16,
     "metadata": {},
     "output_type": "execute_result"
    }
   ],
   "source": [
    "l(5,9)"
   ]
  },
  {
   "cell_type": "code",
   "execution_count": 17,
   "id": "bf09002a",
   "metadata": {},
   "outputs": [],
   "source": [
    "d = lambda *args: args"
   ]
  },
  {
   "cell_type": "code",
   "execution_count": 18,
   "id": "7de23c8e",
   "metadata": {},
   "outputs": [
    {
     "data": {
      "text/plain": [
       "(1, 2, 5, 4, 6, 9, 8, 7)"
      ]
     },
     "execution_count": 18,
     "metadata": {},
     "output_type": "execute_result"
    }
   ],
   "source": [
    "d(1,2,5,4,6,9,8,7,)"
   ]
  },
  {
   "cell_type": "code",
   "execution_count": 19,
   "id": "ac2479ec",
   "metadata": {},
   "outputs": [
    {
     "data": {
      "text/plain": [
       "[21, 22, 23, 26, 25, 24, 27, 28, 29]"
      ]
     },
     "execution_count": 19,
     "metadata": {},
     "output_type": "execute_result"
    }
   ],
   "source": [
    "t = [1,2,3,6,5,4,7,8,9]\n",
    "list(map(lambda x: x+20,t))"
   ]
  },
  {
   "cell_type": "code",
   "execution_count": 20,
   "id": "a9fdb6c9",
   "metadata": {},
   "outputs": [
    {
     "data": {
      "text/plain": [
       "[5, 10, 15, 30, 25, 20, 35, 40, 45]"
      ]
     },
     "execution_count": 20,
     "metadata": {},
     "output_type": "execute_result"
    }
   ],
   "source": [
    "list(map(lambda x : x*5,t))"
   ]
  },
  {
   "cell_type": "code",
   "execution_count": 27,
   "id": "4ead7c7a",
   "metadata": {},
   "outputs": [
    {
     "data": {
      "text/plain": [
       "['Yash', 'Raju', 'Mohite']"
      ]
     },
     "execution_count": 27,
     "metadata": {},
     "output_type": "execute_result"
    }
   ],
   "source": [
    "lst = [\"yash\",\"raju\",\"mohite\"]\n",
    "list(map(lambda a:a.title(),lst))"
   ]
  },
  {
   "cell_type": "code",
   "execution_count": 28,
   "id": "ae8ab028",
   "metadata": {},
   "outputs": [
    {
     "data": {
      "text/plain": [
       "[4, 4, 6]"
      ]
     },
     "execution_count": 28,
     "metadata": {},
     "output_type": "execute_result"
    }
   ],
   "source": [
    "list(map(lambda x :len(x),lst))"
   ]
  },
  {
   "cell_type": "code",
   "execution_count": 31,
   "id": "d89a92fe",
   "metadata": {},
   "outputs": [],
   "source": []
  },
  {
   "cell_type": "code",
   "execution_count": null,
   "id": "46be29c4",
   "metadata": {},
   "outputs": [],
   "source": []
  },
  {
   "cell_type": "code",
   "execution_count": null,
   "id": "efa9b532",
   "metadata": {},
   "outputs": [],
   "source": []
  }
 ],
 "metadata": {
  "kernelspec": {
   "display_name": "Python 3 (ipykernel)",
   "language": "python",
   "name": "python3"
  },
  "language_info": {
   "codemirror_mode": {
    "name": "ipython",
    "version": 3
   },
   "file_extension": ".py",
   "mimetype": "text/x-python",
   "name": "python",
   "nbconvert_exporter": "python",
   "pygments_lexer": "ipython3",
   "version": "3.10.6"
  }
 },
 "nbformat": 4,
 "nbformat_minor": 5
}
