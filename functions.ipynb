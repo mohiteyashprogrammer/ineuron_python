{
 "cells": [
  {
   "cell_type": "code",
   "execution_count": 1,
   "id": "bed233c0",
   "metadata": {},
   "outputs": [
    {
     "name": "stdout",
     "output_type": "stream",
     "text": [
      "4\n",
      "6\n",
      "<class 'str'>\n",
      "5\n",
      "5\n",
      "this is my function ineuron\n",
      "<class 'tuple'>\n",
      "(1, 4, 5)\n"
     ]
    }
   ],
   "source": [
    "a = \"yash\"\n",
    "print(len(a))\n",
    "\n",
    "l = [1,2,3,6,54,\"yash\"]\n",
    "print(len(l))\n",
    "\n",
    "def test():\n",
    "    print(\"this is my function\")\n",
    "\n",
    "b = \"mohite\"\n",
    "print(type(b))\n",
    "\n",
    "def test1():\n",
    "    return 5\n",
    "\n",
    "print(test1())\n",
    "\n",
    "d = test1()\n",
    "print(test1())\n",
    "\n",
    "\n",
    "def test3():\n",
    "    return 10\n",
    "\n",
    "def test4():\n",
    "    return \"this is my function ineuron\"\n",
    "   \n",
    "\n",
    "print(test4())\n",
    "\n",
    "def test5():\n",
    "    print(\"this is my python code\")\n",
    "\n",
    "    \n",
    "def test6():\n",
    "    return 1,3,2,54,[1,25,4],(1,4,5,)\n",
    "\n",
    "print((type(test6())))\n",
    "\n",
    "print(test6()[5])\n",
    "\n",
    "def test7():\n",
    "    return 1,3,[1,25,4],(1,4,5,)"
   ]
  },
  {
   "cell_type": "code",
   "execution_count": 2,
   "id": "6bc44bf6",
   "metadata": {},
   "outputs": [
    {
     "data": {
      "text/plain": [
       "(1, 3, [1, 25, 4], (1, 4, 5))"
      ]
     },
     "execution_count": 2,
     "metadata": {},
     "output_type": "execute_result"
    }
   ],
   "source": [
    "test7()"
   ]
  },
  {
   "cell_type": "code",
   "execution_count": 3,
   "id": "269e9bfc",
   "metadata": {},
   "outputs": [],
   "source": [
    "a1,b1,c1,d1, = test7()\n"
   ]
  },
  {
   "cell_type": "code",
   "execution_count": 4,
   "id": "899ef63b",
   "metadata": {},
   "outputs": [
    {
     "data": {
      "text/plain": [
       "1"
      ]
     },
     "execution_count": 4,
     "metadata": {},
     "output_type": "execute_result"
    }
   ],
   "source": [
    "a1"
   ]
  },
  {
   "cell_type": "code",
   "execution_count": 5,
   "id": "6b6cf17c",
   "metadata": {},
   "outputs": [
    {
     "data": {
      "text/plain": [
       "3"
      ]
     },
     "execution_count": 5,
     "metadata": {},
     "output_type": "execute_result"
    }
   ],
   "source": [
    "b1"
   ]
  },
  {
   "cell_type": "code",
   "execution_count": 6,
   "id": "c3be9240",
   "metadata": {},
   "outputs": [
    {
     "data": {
      "text/plain": [
       "[1, 25, 4]"
      ]
     },
     "execution_count": 6,
     "metadata": {},
     "output_type": "execute_result"
    }
   ],
   "source": [
    "c1"
   ]
  },
  {
   "cell_type": "code",
   "execution_count": 7,
   "id": "6fa12bfd",
   "metadata": {},
   "outputs": [
    {
     "data": {
      "text/plain": [
       "(1, 4, 5)"
      ]
     },
     "execution_count": 7,
     "metadata": {},
     "output_type": "execute_result"
    }
   ],
   "source": [
    "d1"
   ]
  },
  {
   "cell_type": "code",
   "execution_count": 8,
   "id": "59ff209f",
   "metadata": {},
   "outputs": [],
   "source": [
    "def test8():\n",
    "    a = 5+8\n",
    "    return a\n"
   ]
  },
  {
   "cell_type": "code",
   "execution_count": 9,
   "id": "6c3e558e",
   "metadata": {},
   "outputs": [
    {
     "data": {
      "text/plain": [
       "13"
      ]
     },
     "execution_count": 9,
     "metadata": {},
     "output_type": "execute_result"
    }
   ],
   "source": [
    "test8()"
   ]
  },
  {
   "cell_type": "code",
   "execution_count": 10,
   "id": "5ca043f6",
   "metadata": {},
   "outputs": [
    {
     "data": {
      "text/plain": [
       "int"
      ]
     },
     "execution_count": 10,
     "metadata": {},
     "output_type": "execute_result"
    }
   ],
   "source": [
    "type(test8())"
   ]
  },
  {
   "cell_type": "code",
   "execution_count": 11,
   "id": "ab88597f",
   "metadata": {},
   "outputs": [],
   "source": [
    "def test9():\n",
    "    gr = [1,2,3,6,5,4,78]\n",
    "    a=0\n",
    "    for i in gr:\n",
    "        if type(i) == int:\n",
    "            a = i+a\n",
    "    return(a)\n",
    "    "
   ]
  },
  {
   "cell_type": "code",
   "execution_count": 12,
   "id": "714254d3",
   "metadata": {},
   "outputs": [
    {
     "data": {
      "text/plain": [
       "99"
      ]
     },
     "execution_count": 12,
     "metadata": {},
     "output_type": "execute_result"
    }
   ],
   "source": [
    "test9()"
   ]
  },
  {
   "cell_type": "code",
   "execution_count": 13,
   "id": "382eab83",
   "metadata": {},
   "outputs": [],
   "source": [
    "def test10(a,b):\n",
    "    return a+b"
   ]
  },
  {
   "cell_type": "code",
   "execution_count": 14,
   "id": "3da47e79",
   "metadata": {},
   "outputs": [
    {
     "data": {
      "text/plain": [
       "'yashmohite'"
      ]
     },
     "execution_count": 14,
     "metadata": {},
     "output_type": "execute_result"
    }
   ],
   "source": [
    "test10(\"yash\",\"mohite\")"
   ]
  },
  {
   "cell_type": "code",
   "execution_count": 15,
   "id": "80073f5a",
   "metadata": {},
   "outputs": [
    {
     "data": {
      "text/plain": [
       "144"
      ]
     },
     "execution_count": 15,
     "metadata": {},
     "output_type": "execute_result"
    }
   ],
   "source": [
    "test10(55,89)"
   ]
  },
  {
   "cell_type": "code",
   "execution_count": null,
   "id": "29059605",
   "metadata": {},
   "outputs": [],
   "source": []
  },
  {
   "cell_type": "code",
   "execution_count": 16,
   "id": "e7dd7fac",
   "metadata": {},
   "outputs": [
    {
     "name": "stdout",
     "output_type": "stream",
     "text": [
      "\n"
     ]
    }
   ],
   "source": [
    "l1 = [4,5,7,8,9,4,6,\"yash\",4.5]\n",
    "d = []\n",
    "c = []\n",
    "\n",
    "for i in l1:\n",
    "    if type(i) == str :\n",
    "         d.append(i)\n",
    "    elif type(i) == int:\n",
    "        c.append(i)\n",
    "    else:\n",
    "        print()\n",
    "        \n"
   ]
  },
  {
   "cell_type": "code",
   "execution_count": 17,
   "id": "77845794",
   "metadata": {},
   "outputs": [
    {
     "data": {
      "text/plain": [
       "['yash']"
      ]
     },
     "execution_count": 17,
     "metadata": {},
     "output_type": "execute_result"
    }
   ],
   "source": [
    "d"
   ]
  },
  {
   "cell_type": "code",
   "execution_count": 18,
   "id": "ee190f63",
   "metadata": {},
   "outputs": [
    {
     "data": {
      "text/plain": [
       "[4, 5, 7, 8, 9, 4, 6]"
      ]
     },
     "execution_count": 18,
     "metadata": {},
     "output_type": "execute_result"
    }
   ],
   "source": [
    "c"
   ]
  },
  {
   "cell_type": "code",
   "execution_count": 19,
   "id": "88c24a11",
   "metadata": {},
   "outputs": [],
   "source": [
    "def test11(d,c):\n",
    "    l1 = [4,5,7,8,9,4,6,\"yash\",4.5]\n",
    "    d = []\n",
    "    c = []\n",
    "\n",
    "    for i in l1:\n",
    "        if type(i) == str :\n",
    "             d.append(i)\n",
    "        elif type(i) == int:\n",
    "            c.append(i)\n",
    "    return d,c\n",
    "        "
   ]
  },
  {
   "cell_type": "code",
   "execution_count": null,
   "id": "8b9059fd",
   "metadata": {},
   "outputs": [],
   "source": []
  },
  {
   "cell_type": "code",
   "execution_count": 20,
   "id": "a2dc2c2a",
   "metadata": {},
   "outputs": [],
   "source": [
    "l1 = [4,5,7,8,9,4,6,\"yash\",4.5]"
   ]
  },
  {
   "cell_type": "code",
   "execution_count": 21,
   "id": "c25299ec",
   "metadata": {},
   "outputs": [],
   "source": [
    "def test12(d):\n",
    "    '''this is my function saprate string from list'''\n",
    "    d = []\n",
    "    for i in l1:\n",
    "        if type(i) == str :\n",
    "             d.append(i)\n",
    "    return d"
   ]
  },
  {
   "cell_type": "code",
   "execution_count": 22,
   "id": "eb0ed567",
   "metadata": {},
   "outputs": [
    {
     "data": {
      "text/plain": [
       "['yash']"
      ]
     },
     "execution_count": 22,
     "metadata": {},
     "output_type": "execute_result"
    }
   ],
   "source": [
    "l2 = [4,5,7,8,9,4,6,\"yash\",4.5]\n",
    "test12(l2)"
   ]
  },
  {
   "cell_type": "code",
   "execution_count": 23,
   "id": "6c2974b9",
   "metadata": {},
   "outputs": [],
   "source": [
    "#build len function\n",
    "def lenth_function(s):\n",
    "    '''This is the programm to find the length of string'''\n",
    "    count = 0\n",
    "    for i in s:\n",
    "        #if type(i) == str:\n",
    "            count=count+1\n",
    "    return count\n",
    "    "
   ]
  },
  {
   "cell_type": "code",
   "execution_count": 24,
   "id": "8edf9ca1",
   "metadata": {},
   "outputs": [
    {
     "data": {
      "text/plain": [
       "11"
      ]
     },
     "execution_count": 24,
     "metadata": {},
     "output_type": "execute_result"
    }
   ],
   "source": [
    "lenth_function(\"yash mohite\")"
   ]
  },
  {
   "cell_type": "code",
   "execution_count": 25,
   "id": "869aa61b",
   "metadata": {},
   "outputs": [],
   "source": [
    "# build index function\n",
    "lst = [1,2,3,6,5,4,78,9,10,\"yash\",\"mohite\"]\n",
    "\n",
    "\n",
    "\n"
   ]
  },
  {
   "cell_type": "code",
   "execution_count": 26,
   "id": "8784259e",
   "metadata": {},
   "outputs": [],
   "source": [
    "def ind_function(ls):\n",
    "    for i in range(0,len(ls)):\n",
    "        print(ls[i],\": \",i)\n",
    "        \n",
    "    "
   ]
  },
  {
   "cell_type": "code",
   "execution_count": 27,
   "id": "7cbbe1c0",
   "metadata": {},
   "outputs": [
    {
     "name": "stdout",
     "output_type": "stream",
     "text": [
      "1 :  0\n",
      "2 :  1\n",
      "3 :  2\n",
      "6 :  3\n",
      "5 :  4\n",
      "4 :  5\n",
      "78 :  6\n",
      "9 :  7\n",
      "10 :  8\n",
      "yash :  9\n",
      "mohite :  10\n"
     ]
    }
   ],
   "source": [
    "ind_function(lst)"
   ]
  },
  {
   "cell_type": "code",
   "execution_count": 28,
   "id": "c5345a32",
   "metadata": {},
   "outputs": [],
   "source": [
    "import socket\n",
    "def GET_IPA():\n",
    "    ip = socket.gethostbyname(socket.gethostname())\n",
    "    return ip"
   ]
  },
  {
   "cell_type": "code",
   "execution_count": 29,
   "id": "1ff1028a",
   "metadata": {},
   "outputs": [
    {
     "data": {
      "text/plain": [
       "'192.168.0.103'"
      ]
     },
     "execution_count": 29,
     "metadata": {},
     "output_type": "execute_result"
    }
   ],
   "source": [
    "GET_IPA()"
   ]
  },
  {
   "cell_type": "code",
   "execution_count": 30,
   "id": "74d8d058",
   "metadata": {},
   "outputs": [],
   "source": [
    "# import os\n",
    "\n",
    "# os.system()\n",
    "\n",
    "# # /s shutdown\n",
    "# # /r restart\n",
    "# # /t timer"
   ]
  },
  {
   "cell_type": "code",
   "execution_count": 31,
   "id": "ec9e682c",
   "metadata": {},
   "outputs": [],
   "source": [
    "lst = [1,2,3,6,5,4,78,9,10,\"yash\",\"mohite\"]\n",
    "def strmultiply(lm):\n",
    "    m=1\n",
    "    \n",
    "    for i in lm:\n",
    "        if type(i) == int or type(i) == float:\n",
    "            m=m*i\n",
    "    return m\n",
    "    "
   ]
  },
  {
   "cell_type": "code",
   "execution_count": 32,
   "id": "c72906c6",
   "metadata": {},
   "outputs": [
    {
     "data": {
      "text/plain": [
       "5054400"
      ]
     },
     "execution_count": 32,
     "metadata": {},
     "output_type": "execute_result"
    }
   ],
   "source": [
    "strmultiply(lst)"
   ]
  },
  {
   "cell_type": "code",
   "execution_count": 33,
   "id": "3746a0a5",
   "metadata": {},
   "outputs": [],
   "source": [
    "def test13(*args):\n",
    "    return list(args)\n",
    "    \n",
    "    \n",
    "    \n"
   ]
  },
  {
   "cell_type": "code",
   "execution_count": 34,
   "id": "cf1df2e6",
   "metadata": {},
   "outputs": [
    {
     "data": {
      "text/plain": [
       "['yash', 1, 2, 5, 6, 4, 7, 8]"
      ]
     },
     "execution_count": 34,
     "metadata": {},
     "output_type": "execute_result"
    }
   ],
   "source": [
    "test13(\"yash\",1,2,5,6,4,7,8,)"
   ]
  },
  {
   "cell_type": "markdown",
   "id": "344085b0",
   "metadata": {},
   "source": [
    "## Dictionary"
   ]
  },
  {
   "cell_type": "code",
   "execution_count": 35,
   "id": "ccbe2a48",
   "metadata": {},
   "outputs": [],
   "source": [
    "dit = {\"key1\":\"yash\",\"key2\":[1,2,3,6,5,4]}"
   ]
  },
  {
   "cell_type": "code",
   "execution_count": 36,
   "id": "88454f63",
   "metadata": {},
   "outputs": [],
   "source": [
    "d = {2567:\"isha\"}"
   ]
  },
  {
   "cell_type": "code",
   "execution_count": 37,
   "id": "5dfb9a8d",
   "metadata": {},
   "outputs": [],
   "source": [
    "d1= {(1,2,3,65,):\"mohite\"}"
   ]
  },
  {
   "cell_type": "code",
   "execution_count": 38,
   "id": "00c96b7e",
   "metadata": {},
   "outputs": [],
   "source": [
    "d2 = {\"name\":\"yash\", \"org\":\"fresher\",\"mail\":\"yash@gmail.com\"}"
   ]
  },
  {
   "cell_type": "code",
   "execution_count": 39,
   "id": "e63ff493",
   "metadata": {},
   "outputs": [
    {
     "data": {
      "text/plain": [
       "{'name': 'yash', 'org': 'fresher', 'mail': 'yash@gmail.com'}"
      ]
     },
     "execution_count": 39,
     "metadata": {},
     "output_type": "execute_result"
    }
   ],
   "source": [
    "d2"
   ]
  },
  {
   "cell_type": "code",
   "execution_count": 40,
   "id": "d198099d",
   "metadata": {},
   "outputs": [
    {
     "data": {
      "text/plain": [
       "'yash@gmail.com'"
      ]
     },
     "execution_count": 40,
     "metadata": {},
     "output_type": "execute_result"
    }
   ],
   "source": [
    "d2['mail']"
   ]
  },
  {
   "cell_type": "code",
   "execution_count": 41,
   "id": "5116a245",
   "metadata": {},
   "outputs": [
    {
     "data": {
      "text/plain": [
       "['name', 'org', 'mail']"
      ]
     },
     "execution_count": 41,
     "metadata": {},
     "output_type": "execute_result"
    }
   ],
   "source": [
    "list(d2.keys())"
   ]
  },
  {
   "cell_type": "code",
   "execution_count": 42,
   "id": "44c2c43a",
   "metadata": {},
   "outputs": [
    {
     "data": {
      "text/plain": [
       "dict_values(['yash', 'fresher', 'yash@gmail.com'])"
      ]
     },
     "execution_count": 42,
     "metadata": {},
     "output_type": "execute_result"
    }
   ],
   "source": [
    "d2.values()"
   ]
  },
  {
   "cell_type": "code",
   "execution_count": 43,
   "id": "40f44d7f",
   "metadata": {},
   "outputs": [
    {
     "data": {
      "text/plain": [
       "dict_items([('name', 'yash'), ('org', 'fresher'), ('mail', 'yash@gmail.com')])"
      ]
     },
     "execution_count": 43,
     "metadata": {},
     "output_type": "execute_result"
    }
   ],
   "source": [
    "d2.items()"
   ]
  },
  {
   "cell_type": "code",
   "execution_count": 44,
   "id": "ade642ff",
   "metadata": {},
   "outputs": [],
   "source": [
    "d8 = {\"name\":\"isha\", \"bf\" :{\"andheri\":\"yash\",\"puna\":\"lavda\",\"nashik\":\"lasan\",\"bandra\":\"puchi\"}}"
   ]
  },
  {
   "cell_type": "code",
   "execution_count": 45,
   "id": "0b4afa31",
   "metadata": {},
   "outputs": [
    {
     "data": {
      "text/plain": [
       "{'andheri': 'yash', 'puna': 'lavda', 'nashik': 'lasan', 'bandra': 'puchi'}"
      ]
     },
     "execution_count": 45,
     "metadata": {},
     "output_type": "execute_result"
    }
   ],
   "source": [
    "d8[\"bf\"]"
   ]
  },
  {
   "cell_type": "code",
   "execution_count": 46,
   "id": "c5c8c847",
   "metadata": {},
   "outputs": [
    {
     "data": {
      "text/plain": [
       "'yash'"
      ]
     },
     "execution_count": 46,
     "metadata": {},
     "output_type": "execute_result"
    }
   ],
   "source": [
    "d8[\"bf\"][\"andheri\"]"
   ]
  },
  {
   "cell_type": "code",
   "execution_count": 47,
   "id": "4423fb10",
   "metadata": {},
   "outputs": [
    {
     "data": {
      "text/plain": [
       "['yash', 'lavda', 'lasan', 'puchi']"
      ]
     },
     "execution_count": 47,
     "metadata": {},
     "output_type": "execute_result"
    }
   ],
   "source": [
    "list(d8[\"bf\"].values())"
   ]
  },
  {
   "cell_type": "code",
   "execution_count": 48,
   "id": "92a1f73f",
   "metadata": {},
   "outputs": [],
   "source": [
    "def give_listindict(d):\n",
    "    \n",
    "    l = []\n",
    "    for i in d.keys():\n",
    "        if type(d8[i]) == dict:\n",
    "               l.append(d[i].values())\n",
    "    return l\n",
    "        "
   ]
  },
  {
   "cell_type": "code",
   "execution_count": 49,
   "id": "96eb344f",
   "metadata": {},
   "outputs": [
    {
     "data": {
      "text/plain": [
       "[1, 2, 3, 6, 54, 'yash']"
      ]
     },
     "execution_count": 49,
     "metadata": {},
     "output_type": "execute_result"
    }
   ],
   "source": [
    "l"
   ]
  },
  {
   "cell_type": "code",
   "execution_count": 50,
   "id": "c5848942",
   "metadata": {},
   "outputs": [
    {
     "data": {
      "text/plain": [
       "[dict_values(['yash', 'lavda', 'lasan', 'puchi'])]"
      ]
     },
     "execution_count": 50,
     "metadata": {},
     "output_type": "execute_result"
    }
   ],
   "source": [
    "give_listindict(d8)"
   ]
  },
  {
   "cell_type": "code",
   "execution_count": 51,
   "id": "d1e63761",
   "metadata": {},
   "outputs": [],
   "source": [
    "# d8 = d8[\"phone\"] = (245,6,8,9,7777)"
   ]
  },
  {
   "cell_type": "code",
   "execution_count": 52,
   "id": "4c8ffa8f",
   "metadata": {},
   "outputs": [],
   "source": [
    "d8[\"name\"]=\"yash\""
   ]
  },
  {
   "cell_type": "code",
   "execution_count": 53,
   "id": "a8b60746",
   "metadata": {},
   "outputs": [
    {
     "data": {
      "text/plain": [
       "{'name': 'yash',\n",
       " 'bf': {'andheri': 'yash',\n",
       "  'puna': 'lavda',\n",
       "  'nashik': 'lasan',\n",
       "  'bandra': 'puchi'}}"
      ]
     },
     "execution_count": 53,
     "metadata": {},
     "output_type": "execute_result"
    }
   ],
   "source": [
    "d8"
   ]
  },
  {
   "cell_type": "code",
   "execution_count": 54,
   "id": "ef2bb89e",
   "metadata": {},
   "outputs": [],
   "source": [
    "# del d8[\"phone\"]"
   ]
  },
  {
   "cell_type": "code",
   "execution_count": 55,
   "id": "849cf2b9",
   "metadata": {},
   "outputs": [
    {
     "data": {
      "text/plain": [
       "{'andheri': 'yash', 'puna': 'lavda', 'nashik': 'lasan', 'bandra': 'puchi'}"
      ]
     },
     "execution_count": 55,
     "metadata": {},
     "output_type": "execute_result"
    }
   ],
   "source": [
    "d8.pop(\"bf\")"
   ]
  },
  {
   "cell_type": "code",
   "execution_count": 56,
   "id": "f80f3d2e",
   "metadata": {},
   "outputs": [
    {
     "data": {
      "text/plain": [
       "{'name': 'yash'}"
      ]
     },
     "execution_count": 56,
     "metadata": {},
     "output_type": "execute_result"
    }
   ],
   "source": [
    "d8"
   ]
  },
  {
   "cell_type": "markdown",
   "id": "84bfe844",
   "metadata": {},
   "source": [
    "## continue function"
   ]
  },
  {
   "cell_type": "code",
   "execution_count": 57,
   "id": "b22fdb32",
   "metadata": {},
   "outputs": [],
   "source": [
    "def test14(**kwargs):\n",
    "    \n",
    "    return kwargs\n",
    "    "
   ]
  },
  {
   "cell_type": "code",
   "execution_count": 58,
   "id": "6f4e45fc",
   "metadata": {},
   "outputs": [
    {
     "data": {
      "text/plain": [
       "{'a': 5, 'b': 9}"
      ]
     },
     "execution_count": 58,
     "metadata": {},
     "output_type": "execute_result"
    }
   ],
   "source": [
    "test14(a=5,b=9)"
   ]
  },
  {
   "cell_type": "code",
   "execution_count": 59,
   "id": "df348672",
   "metadata": {},
   "outputs": [],
   "source": [
    "def test15(a):\n",
    "    return a\n",
    "\n",
    "def test16(b):\n",
    "    return b\n",
    "\n",
    "def test17(func):\n",
    "    return func(\"yash\")"
   ]
  },
  {
   "cell_type": "code",
   "execution_count": 60,
   "id": "821c48d6",
   "metadata": {},
   "outputs": [
    {
     "data": {
      "text/plain": [
       "'yash'"
      ]
     },
     "execution_count": 60,
     "metadata": {},
     "output_type": "execute_result"
    }
   ],
   "source": [
    "test17(test15)"
   ]
  },
  {
   "cell_type": "code",
   "execution_count": 61,
   "id": "4b42ccca",
   "metadata": {},
   "outputs": [
    {
     "data": {
      "text/plain": [
       "'yash'"
      ]
     },
     "execution_count": 61,
     "metadata": {},
     "output_type": "execute_result"
    }
   ],
   "source": [
    "test17(test16)"
   ]
  },
  {
   "cell_type": "code",
   "execution_count": 62,
   "id": "ac1a3372",
   "metadata": {},
   "outputs": [],
   "source": [
    "def test18(function):\n",
    "    def test19():\n",
    "        print(\"i m inside test19\")\n",
    "        function()\n",
    "    return test19"
   ]
  },
  {
   "cell_type": "code",
   "execution_count": 63,
   "id": "b1ab5260",
   "metadata": {},
   "outputs": [
    {
     "data": {
      "text/plain": [
       "<function __main__.test18.<locals>.test19()>"
      ]
     },
     "execution_count": 63,
     "metadata": {},
     "output_type": "execute_result"
    }
   ],
   "source": [
    "test18(test13)"
   ]
  },
  {
   "cell_type": "markdown",
   "id": "c801aeac",
   "metadata": {},
   "source": [
    "## Decorators"
   ]
  },
  {
   "cell_type": "code",
   "execution_count": 64,
   "id": "cfb30f6d",
   "metadata": {},
   "outputs": [],
   "source": [
    "@test18\n",
    "def test20():\n",
    "    print(\"this line will print anyway\")"
   ]
  },
  {
   "cell_type": "code",
   "execution_count": 65,
   "id": "6cf96161",
   "metadata": {},
   "outputs": [
    {
     "name": "stdout",
     "output_type": "stream",
     "text": [
      "i m inside test19\n",
      "this line will print anyway\n"
     ]
    }
   ],
   "source": [
    "test20()"
   ]
  },
  {
   "cell_type": "code",
   "execution_count": 66,
   "id": "c46c2aae",
   "metadata": {},
   "outputs": [
    {
     "data": {
      "text/plain": [
       "<function __main__.test18.<locals>.test19()>"
      ]
     },
     "execution_count": 66,
     "metadata": {},
     "output_type": "execute_result"
    }
   ],
   "source": [
    "test18(test20)"
   ]
  },
  {
   "cell_type": "code",
   "execution_count": 67,
   "id": "06c174b6",
   "metadata": {},
   "outputs": [],
   "source": [
    "import os\n",
    "def test20(func):\n",
    "    def test21():\n",
    "        func()\n",
    "        print(os.getcwd())\n",
    "    return test21"
   ]
  },
  {
   "cell_type": "code",
   "execution_count": 68,
   "id": "e1f30f02",
   "metadata": {},
   "outputs": [],
   "source": [
    "@test18\n",
    "@test20\n",
    "def test22():\n",
    "    print(\"this is use of decarotar\")"
   ]
  },
  {
   "cell_type": "code",
   "execution_count": 69,
   "id": "23b380f6",
   "metadata": {},
   "outputs": [
    {
     "name": "stdout",
     "output_type": "stream",
     "text": [
      "i m inside test19\n",
      "this is use of decarotar\n",
      "C:\\Users\\yash mohite\\OneDrive\\Desktop\\ineuron\n"
     ]
    }
   ],
   "source": [
    "\n",
    "test22()"
   ]
  },
  {
   "cell_type": "code",
   "execution_count": 70,
   "id": "4fccd877",
   "metadata": {},
   "outputs": [],
   "source": [
    "import time\n",
    "\n",
    "def tm(func):\n",
    "    def test23():\n",
    "        print(\"this is my functional time\")\n",
    "        start = time.time()\n",
    "        func()\n",
    "        end = time.time()\n",
    "        print(end-start)\n",
    "    return test23\n",
    "        \n",
    "        \n",
    "    "
   ]
  },
  {
   "cell_type": "code",
   "execution_count": 71,
   "id": "75a6a4db",
   "metadata": {},
   "outputs": [],
   "source": [
    "@tm\n",
    "def test24():\n",
    "    '''this is the function will take decirater'''\n",
    "    l = [4,5,6,9,8,7]\n",
    "    l1 = []\n",
    "    for i in l:\n",
    "        if type(i) == int:\n",
    "            l1.append(i)\n",
    "    return l1\n",
    "            \n",
    "        \n",
    "        \n",
    "    "
   ]
  },
  {
   "cell_type": "code",
   "execution_count": 72,
   "id": "c3b136cb",
   "metadata": {},
   "outputs": [
    {
     "name": "stdout",
     "output_type": "stream",
     "text": [
      "this is my functional time\n",
      "0.0\n"
     ]
    }
   ],
   "source": [
    "test24()"
   ]
  },
  {
   "cell_type": "code",
   "execution_count": 73,
   "id": "5cc79b9c",
   "metadata": {},
   "outputs": [],
   "source": [
    "\n",
    "def tf(func):\n",
    "    def tf1():\n",
    "        print(\"i made new functiom\")\n",
    "        func()\n",
    "        print(func())\n",
    "        \n",
    "        #print(\"function exicute\")\n",
    "        return func()\n",
    "    return tf1"
   ]
  },
  {
   "cell_type": "code",
   "execution_count": 74,
   "id": "c91f0df7",
   "metadata": {},
   "outputs": [],
   "source": [
    "@tf\n",
    "def tf2():\n",
    "    print(\"this is my tf2\")\n"
   ]
  },
  {
   "cell_type": "code",
   "execution_count": 75,
   "id": "de313f4f",
   "metadata": {},
   "outputs": [
    {
     "name": "stdout",
     "output_type": "stream",
     "text": [
      "i made new functiom\n",
      "this is my tf2\n",
      "this is my tf2\n",
      "None\n",
      "this is my tf2\n"
     ]
    }
   ],
   "source": [
    "tf2()"
   ]
  },
  {
   "cell_type": "code",
   "execution_count": 76,
   "id": "1b38cbc4",
   "metadata": {},
   "outputs": [],
   "source": [
    "@tf\n",
    "def tf3():\n",
    "    return 5+5"
   ]
  },
  {
   "cell_type": "code",
   "execution_count": 77,
   "id": "c193b9c7",
   "metadata": {},
   "outputs": [
    {
     "name": "stdout",
     "output_type": "stream",
     "text": [
      "i made new functiom\n",
      "10\n"
     ]
    },
    {
     "data": {
      "text/plain": [
       "int"
      ]
     },
     "execution_count": 77,
     "metadata": {},
     "output_type": "execute_result"
    }
   ],
   "source": [
    "type(tf3())"
   ]
  },
  {
   "cell_type": "code",
   "execution_count": 78,
   "id": "309f6dc9",
   "metadata": {},
   "outputs": [
    {
     "name": "stdout",
     "output_type": "stream",
     "text": [
      "i made new functiom\n",
      "10\n"
     ]
    },
    {
     "data": {
      "text/plain": [
       "15"
      ]
     },
     "execution_count": 78,
     "metadata": {},
     "output_type": "execute_result"
    }
   ],
   "source": [
    "tf3() +5"
   ]
  },
  {
   "cell_type": "code",
   "execution_count": 79,
   "id": "cb61d0e8",
   "metadata": {},
   "outputs": [],
   "source": [
    "def deco(funci):\n",
    "    def rap():\n",
    "        funci()\n",
    "        print(funci())\n",
    "        print(\"this is deco\")\n",
    "        return funci()\n",
    "    return rap()\n",
    "        "
   ]
  },
  {
   "cell_type": "code",
   "execution_count": 80,
   "id": "770a67fd",
   "metadata": {},
   "outputs": [
    {
     "name": "stdout",
     "output_type": "stream",
     "text": [
      "9\n",
      "this is deco\n"
     ]
    }
   ],
   "source": [
    "@deco\n",
    "def final():\n",
    "    return 4+5\n"
   ]
  },
  {
   "cell_type": "code",
   "execution_count": null,
   "id": "9a998f59",
   "metadata": {},
   "outputs": [],
   "source": []
  },
  {
   "cell_type": "code",
   "execution_count": 81,
   "id": "8a566f3c",
   "metadata": {},
   "outputs": [],
   "source": [
    "def tf(func):\n",
    "    def tf1(*args,**kwargs):\n",
    "        print(\"i made new functiom\")\n",
    "        func(*args,**kwargs)\n",
    "        print(func(*args,**kwargs))\n",
    "        \n",
    "        #print(\"function exicute\")\n",
    "        return func(*args,**kwargs)\n",
    "    return tf1"
   ]
  },
  {
   "cell_type": "code",
   "execution_count": 82,
   "id": "6c89255e",
   "metadata": {},
   "outputs": [],
   "source": [
    "@tf\n",
    "def test47(a,b,c):\n",
    "    return a+b+c"
   ]
  },
  {
   "cell_type": "code",
   "execution_count": 83,
   "id": "45eef3a6",
   "metadata": {},
   "outputs": [
    {
     "name": "stdout",
     "output_type": "stream",
     "text": [
      "i made new functiom\n",
      "yashishamohite\n"
     ]
    },
    {
     "data": {
      "text/plain": [
       "'yashishamohite'"
      ]
     },
     "execution_count": 83,
     "metadata": {},
     "output_type": "execute_result"
    }
   ],
   "source": [
    "test47(\"yash\",\"isha\",\"mohite\")"
   ]
  },
  {
   "cell_type": "code",
   "execution_count": 84,
   "id": "e6221fe8",
   "metadata": {},
   "outputs": [],
   "source": [
    "@tf\n",
    "def kgs(**kwargs):\n",
    "    return kwargs"
   ]
  },
  {
   "cell_type": "code",
   "execution_count": 85,
   "id": "ca43feaf",
   "metadata": {},
   "outputs": [
    {
     "name": "stdout",
     "output_type": "stream",
     "text": [
      "i made new functiom\n",
      "{'A': 56, 'B': 96, 'C': 8974}\n"
     ]
    },
    {
     "data": {
      "text/plain": [
       "{'A': 56, 'B': 96, 'C': 8974}"
      ]
     },
     "execution_count": 85,
     "metadata": {},
     "output_type": "execute_result"
    }
   ],
   "source": [
    "kgs(A=56, B=96,C=8974)"
   ]
  },
  {
   "cell_type": "markdown",
   "id": "9937ab81",
   "metadata": {},
   "source": [
    "## Lambda function"
   ]
  },
  {
   "cell_type": "code",
   "execution_count": 86,
   "id": "8df5af13",
   "metadata": {},
   "outputs": [],
   "source": [
    "c = lambda x,y: x+y # lambda can store in veriable"
   ]
  },
  {
   "cell_type": "code",
   "execution_count": 87,
   "id": "8e1dc438",
   "metadata": {},
   "outputs": [
    {
     "data": {
      "text/plain": [
       "12"
      ]
     },
     "execution_count": 87,
     "metadata": {},
     "output_type": "execute_result"
    }
   ],
   "source": [
    "c(6,6)"
   ]
  },
  {
   "cell_type": "code",
   "execution_count": 88,
   "id": "9150db42",
   "metadata": {},
   "outputs": [
    {
     "data": {
      "text/plain": [
       "'yashmohite'"
      ]
     },
     "execution_count": 88,
     "metadata": {},
     "output_type": "execute_result"
    }
   ],
   "source": [
    "c(\"yash\",\"mohite\")"
   ]
  },
  {
   "cell_type": "code",
   "execution_count": 89,
   "id": "d893c458",
   "metadata": {},
   "outputs": [],
   "source": [
    "y = lambda a,b,c,d: a*b-c/d"
   ]
  },
  {
   "cell_type": "code",
   "execution_count": 90,
   "id": "39aaac73",
   "metadata": {},
   "outputs": [
    {
     "data": {
      "text/plain": [
       "18.666666666666668"
      ]
     },
     "execution_count": 90,
     "metadata": {},
     "output_type": "execute_result"
    }
   ],
   "source": [
    "y(5,4,8,6)"
   ]
  },
  {
   "cell_type": "code",
   "execution_count": 91,
   "id": "04e09eb6",
   "metadata": {},
   "outputs": [],
   "source": [
    "x = lambda *args:args"
   ]
  },
  {
   "cell_type": "code",
   "execution_count": 92,
   "id": "ace8cb65",
   "metadata": {},
   "outputs": [
    {
     "data": {
      "text/plain": [
       "(51, 5, 6, 9, 7)"
      ]
     },
     "execution_count": 92,
     "metadata": {},
     "output_type": "execute_result"
    }
   ],
   "source": [
    "x(51,5,6,9,7)"
   ]
  },
  {
   "cell_type": "markdown",
   "id": "839114fe",
   "metadata": {},
   "source": [
    "## map and reduce and filter functioin"
   ]
  },
  {
   "cell_type": "code",
   "execution_count": 93,
   "id": "e96270dd",
   "metadata": {},
   "outputs": [],
   "source": [
    "#map"
   ]
  },
  {
   "cell_type": "code",
   "execution_count": 94,
   "id": "5cf850da",
   "metadata": {},
   "outputs": [],
   "source": [
    "l = [1,2,3,6,5,4,7,8,9]\n",
    "eg = []\n",
    "for i in l:\n",
    "    eg.append(i+10)\n",
    "    "
   ]
  },
  {
   "cell_type": "code",
   "execution_count": 95,
   "id": "e39dc6c6",
   "metadata": {},
   "outputs": [
    {
     "data": {
      "text/plain": [
       "[11, 12, 13, 16, 15, 14, 17, 18, 19]"
      ]
     },
     "execution_count": 95,
     "metadata": {},
     "output_type": "execute_result"
    }
   ],
   "source": [
    "eg"
   ]
  },
  {
   "cell_type": "code",
   "execution_count": 96,
   "id": "a1051a14",
   "metadata": {},
   "outputs": [],
   "source": [
    "def plus(a):\n",
    "    return a+10"
   ]
  },
  {
   "cell_type": "code",
   "execution_count": 97,
   "id": "5ecc613e",
   "metadata": {},
   "outputs": [
    {
     "data": {
      "text/plain": [
       "[11, 12, 13, 16, 15, 14, 17, 18, 19]"
      ]
     },
     "execution_count": 97,
     "metadata": {},
     "output_type": "execute_result"
    }
   ],
   "source": [
    "list(map(plus,l))"
   ]
  },
  {
   "cell_type": "code",
   "execution_count": 98,
   "id": "003e5ced",
   "metadata": {},
   "outputs": [
    {
     "data": {
      "text/plain": [
       "[11, 12, 13, 16, 15, 14, 17, 18, 19]"
      ]
     },
     "execution_count": 98,
     "metadata": {},
     "output_type": "execute_result"
    }
   ],
   "source": [
    "list(map(lambda a : a+10,l))"
   ]
  },
  {
   "cell_type": "code",
   "execution_count": 99,
   "id": "f311a66a",
   "metadata": {},
   "outputs": [],
   "source": [
    "n = lambda a : a+10"
   ]
  },
  {
   "cell_type": "code",
   "execution_count": 100,
   "id": "8bc7fa5e",
   "metadata": {},
   "outputs": [
    {
     "data": {
      "text/plain": [
       "[11, 12, 13, 16, 15, 14, 17, 18, 19]"
      ]
     },
     "execution_count": 100,
     "metadata": {},
     "output_type": "execute_result"
    }
   ],
   "source": [
    "list(map(n,l))"
   ]
  },
  {
   "cell_type": "code",
   "execution_count": 101,
   "id": "d0548895",
   "metadata": {},
   "outputs": [],
   "source": [
    "o = [\"yash\",\"isha\",\"mohite\"]"
   ]
  },
  {
   "cell_type": "code",
   "execution_count": 102,
   "id": "61b0de16",
   "metadata": {},
   "outputs": [],
   "source": [
    "o1 = []\n",
    "for i in o:\n",
    "    o1.append(i.upper())\n",
    "    "
   ]
  },
  {
   "cell_type": "code",
   "execution_count": 103,
   "id": "c38b8289",
   "metadata": {},
   "outputs": [
    {
     "data": {
      "text/plain": [
       "['YASH', 'ISHA', 'MOHITE']"
      ]
     },
     "execution_count": 103,
     "metadata": {},
     "output_type": "execute_result"
    }
   ],
   "source": [
    "o1"
   ]
  },
  {
   "cell_type": "code",
   "execution_count": 104,
   "id": "01cc39a3",
   "metadata": {},
   "outputs": [
    {
     "data": {
      "text/plain": [
       "['YASH', 'ISHA', 'MOHITE']"
      ]
     },
     "execution_count": 104,
     "metadata": {},
     "output_type": "execute_result"
    }
   ],
   "source": [
    "list(map(lambda a:a.upper(),o))"
   ]
  },
  {
   "cell_type": "code",
   "execution_count": 105,
   "id": "1cd45c34",
   "metadata": {},
   "outputs": [],
   "source": [
    "f = list(map(str.upper,o))"
   ]
  },
  {
   "cell_type": "code",
   "execution_count": 106,
   "id": "65979b03",
   "metadata": {},
   "outputs": [
    {
     "data": {
      "text/plain": [
       "['YASH', 'ISHA', 'MOHITE']"
      ]
     },
     "execution_count": 106,
     "metadata": {},
     "output_type": "execute_result"
    }
   ],
   "source": [
    "f"
   ]
  },
  {
   "cell_type": "code",
   "execution_count": null,
   "id": "47e0125b",
   "metadata": {},
   "outputs": [],
   "source": []
  },
  {
   "cell_type": "code",
   "execution_count": 107,
   "id": "d1b5f317",
   "metadata": {},
   "outputs": [
    {
     "data": {
      "text/plain": [
       "[4, 4, 6]"
      ]
     },
     "execution_count": 107,
     "metadata": {},
     "output_type": "execute_result"
    }
   ],
   "source": [
    "list(map(lambda a: len(a),o))"
   ]
  },
  {
   "cell_type": "code",
   "execution_count": 108,
   "id": "71048223",
   "metadata": {},
   "outputs": [
    {
     "data": {
      "text/plain": [
       "[4, 4, 6]"
      ]
     },
     "execution_count": 108,
     "metadata": {},
     "output_type": "execute_result"
    }
   ],
   "source": [
    "list(map(len,o))"
   ]
  },
  {
   "cell_type": "code",
   "execution_count": 109,
   "id": "1a37074c",
   "metadata": {},
   "outputs": [],
   "source": [
    "r = [1,5,4,7,8,5,6,9,2,3,6,5]\n"
   ]
  },
  {
   "cell_type": "code",
   "execution_count": 110,
   "id": "0ef08c31",
   "metadata": {},
   "outputs": [],
   "source": [
    "r1 = []\n",
    "for i in r:\n",
    "    if i%2 == 0:\n",
    "        r1.append(i)"
   ]
  },
  {
   "cell_type": "code",
   "execution_count": 111,
   "id": "cc82225a",
   "metadata": {},
   "outputs": [
    {
     "data": {
      "text/plain": [
       "[4, 8, 6, 2, 6]"
      ]
     },
     "execution_count": 111,
     "metadata": {},
     "output_type": "execute_result"
    }
   ],
   "source": [
    "r1"
   ]
  },
  {
   "cell_type": "code",
   "execution_count": 112,
   "id": "e8d1a21d",
   "metadata": {},
   "outputs": [
    {
     "data": {
      "text/plain": [
       "[4, 8, 6, 2, 6]"
      ]
     },
     "execution_count": 112,
     "metadata": {},
     "output_type": "execute_result"
    }
   ],
   "source": [
    "[i for i in r if i%2 == 0]"
   ]
  },
  {
   "cell_type": "code",
   "execution_count": 113,
   "id": "a181278e",
   "metadata": {},
   "outputs": [],
   "source": [
    "u = lambda a: a if a%2 == 0 else None"
   ]
  },
  {
   "cell_type": "code",
   "execution_count": 114,
   "id": "457c3ba1",
   "metadata": {},
   "outputs": [
    {
     "data": {
      "text/plain": [
       "[None, None, 4, None, 8, None, 6, None, 2, None, 6, None]"
      ]
     },
     "execution_count": 114,
     "metadata": {},
     "output_type": "execute_result"
    }
   ],
   "source": [
    "list(map(u,r))"
   ]
  },
  {
   "cell_type": "code",
   "execution_count": 115,
   "id": "c55242e2",
   "metadata": {},
   "outputs": [
    {
     "data": {
      "text/plain": [
       "[4, 8, 6, 2, 6]"
      ]
     },
     "execution_count": 115,
     "metadata": {},
     "output_type": "execute_result"
    }
   ],
   "source": [
    "list(filter(u,r))# Filter function work on true or false"
   ]
  },
  {
   "cell_type": "code",
   "execution_count": 116,
   "id": "cabe74b4",
   "metadata": {},
   "outputs": [],
   "source": [
    "def tst26(a):\n",
    "    if a%2 == 0:\n",
    "        return True\n",
    "    else:\n",
    "        return False"
   ]
  },
  {
   "cell_type": "code",
   "execution_count": 117,
   "id": "4b8a5eb3",
   "metadata": {},
   "outputs": [
    {
     "data": {
      "text/plain": [
       "True"
      ]
     },
     "execution_count": 117,
     "metadata": {},
     "output_type": "execute_result"
    }
   ],
   "source": [
    "tst26(18)"
   ]
  },
  {
   "cell_type": "code",
   "execution_count": 118,
   "id": "b784b558",
   "metadata": {},
   "outputs": [
    {
     "data": {
      "text/plain": [
       "False"
      ]
     },
     "execution_count": 118,
     "metadata": {},
     "output_type": "execute_result"
    }
   ],
   "source": [
    "tst26(85)"
   ]
  },
  {
   "cell_type": "code",
   "execution_count": 119,
   "id": "42381dbb",
   "metadata": {},
   "outputs": [
    {
     "data": {
      "text/plain": [
       "[4, 8, 6, 2, 6]"
      ]
     },
     "execution_count": 119,
     "metadata": {},
     "output_type": "execute_result"
    }
   ],
   "source": [
    "list(filter(tst26,r))"
   ]
  },
  {
   "cell_type": "code",
   "execution_count": 120,
   "id": "9d9fb3a9",
   "metadata": {},
   "outputs": [],
   "source": [
    "#reduce function\n",
    "r1 = [1,5,4,7,8,5,6,9,2,3,6,5]"
   ]
  },
  {
   "cell_type": "code",
   "execution_count": 121,
   "id": "86764f3a",
   "metadata": {},
   "outputs": [
    {
     "data": {
      "text/plain": [
       "61"
      ]
     },
     "execution_count": 121,
     "metadata": {},
     "output_type": "execute_result"
    }
   ],
   "source": [
    "sum(r1)"
   ]
  },
  {
   "cell_type": "code",
   "execution_count": 122,
   "id": "eb386886",
   "metadata": {},
   "outputs": [],
   "source": [
    "from functools import reduce"
   ]
  },
  {
   "cell_type": "code",
   "execution_count": 125,
   "id": "1aea3759",
   "metadata": {},
   "outputs": [
    {
     "data": {
      "text/plain": [
       "54432000"
      ]
     },
     "execution_count": 125,
     "metadata": {},
     "output_type": "execute_result"
    }
   ],
   "source": [
    "reduce(lambda x,y: x*y,r1)"
   ]
  },
  {
   "cell_type": "code",
   "execution_count": 126,
   "id": "f8c51b7a",
   "metadata": {},
   "outputs": [
    {
     "ename": "TypeError",
     "evalue": "<lambda>() missing 1 required positional argument: 'z'",
     "output_type": "error",
     "traceback": [
      "\u001b[1;31m---------------------------------------------------------------------------\u001b[0m",
      "\u001b[1;31mTypeError\u001b[0m                                 Traceback (most recent call last)",
      "Cell \u001b[1;32mIn [126], line 1\u001b[0m\n\u001b[1;32m----> 1\u001b[0m \u001b[43mreduce\u001b[49m\u001b[43m(\u001b[49m\u001b[38;5;28;43;01mlambda\u001b[39;49;00m\u001b[43m \u001b[49m\u001b[43mx\u001b[49m\u001b[43m,\u001b[49m\u001b[43my\u001b[49m\u001b[43m,\u001b[49m\u001b[43mz\u001b[49m\u001b[43m:\u001b[49m\u001b[43m \u001b[49m\u001b[43mx\u001b[49m\u001b[38;5;241;43m*\u001b[39;49m\u001b[43my\u001b[49m\u001b[38;5;241;43m*\u001b[39;49m\u001b[43mz\u001b[49m\u001b[43m,\u001b[49m\u001b[43mr1\u001b[49m\u001b[43m)\u001b[49m\n",
      "\u001b[1;31mTypeError\u001b[0m: <lambda>() missing 1 required positional argument: 'z'"
     ]
    }
   ],
   "source": [
    "reduce(lambda x,y,z: x*y*z,r1)"
   ]
  },
  {
   "cell_type": "code",
   "execution_count": 130,
   "id": "6787f27f",
   "metadata": {},
   "outputs": [
    {
     "data": {
      "text/plain": [
       "2"
      ]
     },
     "execution_count": 130,
     "metadata": {},
     "output_type": "execute_result"
    }
   ],
   "source": [
    "q = [2]\n",
    "reduce(lambda x,y,z: x*y,q)"
   ]
  },
  {
   "cell_type": "code",
   "execution_count": 131,
   "id": "cbf5c34b",
   "metadata": {},
   "outputs": [],
   "source": [
    "def tst27(a,b) -> int:\n",
    "    '''this is my doc string to give hint'''\n",
    "    return a+b"
   ]
  },
  {
   "cell_type": "code",
   "execution_count": 132,
   "id": "dcfe1fd0",
   "metadata": {},
   "outputs": [
    {
     "data": {
      "text/plain": [
       "11"
      ]
     },
     "execution_count": 132,
     "metadata": {},
     "output_type": "execute_result"
    }
   ],
   "source": [
    "tst27(5,6)"
   ]
  },
  {
   "cell_type": "code",
   "execution_count": 137,
   "id": "92911b06",
   "metadata": {},
   "outputs": [],
   "source": [
    "def squr(n):\n",
    "    return n*n"
   ]
  },
  {
   "cell_type": "code",
   "execution_count": 140,
   "id": "2281864b",
   "metadata": {},
   "outputs": [
    {
     "data": {
      "text/plain": [
       "25"
      ]
     },
     "execution_count": 140,
     "metadata": {},
     "output_type": "execute_result"
    }
   ],
   "source": [
    "squr(5)"
   ]
  },
  {
   "cell_type": "code",
   "execution_count": 152,
   "id": "ed01cc4c",
   "metadata": {},
   "outputs": [],
   "source": [
    "def outer():\n",
    "    message = (\"isha madarchoad aahe\")\n",
    "    \n",
    "    def inner():\n",
    "        print(message)\n",
    "    return inner()"
   ]
  },
  {
   "cell_type": "code",
   "execution_count": 153,
   "id": "f6577b49",
   "metadata": {},
   "outputs": [
    {
     "name": "stdout",
     "output_type": "stream",
     "text": [
      "isha madarchoad aahe\n"
     ]
    }
   ],
   "source": [
    "m = outer()"
   ]
  },
  {
   "cell_type": "code",
   "execution_count": 179,
   "id": "d297be49",
   "metadata": {},
   "outputs": [],
   "source": [
    "\n",
    "def display(func):\n",
    "    def inner1():\n",
    "        print(\"chala\",func.__name__)\n",
    "        func()\n",
    "        print(\"finish\")\n",
    "    return inner1()\n"
   ]
  },
  {
   "cell_type": "code",
   "execution_count": 180,
   "id": "1449855e",
   "metadata": {},
   "outputs": [
    {
     "name": "stdout",
     "output_type": "stream",
     "text": [
      "chala outer\n",
      "isha madarchoad aahe\n",
      "finish\n"
     ]
    }
   ],
   "source": [
    "display(outer)"
   ]
  },
  {
   "cell_type": "code",
   "execution_count": 237,
   "id": "5ab27cab",
   "metadata": {},
   "outputs": [],
   "source": [
    "\n",
    "def display1(func):\n",
    "    def inner2():\n",
    "        print(\"chala\",func.__name__)\n",
    "        func()\n",
    "        print(\"finish\")\n",
    "    return inner2\n"
   ]
  },
  {
   "cell_type": "code",
   "execution_count": null,
   "id": "ed992f4c",
   "metadata": {},
   "outputs": [],
   "source": []
  },
  {
   "cell_type": "code",
   "execution_count": null,
   "id": "c0f28751",
   "metadata": {},
   "outputs": [],
   "source": []
  },
  {
   "cell_type": "code",
   "execution_count": 238,
   "id": "86ce8277",
   "metadata": {},
   "outputs": [],
   "source": [
    "\n",
    "def smart_divi(function):\n",
    "    def inn(a,b):\n",
    "        print(\"im smart dividion\")\n",
    "        function(a,b)\n",
    "    return inn"
   ]
  },
  {
   "cell_type": "code",
   "execution_count": 239,
   "id": "ee694299",
   "metadata": {},
   "outputs": [],
   "source": [
    "@display1\n",
    "@smart_divi\n",
    "def divi(a,b):\n",
    "    return a/b"
   ]
  },
  {
   "cell_type": "code",
   "execution_count": 240,
   "id": "fb851cbc",
   "metadata": {},
   "outputs": [
    {
     "ename": "TypeError",
     "evalue": "display1.<locals>.inner2() takes 0 positional arguments but 2 were given",
     "output_type": "error",
     "traceback": [
      "\u001b[1;31m---------------------------------------------------------------------------\u001b[0m",
      "\u001b[1;31mTypeError\u001b[0m                                 Traceback (most recent call last)",
      "Cell \u001b[1;32mIn [240], line 1\u001b[0m\n\u001b[1;32m----> 1\u001b[0m \u001b[43mdivi\u001b[49m\u001b[43m(\u001b[49m\u001b[38;5;241;43m5\u001b[39;49m\u001b[43m,\u001b[49m\u001b[38;5;241;43m5\u001b[39;49m\u001b[43m)\u001b[49m\n",
      "\u001b[1;31mTypeError\u001b[0m: display1.<locals>.inner2() takes 0 positional arguments but 2 were given"
     ]
    }
   ],
   "source": [
    "divi(5,5)"
   ]
  },
  {
   "cell_type": "code",
   "execution_count": null,
   "id": "18f3ca09",
   "metadata": {},
   "outputs": [],
   "source": []
  },
  {
   "cell_type": "code",
   "execution_count": null,
   "id": "3d57276d",
   "metadata": {},
   "outputs": [],
   "source": []
  }
 ],
 "metadata": {
  "kernelspec": {
   "display_name": "Python 3 (ipykernel)",
   "language": "python",
   "name": "python3"
  },
  "language_info": {
   "codemirror_mode": {
    "name": "ipython",
    "version": 3
   },
   "file_extension": ".py",
   "mimetype": "text/x-python",
   "name": "python",
   "nbconvert_exporter": "python",
   "pygments_lexer": "ipython3",
   "version": "3.10.6"
  }
 },
 "nbformat": 4,
 "nbformat_minor": 5
}
