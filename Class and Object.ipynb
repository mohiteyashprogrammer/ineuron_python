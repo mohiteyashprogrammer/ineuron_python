{
 "cells": [
  {
   "cell_type": "code",
   "execution_count": 1,
   "id": "848820a9",
   "metadata": {},
   "outputs": [],
   "source": [
    "# OOPS\n",
    "\n",
    "# Object > called atribute > or instance variable.\n",
    "#Object > funcyion called method \n",
    "# if any function is inside class is called method and outside class its called function"
   ]
  },
  {
   "cell_type": "code",
   "execution_count": 2,
   "id": "dc876993",
   "metadata": {},
   "outputs": [],
   "source": [
    "# class is a blueprint or code templeat for object Creation.\n",
    "# objective: is instance of class"
   ]
  },
  {
   "cell_type": "code",
   "execution_count": 3,
   "id": "ee131439",
   "metadata": {},
   "outputs": [],
   "source": [
    "class Emp:\n",
    "    pass"
   ]
  },
  {
   "cell_type": "code",
   "execution_count": 4,
   "id": "071222a3",
   "metadata": {},
   "outputs": [],
   "source": [
    "e = Emp()\n"
   ]
  },
  {
   "cell_type": "code",
   "execution_count": 5,
   "id": "45962cd7",
   "metadata": {},
   "outputs": [
    {
     "name": "stdout",
     "output_type": "stream",
     "text": [
      "<class '__main__.Emp'>\n"
     ]
    }
   ],
   "source": [
    "print(type(e))"
   ]
  },
  {
   "cell_type": "code",
   "execution_count": 6,
   "id": "15fd132b",
   "metadata": {},
   "outputs": [
    {
     "data": {
      "text/plain": [
       "2031198697552"
      ]
     },
     "execution_count": 6,
     "metadata": {},
     "output_type": "execute_result"
    }
   ],
   "source": [
    "id(e)"
   ]
  },
  {
   "cell_type": "code",
   "execution_count": 7,
   "id": "ef51ef18",
   "metadata": {},
   "outputs": [],
   "source": [
    "class Robot:\n",
    "    \n",
    "    def introduce_self(self):\n",
    "        print(\"my name is \" + self.name)\n",
    "        "
   ]
  },
  {
   "cell_type": "code",
   "execution_count": 8,
   "id": "1a008401",
   "metadata": {},
   "outputs": [],
   "source": [
    "r1 = Robot()"
   ]
  },
  {
   "cell_type": "code",
   "execution_count": 9,
   "id": "95b696d8",
   "metadata": {},
   "outputs": [],
   "source": [
    "r1.name = \"yash\""
   ]
  },
  {
   "cell_type": "code",
   "execution_count": 10,
   "id": "cf491da7",
   "metadata": {},
   "outputs": [
    {
     "name": "stdout",
     "output_type": "stream",
     "text": [
      "my name is yash\n"
     ]
    }
   ],
   "source": [
    "r1.introduce_self()"
   ]
  },
  {
   "cell_type": "code",
   "execution_count": 11,
   "id": "c8134208",
   "metadata": {},
   "outputs": [],
   "source": [
    "r2 = Robot()"
   ]
  },
  {
   "cell_type": "code",
   "execution_count": 12,
   "id": "f1bf590b",
   "metadata": {},
   "outputs": [],
   "source": [
    "r2.name = \"isha\""
   ]
  },
  {
   "cell_type": "code",
   "execution_count": 13,
   "id": "18043013",
   "metadata": {},
   "outputs": [
    {
     "name": "stdout",
     "output_type": "stream",
     "text": [
      "my name is isha\n"
     ]
    }
   ],
   "source": [
    "r2.introduce_self()"
   ]
  },
  {
   "cell_type": "code",
   "execution_count": 14,
   "id": "fa7c47ec",
   "metadata": {},
   "outputs": [
    {
     "data": {
      "text/plain": [
       "['__class__',\n",
       " '__delattr__',\n",
       " '__dict__',\n",
       " '__dir__',\n",
       " '__doc__',\n",
       " '__eq__',\n",
       " '__format__',\n",
       " '__ge__',\n",
       " '__getattribute__',\n",
       " '__gt__',\n",
       " '__hash__',\n",
       " '__init__',\n",
       " '__init_subclass__',\n",
       " '__le__',\n",
       " '__lt__',\n",
       " '__module__',\n",
       " '__ne__',\n",
       " '__new__',\n",
       " '__reduce__',\n",
       " '__reduce_ex__',\n",
       " '__repr__',\n",
       " '__setattr__',\n",
       " '__sizeof__',\n",
       " '__str__',\n",
       " '__subclasshook__',\n",
       " '__weakref__',\n",
       " 'introduce_self',\n",
       " 'name']"
      ]
     },
     "execution_count": 14,
     "metadata": {},
     "output_type": "execute_result"
    }
   ],
   "source": [
    "dir(r1)"
   ]
  },
  {
   "cell_type": "code",
   "execution_count": 15,
   "id": "9a126666",
   "metadata": {},
   "outputs": [],
   "source": [
    "class Robot2:\n",
    "    \n",
    "    def __init__(self,name,colour,weight): # special method to initalise also called constructer\n",
    "        self.name = name\n",
    "        self.colour = colour\n",
    "        self.weight = weight\n",
    "    \n",
    "    \n",
    "    \n",
    "    def introduce_self(self):\n",
    "        print(\"my name is \" + self.name)\n",
    "        print(\"my colour is\" + self.colour)\n",
    "        print(\"my weight is \"+ self.weight)\n",
    "        \n",
    "    "
   ]
  },
  {
   "cell_type": "code",
   "execution_count": 16,
   "id": "61ce3f2b",
   "metadata": {},
   "outputs": [],
   "source": [
    "a1 = Robot2(\"x23\",\"silver\",20)"
   ]
  },
  {
   "cell_type": "code",
   "execution_count": 17,
   "id": "5629cd00",
   "metadata": {},
   "outputs": [
    {
     "name": "stdout",
     "output_type": "stream",
     "text": [
      "x23\n",
      "silver\n",
      "20\n"
     ]
    }
   ],
   "source": [
    "print(a1.name)\n",
    "print(a1.colour)\n",
    "print(a1.weight)"
   ]
  },
  {
   "cell_type": "code",
   "execution_count": 18,
   "id": "7214f265",
   "metadata": {},
   "outputs": [],
   "source": [
    "class Person:\n",
    "    \n",
    "    def __init__(self,name,gender,profession):\n",
    "        self.name = name\n",
    "        self.gender = gender\n",
    "        self.profession = profession\n",
    "        \n",
    "    def show(self):\n",
    "        print(f\"name:{self.name}, gender: {self.gender}, profession: {self.profession}\")\n",
    "        \n",
    "        \n",
    "    def work(self):\n",
    "        print(f\"{self.name} work as a {self.profession}\")"
   ]
  },
  {
   "cell_type": "code",
   "execution_count": 19,
   "id": "930ad413",
   "metadata": {},
   "outputs": [],
   "source": [
    "a = Person(\"yash\",\"male\",\"Data science\")"
   ]
  },
  {
   "cell_type": "code",
   "execution_count": 20,
   "id": "b0779916",
   "metadata": {},
   "outputs": [
    {
     "name": "stdout",
     "output_type": "stream",
     "text": [
      "yash work as a Data science\n"
     ]
    }
   ],
   "source": [
    "a.work()"
   ]
  },
  {
   "cell_type": "code",
   "execution_count": 21,
   "id": "fdc5cfeb",
   "metadata": {},
   "outputs": [
    {
     "name": "stdout",
     "output_type": "stream",
     "text": [
      "name:yash, gender: male, profession: Data science\n"
     ]
    }
   ],
   "source": [
    "a.show()"
   ]
  },
  {
   "cell_type": "code",
   "execution_count": 22,
   "id": "ade5a0e1",
   "metadata": {},
   "outputs": [],
   "source": [
    "b = Person(\"isha\",\"female\", \"Customer service\")"
   ]
  },
  {
   "cell_type": "code",
   "execution_count": 23,
   "id": "97d0c3f9",
   "metadata": {},
   "outputs": [
    {
     "name": "stdout",
     "output_type": "stream",
     "text": [
      "name:isha, gender: female, profession: Customer service\n"
     ]
    }
   ],
   "source": [
    "b.show()"
   ]
  },
  {
   "cell_type": "code",
   "execution_count": 24,
   "id": "04e62241",
   "metadata": {},
   "outputs": [
    {
     "name": "stdout",
     "output_type": "stream",
     "text": [
      "isha work as a Customer service\n"
     ]
    }
   ],
   "source": [
    "b.work()"
   ]
  },
  {
   "cell_type": "code",
   "execution_count": 25,
   "id": "b7dbf309",
   "metadata": {},
   "outputs": [],
   "source": [
    "class Employee:\n",
    "    \n",
    "    def __init__(self):\n",
    "        print(id(self))\n",
    "        self.age = 22\n",
    "        self.name = \"yash\"\n",
    "        self.salary = 50000\n",
    "        self.job_role = \"data scientist\"\n",
    "        "
   ]
  },
  {
   "cell_type": "code",
   "execution_count": 26,
   "id": "f9cb22a4",
   "metadata": {},
   "outputs": [
    {
     "name": "stdout",
     "output_type": "stream",
     "text": [
      "2031199135264\n"
     ]
    }
   ],
   "source": [
    "x = Employee()"
   ]
  },
  {
   "cell_type": "code",
   "execution_count": 27,
   "id": "36520cfa",
   "metadata": {},
   "outputs": [],
   "source": [
    "x.salary = \"90000\" # We can also update"
   ]
  },
  {
   "cell_type": "code",
   "execution_count": 28,
   "id": "cebb2ae6",
   "metadata": {},
   "outputs": [
    {
     "data": {
      "text/plain": [
       "'90000'"
      ]
     },
     "execution_count": 28,
     "metadata": {},
     "output_type": "execute_result"
    }
   ],
   "source": [
    "x.salary"
   ]
  },
  {
   "cell_type": "code",
   "execution_count": 29,
   "id": "8922b7a4",
   "metadata": {},
   "outputs": [],
   "source": [
    "x.location = \"andheri\""
   ]
  },
  {
   "cell_type": "code",
   "execution_count": 30,
   "id": "db873a6b",
   "metadata": {},
   "outputs": [
    {
     "data": {
      "text/plain": [
       "'andheri'"
      ]
     },
     "execution_count": 30,
     "metadata": {},
     "output_type": "execute_result"
    }
   ],
   "source": [
    "x.location"
   ]
  },
  {
   "cell_type": "code",
   "execution_count": 31,
   "id": "e69079b5",
   "metadata": {},
   "outputs": [],
   "source": [
    "class Circle:\n",
    "    \n",
    "    def __init__(self,radius):\n",
    "        self.radius = radius\n",
    "        \n",
    "    def cf(self):\n",
    "        return 2*(22/7)*self.radius\n",
    "    \n",
    "    def area(self):\n",
    "        return (22/7)*self.radius*self.radius"
   ]
  },
  {
   "cell_type": "code",
   "execution_count": 32,
   "id": "e945f499",
   "metadata": {},
   "outputs": [],
   "source": [
    "c = Circle(5)"
   ]
  },
  {
   "cell_type": "code",
   "execution_count": 33,
   "id": "a7041e3e",
   "metadata": {},
   "outputs": [
    {
     "name": "stdout",
     "output_type": "stream",
     "text": [
      "31.428571428571427\n"
     ]
    }
   ],
   "source": [
    "print(c.cf())"
   ]
  },
  {
   "cell_type": "code",
   "execution_count": 34,
   "id": "0b414389",
   "metadata": {},
   "outputs": [
    {
     "name": "stdout",
     "output_type": "stream",
     "text": [
      "78.57142857142857\n"
     ]
    }
   ],
   "source": [
    "print(c.area())"
   ]
  },
  {
   "cell_type": "code",
   "execution_count": 35,
   "id": "cdf90b2c",
   "metadata": {},
   "outputs": [],
   "source": [
    "class Bank_AC:\n",
    "    \n",
    "    def __init__(self,ac_no,name,balance):\n",
    "        self.ac_no= ac_no\n",
    "        self.name = name\n",
    "        self.balance = balance\n",
    "    \n",
    "    def deposite(self,d_amt):\n",
    "        self.d_amt = d_amt\n",
    "        self.balance += self.d_amt\n",
    "        print(f\"{self.d_amt}: is creadited to your vank account\")\n",
    "        print(f\"your current balance is: {self.balance}\")\n",
    "        \n",
    "    def withdraw(self,w_amt):\n",
    "        self.w_amt = w_amt\n",
    "        self.balance -= self.w_amt\n",
    "        print(f\"{self.w_amt}: is debited from your bank account\")\n",
    "        print(f\"your current balance is: {self.balance}\")\n",
    "        \n",
    "    def AC_details(self):\n",
    "        print(f\"name is: {self.name}\")\n",
    "        print(f\"your account number is: {self.ac_no}\")\n",
    "        print(f\"your current balance is: {self.balance}\")\n",
    "        "
   ]
  },
  {
   "cell_type": "code",
   "execution_count": 36,
   "id": "6250efb4",
   "metadata": {},
   "outputs": [],
   "source": [
    "person = Bank_AC(141875,\"yash mohite\",10000)"
   ]
  },
  {
   "cell_type": "code",
   "execution_count": 37,
   "id": "038f5a39",
   "metadata": {},
   "outputs": [
    {
     "name": "stdout",
     "output_type": "stream",
     "text": [
      "name is: yash mohite\n",
      "your account number is: 141875\n",
      "your current balance is: 10000\n"
     ]
    }
   ],
   "source": [
    "person.AC_details()"
   ]
  },
  {
   "cell_type": "code",
   "execution_count": 38,
   "id": "94117279",
   "metadata": {},
   "outputs": [
    {
     "name": "stdout",
     "output_type": "stream",
     "text": [
      "10000: is creadited to your vank account\n",
      "your current balance is: 20000\n"
     ]
    }
   ],
   "source": [
    "person.deposite(10000)"
   ]
  },
  {
   "cell_type": "code",
   "execution_count": 39,
   "id": "b79774d1",
   "metadata": {},
   "outputs": [
    {
     "name": "stdout",
     "output_type": "stream",
     "text": [
      "5000: is debited from your bank account\n",
      "your current balance is: 15000\n"
     ]
    }
   ],
   "source": [
    "person.withdraw(5000)"
   ]
  },
  {
   "cell_type": "code",
   "execution_count": 48,
   "id": "91562abb",
   "metadata": {},
   "outputs": [],
   "source": [
    "class ATM:\n",
    "    \n",
    "    # Constructor is a special function\n",
    "    def __init__(self):\n",
    "        self.pin = \"\"\n",
    "        self.balance = 0\n",
    "        self.menu()\n",
    "    \n",
    "    def menu(self):\n",
    "        user = input('''\n",
    "        hi welcome to ATM \n",
    "        press 1 to creat PIN\n",
    "        press 2 to change PIN\n",
    "        press 3 to check balance\n",
    "        press 4 to withdraw\n",
    "        press 5 to deposite''')\n",
    "        \n",
    "        if user == \"1\":\n",
    "            #Creat pin\n",
    "            self.creat_pin()\n",
    "        elif user == \"2\":\n",
    "            # Change pin\n",
    "            self.change_pin()\n",
    "        elif user == \"3\":\n",
    "            self.check_balance()\n",
    "        # Check balance\n",
    "        elif user == \"4\":\n",
    "            self.withdraw()\n",
    "        # withdraw\n",
    "        elif user  == \"5\":\n",
    "            pass\n",
    "        #deposite\n",
    "        else:\n",
    "            pass\n",
    "            #Exit\n",
    "    \n",
    "    def creat_pin(self):\n",
    "        user = input(\"enter your pin\")\n",
    "        self.pin = user\n",
    "        \n",
    "        user_balance = int(input(\"enter your balance\"))\n",
    "        self.balance = user_balance\n",
    "        print(\"pin created sucessfully\")\n",
    "        self.menu()\n",
    "    \n",
    "    def change_pin(self):\n",
    "        old_pin = input(\"enter old pin\")\n",
    "        \n",
    "        if old_pin == self.pin:\n",
    "            # let him change a pin\n",
    "            new_pin = input(\"enter new pin\")\n",
    "            self.pin = new_pin\n",
    "            print(\"pin changed sucessfully\")\n",
    "            self.menu()\n",
    "        else:\n",
    "            print(\"cant change pin\")\n",
    "            self.menu()\n",
    "            \n",
    "    def check_balance(self):\n",
    "        user = input(\"enter a pin\")\n",
    "        if user == self.pin:\n",
    "            print(f\"your balans is: {self.balance} \")\n",
    "        else:\n",
    "            print(\"you cant check balance,invalid pin\")\n",
    "            self.menu()\n",
    "\n",
    "    def withdraw(self):\n",
    "        user = input(\"enter your pin\")\n",
    "         #allow to enter\n",
    "        if user == self.pin:\n",
    "            amount = int(input(\"enter the amount\"))\n",
    "            if amount <= self.balance:\n",
    "                self.balance = self.balance - amount\n",
    "                print(f\"withdraw balance sucessfuly: {self.balance}\")\n",
    "                self.menu()\n",
    "            else:\n",
    "                print(\"insufficent amount\")\n",
    "                \n",
    "        else:\n",
    "            print(\"pin is invalid\")\n",
    "        self.menu()\n",
    "    \n",
    "        "
   ]
  },
  {
   "cell_type": "code",
   "execution_count": 49,
   "id": "a0962688",
   "metadata": {},
   "outputs": [
    {
     "name": "stdout",
     "output_type": "stream",
     "text": [
      "\n",
      "        hi welcome to ATM \n",
      "        press 1 to creat PIN\n",
      "        press 2 to change PIN\n",
      "        press 3 to check balance\n",
      "        press 4 to withdraw\n",
      "        press 5 to deposite1\n",
      "enter your pin1412\n",
      "enter your balance20000\n",
      "pin created sucessfully\n",
      "\n",
      "        hi welcome to ATM \n",
      "        press 1 to creat PIN\n",
      "        press 2 to change PIN\n",
      "        press 3 to check balance\n",
      "        press 4 to withdraw\n",
      "        press 5 to deposite3\n",
      "enter a pin1418\n",
      "you cant check balance,invalid pin\n",
      "\n",
      "        hi welcome to ATM \n",
      "        press 1 to creat PIN\n",
      "        press 2 to change PIN\n",
      "        press 3 to check balance\n",
      "        press 4 to withdraw\n",
      "        press 5 to deposite1424\n"
     ]
    }
   ],
   "source": [
    "obj = ATM()\n"
   ]
  },
  {
   "cell_type": "code",
   "execution_count": 42,
   "id": "6a2dab2e",
   "metadata": {},
   "outputs": [],
   "source": [
    "# Create fraction data type\n",
    "\n",
    "class Fraction:\n",
    "   #parmmetereside construster \n",
    "    def __init__(self,x,y):\n",
    "        self.num = x\n",
    "        self.den = y\n",
    "    \n",
    "    def __str__(self):\n",
    "        return \"{}/{}\".format(self.num,self.den)\n",
    "    \n",
    "    def __add__(self,other):\n",
    "        new_num = self.num*other.den + other.num*self.den\n",
    "        new_den = self.den*other.den \n",
    "        \n",
    "        return \"{}/{}\".format(new_num,new_den)\n",
    "        \n",
    "    def __sub__(self,other):\n",
    "        new_num = self.num*other.den - other.num*self.den\n",
    "        new_den = self.den*other.den \n",
    "        \n",
    "        return \"{}/{}\".format(new_num,new_den)\n",
    "        \n",
    "    def __mul__(self,other):\n",
    "        new_num = self.num*other.num \n",
    "        new_den = self.den*other.den \n",
    "        \n",
    "        return \"{}/{}\".format(new_num,new_den)\n",
    "    \n",
    "    def __truediv__(self,other):\n",
    "        new_num = self.num*other.den \n",
    "        new_den = self.den*other.num \n",
    "        \n",
    "        return \"{}/{}\".format(new_num,new_den)\n",
    "        \n",
    "        \n",
    "    "
   ]
  },
  {
   "cell_type": "code",
   "execution_count": 43,
   "id": "ab571973",
   "metadata": {},
   "outputs": [],
   "source": [
    "f = Fraction(5,4)\n",
    "f2 = Fraction(4,8)"
   ]
  },
  {
   "cell_type": "code",
   "execution_count": 44,
   "id": "5328cea3",
   "metadata": {},
   "outputs": [
    {
     "name": "stdout",
     "output_type": "stream",
     "text": [
      "56/32\n"
     ]
    }
   ],
   "source": [
    "print(f+f2)"
   ]
  },
  {
   "cell_type": "code",
   "execution_count": 45,
   "id": "d8168c1a",
   "metadata": {},
   "outputs": [
    {
     "name": "stdout",
     "output_type": "stream",
     "text": [
      "24/32\n"
     ]
    }
   ],
   "source": [
    "print(f-f2)"
   ]
  },
  {
   "cell_type": "code",
   "execution_count": 46,
   "id": "3651777d",
   "metadata": {},
   "outputs": [
    {
     "name": "stdout",
     "output_type": "stream",
     "text": [
      "20/32\n"
     ]
    }
   ],
   "source": [
    "print(f*f2)"
   ]
  },
  {
   "cell_type": "code",
   "execution_count": 47,
   "id": "140f3d7d",
   "metadata": {},
   "outputs": [
    {
     "name": "stdout",
     "output_type": "stream",
     "text": [
      "40/16\n"
     ]
    }
   ],
   "source": [
    "print(f/f2)"
   ]
  },
  {
   "cell_type": "code",
   "execution_count": 53,
   "id": "827246bd",
   "metadata": {},
   "outputs": [],
   "source": [
    "class Ineuron:\n",
    "    \n",
    "    def __init__(self,cource_names,time,duration):\n",
    "        self.cource_names = cource_names\n",
    "        self.time = time\n",
    "        self.duration = duration\n",
    "         \n",
    "    def cources(self):\n",
    "        print(f\"ineuron have this cources: {self.cource_names}\")\n",
    "        print(f\"Time of lectures is:{self.time}\")\n",
    "        print(f\"Duration of cource is: {self.duration}\")\n",
    "    \n",
    "    def students(self,stud):\n",
    "        self.students = stud\n",
    "        print(f\"student names:{self.students}\")\n",
    "        "
   ]
  },
  {
   "cell_type": "code",
   "execution_count": 54,
   "id": "92e356db",
   "metadata": {},
   "outputs": [],
   "source": [
    "a = Ineuron([\"fsds\",\"web developement\",\"bigdata\"],\"3.00pm\",\"3HR\")"
   ]
  },
  {
   "cell_type": "code",
   "execution_count": 55,
   "id": "03a021ad",
   "metadata": {},
   "outputs": [
    {
     "name": "stdout",
     "output_type": "stream",
     "text": [
      "ineuron have this cources: ['fsds', 'web developement', 'bigdata']\n",
      "Time of lectures is:3.00pm\n",
      "Duration of cource is: 3HR\n"
     ]
    }
   ],
   "source": [
    "a.cources()"
   ]
  },
  {
   "cell_type": "code",
   "execution_count": 56,
   "id": "4809fba6",
   "metadata": {},
   "outputs": [
    {
     "name": "stdout",
     "output_type": "stream",
     "text": [
      "student names:['yash', 'isha', 'patade', 'ankita']\n"
     ]
    }
   ],
   "source": [
    "a.students([\"yash\",\"isha\",\"patade\",\"ankita\"])"
   ]
  },
  {
   "cell_type": "code",
   "execution_count": 73,
   "id": "e3087928",
   "metadata": {},
   "outputs": [],
   "source": [
    "class Bank:\n",
    "    \n",
    "    def __init__(self,acno,name,balance):\n",
    "        self.acno = acno\n",
    "        self.name = name\n",
    "        self.balance = balance\n",
    "        \n",
    "    def withdraw(self,w_amt):\n",
    "        self.w_amt = w_amt\n",
    "        self.balance -= self.w_amt\n",
    "        print(f\"{self.w_amt} is debited from your bank account\")\n",
    "        print(f\"your account balance is {self.balance}\")\n",
    "        \n",
    "        \n",
    "    def debosite(self,d_amt):\n",
    "        self.d_amt = d_amt\n",
    "        self.balance += d_amt\n",
    "        print(f\"{self.d_amt} is credited to your bank Account\")\n",
    "        print(f\"your account balance is {self.balance}\")\n",
    "        \n",
    "    def account_details(self):\n",
    "        print(f\"Account number is: {self.acno}\")\n",
    "        print(f\"Account Holder name is {self.name}\")\n",
    "        print(f\"Your Account Balance is {self.balance}\")"
   ]
  },
  {
   "cell_type": "code",
   "execution_count": 74,
   "id": "5657d244",
   "metadata": {},
   "outputs": [],
   "source": [
    "b = Bank(123456,\"yash mohite\",60000)"
   ]
  },
  {
   "cell_type": "code",
   "execution_count": 75,
   "id": "e5174170",
   "metadata": {},
   "outputs": [
    {
     "name": "stdout",
     "output_type": "stream",
     "text": [
      "Account number is: 123456\n",
      "Account Holder name is yash mohite\n",
      "Your Account Balance is 60000\n"
     ]
    }
   ],
   "source": [
    "b.account_details()"
   ]
  },
  {
   "cell_type": "code",
   "execution_count": 76,
   "id": "3fbb8e27",
   "metadata": {},
   "outputs": [
    {
     "name": "stdout",
     "output_type": "stream",
     "text": [
      "10000 is credited to your bank Account\n",
      "your account balance is 70000\n"
     ]
    }
   ],
   "source": [
    "b.debosite(10000)"
   ]
  },
  {
   "cell_type": "code",
   "execution_count": 77,
   "id": "922bb96e",
   "metadata": {},
   "outputs": [
    {
     "name": "stdout",
     "output_type": "stream",
     "text": [
      "2000 is debited from your bank account\n",
      "your account balance is 68000\n"
     ]
    }
   ],
   "source": [
    "b.withdraw(2000)"
   ]
  },
  {
   "cell_type": "code",
   "execution_count": 78,
   "id": "d8e37d29",
   "metadata": {},
   "outputs": [
    {
     "name": "stdout",
     "output_type": "stream",
     "text": [
      "Account number is: 123456\n",
      "Account Holder name is yash mohite\n",
      "Your Account Balance is 68000\n"
     ]
    }
   ],
   "source": [
    "b.account_details()"
   ]
  },
  {
   "cell_type": "code",
   "execution_count": 79,
   "id": "fcd16e54",
   "metadata": {},
   "outputs": [],
   "source": [
    "class File:\n",
    "    \n",
    "    def __init__(self,file_name):\n",
    "        self.file_name = file_name\n",
    "        \n",
    "    def reader(self):\n",
    "        try:\n",
    "            with open(self.file_name,\"r\") as file:\n",
    "                data = file.read()\n",
    "                return data\n",
    "        except Exception as e:\n",
    "            print(e)\n",
    "            \n",
    "    def write(self,data1):\n",
    "        try:\n",
    "            with open(self.file_name,\"a\") as file:\n",
    "                data  = file.write(data1)\n",
    "                return data\n",
    "        except Exception as e:\n",
    "            print(e)"
   ]
  },
  {
   "cell_type": "code",
   "execution_count": 80,
   "id": "c66a0602",
   "metadata": {},
   "outputs": [],
   "source": [
    "obj = File(\"new.txt\")"
   ]
  },
  {
   "cell_type": "code",
   "execution_count": 87,
   "id": "15051ca9",
   "metadata": {},
   "outputs": [
    {
     "data": {
      "text/plain": [
       "45"
      ]
     },
     "execution_count": 87,
     "metadata": {},
     "output_type": "execute_result"
    }
   ],
   "source": [
    "obj.write(\"yash is good boy and his big dick is harder/n\")"
   ]
  },
  {
   "cell_type": "code",
   "execution_count": 88,
   "id": "817ecccb",
   "metadata": {},
   "outputs": [
    {
     "data": {
      "text/plain": [
       "'yash is good boy and his big dick is harderhe bang big ass like a watermelon faat! faat!yash is good boy and his big dick is harder/n'"
      ]
     },
     "execution_count": 88,
     "metadata": {},
     "output_type": "execute_result"
    }
   ],
   "source": [
    "obj.reader()"
   ]
  },
  {
   "cell_type": "code",
   "execution_count": 89,
   "id": "2100cdfe",
   "metadata": {},
   "outputs": [
    {
     "data": {
      "text/plain": [
       "45"
      ]
     },
     "execution_count": 89,
     "metadata": {},
     "output_type": "execute_result"
    }
   ],
   "source": [
    "obj.write(\"he bang big ass like a watermelon faat! faat!\")"
   ]
  },
  {
   "cell_type": "code",
   "execution_count": 90,
   "id": "03713a96",
   "metadata": {},
   "outputs": [
    {
     "data": {
      "text/plain": [
       "'yash is good boy and his big dick is harderhe bang big ass like a watermelon faat! faat!yash is good boy and his big dick is harder/nhe bang big ass like a watermelon faat! faat!'"
      ]
     },
     "execution_count": 90,
     "metadata": {},
     "output_type": "execute_result"
    }
   ],
   "source": [
    "obj.reader()"
   ]
  },
  {
   "cell_type": "code",
   "execution_count": null,
   "id": "3701f7b5",
   "metadata": {},
   "outputs": [],
   "source": []
  }
 ],
 "metadata": {
  "kernelspec": {
   "display_name": "Python 3 (ipykernel)",
   "language": "python",
   "name": "python3"
  },
  "language_info": {
   "codemirror_mode": {
    "name": "ipython",
    "version": 3
   },
   "file_extension": ".py",
   "mimetype": "text/x-python",
   "name": "python",
   "nbconvert_exporter": "python",
   "pygments_lexer": "ipython3",
   "version": "3.10.6"
  }
 },
 "nbformat": 4,
 "nbformat_minor": 5
}
