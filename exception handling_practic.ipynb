{
 "cells": [
  {
   "cell_type": "code",
   "execution_count": 25,
   "id": "ec6ac2c9",
   "metadata": {},
   "outputs": [
    {
     "name": "stdout",
     "output_type": "stream",
     "text": [
      "name 'i' is not defined\n"
     ]
    }
   ],
   "source": [
    "try:\n",
    "    a = 7\n",
    "    b = i\n",
    "    c = a*b\n",
    "    print(c)\n",
    "except Exception as e:\n",
    "    print(e) # this is name error handled\n",
    "    \n",
    "    \n",
    "    \n",
    "    "
   ]
  },
  {
   "cell_type": "code",
   "execution_count": 26,
   "id": "fb698487",
   "metadata": {},
   "outputs": [
    {
     "name": "stdout",
     "output_type": "stream",
     "text": [
      "25\n"
     ]
    }
   ],
   "source": [
    "# Original\n",
    "try:\n",
    "    a =5\n",
    "    b = 5\n",
    "    c = a*b\n",
    "    print(c)\n",
    "except Exception as e:\n",
    "    print(e) # this is name error handled\n",
    "   \n",
    "   \n",
    "    "
   ]
  },
  {
   "cell_type": "code",
   "execution_count": 28,
   "id": "93a04e62",
   "metadata": {},
   "outputs": [
    {
     "name": "stdout",
     "output_type": "stream",
     "text": [
      "[Errno 2] No such file or directory: 'jet.txt'\n"
     ]
    }
   ],
   "source": [
    "try:\n",
    "    f = open(\"jet.txt\",\"r\")\n",
    "    f.read()\n",
    "except Exception as e:  # error handled \n",
    "    print(e)\n",
    "    \n",
    "    \n",
    "    "
   ]
  },
  {
   "cell_type": "code",
   "execution_count": 30,
   "id": "d5030d93",
   "metadata": {},
   "outputs": [
    {
     "name": "stdout",
     "output_type": "stream",
     "text": [
      "division by zero\n"
     ]
    }
   ],
   "source": [
    "try:\n",
    "    x = 9\n",
    "    y = 0\n",
    "    z = x/y\n",
    "    print(z)\n",
    "except Exception as e: # error handled cant divisiable by zero\n",
    "    print(e)"
   ]
  },
  {
   "cell_type": "code",
   "execution_count": 31,
   "id": "0f74d683",
   "metadata": {},
   "outputs": [
    {
     "name": "stdout",
     "output_type": "stream",
     "text": [
      "5\n",
      "yash\n",
      "invalid literal for int() with base 10: 'yash'\n"
     ]
    }
   ],
   "source": [
    "try:\n",
    "    r = int(input())\n",
    "    s = int(input())\n",
    "except Exception as e: # Error handled \n",
    "    print(e)"
   ]
  },
  {
   "cell_type": "code",
   "execution_count": 37,
   "id": "8cc18c1f",
   "metadata": {},
   "outputs": [
    {
     "name": "stdout",
     "output_type": "stream",
     "text": [
      "1.25\n",
      "this is the else block\n",
      "kuch bhi ukhad lo mera ko nahi ukhad payange\n"
     ]
    }
   ],
   "source": [
    "try:\n",
    "    n = 5\n",
    "    c = 4\n",
    "    p = n/c\n",
    "    print(p)\n",
    "except Exception as e: # Error handled\n",
    "    print(e)\n",
    "else:\n",
    "    print(\"this is the else block\")\n",
    "finally:\n",
    "    print(\"kuch bhi ukhad lo mera ko nahi ukhad payange\")"
   ]
  },
  {
   "cell_type": "code",
   "execution_count": 39,
   "id": "40d7cbb2",
   "metadata": {},
   "outputs": [
    {
     "name": "stdout",
     "output_type": "stream",
     "text": [
      "division by zero\n",
      "kuch bhi ukhad lo mera ko nahi ukhad payange\n"
     ]
    }
   ],
   "source": [
    "try:\n",
    "    n = 5\n",
    "    c = 0\n",
    "    p = n/c\n",
    "    print(p)\n",
    "except Exception as e: # Error handled\n",
    "    print(e)\n",
    "else:\n",
    "    print(\"this is the else block\")\n",
    "finally:\n",
    "    print(\"kuch bhi ukhad lo mera ko nahi ukhad payange\")"
   ]
  },
  {
   "cell_type": "code",
   "execution_count": 56,
   "id": "e13d6f2f",
   "metadata": {},
   "outputs": [],
   "source": [
    "def name(a,b):\n",
    "    try:\n",
    "        print(a/b)\n",
    "    except ZeroDivisionError as e1:\n",
    "        print(e1)\n",
    "    else:\n",
    "        print(\"else block\")\n",
    "    finally:\n",
    "        print(\"aapan fix hai bro\")\n",
    "\n",
    "    "
   ]
  },
  {
   "cell_type": "code",
   "execution_count": 58,
   "id": "033d76cb",
   "metadata": {},
   "outputs": [
    {
     "name": "stdout",
     "output_type": "stream",
     "text": [
      "division by zero\n",
      "aapan fix hai bro\n"
     ]
    }
   ],
   "source": [
    "name(5,0)"
   ]
  },
  {
   "cell_type": "code",
   "execution_count": null,
   "id": "3f59b472",
   "metadata": {},
   "outputs": [],
   "source": [
    "a = 9\n",
    "b = 10\n",
    "try:\n",
    "    print(\"outer block\")\n",
    "    try:\n",
    "        print(\"inner block1\")\n",
    "        print(a/b)\n",
    "    except ZeroDivisionError:\n",
    "        \n",
    "        \n",
    "        \n",
    "    "
   ]
  },
  {
   "cell_type": "code",
   "execution_count": null,
   "id": "f8a353ab",
   "metadata": {},
   "outputs": [],
   "source": []
  }
 ],
 "metadata": {
  "kernelspec": {
   "display_name": "Python 3 (ipykernel)",
   "language": "python",
   "name": "python3"
  },
  "language_info": {
   "codemirror_mode": {
    "name": "ipython",
    "version": 3
   },
   "file_extension": ".py",
   "mimetype": "text/x-python",
   "name": "python",
   "nbconvert_exporter": "python",
   "pygments_lexer": "ipython3",
   "version": "3.10.6"
  }
 },
 "nbformat": 4,
 "nbformat_minor": 5
}
