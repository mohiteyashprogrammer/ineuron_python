{
 "cells": [
  {
   "cell_type": "code",
   "execution_count": 1,
   "id": "8ed3f622",
   "metadata": {},
   "outputs": [],
   "source": [
    "s = \"yash\""
   ]
  },
  {
   "cell_type": "code",
   "execution_count": 2,
   "id": "e88d9c19",
   "metadata": {},
   "outputs": [
    {
     "data": {
      "text/plain": [
       "str"
      ]
     },
     "execution_count": 2,
     "metadata": {},
     "output_type": "execute_result"
    }
   ],
   "source": [
    "type(s) #this is type function show type"
   ]
  },
  {
   "cell_type": "code",
   "execution_count": 3,
   "id": "651d31e8",
   "metadata": {},
   "outputs": [
    {
     "data": {
      "text/plain": [
       "'y'"
      ]
     },
     "execution_count": 3,
     "metadata": {},
     "output_type": "execute_result"
    }
   ],
   "source": [
    "s[0] # using index"
   ]
  },
  {
   "cell_type": "code",
   "execution_count": 4,
   "id": "104ea47a",
   "metadata": {},
   "outputs": [
    {
     "data": {
      "text/plain": [
       "'h'"
      ]
     },
     "execution_count": 4,
     "metadata": {},
     "output_type": "execute_result"
    }
   ],
   "source": [
    "s[3]"
   ]
  },
  {
   "cell_type": "code",
   "execution_count": 5,
   "id": "9c1f15d1",
   "metadata": {},
   "outputs": [
    {
     "data": {
      "text/plain": [
       "'h'"
      ]
     },
     "execution_count": 5,
     "metadata": {},
     "output_type": "execute_result"
    }
   ],
   "source": [
    "s[-1] #using backword indexing"
   ]
  },
  {
   "cell_type": "code",
   "execution_count": 6,
   "id": "20cd2cb0",
   "metadata": {},
   "outputs": [],
   "source": [
    "a  = \"my name is yash\""
   ]
  },
  {
   "cell_type": "code",
   "execution_count": 7,
   "id": "dcf59da0",
   "metadata": {},
   "outputs": [
    {
     "data": {
      "text/plain": [
       "'m'"
      ]
     },
     "execution_count": 7,
     "metadata": {},
     "output_type": "execute_result"
    }
   ],
   "source": [
    "a[0]"
   ]
  },
  {
   "cell_type": "code",
   "execution_count": 8,
   "id": "1d8b2a3f",
   "metadata": {},
   "outputs": [
    {
     "ename": "IndexError",
     "evalue": "string index out of range",
     "output_type": "error",
     "traceback": [
      "\u001b[1;31m---------------------------------------------------------------------------\u001b[0m",
      "\u001b[1;31mIndexError\u001b[0m                                Traceback (most recent call last)",
      "Cell \u001b[1;32mIn [8], line 1\u001b[0m\n\u001b[1;32m----> 1\u001b[0m \u001b[43ma\u001b[49m\u001b[43m[\u001b[49m\u001b[38;5;241;43m100\u001b[39;49m\u001b[43m]\u001b[49m\n",
      "\u001b[1;31mIndexError\u001b[0m: string index out of range"
     ]
    }
   ],
   "source": [
    "a[100]"
   ]
  },
  {
   "cell_type": "code",
   "execution_count": 9,
   "id": "506f63d2",
   "metadata": {},
   "outputs": [
    {
     "data": {
      "text/plain": [
       "'h'"
      ]
     },
     "execution_count": 9,
     "metadata": {},
     "output_type": "execute_result"
    }
   ],
   "source": [
    "a[-1]"
   ]
  },
  {
   "cell_type": "code",
   "execution_count": 10,
   "id": "7658d0e9",
   "metadata": {},
   "outputs": [
    {
     "data": {
      "text/plain": [
       "'my name is'"
      ]
     },
     "execution_count": 10,
     "metadata": {},
     "output_type": "execute_result"
    }
   ],
   "source": [
    "a[0:10]"
   ]
  },
  {
   "cell_type": "code",
   "execution_count": 11,
   "id": "e68deb29",
   "metadata": {},
   "outputs": [],
   "source": [
    "b = \"ineuron\""
   ]
  },
  {
   "cell_type": "code",
   "execution_count": 12,
   "id": "b73e5af0",
   "metadata": {},
   "outputs": [
    {
     "data": {
      "text/plain": [
       "'ineuron'"
      ]
     },
     "execution_count": 12,
     "metadata": {},
     "output_type": "execute_result"
    }
   ],
   "source": [
    "b[0:300]"
   ]
  },
  {
   "cell_type": "code",
   "execution_count": 13,
   "id": "17b623ff",
   "metadata": {},
   "outputs": [
    {
     "data": {
      "text/plain": [
       "'o'"
      ]
     },
     "execution_count": 13,
     "metadata": {},
     "output_type": "execute_result"
    }
   ],
   "source": [
    "b[-2]"
   ]
  },
  {
   "cell_type": "code",
   "execution_count": 14,
   "id": "309a12c1",
   "metadata": {},
   "outputs": [],
   "source": [
    "c = \"mohite\""
   ]
  },
  {
   "cell_type": "code",
   "execution_count": 15,
   "id": "dc00f398",
   "metadata": {},
   "outputs": [
    {
     "data": {
      "text/plain": [
       "'mht'"
      ]
     },
     "execution_count": 15,
     "metadata": {},
     "output_type": "execute_result"
    }
   ],
   "source": [
    "c[::2] # stary...end....jump(step size)"
   ]
  },
  {
   "cell_type": "code",
   "execution_count": 16,
   "id": "3972393c",
   "metadata": {},
   "outputs": [
    {
     "data": {
      "text/plain": [
       "''"
      ]
     },
     "execution_count": 16,
     "metadata": {},
     "output_type": "execute_result"
    }
   ],
   "source": [
    "c[0:100:-1]"
   ]
  },
  {
   "cell_type": "code",
   "execution_count": 17,
   "id": "3445bb08",
   "metadata": {},
   "outputs": [
    {
     "data": {
      "text/plain": [
       "'mohite'"
      ]
     },
     "execution_count": 17,
     "metadata": {},
     "output_type": "execute_result"
    }
   ],
   "source": [
    "c[::]"
   ]
  },
  {
   "cell_type": "code",
   "execution_count": 18,
   "id": "fe230e68",
   "metadata": {},
   "outputs": [
    {
     "data": {
      "text/plain": [
       "'mohite'"
      ]
     },
     "execution_count": 18,
     "metadata": {},
     "output_type": "execute_result"
    }
   ],
   "source": [
    "c[:7]"
   ]
  },
  {
   "cell_type": "code",
   "execution_count": 19,
   "id": "ef7e1fdf",
   "metadata": {},
   "outputs": [
    {
     "data": {
      "text/plain": [
       "'te'"
      ]
     },
     "execution_count": 19,
     "metadata": {},
     "output_type": "execute_result"
    }
   ],
   "source": [
    "c[-2:]"
   ]
  },
  {
   "cell_type": "code",
   "execution_count": 20,
   "id": "a6a7ac25",
   "metadata": {},
   "outputs": [
    {
     "data": {
      "text/plain": [
       "'etihom'"
      ]
     },
     "execution_count": 20,
     "metadata": {},
     "output_type": "execute_result"
    }
   ],
   "source": [
    "c[::-1]"
   ]
  },
  {
   "cell_type": "code",
   "execution_count": 21,
   "id": "c56c9bcb",
   "metadata": {},
   "outputs": [],
   "source": [
    "d = \"i m student of ineuron\""
   ]
  },
  {
   "cell_type": "code",
   "execution_count": 22,
   "id": "3735d461",
   "metadata": {},
   "outputs": [
    {
     "data": {
      "text/plain": [
       "'norueni fo tneduts m i'"
      ]
     },
     "execution_count": 22,
     "metadata": {},
     "output_type": "execute_result"
    }
   ],
   "source": [
    "d[::-1]"
   ]
  },
  {
   "cell_type": "code",
   "execution_count": 23,
   "id": "82d2e2c3",
   "metadata": {},
   "outputs": [
    {
     "data": {
      "text/plain": [
       "'eni fo tnedu'"
      ]
     },
     "execution_count": 23,
     "metadata": {},
     "output_type": "execute_result"
    }
   ],
   "source": [
    "d[-5:5:-1]"
   ]
  },
  {
   "cell_type": "code",
   "execution_count": 24,
   "id": "8c688bab",
   "metadata": {},
   "outputs": [
    {
     "data": {
      "text/plain": [
       "'yashyashyash'"
      ]
     },
     "execution_count": 24,
     "metadata": {},
     "output_type": "execute_result"
    }
   ],
   "source": [
    "\"yash\"*3 #repited string"
   ]
  },
  {
   "cell_type": "code",
   "execution_count": 25,
   "id": "8453c831",
   "metadata": {},
   "outputs": [
    {
     "data": {
      "text/plain": [
       "'yashmohite'"
      ]
     },
     "execution_count": 25,
     "metadata": {},
     "output_type": "execute_result"
    }
   ],
   "source": [
    "\"yash\"+\"mohite\" # this concanate the string"
   ]
  },
  {
   "cell_type": "code",
   "execution_count": 26,
   "id": "a18935af",
   "metadata": {},
   "outputs": [
    {
     "data": {
      "text/plain": [
       "22"
      ]
     },
     "execution_count": 26,
     "metadata": {},
     "output_type": "execute_result"
    }
   ],
   "source": [
    "len(d) #this is a length function  show length of string"
   ]
  },
  {
   "cell_type": "code",
   "execution_count": 27,
   "id": "bdeacadf",
   "metadata": {},
   "outputs": [
    {
     "data": {
      "text/plain": [
       "12"
      ]
     },
     "execution_count": 27,
     "metadata": {},
     "output_type": "execute_result"
    }
   ],
   "source": [
    "d.find(\"o\") # find function help to find any word or leater in string"
   ]
  },
  {
   "cell_type": "code",
   "execution_count": 28,
   "id": "1653c619",
   "metadata": {},
   "outputs": [
    {
     "data": {
      "text/plain": [
       "0"
      ]
     },
     "execution_count": 28,
     "metadata": {},
     "output_type": "execute_result"
    }
   ],
   "source": [
    "d.find(\"i\")# find only work in first ocerunc"
   ]
  },
  {
   "cell_type": "code",
   "execution_count": 29,
   "id": "b70e9cb5",
   "metadata": {},
   "outputs": [
    {
     "data": {
      "text/plain": [
       "-1"
      ]
     },
     "execution_count": 29,
     "metadata": {},
     "output_type": "execute_result"
    }
   ],
   "source": [
    "d.find(\"yash\") #this is not in string so it will give -1"
   ]
  },
  {
   "cell_type": "code",
   "execution_count": 30,
   "id": "5040a3df",
   "metadata": {},
   "outputs": [
    {
     "data": {
      "text/plain": [
       "2"
      ]
     },
     "execution_count": 30,
     "metadata": {},
     "output_type": "execute_result"
    }
   ],
   "source": [
    "d.count(\"i\")# count function help to count word or letter in string"
   ]
  },
  {
   "cell_type": "code",
   "execution_count": 31,
   "id": "967a85de",
   "metadata": {},
   "outputs": [
    {
     "data": {
      "text/plain": [
       "0"
      ]
     },
     "execution_count": 31,
     "metadata": {},
     "output_type": "execute_result"
    }
   ],
   "source": [
    "d.count(\"x\")"
   ]
  },
  {
   "cell_type": "code",
   "execution_count": 32,
   "id": "3652c4b2",
   "metadata": {},
   "outputs": [],
   "source": [
    "e = d.split(\" \")#split function help to split data given paremater"
   ]
  },
  {
   "cell_type": "code",
   "execution_count": 33,
   "id": "2280edb2",
   "metadata": {},
   "outputs": [
    {
     "data": {
      "text/plain": [
       "'i'"
      ]
     },
     "execution_count": 33,
     "metadata": {},
     "output_type": "execute_result"
    }
   ],
   "source": [
    "e[0]"
   ]
  },
  {
   "cell_type": "code",
   "execution_count": 34,
   "id": "66153015",
   "metadata": {},
   "outputs": [
    {
     "data": {
      "text/plain": [
       "'student'"
      ]
     },
     "execution_count": 34,
     "metadata": {},
     "output_type": "execute_result"
    }
   ],
   "source": [
    "e[2]"
   ]
  },
  {
   "cell_type": "code",
   "execution_count": 35,
   "id": "f4648c2a",
   "metadata": {},
   "outputs": [
    {
     "data": {
      "text/plain": [
       "['i m st', 'dent of ine', 'ron']"
      ]
     },
     "execution_count": 35,
     "metadata": {},
     "output_type": "execute_result"
    }
   ],
   "source": [
    "d.split(\"u\")"
   ]
  },
  {
   "cell_type": "code",
   "execution_count": 36,
   "id": "0fd13435",
   "metadata": {},
   "outputs": [
    {
     "data": {
      "text/plain": [
       "'i m student of ineuron'"
      ]
     },
     "execution_count": 36,
     "metadata": {},
     "output_type": "execute_result"
    }
   ],
   "source": [
    "d"
   ]
  },
  {
   "cell_type": "code",
   "execution_count": 37,
   "id": "384ec174",
   "metadata": {},
   "outputs": [
    {
     "data": {
      "text/plain": [
       "'I M STUDENT OF INEURON'"
      ]
     },
     "execution_count": 37,
     "metadata": {},
     "output_type": "execute_result"
    }
   ],
   "source": [
    "d.upper()"
   ]
  },
  {
   "cell_type": "code",
   "execution_count": 38,
   "id": "2754845a",
   "metadata": {},
   "outputs": [
    {
     "data": {
      "text/plain": [
       "'i m student of ineuron'"
      ]
     },
     "execution_count": 38,
     "metadata": {},
     "output_type": "execute_result"
    }
   ],
   "source": [
    "d.lower()"
   ]
  },
  {
   "cell_type": "code",
   "execution_count": 39,
   "id": "68e6f023",
   "metadata": {},
   "outputs": [
    {
     "data": {
      "text/plain": [
       "'I m student of ineuron'"
      ]
     },
     "execution_count": 39,
     "metadata": {},
     "output_type": "execute_result"
    }
   ],
   "source": [
    "d.capitalize()# this function always capitalise first letter"
   ]
  },
  {
   "cell_type": "code",
   "execution_count": 40,
   "id": "77261121",
   "metadata": {},
   "outputs": [
    {
     "data": {
      "text/plain": [
       "'I M STUDENT OF INEURON'"
      ]
     },
     "execution_count": 40,
     "metadata": {},
     "output_type": "execute_result"
    }
   ],
   "source": [
    "d.swapcase()#switch the uper in lower veis versa"
   ]
  },
  {
   "cell_type": "code",
   "execution_count": 41,
   "id": "67acef02",
   "metadata": {},
   "outputs": [
    {
     "data": {
      "text/plain": [
       "'I M Student Of Ineuron'"
      ]
     },
     "execution_count": 41,
     "metadata": {},
     "output_type": "execute_result"
    }
   ],
   "source": [
    "d.title() #function work as title"
   ]
  },
  {
   "cell_type": "code",
   "execution_count": 42,
   "id": "60b9bdce",
   "metadata": {},
   "outputs": [],
   "source": [
    "x = \"yash\"\n",
    "y = \"mohite\""
   ]
  },
  {
   "cell_type": "code",
   "execution_count": 43,
   "id": "dbd0bfd0",
   "metadata": {},
   "outputs": [
    {
     "data": {
      "text/plain": [
       "'myashoyashhyashiyashtyashe'"
      ]
     },
     "execution_count": 43,
     "metadata": {},
     "output_type": "execute_result"
    }
   ],
   "source": [
    "x.join(y)"
   ]
  },
  {
   "cell_type": "code",
   "execution_count": 44,
   "id": "e19ed4d9",
   "metadata": {},
   "outputs": [
    {
     "data": {
      "text/plain": [
       "'y.a.s.h'"
      ]
     },
     "execution_count": 44,
     "metadata": {},
     "output_type": "execute_result"
    }
   ],
   "source": [
    "\".\".join(x)"
   ]
  },
  {
   "cell_type": "code",
   "execution_count": 45,
   "id": "2817c94f",
   "metadata": {},
   "outputs": [
    {
     "name": "stdout",
     "output_type": "stream",
     "text": [
      "norueni fo tneduts m i"
     ]
    }
   ],
   "source": [
    "for i in reversed(d):\n",
    "    print(i,end=\"\")"
   ]
  },
  {
   "cell_type": "code",
   "execution_count": 46,
   "id": "d58834b5",
   "metadata": {},
   "outputs": [],
   "source": [
    "g = \" yash \""
   ]
  },
  {
   "cell_type": "code",
   "execution_count": 47,
   "id": "50b5c8a8",
   "metadata": {},
   "outputs": [
    {
     "data": {
      "text/plain": [
       "' yash'"
      ]
     },
     "execution_count": 47,
     "metadata": {},
     "output_type": "execute_result"
    }
   ],
   "source": [
    "g.rstrip()# strip remove space from start"
   ]
  },
  {
   "cell_type": "code",
   "execution_count": 48,
   "id": "5a5c2167",
   "metadata": {},
   "outputs": [
    {
     "data": {
      "text/plain": [
       "'yash '"
      ]
     },
     "execution_count": 48,
     "metadata": {},
     "output_type": "execute_result"
    }
   ],
   "source": [
    "g.lstrip()#remove space from last"
   ]
  },
  {
   "cell_type": "code",
   "execution_count": 49,
   "id": "fb5a390a",
   "metadata": {},
   "outputs": [
    {
     "data": {
      "text/plain": [
       "'yash'"
      ]
     },
     "execution_count": 49,
     "metadata": {},
     "output_type": "execute_result"
    }
   ],
   "source": [
    "g.strip()#remove spaces"
   ]
  },
  {
   "cell_type": "code",
   "execution_count": 50,
   "id": "c864b3e8",
   "metadata": {},
   "outputs": [
    {
     "data": {
      "text/plain": [
       "' iash '"
      ]
     },
     "execution_count": 50,
     "metadata": {},
     "output_type": "execute_result"
    }
   ],
   "source": [
    "g.replace(\"y\",\"i\")#replace the string"
   ]
  },
  {
   "cell_type": "code",
   "execution_count": 51,
   "id": "baf6b722",
   "metadata": {},
   "outputs": [
    {
     "data": {
      "text/plain": [
       "'yash    mohite'"
      ]
     },
     "execution_count": 51,
     "metadata": {},
     "output_type": "execute_result"
    }
   ],
   "source": [
    "\"yash\\tmohite\".expandtabs()#expand tap in 3tab"
   ]
  },
  {
   "cell_type": "code",
   "execution_count": 52,
   "id": "dd1d2ac5",
   "metadata": {},
   "outputs": [
    {
     "data": {
      "text/plain": [
       "False"
      ]
     },
     "execution_count": 52,
     "metadata": {},
     "output_type": "execute_result"
    }
   ],
   "source": [
    "g.isspace()"
   ]
  },
  {
   "cell_type": "code",
   "execution_count": 53,
   "id": "883d9d4f",
   "metadata": {},
   "outputs": [
    {
     "data": {
      "text/plain": [
       "False"
      ]
     },
     "execution_count": 53,
     "metadata": {},
     "output_type": "execute_result"
    }
   ],
   "source": [
    "g.isalnum()"
   ]
  },
  {
   "cell_type": "code",
   "execution_count": 54,
   "id": "84f89aa2",
   "metadata": {},
   "outputs": [
    {
     "data": {
      "text/plain": [
       "False"
      ]
     },
     "execution_count": 54,
     "metadata": {},
     "output_type": "execute_result"
    }
   ],
   "source": [
    "g.endswith(\"l\")"
   ]
  },
  {
   "cell_type": "code",
   "execution_count": 55,
   "id": "3a2f51de",
   "metadata": {},
   "outputs": [
    {
     "data": {
      "text/plain": [
       "False"
      ]
     },
     "execution_count": 55,
     "metadata": {},
     "output_type": "execute_result"
    }
   ],
   "source": [
    "g.isalpha()"
   ]
  },
  {
   "cell_type": "code",
   "execution_count": 56,
   "id": "47e4485e",
   "metadata": {},
   "outputs": [
    {
     "data": {
      "text/plain": [
       "True"
      ]
     },
     "execution_count": 56,
     "metadata": {},
     "output_type": "execute_result"
    }
   ],
   "source": [
    "g.startswith(' ')"
   ]
  },
  {
   "cell_type": "code",
   "execution_count": 57,
   "id": "0e114087",
   "metadata": {},
   "outputs": [
    {
     "data": {
      "text/plain": [
       "b' yash '"
      ]
     },
     "execution_count": 57,
     "metadata": {},
     "output_type": "execute_result"
    }
   ],
   "source": [
    "g.encode()"
   ]
  },
  {
   "cell_type": "markdown",
   "id": "823aef80",
   "metadata": {},
   "source": [
    "## List"
   ]
  },
  {
   "cell_type": "code",
   "execution_count": 58,
   "id": "63755bf3",
   "metadata": {},
   "outputs": [],
   "source": [
    "l = [\"yash\",\"mohiter\",123654,4+6j,True,54.3]# list i s nothin but the set of data"
   ]
  },
  {
   "cell_type": "code",
   "execution_count": 59,
   "id": "dc851b0b",
   "metadata": {},
   "outputs": [
    {
     "data": {
      "text/plain": [
       "list"
      ]
     },
     "execution_count": 59,
     "metadata": {},
     "output_type": "execute_result"
    }
   ],
   "source": [
    "type(l)"
   ]
  },
  {
   "cell_type": "code",
   "execution_count": 60,
   "id": "bd9835bc",
   "metadata": {},
   "outputs": [
    {
     "data": {
      "text/plain": [
       "'yash'"
      ]
     },
     "execution_count": 60,
     "metadata": {},
     "output_type": "execute_result"
    }
   ],
   "source": [
    "l[0]"
   ]
  },
  {
   "cell_type": "code",
   "execution_count": 61,
   "id": "ca3bbef0",
   "metadata": {},
   "outputs": [
    {
     "data": {
      "text/plain": [
       "54.3"
      ]
     },
     "execution_count": 61,
     "metadata": {},
     "output_type": "execute_result"
    }
   ],
   "source": [
    "l[-1]"
   ]
  },
  {
   "cell_type": "code",
   "execution_count": 62,
   "id": "f1cfab9a",
   "metadata": {},
   "outputs": [
    {
     "data": {
      "text/plain": [
       "['yash', 'mohiter', 123654]"
      ]
     },
     "execution_count": 62,
     "metadata": {},
     "output_type": "execute_result"
    }
   ],
   "source": [
    "l[:3]"
   ]
  },
  {
   "cell_type": "code",
   "execution_count": 63,
   "id": "f67c80f9",
   "metadata": {},
   "outputs": [
    {
     "data": {
      "text/plain": [
       "[54.3, True, (4+6j), 123654, 'mohiter', 'yash']"
      ]
     },
     "execution_count": 63,
     "metadata": {},
     "output_type": "execute_result"
    }
   ],
   "source": [
    "l[::-1]"
   ]
  },
  {
   "cell_type": "code",
   "execution_count": 64,
   "id": "d34fa8bb",
   "metadata": {},
   "outputs": [
    {
     "data": {
      "text/plain": [
       "['yash', 123654, True]"
      ]
     },
     "execution_count": 64,
     "metadata": {},
     "output_type": "execute_result"
    }
   ],
   "source": [
    "l[::2]"
   ]
  },
  {
   "cell_type": "code",
   "execution_count": 65,
   "id": "4dcc3a47",
   "metadata": {},
   "outputs": [
    {
     "data": {
      "text/plain": [
       "'i'"
      ]
     },
     "execution_count": 65,
     "metadata": {},
     "output_type": "execute_result"
    }
   ],
   "source": [
    "l[1][3]"
   ]
  },
  {
   "cell_type": "code",
   "execution_count": 66,
   "id": "4b4f34f6",
   "metadata": {},
   "outputs": [
    {
     "data": {
      "text/plain": [
       "complex"
      ]
     },
     "execution_count": 66,
     "metadata": {},
     "output_type": "execute_result"
    }
   ],
   "source": [
    "type(l[3])"
   ]
  },
  {
   "cell_type": "code",
   "execution_count": 67,
   "id": "21a5a78e",
   "metadata": {},
   "outputs": [
    {
     "data": {
      "text/plain": [
       "['yash', 'mohiter', 123654, (4+6j), True, 54.3]"
      ]
     },
     "execution_count": 67,
     "metadata": {},
     "output_type": "execute_result"
    }
   ],
   "source": [
    "l"
   ]
  },
  {
   "cell_type": "code",
   "execution_count": 68,
   "id": "e31210b2",
   "metadata": {},
   "outputs": [],
   "source": [
    "l1 = [\"yash\",\"mohite\",12345]\n",
    "l2 = [\"xyz\",\"pqr\",569.14]"
   ]
  },
  {
   "cell_type": "code",
   "execution_count": 69,
   "id": "1f85c870",
   "metadata": {},
   "outputs": [
    {
     "data": {
      "text/plain": [
       "['yash', 'mohite', 12345, 'xyz', 'pqr', 569.14]"
      ]
     },
     "execution_count": 69,
     "metadata": {},
     "output_type": "execute_result"
    }
   ],
   "source": [
    "l1+l2 # list concanation"
   ]
  },
  {
   "cell_type": "code",
   "execution_count": 71,
   "id": "f3206edb",
   "metadata": {},
   "outputs": [
    {
     "data": {
      "text/plain": [
       "['yash', 'mohite', 12345, 'yash', 'mohite', 12345]"
      ]
     },
     "execution_count": 71,
     "metadata": {},
     "output_type": "execute_result"
    }
   ],
   "source": [
    "l1*2"
   ]
  },
  {
   "cell_type": "code",
   "execution_count": 73,
   "id": "4579b078",
   "metadata": {},
   "outputs": [],
   "source": [
    "l1[0] = \"isha\""
   ]
  },
  {
   "cell_type": "code",
   "execution_count": 81,
   "id": "c843351a",
   "metadata": {},
   "outputs": [],
   "source": [
    "l1[1] = \"suriyavanshi\"# list is mutable object and string is immutable"
   ]
  },
  {
   "cell_type": "code",
   "execution_count": 82,
   "id": "d88ae613",
   "metadata": {},
   "outputs": [
    {
     "data": {
      "text/plain": [
       "['isha', 'suriyavanshi', 12345]"
      ]
     },
     "execution_count": 82,
     "metadata": {},
     "output_type": "execute_result"
    }
   ],
   "source": [
    "l1"
   ]
  },
  {
   "cell_type": "code",
   "execution_count": 86,
   "id": "af037eb2",
   "metadata": {},
   "outputs": [],
   "source": [
    "s = \"yash\""
   ]
  },
  {
   "cell_type": "code",
   "execution_count": 87,
   "id": "217971a8",
   "metadata": {},
   "outputs": [
    {
     "data": {
      "text/plain": [
       "'isha'"
      ]
     },
     "execution_count": 87,
     "metadata": {},
     "output_type": "execute_result"
    }
   ],
   "source": [
    "s.replace(\"yash\",\"isha\")"
   ]
  },
  {
   "cell_type": "code",
   "execution_count": 88,
   "id": "074fecfd",
   "metadata": {},
   "outputs": [
    {
     "data": {
      "text/plain": [
       "3"
      ]
     },
     "execution_count": 88,
     "metadata": {},
     "output_type": "execute_result"
    }
   ],
   "source": [
    "len(l1)"
   ]
  },
  {
   "cell_type": "code",
   "execution_count": 89,
   "id": "35adacda",
   "metadata": {},
   "outputs": [
    {
     "data": {
      "text/plain": [
       "False"
      ]
     },
     "execution_count": 89,
     "metadata": {},
     "output_type": "execute_result"
    }
   ],
   "source": [
    "\"yash\" in l1"
   ]
  },
  {
   "cell_type": "code",
   "execution_count": 90,
   "id": "9090c458",
   "metadata": {},
   "outputs": [
    {
     "data": {
      "text/plain": [
       "['xyz', 'pqr', 569.14]"
      ]
     },
     "execution_count": 90,
     "metadata": {},
     "output_type": "execute_result"
    }
   ],
   "source": [
    "l2"
   ]
  },
  {
   "cell_type": "code",
   "execution_count": 93,
   "id": "2356957f",
   "metadata": {},
   "outputs": [],
   "source": [
    "l2.append(\"yash\")# append function add any thin in end of list"
   ]
  },
  {
   "cell_type": "code",
   "execution_count": 102,
   "id": "683407e2",
   "metadata": {},
   "outputs": [
    {
     "data": {
      "text/plain": [
       "['pqr']"
      ]
     },
     "execution_count": 102,
     "metadata": {},
     "output_type": "execute_result"
    }
   ],
   "source": [
    "l2"
   ]
  },
  {
   "cell_type": "code",
   "execution_count": 103,
   "id": "eb8f68dc",
   "metadata": {},
   "outputs": [
    {
     "data": {
      "text/plain": [
       "'pqr'"
      ]
     },
     "execution_count": 103,
     "metadata": {},
     "output_type": "execute_result"
    }
   ],
   "source": [
    "l2.pop()# by defalt remove last elemrnt of list"
   ]
  },
  {
   "cell_type": "code",
   "execution_count": 107,
   "id": "aa220683",
   "metadata": {},
   "outputs": [],
   "source": [
    "lst = [\"yash\",\"isha\",1,2,3,6,5,7,8,9]"
   ]
  },
  {
   "cell_type": "code",
   "execution_count": 110,
   "id": "42d9fb54",
   "metadata": {},
   "outputs": [],
   "source": [
    "lst.insert(3,\"mohite\")# this funvtion append any object in insex you want"
   ]
  },
  {
   "cell_type": "code",
   "execution_count": 112,
   "id": "3614d212",
   "metadata": {},
   "outputs": [
    {
     "data": {
      "text/plain": [
       "['yash', 'isha', 1, 'mohite', 'mohite', 2, 3, 6, 5, 7, 8, 9]"
      ]
     },
     "execution_count": 112,
     "metadata": {},
     "output_type": "execute_result"
    }
   ],
   "source": [
    "lst"
   ]
  },
  {
   "cell_type": "code",
   "execution_count": 115,
   "id": "455b1c89",
   "metadata": {},
   "outputs": [],
   "source": [
    "lst.insert(2,[1,2,3,64])"
   ]
  },
  {
   "cell_type": "code",
   "execution_count": 113,
   "id": "04f5ae1a",
   "metadata": {},
   "outputs": [],
   "source": [
    "lst.remove(\"mohite\")# remove function help to remove any thing from list"
   ]
  },
  {
   "cell_type": "code",
   "execution_count": 116,
   "id": "38ccd942",
   "metadata": {},
   "outputs": [
    {
     "data": {
      "text/plain": [
       "['yash', 'isha', [1, 2, 3, 64], 1, 'mohite', 2, 3, 6, 5, 7, 8, 9]"
      ]
     },
     "execution_count": 116,
     "metadata": {},
     "output_type": "execute_result"
    }
   ],
   "source": [
    "lst"
   ]
  },
  {
   "cell_type": "code",
   "execution_count": 117,
   "id": "16a39e13",
   "metadata": {},
   "outputs": [
    {
     "data": {
      "text/plain": [
       "[9, 8, 7, 5, 6, 3, 2, 'mohite', 1, [1, 2, 3, 64], 'isha', 'yash']"
      ]
     },
     "execution_count": 117,
     "metadata": {},
     "output_type": "execute_result"
    }
   ],
   "source": [
    "lst[::-1]"
   ]
  },
  {
   "cell_type": "code",
   "execution_count": 118,
   "id": "26cc2c4a",
   "metadata": {},
   "outputs": [],
   "source": [
    "lst.reverse()#reverse function reversr list"
   ]
  },
  {
   "cell_type": "code",
   "execution_count": 119,
   "id": "2f8a70ba",
   "metadata": {},
   "outputs": [
    {
     "data": {
      "text/plain": [
       "[9, 8, 7, 5, 6, 3, 2, 'mohite', 1, [1, 2, 3, 64], 'isha', 'yash']"
      ]
     },
     "execution_count": 119,
     "metadata": {},
     "output_type": "execute_result"
    }
   ],
   "source": [
    "lst"
   ]
  },
  {
   "cell_type": "code",
   "execution_count": 126,
   "id": "e57380c6",
   "metadata": {},
   "outputs": [
    {
     "data": {
      "text/plain": [
       "64"
      ]
     },
     "execution_count": 126,
     "metadata": {},
     "output_type": "execute_result"
    }
   ],
   "source": [
    "lst[9][3]"
   ]
  },
  {
   "cell_type": "code",
   "execution_count": 130,
   "id": "98533123",
   "metadata": {},
   "outputs": [
    {
     "data": {
      "text/plain": [
       "1"
      ]
     },
     "execution_count": 130,
     "metadata": {},
     "output_type": "execute_result"
    }
   ],
   "source": [
    "lst.count(\"mohite\")#Return number of occurrences of value."
   ]
  },
  {
   "cell_type": "code",
   "execution_count": 131,
   "id": "6dd92130",
   "metadata": {},
   "outputs": [],
   "source": [
    "lst.extend([100,200,\"isha\"])#Extend list by appending elements from the iterable"
   ]
  },
  {
   "cell_type": "code",
   "execution_count": 134,
   "id": "ac7553b7",
   "metadata": {},
   "outputs": [
    {
     "data": {
      "text/plain": [
       "[9,\n",
       " 8,\n",
       " 7,\n",
       " 5,\n",
       " 6,\n",
       " 3,\n",
       " 2,\n",
       " 'mohite',\n",
       " 1,\n",
       " [1, 2, 3, 64],\n",
       " 'isha',\n",
       " 'yash',\n",
       " 100,\n",
       " 200,\n",
       " 'isha']"
      ]
     },
     "execution_count": 134,
     "metadata": {},
     "output_type": "execute_result"
    }
   ],
   "source": [
    "lst"
   ]
  },
  {
   "cell_type": "code",
   "execution_count": null,
   "id": "a88d7f97",
   "metadata": {},
   "outputs": [],
   "source": []
  },
  {
   "cell_type": "code",
   "execution_count": null,
   "id": "d3f51c2a",
   "metadata": {},
   "outputs": [],
   "source": []
  }
 ],
 "metadata": {
  "kernelspec": {
   "display_name": "Python 3 (ipykernel)",
   "language": "python",
   "name": "python3"
  },
  "language_info": {
   "codemirror_mode": {
    "name": "ipython",
    "version": 3
   },
   "file_extension": ".py",
   "mimetype": "text/x-python",
   "name": "python",
   "nbconvert_exporter": "python",
   "pygments_lexer": "ipython3",
   "version": "3.10.6"
  }
 },
 "nbformat": 4,
 "nbformat_minor": 5
}
