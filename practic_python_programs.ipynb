{
 "cells": [
  {
   "cell_type": "code",
   "execution_count": 1,
   "id": "13bf2e40",
   "metadata": {},
   "outputs": [
    {
     "name": "stdout",
     "output_type": "stream",
     "text": [
      "Enter the price or press q to quit: q\n",
      "Plese come back again\n",
      "Thanks for using our calculator\n"
     ]
    }
   ],
   "source": [
    "#shopkepper\n",
    "sum = 0\n",
    "while(True):\n",
    "    user_input = input(\"Enter the price or press q to quit: \")\n",
    "    if user_input != \"q\":\n",
    "        sum = sum + int(user_input)\n",
    "        print(f\"Order total so far: {sum}\")\n",
    "            \n",
    "    else:\n",
    "        if sum > 1:\n",
    "            print(f\"Your total Bill is: {sum} , Thanks for shopping!\")\n",
    "        else:\n",
    "            print(\"Plese come back again\")\n",
    "           \n",
    "        print(\"Thanks for using our calculator\")\n",
    "        break\n",
    "            \n",
    "    \n",
    "    \n",
    "    "
   ]
  },
  {
   "cell_type": "code",
   "execution_count": 2,
   "id": "1b2255e0",
   "metadata": {},
   "outputs": [
    {
     "name": "stdout",
     "output_type": "stream",
     "text": [
      "Enter number: 8\n",
      "1\n"
     ]
    }
   ],
   "source": [
    "# factorial and traling zeros\n",
    "def factorial(num):\n",
    "    if num == 0:\n",
    "        return 1\n",
    "    \n",
    "    else:\n",
    "        return num * factorial(num - 1)\n",
    "    \n",
    "def factorialTralingZeros(num):\n",
    "    count = 0\n",
    "    i = 5\n",
    "    while(number//i !=0):\n",
    "        count += int(number/i)\n",
    "        i = i*5\n",
    "    return count\n",
    "    \n",
    "\n",
    "if __name__ == \"__main__\":\n",
    "    number = int(input(\"Enter number: \"))\n",
    "    print(factorialTralingZeros(number))\n",
    "    \n",
    "    "
   ]
  },
  {
   "cell_type": "code",
   "execution_count": null,
   "id": "8af8d4be",
   "metadata": {},
   "outputs": [],
   "source": []
  },
  {
   "cell_type": "code",
   "execution_count": null,
   "id": "a5f2cde2",
   "metadata": {},
   "outputs": [],
   "source": []
  },
  {
   "cell_type": "code",
   "execution_count": 3,
   "id": "4953401b",
   "metadata": {},
   "outputs": [],
   "source": [
    "# with open(\"currency.txt.txt\")as f:\n",
    "#     lines = f.readlines()\n",
    "# #read data\n",
    "# lines\n",
    "# # split data with \\t\n",
    "# # conver data in to dict and take only 2 values\n",
    "# dictionary = {}\n",
    "# for i in lines:\n",
    "#     parsed = i.split(\"\\t\")\n",
    "#     dictionary[parsed[0]] = parsed[1]\n",
    "# amount = int(input(\"Enter Amount: \"))\n",
    "# print(\"Enter the name of currency you want to convert this amount?,Option Avalable: \")\n",
    "# print([i for  i in dictionary.keys()])# use list comprihension to show this options\n",
    "# currency = input(\"please enter one of this values: \")\n",
    "\n",
    "# print(f\"{amount} INR is equal to {amount * float(dictionary[currency])} {currency}\")"
   ]
  },
  {
   "cell_type": "code",
   "execution_count": null,
   "id": "37d3f74c",
   "metadata": {},
   "outputs": [],
   "source": []
  },
  {
   "cell_type": "code",
   "execution_count": 4,
   "id": "3a70a624",
   "metadata": {},
   "outputs": [],
   "source": [
    "import time\n",
    "from plyer import notification\n",
    "\n",
    "if __name__ == \"__main__\":\n",
    "    notification.notify(\n",
    "        title = \"Please Drink Water now\",\n",
    "        message = \"Pani pi le bosidake varna kidni stone aa jayega\",\n",
    "        timeout = 5\n",
    "    \n",
    "    )"
   ]
  },
  {
   "cell_type": "code",
   "execution_count": 5,
   "id": "cfcebfd4",
   "metadata": {},
   "outputs": [],
   "source": [
    "# def currency_converator():\n",
    "#     with open(\"currency.txt.txt\")as f:\n",
    "#         lines = f.readlines()\n",
    "#     #read data\n",
    "#         lines\n",
    "#     # split data with \\t\n",
    "#     # conver data in to dict and take only 2 values\n",
    "#     dictionary = {}\n",
    "#     for i in lines:\n",
    "#         parsed = i.split(\"\\t\")\n",
    "#         dictionary[parsed[0]] = parsed[1]\n",
    "#     amount = int(input(\"Enter Amount: \"))\n",
    "#     print(\"Enter the name of currency you want to convert this amount?,Option Avalable: \")\n",
    "#     print([i for  i in dictionary.keys()])# use list comprihension to show this options\n",
    "#     currency = input(\"please enter one of this values: \")\n",
    "\n",
    "#     print(f\"{amount} INR is equal to {amount * float(dictionary[currency])} {currency}\")"
   ]
  },
  {
   "cell_type": "code",
   "execution_count": 6,
   "id": "35727e60",
   "metadata": {},
   "outputs": [],
   "source": [
    "# Write a function that takes a list of numbers and returns the sum of all even numbers in the list.\n",
    "def sumOfeven(lst):\n",
    "    output = 0\n",
    "    for i in lst:\n",
    "        if i%2 == 0:\n",
    "            output += i\n",
    "    return output"
   ]
  },
  {
   "cell_type": "code",
   "execution_count": 7,
   "id": "c3744720",
   "metadata": {},
   "outputs": [
    {
     "data": {
      "text/plain": [
       "28"
      ]
     },
     "execution_count": 7,
     "metadata": {},
     "output_type": "execute_result"
    }
   ],
   "source": [
    "sumOfeven([1,2,5,3,6,9,8,7,4,5,6,3,3,2])"
   ]
  },
  {
   "cell_type": "code",
   "execution_count": 8,
   "id": "5c60e387",
   "metadata": {},
   "outputs": [],
   "source": [
    "# Write a function that takes a string as input and returns the number of words in the string.\n",
    "def count_string(string):\n",
    "    output = len(string.split(\" \"))\n",
    "    return output"
   ]
  },
  {
   "cell_type": "code",
   "execution_count": 9,
   "id": "04ae2181",
   "metadata": {},
   "outputs": [
    {
     "data": {
      "text/plain": [
       "9"
      ]
     },
     "execution_count": 9,
     "metadata": {},
     "output_type": "execute_result"
    }
   ],
   "source": [
    "count_string(\"The quick brown fox jumps over the lazy dog.\")"
   ]
  },
  {
   "cell_type": "code",
   "execution_count": 10,
   "id": "349693e4",
   "metadata": {},
   "outputs": [],
   "source": [
    "#Write a function that takes a string and a character as\n",
    "#input and returns the number of times the character appears in the string.\n",
    "def count_char(string,letter):\n",
    "    output = []\n",
    "    for i in string:\n",
    "        if i == letter:\n",
    "            output.append(i)\n",
    "    return len(output)\n",
    "            "
   ]
  },
  {
   "cell_type": "code",
   "execution_count": 11,
   "id": "f4ba959d",
   "metadata": {},
   "outputs": [
    {
     "data": {
      "text/plain": [
       "2"
      ]
     },
     "execution_count": 11,
     "metadata": {},
     "output_type": "execute_result"
    }
   ],
   "source": [
    "count_char(\"hello world\", \"o\")"
   ]
  },
  {
   "cell_type": "code",
   "execution_count": 12,
   "id": "d39be454",
   "metadata": {},
   "outputs": [],
   "source": [
    "# Write a function that takes a list of strings as\n",
    "# input and returns the shortest string in the list.\n",
    "\n",
    "def short_string(lst):\n",
    "    shortest = lst[0]\n",
    "    for i in lst:\n",
    "        if len(i) < len(shortest):\n",
    "            shortest = i\n",
    "    return shortest\n",
    "    "
   ]
  },
  {
   "cell_type": "code",
   "execution_count": 13,
   "id": "a424e9b7",
   "metadata": {},
   "outputs": [
    {
     "data": {
      "text/plain": [
       "'pear'"
      ]
     },
     "execution_count": 13,
     "metadata": {},
     "output_type": "execute_result"
    }
   ],
   "source": [
    "short_string([\"apple\", \"banana\", \"pear\", \"grapefruit\"])"
   ]
  },
  {
   "cell_type": "code",
   "execution_count": 14,
   "id": "9fd1967b",
   "metadata": {},
   "outputs": [],
   "source": [
    "# sum_list: This function takes a list of numbers as input and\n",
    "# returns the sum of all the numbers in the list.\n",
    "def sum_list(lst):\n",
    "    output = 0\n",
    "    for i in lst:\n",
    "        output +=i\n",
    "    return output"
   ]
  },
  {
   "cell_type": "code",
   "execution_count": 15,
   "id": "eb2f21b7",
   "metadata": {},
   "outputs": [
    {
     "data": {
      "text/plain": [
       "1000"
      ]
     },
     "execution_count": 15,
     "metadata": {},
     "output_type": "execute_result"
    }
   ],
   "source": [
    "sum_list([1,2,5,992])"
   ]
  },
  {
   "cell_type": "code",
   "execution_count": 16,
   "id": "651a4159",
   "metadata": {},
   "outputs": [],
   "source": [
    "# reverse_string: This function takes a string \n",
    "# as input and returns the string in reverse order.\n",
    "def reverce_string(s):\n",
    "    output = s[::-1]\n",
    "    return output"
   ]
  },
  {
   "cell_type": "code",
   "execution_count": 17,
   "id": "b59fba6b",
   "metadata": {},
   "outputs": [
    {
     "data": {
      "text/plain": [
       "'hhsay'"
      ]
     },
     "execution_count": 17,
     "metadata": {},
     "output_type": "execute_result"
    }
   ],
   "source": [
    "reverce_string(\"yashh\")"
   ]
  },
  {
   "cell_type": "code",
   "execution_count": 18,
   "id": "04d06883",
   "metadata": {},
   "outputs": [],
   "source": [
    "# is_palindrome: This function takes a string as \n",
    "# input and returns True if the string is a palindrome (reads the same forwards and backwards), and False otherwise.\n",
    "# python\n",
    "\n",
    "def is_palindrome(s):\n",
    "    output = s == s[::-1]\n",
    "    return output"
   ]
  },
  {
   "cell_type": "code",
   "execution_count": 19,
   "id": "c6a7fcef",
   "metadata": {},
   "outputs": [
    {
     "data": {
      "text/plain": [
       "False"
      ]
     },
     "execution_count": 19,
     "metadata": {},
     "output_type": "execute_result"
    }
   ],
   "source": [
    "is_palindrome(\"yashh\")"
   ]
  },
  {
   "cell_type": "code",
   "execution_count": 20,
   "id": "c2398ffb",
   "metadata": {},
   "outputs": [],
   "source": [
    "#factorial\n",
    "def factorial(num):\n",
    "    if num == 0:\n",
    "        return 1\n",
    "    else:\n",
    "        return num * factorial(num-1)"
   ]
  },
  {
   "cell_type": "code",
   "execution_count": 21,
   "id": "c4736cd2",
   "metadata": {},
   "outputs": [
    {
     "data": {
      "text/plain": [
       "3628800"
      ]
     },
     "execution_count": 21,
     "metadata": {},
     "output_type": "execute_result"
    }
   ],
   "source": [
    "factorial(10)"
   ]
  },
  {
   "cell_type": "code",
   "execution_count": 22,
   "id": "2a539f0a",
   "metadata": {},
   "outputs": [],
   "source": [
    "mylist = [1,2,3,6,5,4]"
   ]
  },
  {
   "cell_type": "code",
   "execution_count": 23,
   "id": "e3c90ea7",
   "metadata": {},
   "outputs": [],
   "source": [
    "mytuple = (1,2,3,6,5,4)"
   ]
  },
  {
   "cell_type": "code",
   "execution_count": 24,
   "id": "1c5689bd",
   "metadata": {},
   "outputs": [
    {
     "name": "stdout",
     "output_type": "stream",
     "text": [
      "[1, 2, 3, 6, 5, 4]\n",
      "(1, 2, 3, 6, 5, 4)\n"
     ]
    }
   ],
   "source": [
    "print(mylist)\n",
    "print(mytuple)"
   ]
  },
  {
   "cell_type": "code",
   "execution_count": 25,
   "id": "5785b3cd",
   "metadata": {},
   "outputs": [],
   "source": [
    "a = [lambda x,y:a*b]"
   ]
  },
  {
   "cell_type": "code",
   "execution_count": 26,
   "id": "5c601db5",
   "metadata": {},
   "outputs": [
    {
     "name": "stdout",
     "output_type": "stream",
     "text": [
      "division by zero\n",
      "cannot print\n"
     ]
    }
   ],
   "source": [
    "try:\n",
    "    result = 5/0\n",
    "except ZeroDivisionError as e:\n",
    "    print(e)\n",
    "    print(\"cannot print\")"
   ]
  },
  {
   "cell_type": "code",
   "execution_count": 27,
   "id": "6bac5270",
   "metadata": {},
   "outputs": [],
   "source": [
    "# Write a Python function to check if a string is a palindrome or not.\n",
    "def palandrom_is(x):\n",
    "    x = x.lower()\n",
    "    output = x == x[::-1]\n",
    "    return output\n",
    "    "
   ]
  },
  {
   "cell_type": "code",
   "execution_count": 28,
   "id": "43d4cf17",
   "metadata": {},
   "outputs": [
    {
     "data": {
      "text/plain": [
       "True"
      ]
     },
     "execution_count": 28,
     "metadata": {},
     "output_type": "execute_result"
    }
   ],
   "source": [
    "palandrom_is(\"malayalam\")"
   ]
  },
  {
   "cell_type": "code",
   "execution_count": 29,
   "id": "44d1fdc0",
   "metadata": {},
   "outputs": [],
   "source": [
    "#Write a Python function to find the first non-repeating character in a string.\n",
    "from collections import Counter\n",
    "def first_nonrepeating(x):\n",
    "    char_count = Counter(x)\n",
    "    for i in x:\n",
    "        if char_count[i] == 1:\n",
    "            return i\n",
    "    return None\n"
   ]
  },
  {
   "cell_type": "code",
   "execution_count": 30,
   "id": "e19ccce9",
   "metadata": {},
   "outputs": [
    {
     "data": {
      "text/plain": [
       "'W'"
      ]
     },
     "execution_count": 30,
     "metadata": {},
     "output_type": "execute_result"
    }
   ],
   "source": [
    "first_nonrepeating(\"Write a Python function to find\")"
   ]
  },
  {
   "cell_type": "code",
   "execution_count": 31,
   "id": "aace527c",
   "metadata": {},
   "outputs": [],
   "source": [
    "# Write a Python function to merge two sorted lists into a single sorted list.\n",
    "def merge_sorted_list(lst1,lst2):\n",
    "    s = lst1+lst2\n",
    "    output = sorted(s)\n",
    "    return output"
   ]
  },
  {
   "cell_type": "code",
   "execution_count": 32,
   "id": "e83eaba2",
   "metadata": {},
   "outputs": [
    {
     "data": {
      "text/plain": [
       "[1, 2, 2, 3, 4, 4, 4, 4, 4, 5, 5, 5, 6, 7, 8, 9, 89]"
      ]
     },
     "execution_count": 32,
     "metadata": {},
     "output_type": "execute_result"
    }
   ],
   "source": [
    "merge_sorted_list([1,2,3,5,7,4,89],[4,5,6,9,8,4,4,4,5,2,])"
   ]
  },
  {
   "cell_type": "code",
   "execution_count": 33,
   "id": "176e9278",
   "metadata": {},
   "outputs": [],
   "source": [
    "# Write a Python function to check if a given number is prime or not.\n",
    "def is_prime(num):\n",
    "    output = False\n",
    "    for i in range(2,num):\n",
    "        output = True\n",
    "        \n",
    "    if not output:\n",
    "        return f\"{num} is prime number\"\n",
    "    else:\n",
    "        return f\"{num} is not prime number\"  "
   ]
  },
  {
   "cell_type": "code",
   "execution_count": 34,
   "id": "adb7b392",
   "metadata": {},
   "outputs": [
    {
     "data": {
      "text/plain": [
       "'563 is not prime number'"
      ]
     },
     "execution_count": 34,
     "metadata": {},
     "output_type": "execute_result"
    }
   ],
   "source": [
    "is_prime(563)"
   ]
  },
  {
   "cell_type": "code",
   "execution_count": 35,
   "id": "bb1729d0",
   "metadata": {},
   "outputs": [],
   "source": [
    "def find_second_largest(num,n):\n",
    "    num.sort(reverse=True)\n",
    "    return num[:n]"
   ]
  },
  {
   "cell_type": "code",
   "execution_count": 36,
   "id": "fdfbf2a0",
   "metadata": {},
   "outputs": [
    {
     "data": {
      "text/plain": [
       "[631, 148]"
      ]
     },
     "execution_count": 36,
     "metadata": {},
     "output_type": "execute_result"
    }
   ],
   "source": [
    "find_second_largest([100,55,148,631,8,69,51],2)"
   ]
  },
  {
   "cell_type": "code",
   "execution_count": 37,
   "id": "f6b71e61",
   "metadata": {},
   "outputs": [],
   "source": [
    "# Write a Python function to remove duplicates from a list.\n",
    "def removeDuplicates(x):\n",
    "    output = list(set(sorted(x)))\n",
    "    return output"
   ]
  },
  {
   "cell_type": "code",
   "execution_count": 38,
   "id": "b80a5268",
   "metadata": {},
   "outputs": [
    {
     "data": {
      "text/plain": [
       "[1, 2, 3, 4, 5, 6, 7, 8, 9, 14, 54]"
      ]
     },
     "execution_count": 38,
     "metadata": {},
     "output_type": "execute_result"
    }
   ],
   "source": [
    "removeDuplicates([1,2,3,6,54,7,8,9,5,5,6,3,3,2,2,14,4,4,])"
   ]
  },
  {
   "cell_type": "code",
   "execution_count": 39,
   "id": "ebcb11a3",
   "metadata": {},
   "outputs": [],
   "source": [
    "def count_vowel(s):\n",
    "    vowels=\"aeiouAEIOU\"\n",
    "    output = []\n",
    "    for i in s:\n",
    "        if i in vowels:\n",
    "            output.append(i.count(i))\n",
    "    return len(output)\n",
    "    "
   ]
  },
  {
   "cell_type": "code",
   "execution_count": 40,
   "id": "cbc6459e",
   "metadata": {},
   "outputs": [
    {
     "data": {
      "text/plain": [
       "8"
      ]
     },
     "execution_count": 40,
     "metadata": {},
     "output_type": "execute_result"
    }
   ],
   "source": [
    "count_vowel(\"yash mohite,YASH MOHITE\")"
   ]
  },
  {
   "cell_type": "code",
   "execution_count": 41,
   "id": "be08ecbc",
   "metadata": {},
   "outputs": [],
   "source": [
    "#print pattern\n",
    "def pattern(x):\n",
    "    for i in range(1,x+1):\n",
    "        for j in range(1,i+1):\n",
    "            output =  print(\"*\",end=\" \")\n",
    "        print()\n",
    "    return output"
   ]
  },
  {
   "cell_type": "code",
   "execution_count": 42,
   "id": "f33b6613",
   "metadata": {},
   "outputs": [
    {
     "name": "stdout",
     "output_type": "stream",
     "text": [
      "* \n",
      "* * \n",
      "* * * \n",
      "* * * * \n"
     ]
    }
   ],
   "source": [
    "pattern(4)"
   ]
  },
  {
   "cell_type": "code",
   "execution_count": 43,
   "id": "8901d92a",
   "metadata": {},
   "outputs": [],
   "source": [
    "def squre_pattern(x):\n",
    "    for i in range(x):\n",
    "        output = print(\"*\"*x)\n",
    "    return output"
   ]
  },
  {
   "cell_type": "code",
   "execution_count": 44,
   "id": "6d98d921",
   "metadata": {},
   "outputs": [
    {
     "name": "stdout",
     "output_type": "stream",
     "text": [
      "********\n",
      "********\n",
      "********\n",
      "********\n",
      "********\n",
      "********\n",
      "********\n",
      "********\n"
     ]
    }
   ],
   "source": [
    "squre_pattern(8)"
   ]
  },
  {
   "cell_type": "code",
   "execution_count": 45,
   "id": "fd032850",
   "metadata": {},
   "outputs": [],
   "source": [
    "# def dimond_pattern(x):\n",
    "#     for i in range(x):\n",
    "#         print(\" \"*(x-i-1) + \"*\"*(2*i+1))\n",
    "#     for i in range(n-2,-1,-1):\n",
    "#         print(\" \"*(n-i-1)+\"*\"(2*i+1))\n",
    "    \n",
    "    "
   ]
  },
  {
   "cell_type": "code",
   "execution_count": 46,
   "id": "80d509ef",
   "metadata": {},
   "outputs": [],
   "source": [
    "# diamond_pattern(5)"
   ]
  },
  {
   "cell_type": "code",
   "execution_count": 47,
   "id": "3c3de128",
   "metadata": {},
   "outputs": [],
   "source": [
    "def number_pattern(x):\n",
    "    for i in range(1,x+1):\n",
    "        for j in range(1,i+1):\n",
    "            output = print(j,end=\" \")\n",
    "        print()\n",
    "    return output"
   ]
  },
  {
   "cell_type": "code",
   "execution_count": 48,
   "id": "24e15a69",
   "metadata": {},
   "outputs": [
    {
     "name": "stdout",
     "output_type": "stream",
     "text": [
      "1 \n",
      "1 2 \n",
      "1 2 3 \n",
      "1 2 3 4 \n",
      "1 2 3 4 5 \n",
      "1 2 3 4 5 6 \n",
      "1 2 3 4 5 6 7 \n",
      "1 2 3 4 5 6 7 8 \n",
      "1 2 3 4 5 6 7 8 9 \n",
      "1 2 3 4 5 6 7 8 9 10 \n"
     ]
    }
   ],
   "source": [
    "number_pattern(10)"
   ]
  },
  {
   "cell_type": "code",
   "execution_count": 49,
   "id": "04dea25f",
   "metadata": {},
   "outputs": [],
   "source": [
    "def fibonacci_patern(x):\n",
    "    a,b = 0,1\n",
    "    for i in range(x):\n",
    "        print(b*\" *\")\n",
    "        a,b = b,a+b"
   ]
  },
  {
   "cell_type": "code",
   "execution_count": 50,
   "id": "4b61aece",
   "metadata": {},
   "outputs": [
    {
     "name": "stdout",
     "output_type": "stream",
     "text": [
      " *\n",
      " *\n",
      " * *\n",
      " * * *\n",
      " * * * * *\n"
     ]
    }
   ],
   "source": [
    "fibonacci_patern(5)"
   ]
  },
  {
   "cell_type": "code",
   "execution_count": 51,
   "id": "0684777e",
   "metadata": {},
   "outputs": [],
   "source": [
    "# replace vowels\n",
    "def replaceVowels(string,repl):\n",
    "    vowels = [\"a\",\"e\",\"i\",\"o\",\"u\"]\n",
    "    for i in string:\n",
    "        if i in vowels:\n",
    "            string = string.replace(i,repl)\n",
    "    return string"
   ]
  },
  {
   "cell_type": "code",
   "execution_count": 52,
   "id": "31ff25a0",
   "metadata": {},
   "outputs": [
    {
     "data": {
      "text/plain": [
       "'Yish mihiti'"
      ]
     },
     "execution_count": 52,
     "metadata": {},
     "output_type": "execute_result"
    }
   ],
   "source": [
    "replaceVowels(\"Yash mohite\",\"i\")"
   ]
  },
  {
   "cell_type": "code",
   "execution_count": 53,
   "id": "40a5a3b4",
   "metadata": {},
   "outputs": [],
   "source": [
    "# fatch vowels\n",
    "def fetch_vowels(string):\n",
    "    vowels = [\"a\",\"e\",\"i\",\"o\",\"u\",\"A\",\"E\",\"I\",\"O\",\"U\"]\n",
    "    output = []\n",
    "    for i in string:\n",
    "        if i in vowels:\n",
    "            output.append(i)\n",
    "    return str(output).lower()"
   ]
  },
  {
   "cell_type": "code",
   "execution_count": 54,
   "id": "8c6c07c6",
   "metadata": {},
   "outputs": [
    {
     "data": {
      "text/plain": [
       "\"['a', 'o', 'i', 'e']\""
      ]
     },
     "execution_count": 54,
     "metadata": {},
     "output_type": "execute_result"
    }
   ],
   "source": [
    "fetch_vowels(\"YASh mohite\")"
   ]
  },
  {
   "cell_type": "code",
   "execution_count": 55,
   "id": "f859cf07",
   "metadata": {},
   "outputs": [],
   "source": [
    "# saprate data types\n",
    "def saprateDataTypes(data,n):\n",
    "    output = []\n",
    "    for i in data:\n",
    "        if type(i) == n:\n",
    "            output.append(i)\n",
    "    return output    "
   ]
  },
  {
   "cell_type": "code",
   "execution_count": 56,
   "id": "0651afe6",
   "metadata": {},
   "outputs": [
    {
     "data": {
      "text/plain": [
       "['yash', 'isha', 'ankita', 'patade']"
      ]
     },
     "execution_count": 56,
     "metadata": {},
     "output_type": "execute_result"
    }
   ],
   "source": [
    "saprateDataTypes([1,2,3,5,4,78,\"yash\",\"isha\",\"ankita\",\"patade\"],str)"
   ]
  },
  {
   "cell_type": "code",
   "execution_count": 57,
   "id": "d2d44ae6",
   "metadata": {},
   "outputs": [],
   "source": [
    "def saprateOddEven(lst):\n",
    "    even = []\n",
    "    odd = []\n",
    "    for i in lst:\n",
    "        if i%2 == 0:\n",
    "            even.append(i)\n",
    "        else:\n",
    "            odd.append(i)\n",
    "    return f\"even numbers: {even}  odd number: {odd}\""
   ]
  },
  {
   "cell_type": "code",
   "execution_count": 58,
   "id": "08b5a36f",
   "metadata": {},
   "outputs": [
    {
     "data": {
      "text/plain": [
       "'even numbers: [2, 4, 6, 8, 10, 12, 14, 16, 18]  odd number: [1, 3, 5, 7, 9, 11, 13, 15, 17, 19]'"
      ]
     },
     "execution_count": 58,
     "metadata": {},
     "output_type": "execute_result"
    }
   ],
   "source": [
    "saprateOddEven(range(1,20))"
   ]
  },
  {
   "cell_type": "code",
   "execution_count": 59,
   "id": "8adb8bb1",
   "metadata": {},
   "outputs": [],
   "source": [
    "def checkPrime(num):\n",
    "    flag = False\n",
    "    for i in range(2,num):\n",
    "        if num%i == 0:\n",
    "            flag = True\n",
    "            \n",
    "    if not flag:\n",
    "        return f\"{num} is prime\"\n",
    "    else:\n",
    "        return f\"{num} is not prime\""
   ]
  },
  {
   "cell_type": "code",
   "execution_count": 60,
   "id": "c3ed299b",
   "metadata": {},
   "outputs": [
    {
     "data": {
      "text/plain": [
       "'11 is prime'"
      ]
     },
     "execution_count": 60,
     "metadata": {},
     "output_type": "execute_result"
    }
   ],
   "source": [
    "checkPrime(11)"
   ]
  },
  {
   "cell_type": "code",
   "execution_count": 61,
   "id": "ca8cc015",
   "metadata": {},
   "outputs": [],
   "source": [
    "def factorial(num):\n",
    "    if num == 0:\n",
    "        return 1\n",
    "    else:\n",
    "        return num * factorial(num-1)"
   ]
  },
  {
   "cell_type": "code",
   "execution_count": 62,
   "id": "fa109b37",
   "metadata": {},
   "outputs": [
    {
     "data": {
      "text/plain": [
       "39916800"
      ]
     },
     "execution_count": 62,
     "metadata": {},
     "output_type": "execute_result"
    }
   ],
   "source": [
    "factorial(11)"
   ]
  },
  {
   "cell_type": "code",
   "execution_count": 63,
   "id": "65a3cbe6",
   "metadata": {},
   "outputs": [],
   "source": [
    "def factorialSquence(num):\n",
    "    if num == 0:\n",
    "        return 1\n",
    "    elif num == 1:\n",
    "        return 1\n",
    "    else:\n",
    "        return factorialSquence(num - 1)+factorialSquence(num-2)"
   ]
  },
  {
   "cell_type": "code",
   "execution_count": 64,
   "id": "8c4a2a34",
   "metadata": {},
   "outputs": [
    {
     "name": "stdout",
     "output_type": "stream",
     "text": [
      "1\n",
      "2\n",
      "3\n",
      "5\n",
      "8\n",
      "13\n",
      "21\n",
      "34\n",
      "55\n"
     ]
    }
   ],
   "source": [
    "for i in range(1,10):\n",
    "    print(factorialSquence(i))"
   ]
  },
  {
   "cell_type": "code",
   "execution_count": 65,
   "id": "06c6c630",
   "metadata": {},
   "outputs": [],
   "source": [
    "def countLatter(string):\n",
    "    return len(string.replace(\" \",\"\"))"
   ]
  },
  {
   "cell_type": "code",
   "execution_count": 66,
   "id": "10c55206",
   "metadata": {},
   "outputs": [
    {
     "data": {
      "text/plain": [
       "10"
      ]
     },
     "execution_count": 66,
     "metadata": {},
     "output_type": "execute_result"
    }
   ],
   "source": [
    "countLatter(\"yash monite\")"
   ]
  },
  {
   "cell_type": "code",
   "execution_count": 67,
   "id": "44254b2d",
   "metadata": {},
   "outputs": [],
   "source": [
    "def sort_words(string):\n",
    "    s = string.split(\" \")\n",
    "    for i in range(len(s)):\n",
    "        output = sorted(s)\n",
    "        return \" \".join(output)"
   ]
  },
  {
   "cell_type": "code",
   "execution_count": 68,
   "id": "86c1784b",
   "metadata": {},
   "outputs": [
    {
     "data": {
      "text/plain": [
       "'mohite yash'"
      ]
     },
     "execution_count": 68,
     "metadata": {},
     "output_type": "execute_result"
    }
   ],
   "source": [
    "sort_words(\"yash mohite\")"
   ]
  },
  {
   "cell_type": "code",
   "execution_count": 69,
   "id": "b408dfdb",
   "metadata": {},
   "outputs": [],
   "source": [
    "def sortLetters(string):\n",
    "    output = \"\".join(sorted(string))\n",
    "    return output"
   ]
  },
  {
   "cell_type": "code",
   "execution_count": 70,
   "id": "ac6a6b31",
   "metadata": {},
   "outputs": [
    {
     "data": {
      "text/plain": [
       "' aehhimosty'"
      ]
     },
     "execution_count": 70,
     "metadata": {},
     "output_type": "execute_result"
    }
   ],
   "source": [
    "sortLetters(\"yash mohite\")"
   ]
  },
  {
   "cell_type": "code",
   "execution_count": 71,
   "id": "ec248056",
   "metadata": {},
   "outputs": [],
   "source": [
    "def remove_punc(string):\n",
    "    empty = []\n",
    "    output = []\n",
    "    punc  = [\"~\",\"!\",\"@\",\"#\",\"$\",\"%\",\"^\",\"&\",\"*\",\"/\",\"*\",\"-\",\"+\",\"?\",\"<\",\">\",\"?\"]\n",
    "    for i in string:\n",
    "        if i in punc:\n",
    "            empty.append(i)\n",
    "        else:\n",
    "            output.append(i)\n",
    "    return \"\".join(output)  "
   ]
  },
  {
   "cell_type": "code",
   "execution_count": 72,
   "id": "e67b4c39",
   "metadata": {},
   "outputs": [
    {
     "name": "stdout",
     "output_type": "stream",
     "text": [
      "yash mohite\n",
      "Hello How are you today good\n"
     ]
    }
   ],
   "source": [
    "print(remove_punc(\"!@#$yash$ @mohite\"))\n",
    "print(remove_punc(\"Hello! How are you today? #good\"))"
   ]
  },
  {
   "cell_type": "code",
   "execution_count": 73,
   "id": "39e8c2b9",
   "metadata": {},
   "outputs": [],
   "source": [
    "import string\n",
    "def RP(s):\n",
    "    remove = str.maketrans(\"\",\"\",string.punctuation)\n",
    "    no_p = s.translate(remove)\n",
    "    return no_p"
   ]
  },
  {
   "cell_type": "code",
   "execution_count": 74,
   "id": "4db8607c",
   "metadata": {},
   "outputs": [
    {
     "data": {
      "text/plain": [
       "'yash mohite14'"
      ]
     },
     "execution_count": 74,
     "metadata": {},
     "output_type": "execute_result"
    }
   ],
   "source": [
    "RP(\"!@#$yash$ @mohite}]/14\")"
   ]
  },
  {
   "cell_type": "code",
   "execution_count": 75,
   "id": "7952ca01",
   "metadata": {},
   "outputs": [],
   "source": [
    "def fibonacci(num):\n",
    "    if num == 0:\n",
    "        return 0\n",
    "    elif num == 1:\n",
    "        return 1\n",
    "    else:\n",
    "        return fibonacci(num-1) + fibonacci(num-2)"
   ]
  },
  {
   "cell_type": "code",
   "execution_count": 76,
   "id": "fa63451a",
   "metadata": {},
   "outputs": [
    {
     "data": {
      "text/plain": [
       "6765"
      ]
     },
     "execution_count": 76,
     "metadata": {},
     "output_type": "execute_result"
    }
   ],
   "source": [
    "fibonacci(20)"
   ]
  },
  {
   "cell_type": "code",
   "execution_count": 77,
   "id": "666af556",
   "metadata": {},
   "outputs": [
    {
     "name": "stdout",
     "output_type": "stream",
     "text": [
      "0 1 1 2 3 5 8 13 21 34 55 89 144 233 377 610 987 1597 2584 4181 6765 "
     ]
    }
   ],
   "source": [
    "for i in range(0,21):\n",
    "    print(fibonacci(i),end=\" \")"
   ]
  },
  {
   "cell_type": "code",
   "execution_count": 78,
   "id": "3092c36f",
   "metadata": {},
   "outputs": [],
   "source": [
    "def maxNumber(lst):\n",
    "    output = max(lst)\n",
    "    return output"
   ]
  },
  {
   "cell_type": "code",
   "execution_count": 79,
   "id": "39412217",
   "metadata": {},
   "outputs": [
    {
     "data": {
      "text/plain": [
       "1000"
      ]
     },
     "execution_count": 79,
     "metadata": {},
     "output_type": "execute_result"
    }
   ],
   "source": [
    "maxNumber([1,2,3,4,5,7,8,9,1000])"
   ]
  },
  {
   "cell_type": "code",
   "execution_count": 80,
   "id": "abb4f83a",
   "metadata": {},
   "outputs": [],
   "source": [
    "import numpy as np"
   ]
  },
  {
   "cell_type": "code",
   "execution_count": 81,
   "id": "08a045ba",
   "metadata": {},
   "outputs": [],
   "source": [
    "def multiply_list(lst):\n",
    "    num = 1\n",
    "    for i in lst:\n",
    "        num *= i\n",
    "    return num  "
   ]
  },
  {
   "cell_type": "code",
   "execution_count": 82,
   "id": "55f7082f",
   "metadata": {},
   "outputs": [
    {
     "data": {
      "text/plain": [
       "8"
      ]
     },
     "execution_count": 82,
     "metadata": {},
     "output_type": "execute_result"
    }
   ],
   "source": [
    "multiply_list([4,2])"
   ]
  },
  {
   "cell_type": "code",
   "execution_count": 83,
   "id": "dcab2838",
   "metadata": {},
   "outputs": [],
   "source": [
    "def multiplyeven(lst):\n",
    "    output = 1\n",
    "    for i in lst:\n",
    "        if i%2 == 0:\n",
    "            output*=i\n",
    "    return output"
   ]
  },
  {
   "cell_type": "code",
   "execution_count": 84,
   "id": "1dd010c1",
   "metadata": {},
   "outputs": [
    {
     "data": {
      "text/plain": [
       "192"
      ]
     },
     "execution_count": 84,
     "metadata": {},
     "output_type": "execute_result"
    }
   ],
   "source": [
    "multiplyeven([5,8,9,6,5,4,1,23])"
   ]
  },
  {
   "cell_type": "code",
   "execution_count": 85,
   "id": "f08bf7aa",
   "metadata": {},
   "outputs": [],
   "source": [
    "def n_large_num(num,n):\n",
    "    output = num.sort(reverse=True)\n",
    "    return num[:n]"
   ]
  },
  {
   "cell_type": "code",
   "execution_count": 86,
   "id": "8c6ef9c1",
   "metadata": {},
   "outputs": [
    {
     "data": {
      "text/plain": [
       "[58]"
      ]
     },
     "execution_count": 86,
     "metadata": {},
     "output_type": "execute_result"
    }
   ],
   "source": [
    "n_large_num([1,2,3,6,58],1)"
   ]
  },
  {
   "cell_type": "code",
   "execution_count": 87,
   "id": "03dfba36",
   "metadata": {},
   "outputs": [],
   "source": [
    "def repatation(rep):\n",
    "    output = []\n",
    "    for i in rep:\n",
    "        if rep.count(i) > 1:\n",
    "            output.append(i)\n",
    "    return len(output)"
   ]
  },
  {
   "cell_type": "code",
   "execution_count": 88,
   "id": "3b2e1671",
   "metadata": {},
   "outputs": [
    {
     "data": {
      "text/plain": [
       "15"
      ]
     },
     "execution_count": 88,
     "metadata": {},
     "output_type": "execute_result"
    }
   ],
   "source": [
    "repatation([111,2,3,6,555,4,7,8,1,1,1,1,5,5,5,7,7,8,8,9,6,33,32])"
   ]
  },
  {
   "cell_type": "code",
   "execution_count": 89,
   "id": "fe24ed84",
   "metadata": {},
   "outputs": [],
   "source": [
    "def generate2D_array(x,y):\n",
    "    array = []\n",
    "    for i in range(x):\n",
    "        rows = []\n",
    "        for j in range(y):\n",
    "            rows.append(i*j)\n",
    "        array.append(rows)\n",
    "    return array"
   ]
  },
  {
   "cell_type": "code",
   "execution_count": 90,
   "id": "7f779d9a",
   "metadata": {},
   "outputs": [
    {
     "data": {
      "text/plain": [
       "[[0, 0, 0, 0, 0],\n",
       " [0, 1, 2, 3, 4],\n",
       " [0, 2, 4, 6, 8],\n",
       " [0, 3, 6, 9, 12],\n",
       " [0, 4, 8, 12, 16],\n",
       " [0, 5, 10, 15, 20]]"
      ]
     },
     "execution_count": 90,
     "metadata": {},
     "output_type": "execute_result"
    }
   ],
   "source": [
    "generate2D_array(6,5)"
   ]
  },
  {
   "cell_type": "code",
   "execution_count": 91,
   "id": "4156e1ab",
   "metadata": {},
   "outputs": [],
   "source": [
    "def sortingstring(string):\n",
    "    output = \",\".join(sorted(string.split(\",\")))\n",
    "    return output"
   ]
  },
  {
   "cell_type": "code",
   "execution_count": 92,
   "id": "da827f3e",
   "metadata": {},
   "outputs": [
    {
     "data": {
      "text/plain": [
       "'bag,hello,without,world'"
      ]
     },
     "execution_count": 92,
     "metadata": {},
     "output_type": "execute_result"
    }
   ],
   "source": [
    "sortingstring(\"without,hello,bag,world\")"
   ]
  },
  {
   "cell_type": "code",
   "execution_count": 93,
   "id": "79daf428",
   "metadata": {},
   "outputs": [],
   "source": [
    "def calculate_string(string):\n",
    "    n = 0\n",
    "    l = 0\n",
    "    for i in string:\n",
    "        if i.isdigit():\n",
    "            n += 1\n",
    "        if i.isalpha():\n",
    "            l += 1\n",
    "    return f\"LETTERS:{l} \\n DIGITS:{n}\"\n",
    "            "
   ]
  },
  {
   "cell_type": "code",
   "execution_count": 94,
   "id": "3d7c8497",
   "metadata": {},
   "outputs": [
    {
     "data": {
      "text/plain": [
       "'LETTERS:20 \\n DIGITS:7'"
      ]
     },
     "execution_count": 94,
     "metadata": {},
     "output_type": "execute_result"
    }
   ],
   "source": [
    "calculate_string(\"hello world! 123, yash mohite1418\")"
   ]
  },
  {
   "cell_type": "code",
   "execution_count": 95,
   "id": "bdd1d0a4",
   "metadata": {},
   "outputs": [],
   "source": [
    "def capital_index(string):\n",
    "    output = []\n",
    "    for i in string:\n",
    "        if i.isupper():\n",
    "            output.append(string.index(i))\n",
    "    return output"
   ]
  },
  {
   "cell_type": "code",
   "execution_count": 96,
   "id": "a9efd232",
   "metadata": {},
   "outputs": [
    {
     "data": {
      "text/plain": [
       "[0, 5, 6]"
      ]
     },
     "execution_count": 96,
     "metadata": {},
     "output_type": "execute_result"
    }
   ],
   "source": [
    "capital_index(\"Yash MOhite\")"
   ]
  },
  {
   "cell_type": "code",
   "execution_count": 97,
   "id": "d8f47d32",
   "metadata": {},
   "outputs": [],
   "source": [
    "def missingNumber(lst):\n",
    "    for i in range(1,1000000):\n",
    "        if i not in lst:\n",
    "            return f\"Missing values: {i}\""
   ]
  },
  {
   "cell_type": "code",
   "execution_count": 98,
   "id": "857cb73d",
   "metadata": {},
   "outputs": [
    {
     "data": {
      "text/plain": [
       "'Missing values: 3'"
      ]
     },
     "execution_count": 98,
     "metadata": {},
     "output_type": "execute_result"
    }
   ],
   "source": [
    "missingNumber([1,2,10])"
   ]
  },
  {
   "cell_type": "code",
   "execution_count": 101,
   "id": "9437bc73",
   "metadata": {},
   "outputs": [],
   "source": [
    "def towerOFhanoi(n,source,auxilary,target):\n",
    "    if n == 1:\n",
    "        print(f\"Move disk 1 from {source} to {target}\")\n",
    "        return \n",
    "    towerOFhanoi(n-1,source,target,auxilary)\n",
    "    print(f\"Move disk {n} from {source} to {target}\")\n",
    "    towerOFhanoi(n-1, auxilary, source, target)"
   ]
  },
  {
   "cell_type": "code",
   "execution_count": 107,
   "id": "202000ba",
   "metadata": {},
   "outputs": [
    {
     "name": "stdout",
     "output_type": "stream",
     "text": [
      "Move disk 1 from A to B\n",
      "Move disk 2 from A to C\n",
      "Move disk 1 from B to C\n"
     ]
    }
   ],
   "source": [
    "towerOFhanoi(2,\"A\",\"B\",\"C\")"
   ]
  },
  {
   "cell_type": "code",
   "execution_count": 131,
   "id": "aab79e26",
   "metadata": {},
   "outputs": [],
   "source": [
    "def pelendrome(string):\n",
    "    if string != string[::-1]:\n",
    "        return f\"Is Note a palindrome: {False}\"\n",
    "    else:\n",
    "        return f\"Is a palindrome: {True}\""
   ]
  },
  {
   "cell_type": "code",
   "execution_count": 138,
   "id": "dc055e37",
   "metadata": {},
   "outputs": [
    {
     "data": {
      "text/plain": [
       "'Is a palindrome: True'"
      ]
     },
     "execution_count": 138,
     "metadata": {},
     "output_type": "execute_result"
    }
   ],
   "source": [
    "pelendrome(\"malayalam\")"
   ]
  },
  {
   "cell_type": "code",
   "execution_count": 139,
   "id": "85612d78",
   "metadata": {},
   "outputs": [],
   "source": [
    "def bubbleSort(num):\n",
    "    n = len(num)\n",
    "    for i in range(n):\n",
    "        for j in range(n-i-1):\n",
    "            if num[j] > num[j+1]:\n",
    "                num[j],num[j+1] = num[j+1],num[j]\n",
    "    return num"
   ]
  },
  {
   "cell_type": "code",
   "execution_count": 141,
   "id": "7f6f40a6",
   "metadata": {},
   "outputs": [
    {
     "data": {
      "text/plain": [
       "[1, 2, 3, 5, 6, 8, 9]"
      ]
     },
     "execution_count": 141,
     "metadata": {},
     "output_type": "execute_result"
    }
   ],
   "source": [
    "bubbleSort([1,5,8,9,6,2,3])"
   ]
  },
  {
   "cell_type": "code",
   "execution_count": 142,
   "id": "0969179f",
   "metadata": {},
   "outputs": [],
   "source": [
    "def sortList(lst):\n",
    "    output = sorted(lst)\n",
    "    return output"
   ]
  },
  {
   "cell_type": "code",
   "execution_count": 143,
   "id": "0e09ec3f",
   "metadata": {},
   "outputs": [
    {
     "data": {
      "text/plain": [
       "[1, 2, 3, 5, 6, 8, 9]"
      ]
     },
     "execution_count": 143,
     "metadata": {},
     "output_type": "execute_result"
    }
   ],
   "source": [
    "sortList([1,5,8,9,6,2,3])"
   ]
  },
  {
   "cell_type": "code",
   "execution_count": null,
   "id": "d1d29a26",
   "metadata": {},
   "outputs": [],
   "source": []
  }
 ],
 "metadata": {
  "kernelspec": {
   "display_name": "Python 3 (ipykernel)",
   "language": "python",
   "name": "python3"
  },
  "language_info": {
   "codemirror_mode": {
    "name": "ipython",
    "version": 3
   },
   "file_extension": ".py",
   "mimetype": "text/x-python",
   "name": "python",
   "nbconvert_exporter": "python",
   "pygments_lexer": "ipython3",
   "version": "3.10.6"
  }
 },
 "nbformat": 4,
 "nbformat_minor": 5
}
