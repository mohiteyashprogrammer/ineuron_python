{
 "cells": [
  {
   "cell_type": "code",
   "execution_count": 1,
   "id": "dcc4deb6",
   "metadata": {},
   "outputs": [],
   "source": [
    "st = \"yash mohite\"\n",
    "wovel  = [\"a\",\"e\",\"i\",\"o\",\"u\"]# pick volels from input\n",
    "pick = []\n",
    "\n",
    "for i in st:\n",
    "    if i in wovel:\n",
    "        pick.append(i)\n"
   ]
  },
  {
   "cell_type": "code",
   "execution_count": 2,
   "id": "62da6d9a",
   "metadata": {},
   "outputs": [
    {
     "name": "stdout",
     "output_type": "stream",
     "text": [
      "{'o', 'i', 'a', 'e'}\n"
     ]
    }
   ],
   "source": [
    "print(set(pick))"
   ]
  },
  {
   "cell_type": "code",
   "execution_count": 3,
   "id": "1a1df7f6",
   "metadata": {},
   "outputs": [],
   "source": [
    "lst = [10,20,30,4,50,89,45,\"yash\",\"isha\",2.0,3.5,4.8]\n",
    "# saprate int,str,flot\n",
    "i1 = []\n",
    "s = []\n",
    "f = []\n",
    "\n",
    "for i in lst:\n",
    "    if type(i) == int:\n",
    "        i1.append(i)\n",
    "    elif type(i) == str:\n",
    "        s.append(i)\n",
    "    elif type(i) == float:\n",
    "        f.append(i)\n",
    "        \n",
    "\n"
   ]
  },
  {
   "cell_type": "code",
   "execution_count": 4,
   "id": "e81f1d97",
   "metadata": {},
   "outputs": [
    {
     "data": {
      "text/plain": [
       "[10, 20, 30, 4, 50, 89, 45]"
      ]
     },
     "execution_count": 4,
     "metadata": {},
     "output_type": "execute_result"
    }
   ],
   "source": [
    "i1"
   ]
  },
  {
   "cell_type": "code",
   "execution_count": 5,
   "id": "5ed98862",
   "metadata": {},
   "outputs": [
    {
     "data": {
      "text/plain": [
       "['yash', 'isha']"
      ]
     },
     "execution_count": 5,
     "metadata": {},
     "output_type": "execute_result"
    }
   ],
   "source": [
    "s"
   ]
  },
  {
   "cell_type": "code",
   "execution_count": 6,
   "id": "be7c3c5a",
   "metadata": {},
   "outputs": [
    {
     "data": {
      "text/plain": [
       "[2.0, 3.5, 4.8]"
      ]
     },
     "execution_count": 6,
     "metadata": {},
     "output_type": "execute_result"
    }
   ],
   "source": [
    "f"
   ]
  },
  {
   "cell_type": "code",
   "execution_count": 7,
   "id": "d05b6028",
   "metadata": {},
   "outputs": [
    {
     "name": "stdout",
     "output_type": "stream",
     "text": [
      "{4, 5, 6, 'yash'}\n"
     ]
    }
   ],
   "source": [
    "lst1 = [10,20,30,4,4,4,5,5,6,6,7,9,8,50,89,45,\"yash\",\"yash\",\"isha\",2.0,3.5,4.8]\n",
    "duplicet = []\n",
    "# remove duplicets\n",
    "\n",
    "for i in lst1:\n",
    "    if lst1.count(i) >1:\n",
    "        duplicet.append(i)\n",
    "print(set(duplicet))"
   ]
  },
  {
   "cell_type": "code",
   "execution_count": 8,
   "id": "355e89a6",
   "metadata": {},
   "outputs": [
    {
     "name": "stdout",
     "output_type": "stream",
     "text": [
      "{2.0, 3.5, 4, 5, 6, 7, 8, 9, 10, 4.8, 45, 'isha', 50, 20, 'yash', 89, 30}\n"
     ]
    }
   ],
   "source": [
    "lst2 = set([10,20,30,4,4,4,5,5,6,6,7,9,8,50,89,45,\"yash\",\"yash\",\"isha\",2.0,3.5,4.8])\n",
    "print(lst2)"
   ]
  },
  {
   "cell_type": "code",
   "execution_count": 9,
   "id": "d13e2aaf",
   "metadata": {},
   "outputs": [
    {
     "data": {
      "text/plain": [
       "2441601792000000.0"
      ]
     },
     "execution_count": 9,
     "metadata": {},
     "output_type": "execute_result"
    }
   ],
   "source": [
    "def strmultiply(lm):\n",
    "    m=1\n",
    "    \n",
    "    for i in lm:\n",
    "        if type(i) == int or type(i) == float:\n",
    "            m=m*i\n",
    "    return m\n",
    "strmultiply(lst2)"
   ]
  },
  {
   "cell_type": "code",
   "execution_count": 10,
   "id": "8cd395e6",
   "metadata": {},
   "outputs": [],
   "source": [
    "w = [10, 20, 30, 4, 50, 89, 45]\n",
    "def addition(n):\n",
    "    a = 1\n",
    "    for i in n:\n",
    "        if type(i) == int or type(i) == float:\n",
    "            a=a+i\n",
    "    return a\n"
   ]
  },
  {
   "cell_type": "code",
   "execution_count": 11,
   "id": "aecab647",
   "metadata": {},
   "outputs": [
    {
     "name": "stdout",
     "output_type": "stream",
     "text": [
      "249\n"
     ]
    }
   ],
   "source": [
    "print(addition(w))\n",
    "\n"
   ]
  },
  {
   "cell_type": "code",
   "execution_count": 12,
   "id": "3dbd264f",
   "metadata": {},
   "outputs": [
    {
     "name": "stdout",
     "output_type": "stream",
     "text": [
      "(65, 99, 41, 45, 87, 94)\n",
      "41\n",
      "99\n"
     ]
    }
   ],
   "source": [
    "sample_list = [87,45,41,65,94,41,99,94]\n",
    "s = set(sample_list)\n",
    "#print(s)\n",
    "t = tuple(s)\n",
    "print(t)\n",
    "print(min(t))\n",
    "print(max(t))"
   ]
  },
  {
   "cell_type": "code",
   "execution_count": 13,
   "id": "0bfbea42",
   "metadata": {},
   "outputs": [],
   "source": [
    "lam = lambda x,y: x*y"
   ]
  },
  {
   "cell_type": "code",
   "execution_count": 14,
   "id": "9f2628ef",
   "metadata": {},
   "outputs": [
    {
     "data": {
      "text/plain": [
       "25"
      ]
     },
     "execution_count": 14,
     "metadata": {},
     "output_type": "execute_result"
    }
   ],
   "source": [
    "lam(5,5)"
   ]
  },
  {
   "cell_type": "code",
   "execution_count": 15,
   "id": "076b06ed",
   "metadata": {},
   "outputs": [],
   "source": [
    "lam2 = lambda x: x+10"
   ]
  },
  {
   "cell_type": "code",
   "execution_count": 16,
   "id": "d56ed322",
   "metadata": {},
   "outputs": [
    {
     "data": {
      "text/plain": [
       "15"
      ]
     },
     "execution_count": 16,
     "metadata": {},
     "output_type": "execute_result"
    }
   ],
   "source": [
    "lam2(5)"
   ]
  },
  {
   "cell_type": "code",
   "execution_count": 17,
   "id": "82f5a919",
   "metadata": {},
   "outputs": [
    {
     "data": {
      "text/plain": [
       "[('ankita', 50), ('isha', 80), ('patade', 25), ('yash', 99)]"
      ]
     },
     "execution_count": 17,
     "metadata": {},
     "output_type": "execute_result"
    }
   ],
   "source": [
    "le = [(\"yash\",99),(\"isha\",80),(\"ankita\",50),(\"patade\",25)]\n",
    "lam3 = lambda x: sorted(x) #sort list using lambda\n",
    "lam3(le)"
   ]
  },
  {
   "cell_type": "code",
   "execution_count": 18,
   "id": "345ae2d2",
   "metadata": {},
   "outputs": [
    {
     "name": "stdout",
     "output_type": "stream",
     "text": [
      "2022-12-29 13:51:10.383088\n",
      "2022\n",
      "12\n",
      "29\n",
      "13:51:10.383088\n"
     ]
    }
   ],
   "source": [
    "import datetime\n",
    "\n",
    "now = datetime.datetime.now()\n",
    "\n",
    "print(now)\n",
    "\n",
    "year = lambda x:x.year\n",
    "month = lambda x:x.month\n",
    "day = lambda x:x.day\n",
    "tim = lambda x:x.time()\n",
    "\n",
    "print(year(now))\n",
    "print(month(now))\n",
    "print(day(now))\n",
    "print(tim(now))\n",
    "\n"
   ]
  },
  {
   "cell_type": "code",
   "execution_count": 19,
   "id": "a4862d8c",
   "metadata": {},
   "outputs": [
    {
     "name": "stdout",
     "output_type": "stream",
     "text": [
      "256\n"
     ]
    }
   ],
   "source": [
    "sq = lambda x,y: x**y\n",
    "print(sq(2,8))"
   ]
  },
  {
   "cell_type": "code",
   "execution_count": 20,
   "id": "90ede580",
   "metadata": {},
   "outputs": [],
   "source": [
    "lx = [10, 20, 30, 4, 50, 89, 45,5]\n",
    "\n",
    "\n",
    "eo = list(filter(lambda x: x%2 == 0,lx))\n",
    "\n",
    "od = list(filter(lambda x:x%2 != 0,lx))\n"
   ]
  },
  {
   "cell_type": "code",
   "execution_count": 21,
   "id": "6bf446bc",
   "metadata": {},
   "outputs": [
    {
     "name": "stdout",
     "output_type": "stream",
     "text": [
      "[10, 20, 30, 4, 50] even number\n",
      "[89, 45, 5] odd number\n"
     ]
    }
   ],
   "source": [
    "print(eo,\"even number\")\n",
    "print(od,\"odd number\")"
   ]
  },
  {
   "cell_type": "code",
   "execution_count": 22,
   "id": "e9c02109",
   "metadata": {},
   "outputs": [
    {
     "name": "stdout",
     "output_type": "stream",
     "text": [
      "[89, 45, 5] odd number\n"
     ]
    }
   ],
   "source": [
    "print(od,\"odd number\")"
   ]
  },
  {
   "cell_type": "code",
   "execution_count": 23,
   "id": "7065e544",
   "metadata": {},
   "outputs": [],
   "source": [
    "def add(x):\n",
    "    return x*x#using map function take function and iterable object"
   ]
  },
  {
   "cell_type": "code",
   "execution_count": 24,
   "id": "983143cf",
   "metadata": {},
   "outputs": [],
   "source": [
    "m = list(map(add,lx))"
   ]
  },
  {
   "cell_type": "code",
   "execution_count": 25,
   "id": "8db3a38d",
   "metadata": {},
   "outputs": [
    {
     "name": "stdout",
     "output_type": "stream",
     "text": [
      "[100, 400, 900, 16, 2500, 7921, 2025, 25]\n"
     ]
    }
   ],
   "source": [
    "print(m)"
   ]
  },
  {
   "cell_type": "code",
   "execution_count": 26,
   "id": "b459dc02",
   "metadata": {},
   "outputs": [],
   "source": [
    "def UL(s):\n",
    "    return str(s).upper(),str(s).lower()"
   ]
  },
  {
   "cell_type": "code",
   "execution_count": 27,
   "id": "c4cb8667",
   "metadata": {},
   "outputs": [],
   "source": [
    "y = [\"yash\"]\n",
    "d = list(map(UL,y))# convert in upper and lower case"
   ]
  },
  {
   "cell_type": "code",
   "execution_count": 28,
   "id": "e7c0a5e7",
   "metadata": {},
   "outputs": [
    {
     "name": "stdout",
     "output_type": "stream",
     "text": [
      "[('YASH', 'yash')]\n"
     ]
    }
   ],
   "source": [
    "print(d)"
   ]
  },
  {
   "cell_type": "code",
   "execution_count": 29,
   "id": "ea21d500",
   "metadata": {},
   "outputs": [],
   "source": [
    "st = \"hey my name is yash mohite and i had recently breakup with my bitch girlfriend she is a toxic bitch\""
   ]
  },
  {
   "cell_type": "code",
   "execution_count": 30,
   "id": "2cc8064f",
   "metadata": {},
   "outputs": [
    {
     "data": {
      "text/plain": [
       "'h  miyhota h ct euwhyihife es x t'"
      ]
     },
     "execution_count": 30,
     "metadata": {},
     "output_type": "execute_result"
    }
   ],
   "source": [
    "st[:300:3]"
   ]
  },
  {
   "cell_type": "code",
   "execution_count": 32,
   "id": "1b75427f",
   "metadata": {},
   "outputs": [
    {
     "data": {
      "text/plain": [
       "['hey',\n",
       " 'my',\n",
       " 'name',\n",
       " 'is',\n",
       " 'yash',\n",
       " 'mohite',\n",
       " 'and',\n",
       " 'i',\n",
       " 'had',\n",
       " 'recently',\n",
       " 'breakup',\n",
       " 'with',\n",
       " 'my',\n",
       " 'bitch',\n",
       " 'girlfriend',\n",
       " 'she',\n",
       " 'is',\n",
       " 'a',\n",
       " 'toxic',\n",
       " 'bitch']"
      ]
     },
     "execution_count": 32,
     "metadata": {},
     "output_type": "execute_result"
    }
   ],
   "source": [
    "st.upper()\n",
    "st.split()"
   ]
  },
  {
   "cell_type": "code",
   "execution_count": 33,
   "id": "2b2da474",
   "metadata": {},
   "outputs": [
    {
     "data": {
      "text/plain": [
       "'hey my name is yash mohite and i had recently breakup with my bitch girlfriend she is a toxic bitch'"
      ]
     },
     "execution_count": 33,
     "metadata": {},
     "output_type": "execute_result"
    }
   ],
   "source": [
    "st.lower()"
   ]
  },
  {
   "cell_type": "code",
   "execution_count": 34,
   "id": "ffe92c33",
   "metadata": {},
   "outputs": [
    {
     "data": {
      "text/plain": [
       "'Hey my name is yash mohite and i had recently breakup with my bitch girlfriend she is a toxic bitch'"
      ]
     },
     "execution_count": 34,
     "metadata": {},
     "output_type": "execute_result"
    }
   ],
   "source": [
    "st.capitalize()"
   ]
  },
  {
   "cell_type": "code",
   "execution_count": 35,
   "id": "90736e84",
   "metadata": {},
   "outputs": [
    {
     "data": {
      "text/plain": [
       "False"
      ]
     },
     "execution_count": 35,
     "metadata": {},
     "output_type": "execute_result"
    }
   ],
   "source": [
    "st.isalnum()"
   ]
  },
  {
   "cell_type": "code",
   "execution_count": 36,
   "id": "bac2bbe8",
   "metadata": {},
   "outputs": [
    {
     "data": {
      "text/plain": [
       "False"
      ]
     },
     "execution_count": 36,
     "metadata": {},
     "output_type": "execute_result"
    }
   ],
   "source": [
    "st.isalpha()"
   ]
  },
  {
   "cell_type": "code",
   "execution_count": 37,
   "id": "c30be62d",
   "metadata": {},
   "outputs": [],
   "source": [
    "m = \"ineuron\\ti\\tu\""
   ]
  },
  {
   "cell_type": "code",
   "execution_count": 41,
   "id": "3416edda",
   "metadata": {},
   "outputs": [
    {
     "data": {
      "text/plain": [
       "'ineuron i       u'"
      ]
     },
     "execution_count": 41,
     "metadata": {},
     "output_type": "execute_result"
    }
   ],
   "source": [
    "m.expandtabs()"
   ]
  },
  {
   "cell_type": "code",
   "execution_count": 42,
   "id": "6a0851b2",
   "metadata": {},
   "outputs": [],
   "source": [
    "# python is compile as well as interpriter language"
   ]
  },
  {
   "cell_type": "code",
   "execution_count": 43,
   "id": "12dc7c20",
   "metadata": {},
   "outputs": [
    {
     "data": {
      "text/plain": [
       "'hctib cixot a si ehs dneirflrig hctib ym htiw pukaerb yltnecer dah i dna etihom hsay si eman ym yeh'"
      ]
     },
     "execution_count": 43,
     "metadata": {},
     "output_type": "execute_result"
    }
   ],
   "source": [
    "st[::-1]"
   ]
  },
  {
   "cell_type": "code",
   "execution_count": 75,
   "id": "d021a8ee",
   "metadata": {},
   "outputs": [],
   "source": [
    "y = [1,2,3,65,4,78,9],{\"yash\":34,\"isha\":\"chutiya\"}"
   ]
  },
  {
   "cell_type": "code",
   "execution_count": 88,
   "id": "abe2148c",
   "metadata": {},
   "outputs": [
    {
     "name": "stdout",
     "output_type": "stream",
     "text": [
      "dict_values([34, 'chutiya'])\n"
     ]
    }
   ],
   "source": [
    "li = []\n",
    "for i in y:\n",
    "    if type(i) == list:\n",
    "        li.append(i)\n",
    "        \n",
    "for i in y:\n",
    "    if type(i) == dict:\n",
    "        print(i.values())\n",
    "        "
   ]
  },
  {
   "cell_type": "code",
   "execution_count": 77,
   "id": "29c72b5b",
   "metadata": {},
   "outputs": [
    {
     "data": {
      "text/plain": [
       "[[1, 2, 3, 65, 4, 78, 9]]"
      ]
     },
     "execution_count": 77,
     "metadata": {},
     "output_type": "execute_result"
    }
   ],
   "source": [
    "li"
   ]
  },
  {
   "cell_type": "code",
   "execution_count": 95,
   "id": "c1b5a45e",
   "metadata": {},
   "outputs": [
    {
     "name": "stdout",
     "output_type": "stream",
     "text": [
      "\n",
      "a b c \n",
      "a b c a b c \n",
      "a b c a b c a b c \n",
      "a b c a b c a b c a b c \n",
      "a b c a b c a b c a b c a b c \n",
      "a b c a b c a b c a b c a b c a b c \n"
     ]
    }
   ],
   "source": [
    "n = 7\n",
    "\n",
    "for i in range(7):\n",
    "    for j in range(i):\n",
    "        print(\"a\",\"b\",\"c\",end = \" \")\n",
    "    print()"
   ]
  },
  {
   "cell_type": "code",
   "execution_count": null,
   "id": "90e19d49",
   "metadata": {},
   "outputs": [],
   "source": []
  },
  {
   "cell_type": "code",
   "execution_count": null,
   "id": "3ce99e28",
   "metadata": {},
   "outputs": [],
   "source": []
  },
  {
   "cell_type": "code",
   "execution_count": null,
   "id": "3c9da797",
   "metadata": {},
   "outputs": [],
   "source": []
  }
 ],
 "metadata": {
  "kernelspec": {
   "display_name": "Python 3 (ipykernel)",
   "language": "python",
   "name": "python3"
  },
  "language_info": {
   "codemirror_mode": {
    "name": "ipython",
    "version": 3
   },
   "file_extension": ".py",
   "mimetype": "text/x-python",
   "name": "python",
   "nbconvert_exporter": "python",
   "pygments_lexer": "ipython3",
   "version": "3.10.6"
  }
 },
 "nbformat": 4,
 "nbformat_minor": 5
}
