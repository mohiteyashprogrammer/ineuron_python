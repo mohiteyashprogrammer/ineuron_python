{
 "cells": [
  {
   "cell_type": "markdown",
   "id": "0ca140ad",
   "metadata": {},
   "source": [
    "1.Write a function that takes a list of lists and returns the value of all of the symbols in it, where each symbol adds or takes something from the total score. Symbol values:\n",
    "# = 5, O = 3, X = 1, ! = -1, !! = -3 !!! = -5\n",
    "A list of lists containing 2 #s, a O, and a !!! would equal (0 + 5 + 5 + 3 - 5) 8. If the final score is negative, return 0 (e.g. 3 #s, 3 !!s, 2 !!!s and a X would be (0 + 5 + 5 + 5 - 3 - 3 - 3 - 5 - 5 + 1) -3, so return 0.\n",
    "Examples:\n",
    "check_score([[\"#\", \"!\"],[\"!!\", \"X\"]]) ➞ 2\n",
    "check_score([[\"!!!\", \"O\", \"!\"],[\"X\", \"#\", \"!!!\"],[\"!!\", \"X\", \"O\"]]) ➞ 0"
   ]
  },
  {
   "cell_type": "code",
   "execution_count": 1,
   "id": "5ea44c6e",
   "metadata": {},
   "outputs": [],
   "source": [
    "def check_score(lst):\n",
    "    check_dict = {'#':5,'O':3,'X':1,'!':-1,'!!':-3,'!!!':-5}\n",
    "    score = 0\n",
    "    \n",
    "    for i in lst:\n",
    "        for j in i:\n",
    "            score += check_dict[j]\n",
    "    if score < 0:\n",
    "        return f\"score is:{lst} > {0}\"\n",
    "    \n",
    "    else:\n",
    "        return f\"score is:{lst} > {score}\"\n",
    "            "
   ]
  },
  {
   "cell_type": "code",
   "execution_count": 2,
   "id": "32683455",
   "metadata": {},
   "outputs": [
    {
     "name": "stdout",
     "output_type": "stream",
     "text": [
      "score is:[['#', '!'], ['!!', 'X']] > 2\n",
      "score is:[['!!!', 'O', '!'], ['X', '#', '!!!'], ['!!', 'X', 'O']] > 0\n",
      "score is:[['!!!', 'O', '!', '#', 'O']] > 5\n"
     ]
    }
   ],
   "source": [
    "print(check_score([[\"#\", \"!\"],[\"!!\", \"X\"]]))\n",
    "print(check_score([[\"!!!\", \"O\", \"!\"],[\"X\", \"#\", \"!!!\"],[\"!!\", \"X\", \"O\"]]))\n",
    "print(check_score([[\"!!!\", \"O\", \"!\",\"#\",\"O\"]]))"
   ]
  },
  {
   "cell_type": "markdown",
   "id": "1ed217a0",
   "metadata": {},
   "source": [
    " 2.Create a function that takes a variable number of arguments, each argument representing the number of items in a group, and returns the number of permutations (combinations) of items that you could get by taking one item from each group.\n",
    "Examples:"
   ]
  },
  {
   "cell_type": "code",
   "execution_count": 3,
   "id": "65f103f5",
   "metadata": {},
   "outputs": [],
   "source": [
    "def combination(*args):\n",
    "    output = 1\n",
    "    for i in args:\n",
    "        output=output*i\n",
    "    return f\"combination:{args} > {output}\"    \n",
    "    "
   ]
  },
  {
   "cell_type": "code",
   "execution_count": 4,
   "id": "9d4f7f5d",
   "metadata": {},
   "outputs": [
    {
     "name": "stdout",
     "output_type": "stream",
     "text": [
      "combination:(2, 3) > 6\n",
      "combination:(3, 7, 4) > 84\n",
      "combination:(2, 3, 4, 5) > 120\n",
      "combination:(2, 3, 4, 5, 4, 7, 8, 5, 4, 551, 2) > 592435200\n"
     ]
    }
   ],
   "source": [
    "print(combination(2, 3))\n",
    "print(combination(3, 7, 4))\n",
    "print(combination(2, 3, 4, 5))\n",
    "print(combination(2, 3, 4, 5,4,7,8,5,4,551,2))"
   ]
  },
  {
   "cell_type": "markdown",
   "id": "a1f3aa93",
   "metadata": {},
   "source": [
    "3.Create a function that takes a string as an argument and returns the Morse code equivalent.\n",
    "Examples:\n",
    "encode_morse(\"EDABBIT CHALLENGE\") ➞ \". -.. .- -... -... .. - -.-. .... .- .-.. .-... -. --. .\"\n",
    "encode_morse(\"HELP ME !\") ➞ \".... . .-.. .--. -- . -.-.--\"\n",
    "This dictionary can be used for coding:\n",
    "char_to_dots = { 'A': '.-', 'B': '-...', 'C': '-.-.', 'D': '-..', 'E': '.', 'F': '..-.', 'G': '--.', 'H': '....', 'I': '..', 'J': '.---', 'K': '-.-', 'L': '.-..', 'M': '--', 'N': '-.', 'O': '---', 'P': '.--.', 'Q': '--.-', 'R': '.-.', 'S': '...', 'T': '-', 'U': '..-', 'V': '...-', 'W': '.--', 'X': '-..-', 'Y': '-.--', 'Z': '--..', ' ': ' ', '0': '-----', '1': '.----', '2': '..---', '3': '...--', '4': '....-', '5': '.....', '6': '-....', '7': '--...', '8': '---..', '9': '----.', '&': '.-...', \"'\": '.----.', '@': '.--.-.', ')': '-.--.-', '(': '-.--.', ':': '---...', ',': '--..--', '=': '-...-', '!': '-.-.--', '.': '.-.-.-', '-': '-....-', '+': '.-.-.', '\"': '.-..-.', '?': '..--..', '/': '-..-.' }"
   ]
  },
  {
   "cell_type": "code",
   "execution_count": 5,
   "id": "5b8f4c94",
   "metadata": {},
   "outputs": [],
   "source": [
    "def encode_morse(string):\n",
    "    output = \"\"\n",
    "    char_to_dots = {\n",
    "            'A': '.-', 'B': '-...', 'C': '-.-.', 'D': '-..', 'E': '.', 'F': '..-.',\n",
    "            'G': '--.', 'H': '....', 'I': '..', 'J': '.---', 'K': '-.-', 'L': '.-..',\n",
    "            'M': '--', 'N': '-.', 'O': '---', 'P': '.--.', 'Q': '--.-', 'R': '.-.',\n",
    "            'S': '...', 'T': '-', 'U': '..-', 'V': '...-', 'W': '.--', 'X': '-..-',\n",
    "            'Y': '-.--', 'Z': '--..', ' ': ' ', '0': '-----',\n",
    "            '1': '.----', '2': '..---', '3': '...--', '4': '....-', '5': '.....',\n",
    "            '6': '-....', '7': '--...', '8': '---..', '9': '----.',\n",
    "            '&': '.-...', \"'\": '.----.', '@': '.--.-.', ')': '-.--.-', '(': '-.--.',\n",
    "            ':': '---...', ',': '--..--', '=': '-...-', '!': '-.-.--', '.': '.-.-.-',\n",
    "            '-': '-....-', '+': '.-.-.', '\"': '.-..-.', '?': '..--..', '/': '-..-.',\n",
    "            'a': '.-', 'b': '-...', 'c': '-.-.', 'd': '-..', 'e': '.', 'f': '..-.',\n",
    "            'g': '--.', 'h': '....', 'i': '..', 'j': '.---', 'k': '-.-', 'l': '.-..',\n",
    "            'm': '--', 'n': '-.', 'o': '---', 'p': '.--.', 'q': '--.-', 'r': '.-.',\n",
    "            's': '...', 't': '-', 'u': '..-', 'v': '...-', 'w': '.--', 'x': '-..-',\n",
    "            'y': '-.--', 'z': '--..'\n",
    "    }\n",
    "    \n",
    "    for i in string:\n",
    "        output += char_to_dots[i]\n",
    "    return f\"encode: {string} > {output}\"  "
   ]
  },
  {
   "cell_type": "code",
   "execution_count": 6,
   "id": "d34f5eaa",
   "metadata": {},
   "outputs": [
    {
     "name": "stdout",
     "output_type": "stream",
     "text": [
      "encode: EDABBIT CHALLENGE > .-...--...-.....- -.-......-.-...-...-.--..\n",
      "encode: HELP ME ! > ......-...--. --. -.-.--\n",
      "encode: yash > -.--.-.......\n",
      "encode: isha > ..........-\n"
     ]
    }
   ],
   "source": [
    "print(encode_morse(\"EDABBIT CHALLENGE\"))\n",
    "print(encode_morse(\"HELP ME !\"))\n",
    "print(encode_morse(\"yash\"))\n",
    "print(encode_morse(\"isha\"))"
   ]
  },
  {
   "cell_type": "markdown",
   "id": "336499b0",
   "metadata": {},
   "source": [
    "4.Write a function that takes a number and returns True if it's a prime; False otherwise. The number can be 2^64-1 (2 to the power of 63, not XOR). With the standard technique it would be O(2^64-1), which is much too large for the 10 second time limit.\n",
    "Examples:\n",
    "prime(7) ➞ True\n",
    "prime(56963) ➞ True\n",
    "prime(5151512515524) ➞ False"
   ]
  },
  {
   "cell_type": "code",
   "execution_count": 7,
   "id": "8ca44802",
   "metadata": {},
   "outputs": [],
   "source": [
    "def prime(num):\n",
    "    flag = False\n",
    "    if (num-1)%6 == 0 or (num+1)%6 == 0:\n",
    "        flag = True\n",
    "    return f\"prime: {num} > {flag}\""
   ]
  },
  {
   "cell_type": "code",
   "execution_count": 8,
   "id": "0d064b1d",
   "metadata": {},
   "outputs": [
    {
     "name": "stdout",
     "output_type": "stream",
     "text": [
      "prime: 7 > True\n",
      "prime: 56963 > True\n",
      "prime: 5151512515524 > False\n",
      "prime: 1418 > False\n"
     ]
    }
   ],
   "source": [
    "print(prime(7))\n",
    "print(prime(56963))\n",
    "print(prime(5151512515524))\n",
    "print(prime(1418))"
   ]
  },
  {
   "cell_type": "markdown",
   "id": "4c1779b0",
   "metadata": {},
   "source": [
    "5.Create a function that converts a word to a bitstring and then to a boolean list based on the following criteria:\n",
    "1. Locate the position of the letter in the English alphabet (from 1 to 26).\n",
    "2. Odd positions will be represented as 1 and 0 otherwise.\n",
    "3. Convert the represented positions to boolean values, 1 for True and 0 for False.\n",
    "4. Store the conversions into an array.\n",
    "\n",
    "Examples:\n",
    "to_boolean_list(\"deep\") ➞ [False, True, True, False]\n",
    "# deep converts to 0110\n",
    "# d is the 4th alphabet - 0\n",
    "# e is the 5th alphabet - 1\n",
    "# e is the 5th alphabet - 1\n",
    "# p is the 16th alphabet - 0\n",
    "to_boolean_list(\"loves\") ➞ [False, True, False, True, True]\n",
    "to_boolean_list(\"tesh\") ➞ [False, True, True, False]"
   ]
  },
  {
   "cell_type": "code",
   "execution_count": 9,
   "id": "850f1d10",
   "metadata": {},
   "outputs": [],
   "source": [
    "def to_bool_list(string):\n",
    "    output = []\n",
    "    alphabets = 'abcdefghijklmnopqrstuvwxyz'\n",
    "    \n",
    "    for i in string:\n",
    "        output.append(bool((alphabets.index(i)+1)%2))\n",
    "    return f\"{string} > {output}\"\n",
    "        "
   ]
  },
  {
   "cell_type": "code",
   "execution_count": 10,
   "id": "fb5502a7",
   "metadata": {},
   "outputs": [
    {
     "name": "stdout",
     "output_type": "stream",
     "text": [
      "deep > [False, True, True, False]\n",
      "love > [False, True, False, True]\n",
      "tesh > [False, True, True, False]\n"
     ]
    }
   ],
   "source": [
    "print(to_bool_list(\"deep\"))\n",
    "print(to_bool_list(\"love\"))\n",
    "print(to_bool_list(\"tesh\"))"
   ]
  },
  {
   "cell_type": "markdown",
   "id": "6e72f8dd",
   "metadata": {},
   "source": [
    "1.Write a function that takes a positive integer num and calculates how many dots exist in a pentagonal shape around the center dot on the Nth iteration.\n",
    "In the image below you can see the first iteration is only a single dot. On the second, there are 6 dots. On the third, there are 16 dots, and on the fourth there are 31 dots.\n",
    "image.png Examples:\n",
    "pentagonal(1) ➞ 1\n",
    "pentagonal(2) ➞ 6\n",
    "pentagonal(3) ➞ 16\n",
    "pentagonal(8) ➞ 141"
   ]
  },
  {
   "cell_type": "code",
   "execution_count": 11,
   "id": "84a32015",
   "metadata": {},
   "outputs": [],
   "source": [
    "def pentagonal(num):\n",
    "    output = 1\n",
    "    if num >= 1:\n",
    "        for i in range(num):\n",
    "            output = output+(5*i)\n",
    "    return f\"pentagonal: {num} > {output}\""
   ]
  },
  {
   "cell_type": "code",
   "execution_count": 12,
   "id": "7fd37857",
   "metadata": {},
   "outputs": [
    {
     "name": "stdout",
     "output_type": "stream",
     "text": [
      "pentagonal: 1 > 1\n",
      "pentagonal: 2 > 6\n",
      "pentagonal: 3 > 16\n",
      "pentagonal: 8 > 141\n",
      "pentagonal: 1418 > 5023266\n"
     ]
    }
   ],
   "source": [
    "print(pentagonal(1))\n",
    "print(pentagonal(2))\n",
    "print(pentagonal(3))\n",
    "print(pentagonal(8))\n",
    "print(pentagonal(1418))"
   ]
  },
  {
   "cell_type": "markdown",
   "id": "a27a9601",
   "metadata": {},
   "source": [
    "#3.Given the month and year as numbers, return whether that month contains a Friday 13th.(i.e You can check Python's datetime module)\n",
    "Examples:\n",
    "has_friday_13(3, 2020) ➞ True\n",
    "has_friday_13(10, 2017) ➞ True\n",
    "has_friday_13(1, 1985) ➞ False"
   ]
  },
  {
   "cell_type": "code",
   "execution_count": 13,
   "id": "9c045760",
   "metadata": {},
   "outputs": [],
   "source": [
    "import datetime\n",
    "\n",
    "def Friday_13(month,year):\n",
    "    output = False\n",
    "    if datetime.datetime(year,month,13).strftime(\"%A\") == \"Friday\":\n",
    "        output = True\n",
    "    return f\"Friday: {output}\""
   ]
  },
  {
   "cell_type": "code",
   "execution_count": 14,
   "id": "2f04cf08",
   "metadata": {},
   "outputs": [
    {
     "name": "stdout",
     "output_type": "stream",
     "text": [
      "Friday: False\n",
      "Friday: False\n",
      "Friday: False\n",
      "Friday: True\n",
      "Friday: False\n",
      "Friday: True\n"
     ]
    }
   ],
   "source": [
    "print(Friday_13(7,2000))\n",
    "print(Friday_13(6,2004))\n",
    "print(Friday_13(8,4050))\n",
    "print(Friday_13(12,5050))\n",
    "print(Friday_13(1,1600))\n",
    "print(Friday_13(3,2020))"
   ]
  },
  {
   "cell_type": "markdown",
   "id": "043f9706",
   "metadata": {},
   "source": [
    "4.Write a regular expression that will help us count how many bad cookies are produced every day. You must use RegEx negative lookbehind.\n",
    "Examples:\n",
    "lst = [\"bad cookie\", \"good cookie\", \"bad cookie\", \"good cookie\", \"good cookie\"]\n",
    "pattern = \"yourregularexpressionhere\"\n",
    "len(re.findall(pattern, \", \".join(lst))) ➞ 2"
   ]
  },
  {
   "cell_type": "code",
   "execution_count": 15,
   "id": "8d3c7585",
   "metadata": {},
   "outputs": [],
   "source": [
    "import re\n",
    "\n",
    "def negative_cookie(lst):\n",
    "    pattern = r\"(?<!good)\\scookie\"# Regex Negative lookbehind expression\n",
    "    data = len(re.findall(pattern,\" \".join(lst)))\n",
    "    return f\"Number of Bad cookies produced per day: {data}\""
   ]
  },
  {
   "cell_type": "code",
   "execution_count": 16,
   "id": "1352dd1f",
   "metadata": {},
   "outputs": [
    {
     "name": "stdout",
     "output_type": "stream",
     "text": [
      "Number of Bad cookies produced per day: 2\n"
     ]
    }
   ],
   "source": [
    "print(negative_cookie( lst = [\"bad cookie\", \"good cookie\", \"bad cookie\", \"good cookie\", \"good cookie\"]))"
   ]
  },
  {
   "cell_type": "markdown",
   "id": "44e15f6b",
   "metadata": {},
   "source": [
    "5.. Given a list of words in the singular form, return a set of those words in the plural form if they appear more than once in the list.\n",
    "Examples:\n",
    "pluralize([\"cow\", \"pig\", \"cow\", \"cow\"]) ➞ { \"cows\", \"pig\" }\n",
    "pluralize([\"table\", \"table\", \"table\"]) ➞ { \"tables\" }\n",
    "pluralize([\"chair\", \"pencil\", \"arm\"]) ➞ { \"chair\", \"pencil\", \"arm\" }"
   ]
  },
  {
   "cell_type": "code",
   "execution_count": 17,
   "id": "2b468064",
   "metadata": {},
   "outputs": [],
   "source": [
    "def pluralize(lst):\n",
    "    output = []\n",
    "    for i in lst:\n",
    "        if lst.count(i) > 1:\n",
    "            output.append(i+\"s\")\n",
    "        else:\n",
    "            output.append(i)\n",
    "    return f\"{lst} > {set(output)}\"        "
   ]
  },
  {
   "cell_type": "code",
   "execution_count": 18,
   "id": "3662f61f",
   "metadata": {},
   "outputs": [
    {
     "name": "stdout",
     "output_type": "stream",
     "text": [
      "['cow', 'pig', 'cow', 'cow'] > {'pig', 'cows'}\n",
      "['table', 'table', 'table'] > {'tables'}\n",
      "['chair', 'pencil', 'arm'] > {'pencil', 'chair', 'arm'}\n"
     ]
    }
   ],
   "source": [
    "print(pluralize([\"cow\", \"pig\", \"cow\", \"cow\"]))\n",
    "print(pluralize([\"table\", \"table\", \"table\"]))\n",
    "print(pluralize([\"chair\", \"pencil\", \"arm\"]))"
   ]
  },
  {
   "cell_type": "markdown",
   "id": "bed382dd",
   "metadata": {},
   "source": [
    "1.Create a function to perform basic arithmetic operations that includes addition, subtraction, multiplication and division on a string number (e.g. \"12 + 24\" or \"23 - 21\" or \"12 // 12\" or \"12 * 21\")."
   ]
  },
  {
   "cell_type": "code",
   "execution_count": 19,
   "id": "686e2c3d",
   "metadata": {},
   "outputs": [],
   "source": [
    "def arithmetic_operation(o,a,b):\n",
    "    if o == \"+\":\n",
    "        return a + b\n",
    "    \n",
    "    elif o == \"-\":\n",
    "        return a - b\n",
    "    \n",
    "    elif o == \"*\":\n",
    "        return a * b\n",
    "    \n",
    "    elif o == \"//\":\n",
    "        return a // b\n",
    "    \n",
    "    else:\n",
    "        return \"invalid operator\"   "
   ]
  },
  {
   "cell_type": "code",
   "execution_count": 20,
   "id": "31a99992",
   "metadata": {},
   "outputs": [
    {
     "name": "stdout",
     "output_type": "stream",
     "text": [
      "24\n",
      "0\n",
      "144\n",
      "1\n"
     ]
    }
   ],
   "source": [
    "print(arithmetic_operation(\"+\",12,12))\n",
    "print(arithmetic_operation(\"-\",12,12))\n",
    "print(arithmetic_operation(\"*\",12,12))\n",
    "print(arithmetic_operation(\"//\",12,12))"
   ]
  },
  {
   "cell_type": "markdown",
   "id": "6f84321f",
   "metadata": {},
   "source": [
    "2.Write a function that takes the coordinates of three points in the form of a 2d array and returns the perimeter of the triangle. The given points are the vertices of a triangle on a two-dimensional plane.\n",
    "Examples:\n",
    "perimeter( [ [15, 7], [5, 22], [11, 1] ] ) ➞ 47.08\n",
    "perimeter( [ [0, 0], [0, 1], [1, 0] ] ) ➞ 3.42\n",
    "perimeter( [ [-10, -10], [10, 10 ], [-10, 10] ] ) ➞ 68.28"
   ]
  },
  {
   "cell_type": "code",
   "execution_count": 21,
   "id": "41919f79",
   "metadata": {},
   "outputs": [],
   "source": [
    "import math\n",
    "\n",
    "def perimeter(point):\n",
    "     #calculating the distance between each point\n",
    "        \n",
    "        side1 = math.sqrt((point[0][0] - point[1][0])**2 + (point[0][1]-point[1][1])**2)\n",
    "        \n",
    "        side2 = math.sqrt((point[1][0] - point[2][0])**2 + (point[1][1]-point[2][1])**2)\n",
    "        \n",
    "        side3 = math.sqrt((point[2][0] - point[0][0])**2 + (point[2][1]-point[0][1])**2)\n",
    "        \n",
    "        return side1 + side2 + side3"
   ]
  },
  {
   "cell_type": "code",
   "execution_count": 22,
   "id": "6bc07be9",
   "metadata": {},
   "outputs": [
    {
     "name": "stdout",
     "output_type": "stream",
     "text": [
      "47.107237950225354\n",
      "3.414213562373095\n",
      "68.2842712474619\n"
     ]
    }
   ],
   "source": [
    "print(perimeter([[15,8],[5,22],[11,1]]))\n",
    "print(perimeter([[0,0],[0,1],[1,0]]))\n",
    "print(perimeter([[-10,-10],[10,10],[-10,10]]))"
   ]
  },
  {
   "cell_type": "markdown",
   "id": "2530d1ce",
   "metadata": {},
   "source": [
    "3.A city skyline can be represented as a 2-D list with 1s representing buildings. In the example below, the height of the tallest building is 4 (second-most right column).\n",
    "[[0, 0, 0, 0, 0, 0], [0, 0, 0, 0, 1, 0], [0, 0, 1, 0, 1, 0], [0, 1, 1, 1, 1, 0], [1, 1, 1, 1, 1, 1]]\n",
    "Create a function that takes a skyline (2-D list of 0's and 1's) and returns the height of the tallest skyscraper.\n",
    "Examples:\n",
    "tallest_skyscraper([[0, 0, 0, 0],[0, 1, 0, 0],[0, 1, 1, 0],[1, 1, 1, 1]]) ➞ 3\n",
    "tallest_skyscraper([[0, 1, 0, 0],[0, 1, 0, 0],[0, 1, 1, 0],[1, 1, 1, 1]]) ➞ 4\n",
    "tallest_skyscraper([[0, 0, 0, 0],[0, 0, 0, 0],[1, 1, 1, 0],[1, 1, 1, "
   ]
  },
  {
   "cell_type": "code",
   "execution_count": 23,
   "id": "bfc0ce56",
   "metadata": {},
   "outputs": [],
   "source": [
    "def tallest_skyscraper(lst):\n",
    "    output = []\n",
    "    \n",
    "    for i in range(len(lst)):\n",
    "        counter = 0\n",
    "        for j in range(len(lst[i])):\n",
    "            counter += lst[j][i]\n",
    "        output.append(counter)\n",
    "        \n",
    "    return f\"tallest_skyscrape: > {max(output)}\"\n",
    "    "
   ]
  },
  {
   "cell_type": "code",
   "execution_count": 24,
   "id": "f6eb560c",
   "metadata": {},
   "outputs": [
    {
     "name": "stdout",
     "output_type": "stream",
     "text": [
      "tallest_skyscrape: > 3\n",
      "tallest_skyscrape: > 4\n",
      "tallest_skyscrape: > 2\n"
     ]
    }
   ],
   "source": [
    "        \n",
    "print(tallest_skyscraper([[0, 0, 0, 0],[0, 1, 0, 0],[0, 1, 1, 0],[1, 1, 1, 1]]))\n",
    "print(tallest_skyscraper([[0, 1, 0, 0],[0, 1, 0, 0],[0, 1, 1, 0],[1, 1, 1, 1]]))\n",
    "print(tallest_skyscraper([[0, 0, 0, 0],[0, 0, 0, 0],[1, 1, 1, 0],[1, 1, 1, 1]]))"
   ]
  },
  {
   "cell_type": "markdown",
   "id": "721e092e",
   "metadata": {},
   "source": [
    "\n",
    "    1.In mathematics, the Fibonacci numbers, commonly denoted Fn, form a sequence, called the Fibonacci sequence, such that each number is the sum of the two preceding ones, starting from 0 and 1:\n",
    "image.png\n",
    "\n",
    "The beginning of the sequence is this: 0, 1, 1, 2, 3, 5, 8, 13, 21, 34, 55, 89, 144, ...\n",
    "The function fastFib(num) returns the fibonacci number Fn, of the given num as an argument.\n",
    "Examples:\n",
    "fib_fast(5) ➞ 5\n",
    "fib_fast(10) ➞ 55\n",
    "fib_fast(20) ➞ 6765\n",
    "fib_fast(50) ➞ 12586269025"
   ]
  },
  {
   "cell_type": "code",
   "execution_count": 25,
   "id": "fa359f20",
   "metadata": {},
   "outputs": [],
   "source": [
    "def fib_fast(num):\n",
    "    if num == 0:\n",
    "        return 0\n",
    "    \n",
    "    if num == 1:\n",
    "        return 1\n",
    "    \n",
    "    else:\n",
    "        return fib_fast(num-1) + fib_fast(num-2)"
   ]
  },
  {
   "cell_type": "code",
   "execution_count": 26,
   "id": "89646f6d",
   "metadata": {},
   "outputs": [
    {
     "name": "stdout",
     "output_type": "stream",
     "text": [
      "5\n",
      "55\n",
      "6765\n"
     ]
    }
   ],
   "source": [
    "print(fib_fast(5))\n",
    "print(fib_fast(10))\n",
    "print(fib_fast(20))"
   ]
  },
  {
   "cell_type": "markdown",
   "id": "1be6e062",
   "metadata": {},
   "source": [
    "2.Create a function that takes a strings characters as ASCII and returns each characters hexadecimal value as a string.\n",
    "Examples:\n",
    "convert_to_hex(\"hello world\") ➞ \"68 65 6c 6c 6f 20 77 6f 72 6c 64\"\n",
    "convert_to_hex(\"Big Boi\") ➞ \"42 69 67 20 42 6f 69\"\n",
    "convert_to_hex(\"Marty Poppinson\") ➞ \"4d 61 72 74 79 20 50 6f 70 70 69 6e 73 6f 6e\""
   ]
  },
  {
   "cell_type": "code",
   "execution_count": 27,
   "id": "0e15c157",
   "metadata": {},
   "outputs": [],
   "source": [
    "def convert_to_hex(string):\n",
    "    output = []\n",
    "    for i in string:\n",
    "        output.append(hex(ord(i))[2:])\n",
    "    return f'{string} > {\" \".join(output)}'"
   ]
  },
  {
   "cell_type": "code",
   "execution_count": 28,
   "id": "b0eb2170",
   "metadata": {},
   "outputs": [
    {
     "name": "stdout",
     "output_type": "stream",
     "text": [
      "hello world > 68 65 6c 6c 6f 20 77 6f 72 6c 64\n",
      "Big Boi > 42 69 67 20 42 6f 69\n",
      "Marty Poppinson > 4d 61 72 74 79 20 50 6f 70 70 69 6e 73 6f 6e\n"
     ]
    }
   ],
   "source": [
    "print(convert_to_hex(\"hello world\"))\n",
    "print(convert_to_hex(\"Big Boi\"))\n",
    "print(convert_to_hex(\"Marty Poppinson\"))"
   ]
  },
  {
   "cell_type": "markdown",
   "id": "42daf98c",
   "metadata": {},
   "source": [
    "4.Write a function that takes an IP address and returns the domain name using PTR DNS records.\n",
    "Examples:\n",
    "get_domain(\"8.8.8.8\") ➞ \"dns.google\"\n",
    "get_domain(\"8.8.4.4\") ➞ \"dns.google\""
   ]
  },
  {
   "cell_type": "code",
   "execution_count": 29,
   "id": "4f0d583a",
   "metadata": {},
   "outputs": [],
   "source": [
    "import socket\n",
    "\n",
    "def get_domain(ip):\n",
    "    output = socket.gethostbyaddr(ip)\n",
    "    \n",
    "    return f\"{ip} > {output[0]}\""
   ]
  },
  {
   "cell_type": "code",
   "execution_count": 30,
   "id": "81f1b69a",
   "metadata": {},
   "outputs": [
    {
     "name": "stdout",
     "output_type": "stream",
     "text": [
      "8.8.8.8 > dns.google\n",
      "8.8.4.4 > dns.google\n"
     ]
    }
   ],
   "source": [
    "print(get_domain(\"8.8.8.8\"))\n",
    "\n",
    "print(get_domain(\"8.8.4.4\"))"
   ]
  },
  {
   "cell_type": "markdown",
   "id": "b0e45a19",
   "metadata": {},
   "source": [
    "5.Create a function that takes an integer n and returns the factorial of factorials. See below examples for a better understanding:\n",
    "Examples:\n",
    "fact_of_fact(4) ➞ 288\n",
    "# 4! * 3! * 2! * 1! = 288\n",
    "fact_of_fact(5) ➞ 34560\n",
    "fact_of_fact(6) ➞ 24883200"
   ]
  },
  {
   "cell_type": "code",
   "execution_count": 31,
   "id": "4d0ae56e",
   "metadata": {},
   "outputs": [],
   "source": [
    "def fact_of_fact(num):\n",
    "    if num == 0:\n",
    "        return 1\n",
    "    else:\n",
    "        return num * fact_of_fact(num-1)\n",
    "    "
   ]
  },
  {
   "cell_type": "code",
   "execution_count": 32,
   "id": "041f3ea4",
   "metadata": {},
   "outputs": [
    {
     "data": {
      "text/plain": [
       "24"
      ]
     },
     "execution_count": 32,
     "metadata": {},
     "output_type": "execute_result"
    }
   ],
   "source": [
    "fact_of_fact(4)"
   ]
  },
  {
   "cell_type": "markdown",
   "id": "b2038f7a",
   "metadata": {},
   "source": [
    "2.Create a function that returns the majority vote in a list. A majority vote is an element that occurs > N/2 times in a list (where N is the length of the list).\n",
    "Examples:\n",
    "majority_vote([\"A\", \"A\", \"B\"]) ➞ \"A\"\n",
    "majority_vote([\"A\", \"A\", \"A\", \"B\", \"C\", \"A\"]) ➞ \"A\"\n",
    "majority_vote([\"A\", \"B\", \"B\", \"A\", \"C\", \"C\"]) ➞ None"
   ]
  },
  {
   "cell_type": "code",
   "execution_count": 33,
   "id": "ceb4b193",
   "metadata": {},
   "outputs": [],
   "source": [
    "def majority_vote(lst):\n",
    "    vote = []\n",
    "    for i in lst:\n",
    "        if lst.count(i) > 1:\n",
    "            vote.append(i)\n",
    "\n",
    "    return  set(vote)\n",
    "            "
   ]
  },
  {
   "cell_type": "code",
   "execution_count": 34,
   "id": "de3e6d96",
   "metadata": {},
   "outputs": [
    {
     "name": "stdout",
     "output_type": "stream",
     "text": [
      "{'A'}\n",
      "{'A'}\n",
      "{'A', 'C', 'B'}\n"
     ]
    }
   ],
   "source": [
    "print(majority_vote([\"A\", \"A\", \"B\"]))\n",
    "print(majority_vote([\"A\", \"A\", \"A\", \"B\", \"C\", \"A\"]))\n",
    "print(majority_vote([\"A\", \"B\", \"B\", \"A\", \"C\", \"C\"]))"
   ]
  },
  {
   "cell_type": "markdown",
   "id": "59702f06",
   "metadata": {},
   "source": [
    "3.Create a function that takes a string txt and censors any word from a given list lst. The text removed must be replaced by the given character char.\n",
    "Examples:\n",
    "censor_string(\"Today is a Wednesday!\", [\"Today\", \"a\"], \"-\") ➞ \"----- is - Wednesday!\"\n",
    "censor_string(\"The cow jumped over the moon.\", [\"cow\", \"over\"], \"*\"), \"The *** jumped **** the moon.\")\n",
    "censor_string(\"Why did the chicken cross the road ?\", [\"Did\", \"chicken\", \"road\"], \"*\") ➞ \"Why *** the ******* cross the ****?\""
   ]
  },
  {
   "cell_type": "code",
   "execution_count": 35,
   "id": "52d9e3f6",
   "metadata": {},
   "outputs": [],
   "source": [
    "def censor_string(string,l,c):\n",
    "    for i in l:\n",
    "        output = string.replace(i,c*len(i))\n",
    "    return f\"{string} > {output}\"\n",
    "   \n",
    "        "
   ]
  },
  {
   "cell_type": "code",
   "execution_count": 36,
   "id": "7f27d812",
   "metadata": {},
   "outputs": [
    {
     "name": "stdout",
     "output_type": "stream",
     "text": [
      "Today is a Wednesday! > Tod-y is - Wednesd-y!\n"
     ]
    }
   ],
   "source": [
    "print(censor_string(\"Today is a Wednesday!\", [\"Today\", \"a\"], \"-\"))"
   ]
  },
  {
   "cell_type": "markdown",
   "id": "6f369d94",
   "metadata": {},
   "source": [
    "4.In mathematics a Polydivisible Number (or magic number) is a number in a given number base with digits abcde... that has the following properties:\n",
    "Its first digit a is not 0.\n",
    "The number formed by its first two digits ab is a multiple of 2.\n",
    "The number formed by its first three digits abc is a multiple of 3.\n",
    "The number formed by its first four digits abcd is a multiple of 4.\n",
    "Create a function which takes an integer n and returns True if the given number is a Polydivisible Number and False otherwise."
   ]
  },
  {
   "cell_type": "code",
   "execution_count": 37,
   "id": "19b5ebd6",
   "metadata": {},
   "outputs": [],
   "source": [
    "def is_polydivisible(num):\n",
    "    output = False\n",
    "    num_t = str(num)\n",
    "    for i in range(len(num_t)):\n",
    "        if (int(num_t[:i+1])%(i+1) == 0):\n",
    "            output = True\n",
    "        else:\n",
    "            output = False\n",
    "            break\n",
    "    return f\"{num} > > {output}\"\n",
    "            "
   ]
  },
  {
   "cell_type": "code",
   "execution_count": 38,
   "id": "3bb2e58f",
   "metadata": {},
   "outputs": [
    {
     "name": "stdout",
     "output_type": "stream",
     "text": [
      "1234 > > False\n",
      "1232 > > True\n"
     ]
    }
   ],
   "source": [
    "print(is_polydivisible(1234))\n",
    "print(is_polydivisible(1232))"
   ]
  },
  {
   "cell_type": "markdown",
   "id": "c38e0947",
   "metadata": {},
   "source": [
    "5.. Create a function that takes a list of numbers and returns the sum of all prime numbers in the list.\n",
    "Examples:\n",
    "sum_primes([1, 2, 3, 4, 5, 6, 7, 8, 9, 10]) ➞ 17\n",
    "sum_primes([2, 3, 4, 11, 20, 50, 71]) ➞ 87\n",
    "sum_primes([]) ➞ None"
   ]
  },
  {
   "cell_type": "code",
   "execution_count": 39,
   "id": "9e2a632d",
   "metadata": {},
   "outputs": [],
   "source": [
    "def sum_primes(lst):\n",
    "    counter = 0\n",
    "    for i in lst:\n",
    "        if i > 1:\n",
    "            for j in range(2,i):\n",
    "                if i%j == 0:\n",
    "                    break\n",
    "            else:\n",
    "                counter += i\n",
    "    if counter == 0:\n",
    "        return None\n",
    "    return f\"{lst} >> {counter}\""
   ]
  },
  {
   "cell_type": "code",
   "execution_count": 40,
   "id": "9cf07aaa",
   "metadata": {},
   "outputs": [
    {
     "name": "stdout",
     "output_type": "stream",
     "text": [
      "[1, 2, 3, 4, 5, 6, 7, 8, 9, 10] >> 17\n",
      "[2, 3, 4, 11, 20, 50, 71] >> 87\n",
      "None\n"
     ]
    }
   ],
   "source": [
    "print(sum_primes([1, 2, 3, 4, 5, 6, 7, 8, 9, 10]))\n",
    "print(sum_primes([2, 3, 4, 11, 20, 50, 71]))\n",
    "print(sum_primes([]))\n"
   ]
  },
  {
   "cell_type": "markdown",
   "id": "2857c701",
   "metadata": {},
   "source": [
    "1. You are given two strings s and t. String t is generated by randomly shuffling string s and then adding one more letter at a random position. Return the letter that was added to t.\n",
    "Examples:\n",
    "find_the_difference(\"abcd\", \"abcde\") ➞ \"e\"\n",
    "find_the_difference(\"\", \"y\") ➞ \"y\"\n",
    "find_the_difference(\"ae\", \"aea\") ➞ \"a\""
   ]
  },
  {
   "cell_type": "code",
   "execution_count": 41,
   "id": "0ea79ed7",
   "metadata": {},
   "outputs": [],
   "source": [
    "def find_difference(str1 , str2):\n",
    "    s1 = 0\n",
    "    s2 = 0\n",
    "    for i in str1:\n",
    "        s1 += ord(i)\n",
    "    for i in str2:\n",
    "        s2 += ord(i)\n",
    "    return f\"{str1,str2} >>{chr(s2 - s1)}\""
   ]
  },
  {
   "cell_type": "code",
   "execution_count": 42,
   "id": "327f1a3b",
   "metadata": {},
   "outputs": [
    {
     "name": "stdout",
     "output_type": "stream",
     "text": [
      "('abcd', 'abcde') >>e\n"
     ]
    }
   ],
   "source": [
    "print(find_difference(\"abcd\", \"abcde\"))\n"
   ]
  },
  {
   "cell_type": "markdown",
   "id": "73946e62",
   "metadata": {},
   "source": [
    "2. Given a function that accepts unlimited arguments, check and count how many data types are in those arguments. Finally return the total in a list.\n",
    "List order is: [int, str, bool, list, tuple, dictionary]\n",
    "Examples:\n",
    "count_datatypes(1, 45, \"Hi\", False) ➞ [2, 1, 1, 0, 0, 0]\n",
    "count_datatypes([10, 20], (\"t\", \"Ok\"), 2, 3, 1) ➞ [3, 0, 0, 1, 1, 0]\n",
    "count_datatypes(\"Hello\", \"Bye\", True, True, False, {\"1\": \"One\", \"2\": \"Two\"}, [1, 3], {\"Brayan\": 18}, 25, 23) ➞ [2, 2, 3, 1, 0, 2]\n",
    "count_datatypes(4, 21, (\"ES\", \"EN\"), (\"a\", \"b\"), False, [1, 2, 3], [4, 5, 6]) ➞ [2, 0, 1, 2, 2, 0]"
   ]
  },
  {
   "cell_type": "code",
   "execution_count": 43,
   "id": "ce56610d",
   "metadata": {},
   "outputs": [],
   "source": [
    "\n",
    "def count_datatype(*args):\n",
    "    counter = [0, 0, 0, 0, 0, 0]\n",
    "    \n",
    "    for i in args:\n",
    "        if isinstance(i,int):\n",
    "            counter[0] += 1\n",
    "            \n",
    "        elif isinstance(i,str):\n",
    "            counter[1] += 1\n",
    "            \n",
    "            \n",
    "        elif isinstance(i,bool):\n",
    "            counter[2] += 1\n",
    "            \n",
    "        elif isinstance(i,dict):\n",
    "            counter[3] += 1\n",
    "            \n",
    "        elif isinstance(i,list):\n",
    "            counter[4] += 1\n",
    "            \n",
    "        elif isinstance(i,tuple):\n",
    "            counter[5] += 1\n",
    "            \n",
    "        elif isinstance(i,complex):\n",
    "            counter[6] += 1\n",
    "    return f\"{args} > {counter}\"     "
   ]
  },
  {
   "cell_type": "code",
   "execution_count": 44,
   "id": "d924d8d4",
   "metadata": {},
   "outputs": [
    {
     "name": "stdout",
     "output_type": "stream",
     "text": [
      "(1, 45, 'Hi', False) > [3, 1, 0, 0, 0, 0]\n"
     ]
    }
   ],
   "source": [
    "print(count_datatype(1, 45, \"Hi\", False))"
   ]
  },
  {
   "cell_type": "markdown",
   "id": "83ad53b9",
   "metadata": {},
   "source": [
    "1. Write a function that counts how many concentric layers a rug.\n",
    "Examples:\n",
    "count_layers([\"AAAA\",\"ABBA\",\"AAAA\"]) ➞ 2\n",
    "count_layers([\"AAAAAAAAA\",\"ABBBBBBBA\",\"ABBAAABBA\",\"ABBBBBBBA\",\"AAAAAAAAA\"]) ➞ 3\n",
    "count_layers([\"AAAAAAAAAAA\",\"AABBBBBBBAA\",\"AABCCCCCBAA\",\"AABCAAACBAA\",\"AABCADACBAA\",\"AABCAAACBAA\",\"AABCCCCCBAA\",\"AABBBBBBBAA\",\"AAAAAAAAAAA\"]) ➞ 5"
   ]
  },
  {
   "cell_type": "code",
   "execution_count": 45,
   "id": "959f8971",
   "metadata": {},
   "outputs": [],
   "source": [
    "def count_layers(lst):\n",
    "    output = []\n",
    "    for i in lst:\n",
    "        if i not in output:\n",
    "            output.append(i)\n",
    "            \n",
    "    return f\"{lst} > {len(output)}\""
   ]
  },
  {
   "cell_type": "code",
   "execution_count": 46,
   "id": "a558f099",
   "metadata": {},
   "outputs": [
    {
     "name": "stdout",
     "output_type": "stream",
     "text": [
      "['AAAA', 'ABBA', 'AAAA'] > 2\n",
      "['AAAAAAAAA', 'ABBBBBBBA', 'ABBAAABBA', 'ABBBBBBBA', 'AAAAAAAAA'] > 3\n",
      "['AAAAAAAAAAA', 'AABBBBBBBAA', 'AABCCCCCBAA', 'AABCAAACBAA', 'AABCADACBAA'] > 5\n"
     ]
    }
   ],
   "source": [
    "print(count_layers([\"AAAA\",\"ABBA\",\"AAAA\"]))\n",
    "print(count_layers([\"AAAAAAAAA\",\"ABBBBBBBA\",\"ABBAAABBA\",\"ABBBBBBBA\",\"AAAAAAAAA\"]))\n",
    "print(count_layers([\"AAAAAAAAAAA\",\"AABBBBBBBAA\",\"AABCCCCCBAA\",\"AABCAAACBAA\",\"AABCADACBAA\"]))"
   ]
  },
  {
   "cell_type": "code",
   "execution_count": 47,
   "id": "6c0af021",
   "metadata": {},
   "outputs": [
    {
     "data": {
      "text/plain": [
       "\"['aaaa', 'aaabcd', 'aaaa'] > 2\""
      ]
     },
     "execution_count": 47,
     "metadata": {},
     "output_type": "execute_result"
    }
   ],
   "source": [
    "count_layers([\"aaaa\",\"aaabcd\",\"aaaa\"])"
   ]
  },
  {
   "cell_type": "markdown",
   "id": "86a02cb5",
   "metadata": {},
   "source": [
    "2. There are many different styles of music and many albums exhibit multiple styles. Create a function that takes a list of musical styles from albums and returns how many styles are unique.\n",
    "Examples:\n",
    "unique_styles([ \"Dub,Dancehall\", \"Industrial,Heavy Metal\", \"Techno,Dubstep\", \"Synth-pop,Euro-Disco\", \"Industrial,Techno,Minimal\" ]) ➞ 9\n",
    "unique_styles([ \"Soul\", \"House,Folk\", \"Trance,Downtempo,Big Beat,House\", \"Deep House\", \"Soul\" ]) ➞ 7"
   ]
  },
  {
   "cell_type": "code",
   "execution_count": 48,
   "id": "1c547d08",
   "metadata": {},
   "outputs": [],
   "source": [
    "def unique_style(lst):\n",
    "    output = []\n",
    "    for i in lst:\n",
    "        for j in i.split(\",\"):\n",
    "            output.append(j)\n",
    "    return f\"{lst} > {len(set(output))}\"\n",
    "            \n",
    "    "
   ]
  },
  {
   "cell_type": "code",
   "execution_count": 49,
   "id": "8195fab6",
   "metadata": {},
   "outputs": [
    {
     "data": {
      "text/plain": [
       "\"['Dub,Dancehall', 'Industrial,Heavy Metal', 'Techno,Dubstep', 'Synth-pop,Euro-Disco', 'Industrial,Techno,Minimal'] > 9\""
      ]
     },
     "execution_count": 49,
     "metadata": {},
     "output_type": "execute_result"
    }
   ],
   "source": [
    "unique_style([ \"Dub,Dancehall\", \"Industrial,Heavy Metal\", \"Techno,Dubstep\", \"Synth-pop,Euro-Disco\", \"Industrial,Techno,Minimal\" ])"
   ]
  },
  {
   "cell_type": "code",
   "execution_count": 50,
   "id": "d79c2f1b",
   "metadata": {},
   "outputs": [
    {
     "data": {
      "text/plain": [
       "\"['Soul', 'House,Folk', 'Trance,Downtempo,Big Beat,House', 'Deep House', 'Soul'] > 7\""
      ]
     },
     "execution_count": 50,
     "metadata": {},
     "output_type": "execute_result"
    }
   ],
   "source": [
    "unique_style([ \"Soul\", \"House,Folk\", \"Trance,Downtempo,Big Beat,House\", \"Deep House\", \"Soul\" ])"
   ]
  },
  {
   "cell_type": "code",
   "execution_count": 51,
   "id": "6022cbb6",
   "metadata": {},
   "outputs": [
    {
     "data": {
      "text/plain": [
       "\"['yash,isha', 'ankita,patade', 'yash,isha'] > 4\""
      ]
     },
     "execution_count": 51,
     "metadata": {},
     "output_type": "execute_result"
    }
   ],
   "source": [
    "unique_style([\"yash,isha\",\"ankita,patade\",\"yash,isha\"])"
   ]
  },
  {
   "cell_type": "markdown",
   "id": "4daf46fd",
   "metadata": {},
   "source": [
    "5. Given a number, return the difference between the maximum and minimum numbers that can be formed when the digits are rearranged.\n",
    "Examples:\n",
    "rearranged_difference(972882) ➞ 760833\n",
    "# 988722 - 227889 = 760833\n",
    "rearranged_difference(3320707) ➞ 7709823\n",
    "# 7733200 - 23377 = 7709823\n",
    "rearranged_difference(90010) ➞ 90981\n",
    "# 91000 - 19 = 90981"
   ]
  },
  {
   "cell_type": "code",
   "execution_count": 52,
   "id": "4ef350c5",
   "metadata": {},
   "outputs": [],
   "source": [
    "def rearranged_difference(num):\n",
    "    output = []\n",
    "    \n",
    "    for i in str(num):\n",
    "        output.append(i)\n",
    "    min_num = int(\"\".join(sorted(output)))\n",
    "    max_num = int(\"\".join(sorted(output,reverse=True)))\n",
    "    return (f\"{num} > {max_num} - {min_num} > {max_num-min_num}\")      "
   ]
  },
  {
   "cell_type": "code",
   "execution_count": 53,
   "id": "10ed38ee",
   "metadata": {},
   "outputs": [
    {
     "name": "stdout",
     "output_type": "stream",
     "text": [
      "1452789 > 9875421 - 1245789 > 8629632\n",
      "3320707 > 7733200 - 23377 > 7709823\n",
      "90010 > 91000 - 19 > 90981\n",
      "972882 > 988722 - 227889 > 760833\n"
     ]
    }
   ],
   "source": [
    "print(rearranged_difference(1452789))\n",
    "print(rearranged_difference(3320707))\n",
    "print(rearranged_difference(90010))\n",
    "print(rearranged_difference(972882))"
   ]
  },
  {
   "cell_type": "markdown",
   "id": "051cb362",
   "metadata": {},
   "source": [
    "1. Given a sentence as txt, return True if any two adjacent words have this property: One word ends with a vowel, while the word immediately after begins with a vowel (a e i o u).\n",
    "Examples:\n",
    "vowel_links(\"a very large appliance\") ➞ True\n",
    "vowel_links(\"go to edabit\") ➞ True\n",
    "vowel_links(\"an open fire\") ➞ False\n",
    "vowel_links(\"a sudden applause\") ➞ False"
   ]
  },
  {
   "cell_type": "code",
   "execution_count": 54,
   "id": "86910ef9",
   "metadata": {},
   "outputs": [],
   "source": [
    "def vowel_links(txt):\n",
    "    words = txt.split(\" \")\n",
    "    for i in range(len(words)-1):\n",
    "        if words[i][-1] in \"aeiou\" and words[i+1][0] in \"aeiou\":\n",
    "            return f\"{txt} > {True}\"\n",
    "    return f\"{txt} > {False}\""
   ]
  },
  {
   "cell_type": "code",
   "execution_count": 55,
   "id": "0f3bccc8",
   "metadata": {},
   "outputs": [
    {
     "name": "stdout",
     "output_type": "stream",
     "text": [
      "a very large appliance > True\n",
      "go to edabit > True\n",
      "an open fire > False\n",
      "a sudden applause > False\n"
     ]
    }
   ],
   "source": [
    "print(vowel_links(\"a very large appliance\")) \n",
    "print(vowel_links(\"go to edabit\")) \n",
    "print(vowel_links(\"an open fire\")) \n",
    "print(vowel_links(\"a sudden applause\"))"
   ]
  },
  {
   "cell_type": "markdown",
   "id": "a8a1428e",
   "metadata": {},
   "source": [
    "2. You are given three inputs: a string, one letter, and a second letter. Write a function that returns True if every instance of the first letter occurs before every instance of the second letter.\n",
    "Examples:\n",
    "first_before_second(\"a rabbit jumps joyfully\", \"a\", \"j\") ➞ True\n",
    "# Every instance of \"a\" occurs before every instance of \"j\".\n",
    "\n",
    "first_before_second(\"knaves knew about waterfalls\", \"k\", \"w\") ➞ True\n",
    "\n",
    "first_before_second(\"happy birthday\", \"a\", \"y\") ➞ False\n",
    "# The \"a\" in \"birthday\" occurs after the \"y\" in \"happy\".\n",
    "\n",
    "first_before_second(\"precarious kangaroos\", \"k\", \"a\") ➞ False"
   ]
  },
  {
   "cell_type": "code",
   "execution_count": 56,
   "id": "39d5dc68",
   "metadata": {},
   "outputs": [],
   "source": [
    "def first_before_second(txt,l1,l2):\n",
    "    index1 = txt.find(l1)\n",
    "    index2 = txt.find(l2)\n",
    "    if index1 == -1 or index2 == -1:\n",
    "        return f\"{txt,l1,l2} > {False}\"\n",
    "    return f\"{txt,l1,l2} > {index1 < index2}\"    "
   ]
  },
  {
   "cell_type": "code",
   "execution_count": 57,
   "id": "b85ef658",
   "metadata": {},
   "outputs": [
    {
     "name": "stdout",
     "output_type": "stream",
     "text": [
      "('a rabbit jumps joyfully', 'a', 'u') > True\n",
      "('knaves knew about waterfalls', 'k', 'w') > True\n",
      "('happy birthday', 'a', 'y') > True\n",
      "('yash mohite is a good boy', 'a', 'i') > True\n",
      "('precarious kangaroos', 'k', 'a') > False\n"
     ]
    }
   ],
   "source": [
    "print(first_before_second(\"a rabbit jumps joyfully\", \"a\", \"u\"))\n",
    "print(first_before_second(\"knaves knew about waterfalls\", \"k\", \"w\"))\n",
    "print(first_before_second(\"happy birthday\", \"a\", \"y\"))\n",
    "print(first_before_second(\"yash mohite is a good boy\",\"a\",\"i\"))\n",
    "print(first_before_second(\"precarious kangaroos\", \"k\", \"a\"))"
   ]
  },
  {
   "cell_type": "markdown",
   "id": "ebc44f03",
   "metadata": {},
   "source": [
    "3. Create a function that returns the characters from a list or string r on odd or even positions, depending on the specifier s. The specifier will be \"odd\" for items on odd positions (1, 3, 5, ...) and \"even\" for items on even positions (2, 4, 6, ...).\n",
    "Examples:\n",
    "char_at_pos([2, 4, 6, 8, 10], \"even\") ➞ [4, 8]\n",
    "# 4 & 8 occupy the 2nd & 4th positions\n",
    "\n",
    "char_at_pos(\"EDABIT\", \"odd\") ➞ \"EAI\"\n",
    "# \"E\", \"A\" and \"I\" occupy the 1st, 3rd and 5th positions\n",
    "\n",
    "char_at_pos([\"A\", \"R\", \"B\", \"I\", \"T\", \"R\", \"A\", \"R\", \"I\", \"L\", \"Y\"], \"odd\") ➞ [\"A\", \"B\", \"T\", \"A\", \"I\", \"Y\"]"
   ]
  },
  {
   "cell_type": "code",
   "execution_count": 58,
   "id": "911b39e3",
   "metadata": {},
   "outputs": [],
   "source": [
    "def char_at_pos(lst,mode):\n",
    "    output = []\n",
    "    \n",
    "    for i in range(len(lst)):\n",
    "        if mode == \"even\" and i%2 == 0:\n",
    "            output.append(lst[i])\n",
    "        elif mode == \"odd\" and i%2 != 0:\n",
    "            output.append(lst[i])\n",
    "    return f\"{lst,mode} > {output}\""
   ]
  },
  {
   "cell_type": "code",
   "execution_count": 59,
   "id": "a5128045",
   "metadata": {},
   "outputs": [
    {
     "name": "stdout",
     "output_type": "stream",
     "text": [
      "([2, 4, 6, 8, 10], 'even') > [2, 6, 10]\n",
      "('EDABIT', 'odd') > ['D', 'B', 'T']\n",
      "(['A', 'R', 'B', 'I', 'T', 'R', 'A', 'R', 'I', 'L', 'Y'], 'odd') > ['R', 'I', 'R', 'R', 'L']\n"
     ]
    }
   ],
   "source": [
    "print(char_at_pos([2, 4, 6, 8, 10], \"even\"))\n",
    "print(char_at_pos(\"EDABIT\", \"odd\"))\n",
    "print(char_at_pos([\"A\", \"R\", \"B\", \"I\", \"T\", \"R\", \"A\", \"R\", \"I\", \"L\", \"Y\"], \"odd\"))"
   ]
  },
  {
   "cell_type": "code",
   "execution_count": null,
   "id": "8e6f90ea",
   "metadata": {},
   "outputs": [],
   "source": []
  },
  {
   "cell_type": "code",
   "execution_count": 60,
   "id": "4cf5cef2",
   "metadata": {},
   "outputs": [],
   "source": [
    "def even_odd(number):\n",
    "    even = []\n",
    "    odd = []\n",
    "    \n",
    "    for i in range(len(number)):\n",
    "        if i%2 == 0:\n",
    "            even.append(number[i])\n",
    "            \n",
    "        else:\n",
    "            odd.append(number[i])\n",
    "    return f\"even numbers: {even}  odd number: {odd}\""
   ]
  },
  {
   "cell_type": "code",
   "execution_count": 61,
   "id": "234b4b32",
   "metadata": {},
   "outputs": [
    {
     "data": {
      "text/plain": [
       "\"even numbers: ['E', 'A', 'I']  odd number: ['D', 'B', 'T']\""
      ]
     },
     "execution_count": 61,
     "metadata": {},
     "output_type": "execute_result"
    }
   ],
   "source": [
    "even_odd('EDABIT')"
   ]
  },
  {
   "cell_type": "code",
   "execution_count": 62,
   "id": "7db1c653",
   "metadata": {},
   "outputs": [
    {
     "data": {
      "text/plain": [
       "\"even numbers: ['Y', 'S', ' ', 'O', 'I', 'E']  odd number: ['A', 'H', 'M', 'H', 'T']\""
      ]
     },
     "execution_count": 62,
     "metadata": {},
     "output_type": "execute_result"
    }
   ],
   "source": [
    "even_odd(\"YASH MOHITE\")"
   ]
  },
  {
   "cell_type": "code",
   "execution_count": 63,
   "id": "778d4450",
   "metadata": {},
   "outputs": [
    {
     "data": {
      "text/plain": [
       "'even numbers: [2, 6, 10]  odd number: [4, 8]'"
      ]
     },
     "execution_count": 63,
     "metadata": {},
     "output_type": "execute_result"
    }
   ],
   "source": [
    "even_odd([2, 4, 6, 8, 10])"
   ]
  },
  {
   "cell_type": "markdown",
   "id": "08ffeb52",
   "metadata": {},
   "source": [
    "4. Write a function that returns the greatest common divisor of all list elements. If the greatest common divisor is 1, return 1.\n",
    "Examples:\n",
    "GCD([10, 20, 40]) ➞ 10\n",
    "GCD([1, 2, 3, 100]) ➞ 1\n",
    "GCD([1024, 192, 2048, 512]) ➞ 64"
   ]
  },
  {
   "cell_type": "code",
   "execution_count": 64,
   "id": "7e8a4f6a",
   "metadata": {},
   "outputs": [],
   "source": [
    "from math  import gcd\n",
    "import functools\n",
    "def GCD(lst):\n",
    "    output = functools.reduce(gcd,lst) if functools.reduce(gcd,lst) != 1 else 1\n",
    "    return f\"{lst} >> {output}\""
   ]
  },
  {
   "cell_type": "code",
   "execution_count": 65,
   "id": "8fa87b08",
   "metadata": {},
   "outputs": [
    {
     "name": "stdout",
     "output_type": "stream",
     "text": [
      "[10, 20, 40] >> 10\n",
      "[1, 2, 3, 100] >> 1\n",
      "[1024, 192, 2048, 512] >> 64\n"
     ]
    }
   ],
   "source": [
    "print(GCD([10,20,40]))\n",
    "print(GCD([1,2,3,100]))\n",
    "print(GCD([1024, 192, 2048, 512]))"
   ]
  },
  {
   "cell_type": "markdown",
   "id": "36063837",
   "metadata": {},
   "source": [
    "5. A number/string is a palindrome if the digits/characters are the same when read both forward and backward. Examples include \"racecar\" and 12321. Given a positive number n, check if n or the binary representation of n is palindromic. Return the following:\n",
    "\"Decimal only.\" if only n is a palindrome.\n",
    "\"Binary only.\" if only the binary representation of n is a palindrome.\n",
    "\"Decimal and binary.\" if both are palindromes.\n",
    "\"Neither!\" if neither are palindromes.\n",
    "Examples:\n",
    "\n",
    "palindrome_type(1306031) ➞ \"Decimal only.\"\n",
    "# decimal = 1306031\n",
    "# binary = \"100111110110110101111\"\n",
    "\n",
    "palindrome_type(427787) ➞ \"Binary only.\"\n",
    "# decimal = 427787\n",
    "# binary = \"1101000011100001011\"\n",
    "\n",
    "palindrome_type(313) ➞ \"Decimal and binary.\"\n",
    "# decimal = 313\n",
    "# binary = 100111001\n",
    "\n",
    "palindrome_type(934) ➞ \"Neither!\"\n",
    "# decimal = 934\n",
    "# binary = \"1110100110\""
   ]
  },
  {
   "cell_type": "code",
   "execution_count": 66,
   "id": "b2502c21",
   "metadata": {},
   "outputs": [],
   "source": [
    "def palindrome_type(num):\n",
    "    decimal = str(num)\n",
    "    binary = bin(num)\n",
    "    \n",
    "    if decimal == decimal[::-1] and binary == binary[::-1]:\n",
    "        return \"Decimal and Binary\"\n",
    "    elif decimal == decimal[::-1]:\n",
    "        return \"Decimal Only\"\n",
    "    elif binary == binary[::-1]:\n",
    "        return \"Binary Only\"\n",
    "    else:\n",
    "        return \"Neither\""
   ]
  },
  {
   "cell_type": "code",
   "execution_count": 67,
   "id": "34cbdb7b",
   "metadata": {},
   "outputs": [
    {
     "name": "stdout",
     "output_type": "stream",
     "text": [
      "Decimal Only\n",
      "Neither\n",
      "Decimal Only\n",
      "Neither\n"
     ]
    }
   ],
   "source": [
    "print(palindrome_type(1306031))\n",
    "print(palindrome_type(427787))\n",
    "print(palindrome_type(313))\n",
    "print(palindrome_type(934))"
   ]
  },
  {
   "cell_type": "markdown",
   "id": "ecfc82af",
   "metadata": {},
   "source": [
    "1. YouTube offers different playback speed options for users. This allows users to increase or decrease the speed of the video content. Given the actual duration and playback speed of the video, calculate the playback duration of the video.\n",
    "Examples:\n",
    "playback_duration(\"00:30:00\", 2) ➞ \"00:15:00\"\n",
    "playback_duration(\"01:20:00\", 1.5) ➞ \"00:53:20\"\n",
    "playback_duration(\"51:20:09\", 0.5) ➞ \"102:40:18\""
   ]
  },
  {
   "cell_type": "code",
   "execution_count": 68,
   "id": "187c0760",
   "metadata": {},
   "outputs": [],
   "source": [
    "from datetime import timedelta\n",
    "def playback_duration(duration,speed):\n",
    "    actual_duration = timedelta(hours = int(duration.split(\":\")[0]),\n",
    "                               minutes = int(duration.split(\":\")[1]),\n",
    "                                seconds = int(duration.split(\":\")[2]))\n",
    "    playback_duration = actual_duration / speed\n",
    "    \n",
    "    return f\"{duration,speed} >> {str(playback_duration)}\""
   ]
  },
  {
   "cell_type": "code",
   "execution_count": 69,
   "id": "4eb26650",
   "metadata": {},
   "outputs": [
    {
     "name": "stdout",
     "output_type": "stream",
     "text": [
      "('00:30:00', 2) >> 0:15:00\n",
      "('01:20:00', 1.5) >> 0:53:20\n",
      "('51:20:09', 0.5) >> 4 days, 6:40:18\n",
      "('10:35:00', 10) >> 1:03:30\n"
     ]
    }
   ],
   "source": [
    "print(playback_duration(\"00:30:00\", 2))\n",
    "print(playback_duration(\"01:20:00\",1.5))\n",
    "print(playback_duration(\"51:20:09\", 0.5))\n",
    "print(playback_duration(\"10:35:00\",10))"
   ]
  },
  {
   "cell_type": "markdown",
   "id": "f81a338a",
   "metadata": {},
   "source": [
    "2. We needs your help to construct a building which will be a pile of n cubes. The cube at the bottom will have a volume of n^3, the cube above will have volume of (n-1)^3 and so on until the top which will have a volume of 1^3.\n",
    "Given the total volume m of the building, can you find the number of cubes n required for the building?\n",
    "In other words, you have to return an integer n such that: n^3 + (n-1)^3 + ... + 1^3 == m\n",
    "Return None if there is no such number.\n",
    "Examples:\n",
    "pile_of_cubes(1071225) ➞ 45\n",
    "pile_of_cubes(4183059834009) ➞ 2022\n",
    "pile_of_cubes(16) ➞ None"
   ]
  },
  {
   "cell_type": "code",
   "execution_count": 70,
   "id": "7123d44e",
   "metadata": {},
   "outputs": [],
   "source": [
    "def pile_of_cubes(num):\n",
    "    volum = 0\n",
    "    output = 0\n",
    "    for i in range(1,num):\n",
    "        volum += pow(i,3)\n",
    "        if num <= volum:\n",
    "            output = i if num == volum else None\n",
    "            break\n",
    "    return f\"{num} >> {output}\"\n",
    "    "
   ]
  },
  {
   "cell_type": "code",
   "execution_count": 71,
   "id": "e0ebcc94",
   "metadata": {},
   "outputs": [
    {
     "name": "stdout",
     "output_type": "stream",
     "text": [
      "1071225 >> 45\n",
      "4183059834009 >> 2022\n",
      "154 >> None\n"
     ]
    }
   ],
   "source": [
    "print(pile_of_cubes(1071225))\n",
    "print(pile_of_cubes(4183059834009))\n",
    "print(pile_of_cubes(154))"
   ]
  },
  {
   "cell_type": "markdown",
   "id": "ed6a3477",
   "metadata": {},
   "source": [
    "3. A fulcrum of a list is an integer such that all elements to the left of it and all elements to the right of it sum to the same value. Write a function that finds the fulcrum of a list.\n",
    "To illustrate:\n",
    "find_fulcrum([3, 1, 5, 2, 4, 6, -1]) ➞ 2 // Since [3, 1, 5] and [4, 6, -1] both sum to 9\n",
    "Examples:\n",
    "find_fulcrum([1, 2, 4, 9, 10, -10, -9, 3]) ➞ 4\n",
    "find_fulcrum([9, 1, 9]) ➞ 1\n",
    "find_fulcrum([7, -1, 0, -1, 1, 1, 2, 3]) ➞ 0\n",
    "find_fulcrum([8, 8, 8, 8]) ➞ -1"
   ]
  },
  {
   "cell_type": "code",
   "execution_count": 72,
   "id": "56f30d95",
   "metadata": {},
   "outputs": [],
   "source": [
    "def find_fulcrum(lst):\n",
    "    output = -1\n",
    "    for i in lst:\n",
    "        index_i = lst.index(i)\n",
    "        if sum(lst[:index_i]) == sum(lst[index_i+1:]):\n",
    "            output = i\n",
    "            break\n",
    "    return f\"{lst} >> {output}\" \n",
    "\n"
   ]
  },
  {
   "cell_type": "code",
   "execution_count": 73,
   "id": "11fbf6e8",
   "metadata": {},
   "outputs": [
    {
     "name": "stdout",
     "output_type": "stream",
     "text": [
      "[3, 1, 5, 2, 4, 6, -1] >> 2\n",
      "[1, 2, 4, 9, 10, -10, -9, 3] >> 4\n",
      "[9, 1, 9] >> 1\n",
      "[7, -1, 0, -1, 1, 1, 2, 3] >> 0\n",
      "[8, 8, 8, 8] >> -1\n"
     ]
    }
   ],
   "source": [
    "print(find_fulcrum([3, 1, 5, 2, 4, 6, -1]))\n",
    "print(find_fulcrum([1, 2, 4, 9, 10, -10, -9, 3]))\n",
    "print(find_fulcrum([9, 1, 9]))\n",
    "print(find_fulcrum([7, -1, 0, -1, 1, 1, 2, 3]))\n",
    "print(find_fulcrum([8, 8, 8, 8]))"
   ]
  },
  {
   "cell_type": "markdown",
   "id": "2ed254d0",
   "metadata": {},
   "source": [
    "4. Given a list of integers representing the color of each sock, determine how many pairs of socks with matching colors there are. For example, there are 7 socks with colors [1, 2, 1, 2, 1, 3, 2]. There is one pair of color 1 and one of color 2. There are three odd socks left, one of each color. The number of pairs is 2.\n",
    "Create a function that returns an integer representing the number of matching pairs of socks that are available.\n",
    "Examples:\n",
    "sock_merchant([10, 20, 20, 10, 10, 30, 50, 10, 20]) ➞ 3\n",
    "sock_merchant([50, 20, 30, 90, 30, 20, 50, 20, 90]) ➞ 4\n",
    "sock_merchant([]) ➞ 0"
   ]
  },
  {
   "cell_type": "code",
   "execution_count": 74,
   "id": "3b1b3ca2",
   "metadata": {},
   "outputs": [],
   "source": [
    "def sock_merchant(lst):\n",
    "    output = 0\n",
    "    paired = {}\n",
    "    \n",
    "    for i in lst:\n",
    "        if i in paired:\n",
    "            paired[i]+=1\n",
    "        else:\n",
    "            paired[i]=1\n",
    "    for j in paired.values():\n",
    "        output += j//2\n",
    "    return f\"{lst} >> {output}\""
   ]
  },
  {
   "cell_type": "code",
   "execution_count": 75,
   "id": "d05c9c79",
   "metadata": {},
   "outputs": [
    {
     "name": "stdout",
     "output_type": "stream",
     "text": [
      "[10, 20, 20, 10, 10, 30, 50, 10, 20] >> 3\n",
      "[50, 20, 30, 90, 30, 20, 50, 20, 90] >> 4\n",
      "[1, 1, 4, 5, 7, 8, 9, 9, 9, 6, 3, 3] >> 3\n",
      "[0, 1, 2, 4, 7, 8, 9, 6] >> 0\n"
     ]
    }
   ],
   "source": [
    "print(sock_merchant([10, 20, 20, 10, 10, 30, 50, 10, 20]))\n",
    "print(sock_merchant([50, 20, 30, 90, 30, 20, 50, 20, 90]))\n",
    "print(sock_merchant([1,1,4,5,7,8,9,9,9,6,3,3]))\n",
    "print(sock_merchant([0,1,2,4,7,8,9,6]))"
   ]
  },
  {
   "cell_type": "markdown",
   "id": "23b225e9",
   "metadata": {},
   "source": [
    "5. Create a function that takes a string containing integers as well as other characters and return the sum of the negative integers only.\n",
    "Examples:\n",
    "negative_sum(\"-12 13%14&-11\") ➞ -23\n",
    "# -12 + -11 = -23\n",
    "negative_sum(\"22 13%14&-11-22 13 12\") ➞ -33\n",
    "# -11 + -22 = -33"
   ]
  },
  {
   "cell_type": "code",
   "execution_count": 76,
   "id": "e5348e15",
   "metadata": {},
   "outputs": [],
   "source": [
    "import re\n",
    "def negative_sum(string):\n",
    "     # extract all negative integers from the string\n",
    "    negatives = re.findall(r\"-\\d+\",string)\n",
    "       # convert the list of strings to integers\n",
    "    negatives = [int(i) for i in negatives]\n",
    "    return f\"{string} >> {sum(negatives)}\""
   ]
  },
  {
   "cell_type": "code",
   "execution_count": 77,
   "id": "ad140dab",
   "metadata": {},
   "outputs": [
    {
     "name": "stdout",
     "output_type": "stream",
     "text": [
      "-12 13%14&-11 >> -23\n",
      "22 13%14&-11-22 13 12 >> -33\n",
      "!@-4$%&-89^&*-156 >> -249\n"
     ]
    }
   ],
   "source": [
    "print(negative_sum(\"-12 13%14&-11\"))\n",
    "print(negative_sum(\"22 13%14&-11-22 13 12\"))\n",
    "print(negative_sum(\"!@-4$%&-89^&*-156\"))"
   ]
  },
  {
   "cell_type": "markdown",
   "id": "ac76a3fc",
   "metadata": {},
   "source": [
    "1. Create a function that takes the width, height and character and returns a picture frame as a 2D list.\n",
    "Examples:\n",
    "get_frame(4, 5, \"#\") ➞ [ [\"####\"], [\"# #\"], [\"# #\"], [\"# #\"], [\"####\"] ]\n",
    "# Frame is 4 characters wide and 5 characters tall.\n",
    "\n",
    "get_frame(10, 3, \"*\") ➞ [ [\"**********\"], [\"* *\"], [\"**********\"] ]\n",
    "# Frame is 10 characters and wide and 3 characters tall.\n",
    "\n",
    "get_frame(2, 5, \"0\") ➞ \"invalid\"\n",
    "# Frame's width is not more than 2."
   ]
  },
  {
   "cell_type": "code",
   "execution_count": 78,
   "id": "877c127f",
   "metadata": {},
   "outputs": [],
   "source": [
    "def get_frame(width,hight,char):\n",
    "    if width <=2:\n",
    "        print(\"Invalid\")\n",
    "    else:\n",
    "        output = []\n",
    "        for i in range(hight):\n",
    "            if i == 0 or i == hight-1:\n",
    "                output.append([width*char])\n",
    "            else:\n",
    "                output.append([char+\" \"*(width-2)+ char])\n",
    "        for j in output:\n",
    "            print(j)\n",
    "        print()"
   ]
  },
  {
   "cell_type": "code",
   "execution_count": 79,
   "id": "e899c3d7",
   "metadata": {},
   "outputs": [
    {
     "name": "stdout",
     "output_type": "stream",
     "text": [
      "['####']\n",
      "['#  #']\n",
      "['#  #']\n",
      "['#  #']\n",
      "['####']\n",
      "\n",
      "['**********']\n",
      "['*        *']\n",
      "['**********']\n",
      "\n",
      "Invalid\n",
      "['$$$$$$$$$$$$$$$$$$$$$$$$$']\n",
      "['$                       $']\n",
      "['$                       $']\n",
      "['$                       $']\n",
      "['$                       $']\n",
      "['$                       $']\n",
      "['$                       $']\n",
      "['$                       $']\n",
      "['$                       $']\n",
      "['$$$$$$$$$$$$$$$$$$$$$$$$$']\n",
      "\n"
     ]
    }
   ],
   "source": [
    "get_frame(4, 5, \"#\")\n",
    "get_frame(10, 3, \"*\")\n",
    "get_frame(2, 5, \"0\")\n",
    "get_frame(25,10,\"$\")"
   ]
  },
  {
   "cell_type": "markdown",
   "id": "6b613cb9",
   "metadata": {},
   "source": [
    "3. Create a function that creates a box based on dimension n.\n",
    "Examples:\n",
    "make_box(5) ➞ [ \"#####\", \"# #\", \"# #\", \"# #\", \"#####\" ]\n",
    "\n",
    "make_box(3) ➞ [ \"###\", \"# #\", \"###\" ]\n",
    "\n",
    "make_box(2) ➞ [ \"##\", \"##\" ]\n",
    "\n",
    "make_box(1) ➞ [ \"#\" ]"
   ]
  },
  {
   "cell_type": "code",
   "execution_count": 80,
   "id": "045ac628",
   "metadata": {},
   "outputs": [],
   "source": [
    "def make_box(n):\n",
    "    box = []\n",
    "    if n < 2:\n",
    "        return [\"#\"]\n",
    "    else:\n",
    "        for i in range(n):\n",
    "            if i == 0 or i == n-1:\n",
    "                box.append(\"#\"*n)\n",
    "            else:\n",
    "                box.append(\"#\"+\" \"*(n-2)+\"#\")\n",
    "        for j in box:\n",
    "            print(j)\n",
    "        print()"
   ]
  },
  {
   "cell_type": "code",
   "execution_count": 81,
   "id": "58b9931a",
   "metadata": {},
   "outputs": [
    {
     "name": "stdout",
     "output_type": "stream",
     "text": [
      "#####\n",
      "#   #\n",
      "#   #\n",
      "#   #\n",
      "#####\n",
      "\n",
      "###\n",
      "# #\n",
      "###\n",
      "\n",
      "##\n",
      "##\n",
      "\n"
     ]
    },
    {
     "data": {
      "text/plain": [
       "['#']"
      ]
     },
     "execution_count": 81,
     "metadata": {},
     "output_type": "execute_result"
    }
   ],
   "source": [
    "(make_box(5))\n",
    "(make_box(3))\n",
    "(make_box(2))\n",
    "(make_box(1))"
   ]
  },
  {
   "cell_type": "markdown",
   "id": "fa373fa0",
   "metadata": {},
   "source": [
    "# 4. Given a common phrase, return False if any individual word in the phrase contains duplicate letters. Return True otherwise.\n",
    "Examples:\n",
    "no_duplicate_letters(\"Fortune favours the bold.\") ➞ True\n",
    "no_duplicate_letters(\"You can lead a horse to water, but you can't make him drink.\") ➞ True\n",
    "no_duplicate_letters(\"Look before you leap.\") ➞ False\n",
    "# Duplicate letters in \"Look\" and \"before\".\n",
    "no_duplicate_letters(\"An apple a day keeps the doctor away.\") ➞ False\n",
    "# Duplicate letters in \"apple\", \"keeps\", \"doctor\", and \"away\"."
   ]
  },
  {
   "cell_type": "code",
   "execution_count": 82,
   "id": "b1a54b2f",
   "metadata": {},
   "outputs": [],
   "source": [
    "def no_duplicets(string):\n",
    "    output  = None\n",
    "    \n",
    "    for i in string.split(\" \"):\n",
    "        if len(i) == len(set(i)):\n",
    "            output = True\n",
    "        else:\n",
    "            output = False\n",
    "    return f\"{string}  >> {output}\""
   ]
  },
  {
   "cell_type": "code",
   "execution_count": 83,
   "id": "840a8bad",
   "metadata": {},
   "outputs": [
    {
     "name": "stdout",
     "output_type": "stream",
     "text": [
      "Fortune favours the bold.  >> True\n",
      "You can lead a horse to water, but you can't make him drink.  >> True\n",
      "Look before you leap.  >> True\n",
      "An apple a day keeps the doctor away.  >> False\n"
     ]
    }
   ],
   "source": [
    "print(no_duplicets(\"Fortune favours the bold.\"))\n",
    "print(no_duplicets(\"You can lead a horse to water, but you can't make him drink.\"))\n",
    "print(no_duplicets(\"Look before you leap.\"))\n",
    "print(no_duplicets(\"An apple a day keeps the doctor away.\"))"
   ]
  },
  {
   "cell_type": "markdown",
   "id": "f49b133b",
   "metadata": {},
   "source": [
    "1. Create a function that takes a list and returns a new list containing only prime numbers.\n",
    "Examples:\n",
    "filter_primes([7, 9, 3, 9, 10, 11, 27]) ➞ [7, 3, 11]\n",
    "filter_primes([10007, 1009, 1007, 27, 147, 77, 1001, 70]) ➞ [10007, 1009]\n",
    "filter_primes([1009, 10, 10, 10, 3, 33, 9, 4, 1, 61, 63, 69, 1087, 1091, 1093, 1097]) ➞ [1009, 3, 61, 1087, 1091, 1093, 1097]"
   ]
  },
  {
   "cell_type": "code",
   "execution_count": 84,
   "id": "a553d1c8",
   "metadata": {},
   "outputs": [],
   "source": [
    "def filter_primes(lst):\n",
    "    def prime(num):\n",
    "        if num < 2:\n",
    "             return False\n",
    "        for i in range(2,num):\n",
    "            if num%i == 0:\n",
    "                return False\n",
    "            return True\n",
    "    return [i for i in lst if prime(i)]\n",
    "    "
   ]
  },
  {
   "cell_type": "code",
   "execution_count": 85,
   "id": "069ff22e",
   "metadata": {},
   "outputs": [
    {
     "name": "stdout",
     "output_type": "stream",
     "text": [
      "[7, 9, 3, 9, 11, 27]\n",
      "[10007, 1009, 1007, 27, 147, 77, 1001]\n",
      "[1009, 3, 33, 9, 61, 63, 69, 1087, 1091, 1093, 1097]\n"
     ]
    }
   ],
   "source": [
    "print(filter_primes([7, 9, 3, 9, 10, 11, 27]))\n",
    "print(filter_primes([10007, 1009, 1007, 27, 147, 77, 1001, 70]))\n",
    "print(filter_primes([1009, 10, 10, 10, 3, 33, 9, 4, 1, 61, 63, 69, 1087, 1091, 1093, 1097]))"
   ]
  },
  {
   "cell_type": "markdown",
   "id": "5ac0e72d",
   "metadata": {},
   "source": [
    "3. \"Loves me, loves me not\" is a traditional game in which a person plucks off all the petals of a flower one by one, saying the phrase \"Loves me\" and \"Loves me not\" when determining whether the one that they love, loves them back.\n",
    "Given a number of petals, return a string which repeats the phrases \"Loves me\" and \"Loves me not\" for every alternating petal, and return the last phrase in all caps. Remember to put a comma and space between phrases.\n",
    "\n",
    "Examples:\n",
    "loves_me(3) ➞ \"Loves me, Loves me not, LOVES ME\"\n",
    "loves_me(6) ➞ \"Loves me, Loves me not, Loves me, Loves me not, Loves me, LOVES ME NOT\"\n",
    "loves_me(1) ➞ \"LOVES ME\""
   ]
  },
  {
   "cell_type": "code",
   "execution_count": 86,
   "id": "5430959e",
   "metadata": {},
   "outputs": [],
   "source": [
    "def love_me(num):\n",
    "    output = []\n",
    "    for i in range(num):\n",
    "        if i%2 == 0:\n",
    "            output.append(\"Love me\")\n",
    "        else:\n",
    "            output.append(\"Love me not\")\n",
    "    output[-1] = output[-1].upper()\n",
    "    return f\"{num} >> {', '.join(output)}\""
   ]
  },
  {
   "cell_type": "code",
   "execution_count": 87,
   "id": "4f96ec6a",
   "metadata": {},
   "outputs": [
    {
     "name": "stdout",
     "output_type": "stream",
     "text": [
      "3 >> Love me, Love me not, LOVE ME\n",
      "6 >> Love me, Love me not, Love me, Love me not, Love me, LOVE ME NOT\n",
      "4 >> Love me, Love me not, Love me, LOVE ME NOT\n",
      "1 >> LOVE ME\n"
     ]
    }
   ],
   "source": [
    "print(love_me(3))\n",
    "print(love_me(6))\n",
    "print(love_me(4))\n",
    "print(love_me(1))"
   ]
  },
  {
   "cell_type": "code",
   "execution_count": null,
   "id": "ea89dd86",
   "metadata": {},
   "outputs": [],
   "source": []
  },
  {
   "cell_type": "markdown",
   "id": "c80a2753",
   "metadata": {},
   "source": [
    "4. Write a function that sorts each string in a list by the letter in alphabetic ascending order (a-z).\n",
    "Examples:\n",
    "sort_by_letter([\"932c\", \"832u32\", \"2344b\"]) ➞ [\"2344b\", \"932c\", \"832u32\"]\n",
    "sort_by_letter([\"99a\", \"78b\", \"c2345\", \"11d\"]) ➞ [\"99a\", \"78b\", \"c2345\", \"11d\"]\n",
    "sort_by_letter([\"572z\", \"5y5\", \"304q2\"]) ➞ [\"304q2\", \"5y5\", \"572z\"]\n",
    "sort_by_letter([]) ➞ []"
   ]
  },
  {
   "cell_type": "code",
   "execution_count": 88,
   "id": "730ed181",
   "metadata": {},
   "outputs": [],
   "source": [
    "def sort_by_letter(lst):\n",
    "    output = []\n",
    "    tem_lst = []\n",
    "    \n",
    "    for i in lst:\n",
    "        for j in i:\n",
    "            if j.isalpha():\n",
    "                tem_lst.append(j)\n",
    "    tem_lst.sort()\n",
    "    for char in tem_lst:\n",
    "        for ele in lst:\n",
    "            if char in ele:\n",
    "                output.append(ele)\n",
    "    return f\"{lst} >>> {output}\""
   ]
  },
  {
   "cell_type": "code",
   "execution_count": 89,
   "id": "c4e2eb02",
   "metadata": {},
   "outputs": [
    {
     "name": "stdout",
     "output_type": "stream",
     "text": [
      "['932c', '832u32', '2344b'] >>> ['2344b', '932c', '832u32']\n",
      "['99a', '78b', 'c2345', '11d'] >>> ['99a', '78b', 'c2345', '11d']\n",
      "['572z', '5y5', '304q2'] >>> ['304q2', '5y5', '572z']\n",
      "ya1452sh >>> ['a', 'h', 's', 'y']\n"
     ]
    }
   ],
   "source": [
    "print(sort_by_letter([\"932c\", \"832u32\", \"2344b\"]))\n",
    "print(sort_by_letter([\"99a\", \"78b\", \"c2345\", \"11d\"]))\n",
    "print(sort_by_letter([\"572z\", \"5y5\", \"304q2\"]))\n",
    "print(sort_by_letter(\"ya1452sh\"))"
   ]
  },
  {
   "cell_type": "markdown",
   "id": "14298d1e",
   "metadata": {},
   "source": [
    "5. There are three cups on a table, at positions A, B, and C. At the start, there is a ball hidden under the cup at position B.\n",
    "image.png\n",
    "\n",
    "However, I perform several swaps on the cups, which is notated as two letters. For example, if I swap the cups at positions A and B, I could notate this as AB or BA.\n",
    "\n",
    "Create a function that returns the letter position that the ball is at, once I finish swapping the cups. The swaps will be given to you as a list.\n",
    "\n",
    "Examples:\n",
    "cup_swapping([\"AB\", \"CA\", \"AB\"]) ➞ \"C\"\n",
    "# Ball begins at position B.\n",
    "# Cups A and B swap, so the ball is at position A.\n",
    "# Cups C and A swap, so the ball is at position C.\n",
    "# Cups A and B swap, but the ball is "
   ]
  },
  {
   "cell_type": "code",
   "execution_count": 90,
   "id": "6b872251",
   "metadata": {},
   "outputs": [],
   "source": [
    "def cup_swapping(swap,ball):\n",
    "    ball_position = ball \n",
    "    \n",
    "    for i in swap:\n",
    "        if ball_position in i:\n",
    "            ball_position = i.replace(ball_position,\"\")\n",
    "    return f\"{swap} >> {ball_position}\"\n",
    "    "
   ]
  },
  {
   "cell_type": "code",
   "execution_count": 91,
   "id": "abe5188d",
   "metadata": {},
   "outputs": [
    {
     "name": "stdout",
     "output_type": "stream",
     "text": [
      "['AB', 'CA', 'AB'] >> C\n",
      "['AB', 'CA', 'AB'] >> A\n",
      "['AB', 'CA', 'AB'] >> B\n"
     ]
    }
   ],
   "source": [
    "print(cup_swapping([\"AB\", \"CA\", \"AB\"],'B'))\n",
    "print(cup_swapping([\"AB\", \"CA\", \"AB\"],'A'))\n",
    "print(cup_swapping([\"AB\", \"CA\", \"AB\"],'C'))"
   ]
  },
  {
   "cell_type": "markdown",
   "id": "1c251a9f",
   "metadata": {},
   "source": [
    "1. Create a function that takes a list and string. The function should remove the letters in the string from the list, and return the list.\n",
    "Examples:\n",
    "remove_letters([\"s\", \"t\", \"r\", \"i\", \"n\", \"g\", \"w\"], \"string\") ➞ [\"w\"]\n",
    "remove_letters([\"b\", \"b\", \"l\", \"l\", \"g\", \"n\", \"o\", \"a\", \"w\"], \"balloon\") ➞ [\"b\", \"g\", \"w\"]\n",
    "remove_letters([\"d\", \"b\", \"t\", \"e\", \"a\", \"i\"], \"edabit\") ➞ []"
   ]
  },
  {
   "cell_type": "code",
   "execution_count": 92,
   "id": "4f8132f3",
   "metadata": {},
   "outputs": [],
   "source": [
    "def remove_letters(lst,string):\n",
    "    copy_list = lst.copy()\n",
    "    for i in string:\n",
    "        if i in lst:\n",
    "            lst.remove(i)\n",
    "    return f\"{copy_list,string} >> {lst}\""
   ]
  },
  {
   "cell_type": "code",
   "execution_count": 93,
   "id": "577d938c",
   "metadata": {},
   "outputs": [
    {
     "name": "stdout",
     "output_type": "stream",
     "text": [
      "(['s', 't', 'r', 'i', 'n', 'g', 'w'], 'string') >> ['w']\n",
      "(['b', 'b', 'l', 'l', 'g', 'n', 'o', 'a', 'w'], 'balloon') >> ['b', 'g', 'w']\n",
      "(['d', 'b', 't', 'e', 'a', 'i'], 'edabit') >> []\n",
      "(['y', 'a', 's', 'h', 'o'], 'yash') >> ['o']\n"
     ]
    }
   ],
   "source": [
    "print(remove_letters([\"s\", \"t\", \"r\", \"i\", \"n\", \"g\", \"w\"], \"string\"))\n",
    "print(remove_letters([\"b\", \"b\", \"l\", \"l\", \"g\", \"n\", \"o\", \"a\", \"w\"], \"balloon\"))\n",
    "print(remove_letters([\"d\", \"b\", \"t\", \"e\", \"a\", \"i\"], \"edabit\"))\n",
    "print(remove_letters([\"y\",\"a\",\"s\",\"h\",\"o\"],\"yash\"))"
   ]
  },
  {
   "cell_type": "markdown",
   "id": "7719a61b",
   "metadata": {},
   "source": [
    "3. Write a function that pairs the first number in an array with the last, the second number with the second to last, etc.\n",
    "Examples:\n",
    "pairs([1, 2, 3, 4, 5, 6, 7]) ➞ [[1, 7], [2, 6], [3, 5], [4, 4]]\n",
    "pairs([1, 2, 3, 4, 5, 6]) ➞ [[1, 6], [2, 5], [3, 4]]\n",
    "pairs([5, 9, 8, 1, 2]) ➞ [[5, 2], [9, 1], [8, 8]]\n",
    "pairs([]) ➞ []"
   ]
  },
  {
   "cell_type": "code",
   "execution_count": 94,
   "id": "f75a11ff",
   "metadata": {},
   "outputs": [],
   "source": [
    "def pairs(lst):\n",
    "    output = []\n",
    "    copy_list = lst.copy()\n",
    "    \n",
    "    while True:\n",
    "        if len(lst) > 0:\n",
    "            if len(lst) == 1:\n",
    "                output.append([lst[0],lst.pop(0)])\n",
    "            else:\n",
    "                output.append([lst.pop(0),lst.pop(-1)])\n",
    "        else:\n",
    "            break\n",
    "            \n",
    "    return f\"{copy_list} >> {output}\""
   ]
  },
  {
   "cell_type": "code",
   "execution_count": 95,
   "id": "d8100849",
   "metadata": {},
   "outputs": [
    {
     "name": "stdout",
     "output_type": "stream",
     "text": [
      "[1, 2, 3, 4, 5, 6, 7] >> [[1, 7], [2, 6], [3, 5], [4, 4]]\n",
      "[8, 7, 45, 6, 9, 8, 7, 4, 5, 6] >> [[8, 6], [7, 5], [45, 4], [6, 7], [9, 8]]\n",
      "[5, 9, 8, 1, 2] >> [[5, 2], [9, 1], [8, 8]]\n",
      "[1] >> [[1, 1]]\n"
     ]
    }
   ],
   "source": [
    "print(pairs([1, 2, 3, 4, 5, 6, 7]))\n",
    "print(pairs([8,7,45,6,9,8,7,4,5,6]))\n",
    "print(pairs([5, 9, 8, 1, 2]))\n",
    "print(pairs([1]))"
   ]
  },
  {
   "cell_type": "markdown",
   "id": "3a1f4e8c",
   "metadata": {},
   "source": [
    "4. Write a function that adds two numbers. The catch, however, is that the numbers will be strings.\n",
    "Examples:\n",
    "add_str_nums(\"4\", \"5\") ➞ \"9\"\n",
    "add_str_nums(\"abcdefg\", \"3\") ➞ \"-1\"\n",
    "add_str_nums(\"1\", \"\") ➞ \"1\"\n",
    "add_str_nums(\"1874682736267235927359283579235789257\", \"32652983572985729\") ➞ \"1874682736267235927391936562808774986\""
   ]
  },
  {
   "cell_type": "code",
   "execution_count": 96,
   "id": "7755792a",
   "metadata": {},
   "outputs": [],
   "source": [
    "def add_str_num(str1,str2):\n",
    "#     str1 = str1 if len(str1) > 0 else \"0\"\n",
    "#     str2 = str2 if len(str2) > 0 else \"0\"\n",
    "    if str1.isdigit() == False or str2.isdigit() == False:\n",
    "        output = -1\n",
    "    else:\n",
    "        output = int(str1) + int(str2)\n",
    "    return f\"{str1,str2} >> {output}\""
   ]
  },
  {
   "cell_type": "code",
   "execution_count": 97,
   "id": "11a6fe61",
   "metadata": {},
   "outputs": [
    {
     "name": "stdout",
     "output_type": "stream",
     "text": [
      "('4', '5') >> 9\n",
      "('abcdefg', '3') >> -1\n",
      "('1', '') >> -1\n",
      "('1874682736267235927359283579235789257', '32652983572985729') >> 1874682736267235927391936562808774986\n",
      "('1', '1') >> 2\n",
      "('0', '0') >> 0\n"
     ]
    }
   ],
   "source": [
    "print(add_str_num(\"4\", \"5\"))\n",
    "print(add_str_num(\"abcdefg\", \"3\"))\n",
    "print(add_str_num(\"1\", \"\"))\n",
    "print(add_str_num(\"1874682736267235927359283579235789257\", \"32652983572985729\"))\n",
    "print(add_str_num(\"1\",\"1\"))\n",
    "print(add_str_num(\"0\",\"0\"))"
   ]
  },
  {
   "cell_type": "markdown",
   "id": "0451b2c2",
   "metadata": {},
   "source": [
    "5. lPaeesh le pemu mnxit ehess rtnisg! Oh, sorry, that was supposed to say: Please help me unmix these strings!\n",
    "Somehow my strings have all become mixed up; every pair of characters has been swapped. Help me undo this so I can understand my strings again.\n",
    "\n",
    "Examples:\n",
    "unmix(\"123456\") ➞ \"214365\"\n",
    "unmix(\"hTsii s aimex dpus rtni.g\") ➞ \"This is a mixed up string.\"\n",
    "unmix(\"badce\") ➞ \"abcde\""
   ]
  },
  {
   "cell_type": "code",
   "execution_count": 98,
   "id": "e6fef8db",
   "metadata": {},
   "outputs": [],
   "source": [
    "def unmix(string):\n",
    "    output = \"\"\n",
    "    for i in range(0,len(string)-1,2):\n",
    "        output += string[i+1] + string[i]\n",
    "        if (len(string)%2 != 0 and i == len(string)//2):\n",
    "            output += string[-1]\n",
    "    return f\"{string} >> {output}\"\n",
    "        \n",
    "    "
   ]
  },
  {
   "cell_type": "code",
   "execution_count": 99,
   "id": "36de0a43",
   "metadata": {},
   "outputs": [
    {
     "name": "stdout",
     "output_type": "stream",
     "text": [
      "123456 >> 214365\n",
      "hTsii s aimex dpus rtni.g >> This i siaem xgpdsur nt.i\n",
      "badce >> abcde\n",
      "isha >> siah\n"
     ]
    }
   ],
   "source": [
    "print(unmix(\"123456\"))\n",
    "print(unmix(\"hTsii s aimex dpus rtni.g\"))\n",
    "print(unmix(\"badce\"))\n",
    "print(unmix(\"isha\"))"
   ]
  },
  {
   "cell_type": "markdown",
   "id": "934f46cf",
   "metadata": {},
   "source": [
    "1. Write a function that returns True if a given name can generate an array of words.\n",
    "Examples:\n",
    "anagram(\"Justin Bieber\", [\"injures\", \"ebb\", \"it\"]) ➞ True\n",
    "anagram(\"Natalie Portman\", [\"ornamental\", \"pita\"]) ➞ True\n",
    "anagram(\"Chris Pratt\", [\"chirps\", \"rat\"]) ➞ False\n",
    "# Not all letters are used\n",
    "anagram(\"Jeff Goldblum\", [\"jog\", \"meld\", \"bluffs\"]) ➞ False\n",
    "# \"s\" does not exist in the original name"
   ]
  },
  {
   "cell_type": "code",
   "execution_count": 100,
   "id": "346d2983",
   "metadata": {},
   "outputs": [],
   "source": [
    "def anagram(str1,lst):\n",
    "    str1_list = list(str1.lower())\n",
    "    str1_list.remove(\" \")\n",
    "    not_exist = []\n",
    "    output = False\n",
    "    for i in lst:\n",
    "        for j in i:\n",
    "            if j in str1_list:\n",
    "                str1_list.remove(j)\n",
    "            else:\n",
    "                not_exist.append(j)\n",
    "    if len(str1_list) == 0 and len(not_exist) == 0:\n",
    "        output = True\n",
    "    return f\"{str1,lst} >> {output}\""
   ]
  },
  {
   "cell_type": "code",
   "execution_count": 101,
   "id": "d332a7c0",
   "metadata": {},
   "outputs": [
    {
     "name": "stdout",
     "output_type": "stream",
     "text": [
      "('Justin Bieber', ['injures', 'ebb', 'it']) >> True\n",
      "('Natalie Portman', ['ornamental', 'pita']) >> True\n",
      "('Chris Pratt', ['chirps', 'rat']) >> False\n",
      "('Jeff Goldblum', ['jog', 'meld', 'bluffs']) >> False\n",
      "('yash mohite', ['yash', 'mohite1']) >> False\n"
     ]
    }
   ],
   "source": [
    "print(anagram(\"Justin Bieber\", [\"injures\", \"ebb\", \"it\"]))\n",
    "print(anagram(\"Natalie Portman\", [\"ornamental\", \"pita\"]))\n",
    "print(anagram(\"Chris Pratt\", [\"chirps\", \"rat\"]))\n",
    "print(anagram(\"Jeff Goldblum\", [\"jog\", \"meld\", \"bluffs\"]))\n",
    "print(anagram(\"yash mohite\",[\"yash\",\"mohite1\"]))"
   ]
  },
  {
   "cell_type": "markdown",
   "id": "6cb64f71",
   "metadata": {},
   "source": [
    "3. Create a function that, given a phrase and a number of letters guessed, returns a string with hyphens - for every letter of the phrase not guessed, and each letter guessed in place.\n",
    "Examples:\n",
    "hangman(\"helicopter\", [\"o\", \"e\", \"s\"]) ➞ \"-e---o--e-\"\n",
    "hangman(\"tree\", [\"r\", \"t\", \"e\"]) ➞ \"tree\"\n",
    "hangman(\"Python rules\", [\"a\", \"n\", \"p\", \"r\", \"z\"]) ➞ \"P----n r----\"\n",
    "hangman(\"He\"s a very naughty boy!\", [\"e\", \"a\", \"y\"]) ➞ \"-e\"- a -e-y -a----y –y!\""
   ]
  },
  {
   "cell_type": "code",
   "execution_count": 102,
   "id": "72dea9a3",
   "metadata": {},
   "outputs": [],
   "source": [
    "def hangman(string,lst):\n",
    "    output = \"\"\n",
    "    for i in range(len(string)):\n",
    "        if string[i].lower() in lst:\n",
    "            output += string[i]\n",
    "        elif string[i] in '!':\n",
    "            output += string[i]\n",
    "        else:\n",
    "            output += \"-\"\n",
    "    return f\"{string,lst} >> {output}\""
   ]
  },
  {
   "cell_type": "code",
   "execution_count": 103,
   "id": "e0ccfb96",
   "metadata": {},
   "outputs": [
    {
     "name": "stdout",
     "output_type": "stream",
     "text": [
      "('helicopter', ['o', 'e', 's']) >> -e---o--e-\n",
      "('tree', ['r', 't', 'e']) >> tree\n",
      "('Python rules', ['a', 'n', 'p', 'r', 'z']) >> P----n-r----\n",
      "('He\"s a very naughty boy!', ['e', 'a', 'y']) >> -e---a--e-y--a----y---y!\n",
      "('yash mohite', ['y', 'm']) >> y----m-----\n"
     ]
    }
   ],
   "source": [
    "print(hangman(\"helicopter\", [\"o\", \"e\", \"s\"]))\n",
    "print(hangman(\"tree\", [\"r\", \"t\", \"e\"]))\n",
    "print(hangman(\"Python rules\", [\"a\", \"n\", \"p\", \"r\", \"z\"]))\n",
    "print(hangman(\"He\\\"s a very naughty boy!\", [\"e\", \"a\", \"y\"]))\n",
    "print(hangman(\"yash mohite\",[\"y\",\"m\"]))"
   ]
  },
  {
   "cell_type": "markdown",
   "id": "7cb5a67e",
   "metadata": {},
   "source": [
    "5. Write a function that sorts a list of integers by their digit length in descending order, then settles ties by sorting numbers with the same digit length in ascending order.\n",
    "Examples:\n",
    "digit_sort([77, 23, 5, 7, 101]) ➞ [101, 23, 77, 5, 7]\n",
    "digit_sort([1, 5, 9, 2, 789, 563, 444]) ➞ [444, 563, 789, 1, 2, 5, 9]\n",
    "digit_sort([53219, 3772, 564, 32, 1]) ➞ [53219, 3772, 564, 32, 1]"
   ]
  },
  {
   "cell_type": "code",
   "execution_count": 104,
   "id": "00436b30",
   "metadata": {},
   "outputs": [],
   "source": [
    "def digit_sort(lst):\n",
    "    max_num = len(str(max(lst)))\n",
    "    output = []\n",
    "    for i in range(max_num,0,-1):\n",
    "        temp = []\n",
    "        for j in lst:\n",
    "            if len(str(j)) == i:\n",
    "                temp.append(j)\n",
    "        output.extend(sorted(temp))\n",
    "    return f\"{lst} >> {output}\"            "
   ]
  },
  {
   "cell_type": "code",
   "execution_count": 105,
   "id": "449a777c",
   "metadata": {},
   "outputs": [
    {
     "name": "stdout",
     "output_type": "stream",
     "text": [
      "[77, 23, 5, 7, 101] >> [101, 23, 77, 5, 7]\n",
      "[1, 5, 9, 2, 789, 563, 444] >> [444, 563, 789, 1, 2, 5, 9]\n",
      "[53219, 3772, 564, 32, 1] >> [53219, 3772, 564, 32, 1]\n"
     ]
    }
   ],
   "source": [
    "print(digit_sort([77, 23, 5, 7, 101]))\n",
    "print(digit_sort([1, 5, 9, 2, 789, 563, 444]))\n",
    "print(digit_sort([53219, 3772, 564, 32, 1]))\n"
   ]
  },
  {
   "cell_type": "markdown",
   "id": "fd402eb8",
   "metadata": {},
   "source": [
    "2. Create a function that returns the whole of the first sentence which contains a specific word. Include the full stop at the end of the sentence.\n",
    "Examples:\n",
    "txt = \"I have a cat. I have a mat. Things are going swell.\"\n",
    "sentence_searcher(txt, \"have\") ➞ \"I have a cat.\"\n",
    "sentence_searcher(txt, \"MAT\") ➞ \"I have a mat.\"\n",
    "sentence_searcher(txt, \"things\") ➞ \"Things are going swell.\"\n",
    "sentence_searcher(txt, \"flat\") ➞ \"\""
   ]
  },
  {
   "cell_type": "code",
   "execution_count": 106,
   "id": "175e45b4",
   "metadata": {},
   "outputs": [],
   "source": [
    "def sentence_searcher(string,search):\n",
    "    output = \"\"\n",
    "    for i in string.split(\".\"):\n",
    "        if len(i.lower().replace(search.lower(),\"\")) != len(i):\n",
    "            output = i\n",
    "            break\n",
    "    return f\"{string,search} >> {output}\"\n",
    "txt = \"I have a cat. I have a mat. Things are going swell.flat good. have yash mohite\""
   ]
  },
  {
   "cell_type": "code",
   "execution_count": 107,
   "id": "3bbc0d19",
   "metadata": {},
   "outputs": [
    {
     "name": "stdout",
     "output_type": "stream",
     "text": [
      "('I have a cat. I have a mat. Things are going swell.flat good. have yash mohite', 'have') >> I have a cat\n",
      "('I have a cat. I have a mat. Things are going swell.flat good. have yash mohite', 'MAT') >>  I have a mat\n",
      "('I have a cat. I have a mat. Things are going swell.flat good. have yash mohite', 'things') >>  Things are going swell\n",
      "('I have a cat. I have a mat. Things are going swell.flat good. have yash mohite', 'flat') >> flat good\n",
      "('I have a cat. I have a mat. Things are going swell.flat good. have yash mohite', 'yash') >>  have yash mohite\n"
     ]
    }
   ],
   "source": [
    "print(sentence_searcher(txt, \"have\"))\n",
    "print(sentence_searcher(txt, \"MAT\"))\n",
    "print(sentence_searcher(txt, \"things\"))\n",
    "print(sentence_searcher(txt, \"flat\"))\n",
    "print(sentence_searcher(txt, \"yash\"))"
   ]
  },
  {
   "cell_type": "markdown",
   "id": "a3ca6634",
   "metadata": {},
   "source": [
    "# 5. Create a function that returns True if two lines rhyme and False otherwise. For the purposes of this exercise, two lines rhyme if the last word from each sentence contains the same vowels.\n",
    "Examples:\n",
    "does_rhyme(\"Sam I am!\", \"Green eggs and ham.\") ➞ True\n",
    "does_rhyme(\"Sam I am!\", \"Green eggs and HAM.\") ➞ True\n",
    "# Capitalization and punctuation should not matter.\n",
    "does_rhyme(\"You are off to the races\", \"a splendid day.\") ➞ False\n",
    "does_rhyme(\"and frequently do?\", \"you gotta move.\") ➞ False"
   ]
  },
  {
   "cell_type": "code",
   "execution_count": 108,
   "id": "fd728ae1",
   "metadata": {},
   "outputs": [],
   "source": [
    "def does_rhyme(line1,line2):\n",
    "    vowels = \"aeiou\"\n",
    "    output = False\n",
    "    rhyme1 = [x.lower() for x in line1.split(\" \")[-1] if x.lower() in vowels]\n",
    "    rhyme2 = [x.lower() for x in line2.split(\" \")[-1] if x.lower() in vowels]\n",
    "    if rhyme1 == rhyme2:\n",
    "        output = True\n",
    "    return f\"{line1,line2} >> {output}\""
   ]
  },
  {
   "cell_type": "code",
   "execution_count": 109,
   "id": "42b6bd69",
   "metadata": {},
   "outputs": [
    {
     "name": "stdout",
     "output_type": "stream",
     "text": [
      "('Sam I am!', 'Green eggs and ham.') >> True\n",
      "('Sam I am!', 'Green eggs and HAM.') >> True\n",
      "('You are off to the races', 'a splendid day.') >> False\n",
      "('and frequently do?', 'you gotta move.') >> False\n",
      "('yash mohite', 'mohite') >> True\n"
     ]
    }
   ],
   "source": [
    "print(does_rhyme(\"Sam I am!\", \"Green eggs and ham.\"))\n",
    "print(does_rhyme(\"Sam I am!\", \"Green eggs and HAM.\"))\n",
    "print(does_rhyme(\"You are off to the races\", \"a splendid day.\"))\n",
    "print(does_rhyme(\"and frequently do?\", \"you gotta move.\"))\n",
    "print(does_rhyme(\"yash mohite\", \"mohite\"))"
   ]
  },
  {
   "cell_type": "markdown",
   "id": "381929f4",
   "metadata": {},
   "source": [
    "1. Create a function that transposes a 2D matrix.\n",
    "Examples:\n",
    "\n",
    "transpose_matrix([ [1, 1, 1], [2, 2, 2], [3, 3, 3] ]) ➞ [ [1, 2, 3], [1, 2, 3], [1, 2, 3] ]\n",
    "\n",
    "transpose_matrix([ [5, 5], [6, 7], [9, 1] ]) ➞ [ [5, 6, 9], [5, 7, 1] ]"
   ]
  },
  {
   "cell_type": "code",
   "execution_count": 110,
   "id": "3fe33c6b",
   "metadata": {},
   "outputs": [],
   "source": [
    "def transpose_matrix(matrix):\n",
    "    output = [[row[i] for  row in matrix] for i in range(len(matrix[0]))]\n",
    "    return f\"{matrix} >> {output}\""
   ]
  },
  {
   "cell_type": "code",
   "execution_count": 111,
   "id": "06df62c2",
   "metadata": {},
   "outputs": [
    {
     "name": "stdout",
     "output_type": "stream",
     "text": [
      "[[1, 1, 1], [2, 2, 2], [3, 3, 3]] >> [[1, 2, 3], [1, 2, 3], [1, 2, 3]]\n",
      "[[5, 5], [6, 7], [9, 1]] >> [[5, 6, 9], [5, 7, 1]]\n",
      "[[(1+2j), (3+4j), (5+6j)], [(-1-2j), (-3-4j), (-5-6j)], [(2+3j), (4+5j), (6+7j)]] >> [[(1+2j), (-1-2j), (2+3j)], [(3+4j), (-3-4j), (4+5j)], [(5+6j), (-5-6j), (6+7j)]]\n"
     ]
    }
   ],
   "source": [
    "print(transpose_matrix([[1, 1, 1],[2, 2, 2],[3, 3, 3]]))\n",
    "print(transpose_matrix([[5, 5],[6, 7],[9, 1]]))\n",
    "print(transpose_matrix([[1+2j, 3+4j, 5+6j], [-1-2j, -3-4j, -5-6j], [2+3j, 4+5j, 6+7j]]))"
   ]
  },
  {
   "cell_type": "markdown",
   "id": "f294136c",
   "metadata": {},
   "source": [
    "2. Create a function that determines whether a string is a valid hex code.\n",
    "A hex code must begin with a pound key # and is exactly 6 characters in length. Each character must be a digit from 0-9 or an alphabetic character from A-F. All alphabetic characters may be uppercase or lowercase.\n",
    "\n",
    "Examples:\n",
    "is_valid_hex_code(\"#CD5C5C\") ➞ True\n",
    "is_valid_hex_code(\"#EAECEE\") ➞ True\n",
    "is_valid_hex_code(\"#eaecee\") ➞ True\n",
    "\n",
    "is_valid_hex_code(\"#CD5C58C\") ➞ False\n",
    "# Length exceeds 6\n",
    "\n",
    "is_valid_hex_code(\"#CD5C5Z\") ➞ False\n",
    "# Not all alphabetic characters in A-F\n",
    "\n",
    "is_valid_hex_code(\"#CD5C&C\") ➞ False\n",
    "# Contains unacceptable character\n",
    "\n",
    "is_valid_hex_code(\"CD5C5C\") ➞ False\n",
    "# Missing #"
   ]
  },
  {
   "cell_type": "code",
   "execution_count": 112,
   "id": "b1fbdb84",
   "metadata": {},
   "outputs": [],
   "source": [
    "import re\n",
    "\n",
    "def is_valid_hex_code(code):\n",
    "    if len(code) != 7:\n",
    "        return False\n",
    "    elif code[0] != \"#\":\n",
    "        return False\n",
    "    output =  bool(re.match(\"^#[0-9A-Fa-f]{6}$\",code))\n",
    "    return f\"{code} >> {output}\""
   ]
  },
  {
   "cell_type": "code",
   "execution_count": 113,
   "id": "1e52ab00",
   "metadata": {},
   "outputs": [
    {
     "name": "stdout",
     "output_type": "stream",
     "text": [
      "#CD5C5C >> True\n",
      "#EAECEE >> True\n",
      "#eaecee >> True\n",
      "False\n",
      "#CD5C5Z >> False\n",
      "#CD5C&C >> False\n",
      "False\n"
     ]
    }
   ],
   "source": [
    "print(is_valid_hex_code(\"#CD5C5C\"))\n",
    "print(is_valid_hex_code(\"#EAECEE\"))\n",
    "print(is_valid_hex_code(\"#eaecee\"))\n",
    "print(is_valid_hex_code(\"#CD5C58C\"))\n",
    "print(is_valid_hex_code(\"#CD5C5Z\"))\n",
    "print(is_valid_hex_code(\"#CD5C&C\"))\n",
    "print(is_valid_hex_code(\"CD5C5C\"))"
   ]
  },
  {
   "cell_type": "markdown",
   "id": "aee3ccf4",
   "metadata": {},
   "source": [
    "3. Given a list of math equations (given as strings), return the percentage of correct answers as a string. Round to the nearest whole number.\n",
    "Examples:\n",
    "mark_maths([\"2+2=4\", \"3+2=5\", \"10-3=3\", \"5+5=10\"]) ➞ \"75%\"\n",
    "mark_maths([\"1-2=-2\"]), \"0%\"\n",
    "mark_maths([\"2+3=5\", \"4+4=9\", \"3-1=2\"]) ➞ \"67%\""
   ]
  },
  {
   "cell_type": "code",
   "execution_count": 114,
   "id": "b350fa24",
   "metadata": {},
   "outputs": [],
   "source": [
    "def mark_maths(equations):\n",
    "    correct = 0\n",
    "    for i in equations:\n",
    "        l,r = i.split(\"=\")\n",
    "        if eval(l) == int(r):\n",
    "            correct += 1\n",
    "    percentage = round(correct / len(equations)*100)\n",
    "    output = str(percentage) + \"%\"\n",
    "    return f\"{equations} >> {output}\"\n",
    "            \n",
    "    \n",
    "   "
   ]
  },
  {
   "cell_type": "code",
   "execution_count": 115,
   "id": "0651bb89",
   "metadata": {},
   "outputs": [
    {
     "name": "stdout",
     "output_type": "stream",
     "text": [
      "['2+2=4', '3+2=5', '10-3=3', '5+5=10'] >> 75%\n",
      "['1-2=-2'] >> 0%\n",
      "['2+3=5', '4+4=9', '3-1=2'] >> 67%\n"
     ]
    }
   ],
   "source": [
    "print(mark_maths([\"2+2=4\", \"3+2=5\", \"10-3=3\", \"5+5=10\"]))\n",
    "print(mark_maths([\"1-2=-2\"]))\n",
    "print(mark_maths([\"2+3=5\", \"4+4=9\", \"3-1=2\"]))"
   ]
  },
  {
   "cell_type": "markdown",
   "id": "6a647e42",
   "metadata": {},
   "source": [
    "4. There are two players, Alice and Bob, each with a 3-by-3 grid. A referee tells Alice to fill out one particular row in the grid (say the second row) by putting either a 1 or a 0 in each box, such that the sum of the numbers in that row is odd. The referee tells Bob to fill out one column in the grid (say the first column) by putting either a 1 or a 0 in each box, such that the sum of the numbers in that column is even.\n",
    "Alice and Bob win the game if Alice’s numbers give an odd sum, Bob’s give an even sum, and (most important) they’ve each written down the same number in the one square where their row and column intersect.\n",
    "\n",
    "Examples:\n",
    "magic_square_game([2, \"100\"], [1, \"101\"]) ➞ False\n",
    "magic_square_game([2, \"001\"], [1, \"101\"]) ➞ True\n",
    "magic_square_game([3, \"111\"], [2, \"011\"]) ➞ True\n",
    "magic_square_game([1, \"010\"], [3, \"101\"]) ➞ False\n",
    "# Two lists, Alice [row, \"her choice\"], Bob [column, \"his choice\"]"
   ]
  },
  {
   "cell_type": "code",
   "execution_count": 116,
   "id": "0b6db161",
   "metadata": {},
   "outputs": [],
   "source": [
    "def magic_square_game(one,two):\n",
    "    output = False\n",
    "    if two[1][one[0]-1] == one[1][two[0]-1]:\n",
    "        output= True\n",
    "    return f\"{one,two} >> {output}\"\n",
    "    "
   ]
  },
  {
   "cell_type": "code",
   "execution_count": 117,
   "id": "5d3c281f",
   "metadata": {},
   "outputs": [
    {
     "name": "stdout",
     "output_type": "stream",
     "text": [
      "([2, '100'], [1, '101']) >> False\n",
      "([2, '001'], [1, '101']) >> True\n",
      "([3, '111'], [2, '011']) >> True\n",
      "([1, '010'], [3, '101']) >> False\n"
     ]
    }
   ],
   "source": [
    "print(magic_square_game([2, \"100\"], [1, \"101\"]))\n",
    "print(magic_square_game([2, \"001\"], [1, \"101\"])) \n",
    "print(magic_square_game([3, \"111\"], [2, \"011\"]))\n",
    "print(magic_square_game([1, \"010\"], [3, \"101\"]))"
   ]
  },
  {
   "cell_type": "markdown",
   "id": "ddf36c14",
   "metadata": {},
   "source": [
    "5. From point A, an object is moving towards point B at constant velocity va (in km/hr). From point B, another object is moving towards point A at constant velocity vb (in km/hr). Knowing this and the distance between point A and B (in km), write a function that returns how much time passes until both objects meet.\n",
    "Format the output like this: \"2h 23min 34s\"\n",
    "\n",
    "Examples:\n",
    "lets_meet(100, 10, 30) ➞ \"2h 30min 0s\"\n",
    "lets_meet(280, 70, 80) ➞ \"1h 52min 0s\"\n",
    "lets_meet(90, 75, 65) ➞ \"0h 38min 34s\""
   ]
  },
  {
   "cell_type": "code",
   "execution_count": 118,
   "id": "d8616943",
   "metadata": {},
   "outputs": [],
   "source": [
    "import math\n",
    "\n",
    "def lets_meet(d,va,vb):\n",
    "    total_time = d/(va+vb)\n",
    "    hours = math.floor(total_time)\n",
    "    minutes = math.floor((total_time-hours)*60)\n",
    "    second = math.floor(((((total_time)-hours)*60)-minutes)*60)\n",
    "    return f\"{d,va,vb} >> {hours}h {minutes}min {second}sec\""
   ]
  },
  {
   "cell_type": "code",
   "execution_count": 119,
   "id": "86aaaf21",
   "metadata": {},
   "outputs": [
    {
     "name": "stdout",
     "output_type": "stream",
     "text": [
      "(100, 10, 30) >> 2h 30min 0sec\n",
      "(280, 70, 80) >> 1h 52min 0sec\n",
      "(90, 75, 65) >> 0h 38min 34sec\n",
      "(1000, 100, 500) >> 1h 40min 0sec\n"
     ]
    }
   ],
   "source": [
    "print(lets_meet(100, 10, 30))\n",
    "print(lets_meet(280, 70, 80))\n",
    "print(lets_meet(90, 75, 65))\n",
    "print(lets_meet(1000,100,500))"
   ]
  },
  {
   "cell_type": "markdown",
   "id": "8762a454",
   "metadata": {},
   "source": [
    "1. A robot has been given a list of movement instructions. Each instruction is either left, right, up or down, followed by a distance to move. The robot starts at [0, 0]. You want to calculate where the robot will end up and return its final position as a list.\n",
    "To illustrate, if the robot is given the following instructions: [\"right 10\", \"up 50\", \"left 30\", \"down 10\"]\n",
    "It will end up 20 left and 40 up from where it started, so we return [-20, 40].\n",
    "\n",
    "Examples:\n",
    "track_robot([\"right 10\", \"up 50\", \"left 30\", \"down 10\"]) ➞ [-20, 40]\n",
    "track_robot([]) ➞ [0, 0]\n",
    "// If there are no instructions, the robot doesn't move.\n",
    "track_robot([\"right 100\", \"right 100\", \"up 500\", \"up 10000\"]) ➞ [200, 10500]"
   ]
  },
  {
   "cell_type": "code",
   "execution_count": null,
   "id": "9e910cc0",
   "metadata": {},
   "outputs": [],
   "source": []
  },
  {
   "cell_type": "code",
   "execution_count": null,
   "id": "c8f744f0",
   "metadata": {},
   "outputs": [],
   "source": []
  },
  {
   "cell_type": "code",
   "execution_count": 120,
   "id": "d5a64630",
   "metadata": {},
   "outputs": [
    {
     "name": "stdout",
     "output_type": "stream",
     "text": [
      "['right 10', 'up 50', 'left 30', 'down 10']) ➞ [-20, 40]\n",
      "[]) ➞ [0, 0]\n",
      "['right 100', 'right 100', 'up 500', 'up 10000']) ➞ [200, 10500]\n"
     ]
    }
   ],
   "source": [
    "def track_robot(in_list):\n",
    "    output = [0,0]\n",
    "    for ele in in_list:\n",
    "        ele = ele.split(\" \")\n",
    "        if ele[0] in ['right','left']:\n",
    "            output[0] = output[0]-int(ele[1]) if ele[0] == 'left' else output[0]+int(ele[1])\n",
    "        else:\n",
    "            output[1] = output[1]-int(ele[1]) if ele[0] == 'down' else output[1]+int(ele[1])\n",
    "    return(f'{in_list}) ➞ {output}')\n",
    "        \n",
    "print(track_robot([\"right 10\", \"up 50\", \"left 30\", \"down 10\"]))\n",
    "print(track_robot([]))\n",
    "print(track_robot([\"right 100\", \"right 100\", \"up 500\", \"up 10000\"]))"
   ]
  },
  {
   "cell_type": "markdown",
   "id": "9600724f",
   "metadata": {},
   "source": [
    "2. Write a function that will return the longest word in a sentence. In cases where more than one word is found, return the first one.\n",
    "Examples:\n",
    "find_longest(\"A thing of beauty is a joy forever.\") ➞ \"forever\"\n",
    "find_longest(\"Forgetfulness is by all means powerless!\") ➞ \"forgetfulness\"\n",
    "find_longest(\"\\\"Strengths\\\" is the longest and most commonly used word that contains only a single vowel.\") ➞ \"strengths\""
   ]
  },
  {
   "cell_type": "code",
   "execution_count": 121,
   "id": "4b57a452",
   "metadata": {},
   "outputs": [],
   "source": [
    "def find_longest(string):\n",
    "    list1 = []\n",
    "    for i in string.split(\" \"):\n",
    "        list1.append(len(i))\n",
    "    return (f\"{string} >> {string.split(' ')[list1.index(max(list1))].lower()}\")"
   ]
  },
  {
   "cell_type": "code",
   "execution_count": 122,
   "id": "640b4254",
   "metadata": {},
   "outputs": [
    {
     "name": "stdout",
     "output_type": "stream",
     "text": [
      "A thing of beauty is a joy forever. >> forever.\n",
      "Forgetfulness is by all means powerless! >> forgetfulness\n",
      "\"Strengths\" is the longest and most commonly used word that contains only a single vowel. >> \"strengths\"\n",
      "yash mohite >> mohite\n"
     ]
    }
   ],
   "source": [
    "print(find_longest(\"A thing of beauty is a joy forever.\"))\n",
    "print(find_longest(\"Forgetfulness is by all means powerless!\"))\n",
    "print(find_longest(\"\\\"Strengths\\\" is the longest and most commonly used word that contains only a single vowel.\"))\n",
    "print(find_longest(\"yash mohite\"))"
   ]
  },
  {
   "cell_type": "code",
   "execution_count": 123,
   "id": "25e6ffca",
   "metadata": {},
   "outputs": [],
   "source": [
    "def checker_board(size,one,two):\n",
    "    if one != two:\n",
    "        input = [one,two]\n",
    "        output = []\n",
    "        for i in range(size):\n",
    "            output.append([])\n",
    "            for j in range(size):\n",
    "                output[i].append(input[(i+j)%2])\n",
    "    else:\n",
    "        output = \"Invalid\"\n",
    "    return f\"{size,one,two} >> {output}\""
   ]
  },
  {
   "cell_type": "code",
   "execution_count": 124,
   "id": "94d4d95a",
   "metadata": {},
   "outputs": [
    {
     "name": "stdout",
     "output_type": "stream",
     "text": [
      "(2, 7, 6) >> [[7, 6], [6, 7]]\n",
      "(3, 'A', 'B') >> [['A', 'B', 'A'], ['B', 'A', 'B'], ['A', 'B', 'A']]\n",
      "(4, 'c', 'd') >> [['c', 'd', 'c', 'd'], ['d', 'c', 'd', 'c'], ['c', 'd', 'c', 'd'], ['d', 'c', 'd', 'c']]\n",
      "(4, 'c', 'c') >> Invalid\n"
     ]
    }
   ],
   "source": [
    "print(checker_board(2, 7, 6)) # [[7, 6], [6, 7]]\n",
    "print(checker_board(3, \"A\", \"B\")) # [[\"A\", \"B\", \"A\"], [\"B\", \"A\", \"B\"], [\"A\", \"B\", \"A\"]]\n",
    "print(checker_board(4, \"c\", \"d\")) # [[\"c\", \"d\", \"c\", \"d\"], [\"d\", \"c\", \"d\", \"c\"], [\"c\", \"d\", \"c\", \"d\"], [\"d\", \"c\", \"d\", \"c\"]]\n",
    "print(checker_board(4, \"c\", \"c\")) # \"invalid\""
   ]
  },
  {
   "cell_type": "markdown",
   "id": "4c99ae06",
   "metadata": {},
   "source": [
    "2. A string is an almost-palindrome if, by changing only one character, you can make it a palindrome. Create a function that returns True if a string is an almost-palindrome and False otherwise.\n",
    "Examples:\n",
    "almost_palindrome(\"abcdcbg\") ➞ True\n",
    "# Transformed to \"abcdcba\" by changing \"g\" to \"a\".\n",
    "\n",
    "almost_palindrome(\"abccia\") ➞ True\n",
    "# Transformed to \"abccba\" by changing \"i\" to \"b\".\n",
    "\n",
    "almost_palindrome(\"abcdaaa\") ➞ False\n",
    "# Can't be transformed to a palindrome in exactly 1 turn.\n",
    "\n",
    "almost_palindrome(\"1234312\") ➞ False"
   ]
  },
  {
   "cell_type": "code",
   "execution_count": 125,
   "id": "1b171e12",
   "metadata": {},
   "outputs": [],
   "source": [
    "def almost_palindrome(string):\n",
    "    rev = string[::-1]\n",
    "    count = 0\n",
    "    for i in range(len(string)):\n",
    "        if string[i] != rev[i]:\n",
    "            count += 1\n",
    "    output = True if count == 2 else False\n",
    "    return f\"{string} >> {output}\""
   ]
  },
  {
   "cell_type": "code",
   "execution_count": 126,
   "id": "f975fdcc",
   "metadata": {},
   "outputs": [
    {
     "name": "stdout",
     "output_type": "stream",
     "text": [
      "abcdcbg >> True\n",
      "abccia >> True\n",
      "abcdaaa >> False\n",
      "1234312 >> False\n",
      "111115 >> True\n"
     ]
    }
   ],
   "source": [
    "print(almost_palindrome(\"abcdcbg\"))\n",
    "print(almost_palindrome(\"abccia\"))\n",
    "print(almost_palindrome(\"abcdaaa\"))\n",
    "print(almost_palindrome(\"1234312\"))\n",
    "print(almost_palindrome(\"111115\"))"
   ]
  },
  {
   "cell_type": "markdown",
   "id": "84ccd2c1",
   "metadata": {},
   "source": [
    "3. Create a function that finds how many prime numbers there are, up to the given integer.\n",
    "Examples:\n",
    "prime_numbers(10) ➞ 4 # 2, 3, 5 and 7\n",
    "prime_numbers(20) ➞ 8 # 2, 3, 5, 7, 11, 13, 17 and 19\n",
    "prime_numbers(30) ➞ 10 # 2, 3, 5, 7, 11, 13, 17, 19, 23 and 29"
   ]
  },
  {
   "cell_type": "code",
   "execution_count": 127,
   "id": "3e274cd5",
   "metadata": {},
   "outputs": [],
   "source": [
    "def prime_numbers(n):\n",
    "    prime = 0\n",
    "    for i in range(2,n+1):\n",
    "        if all(i%j != 0 for j in range(2,int(i**(1/2))+1)):\n",
    "            prime +=1\n",
    "    return f\"{n} >> {prime}\""
   ]
  },
  {
   "cell_type": "code",
   "execution_count": 128,
   "id": "808f01a2",
   "metadata": {},
   "outputs": [
    {
     "name": "stdout",
     "output_type": "stream",
     "text": [
      "10 >> 4\n",
      "20 >> 8\n",
      "30 >> 10\n",
      "40 >> 12\n",
      "1000 >> 168\n"
     ]
    }
   ],
   "source": [
    "print(prime_numbers(10))\n",
    "print(prime_numbers(20))\n",
    "print(prime_numbers(30)) \n",
    "print(prime_numbers(40)) \n",
    "print(prime_numbers(1000)) "
   ]
  },
  {
   "cell_type": "markdown",
   "id": "9d90c77f",
   "metadata": {},
   "source": [
    "4. If today was Monday, in two days, it would be Wednesday.\n",
    "Create a function that takes in a list of days as input and the number of days to increment by. Return a list of days after n number of days has passed.\n",
    "\n",
    "Examples:\n",
    "after_n_days([\"Thursday\", \"Monday\"], 4) ➞ [\"Monday\", \"Friday\"]\n",
    "after_n_days([\"Sunday\", \"Sunday\", \"Sunday\"], 1) ➞ [\"Monday\", \"Monday\", \"Monday\"]\n",
    "after_n_days([\"Monday\", \"Tuesday\", \"Friday\"], 1) ➞ [\"Tuesday\", \"Wednesday\", \"Saturday\"]"
   ]
  },
  {
   "cell_type": "code",
   "execution_count": 129,
   "id": "9bccea8f",
   "metadata": {},
   "outputs": [],
   "source": [
    "def after_n_days(days, n):\n",
    "    week_dict = {0:'Sunday',1:'Monday',2:'Tuesday',3:'Wednesday',\n",
    "                 4:'Thursday',5:'Friday',6:'Saturday'}\n",
    "    days_no = list(week_dict.keys())\n",
    "    days_names = list(week_dict.values())\n",
    "    output = []\n",
    "    for i in days:\n",
    "        output.append(week_dict[(days_names.index(i)+n)%7])\n",
    "    return f\"{days, n} >> {output}\"    "
   ]
  },
  {
   "cell_type": "code",
   "execution_count": 130,
   "id": "f23a63fe",
   "metadata": {},
   "outputs": [
    {
     "name": "stdout",
     "output_type": "stream",
     "text": [
      "(['Thursday', 'Monday'], 4) >> ['Monday', 'Friday']\n",
      "(['Sunday', 'Sunday', 'Sunday'], 1) >> ['Monday', 'Monday', 'Monday']\n",
      "(['Monday', 'Tuesday', 'Friday'], 7) >> ['Monday', 'Tuesday', 'Friday']\n"
     ]
    }
   ],
   "source": [
    "print(after_n_days([\"Thursday\", \"Monday\"], 4))\n",
    "print(after_n_days([\"Sunday\", \"Sunday\", \"Sunday\"], 1))\n",
    "print(after_n_days([\"Monday\", \"Tuesday\", \"Friday\"], 7))"
   ]
  },
  {
   "cell_type": "code",
   "execution_count": 131,
   "id": "beb03248",
   "metadata": {},
   "outputs": [],
   "source": [
    "def is_correct_aliases(lst1,lst2):\n",
    "    output = False\n",
    "    if len(lst1) == len(lst2):\n",
    "        for i in range(len(lst1)):\n",
    "            if lst1[i].split(\" \")[0][0] == lst2[i].split(\" \")[0][0] == lst2[i].split(\" \")[1][0]:\n",
    "                output = True\n",
    "            else:\n",
    "                output = False\n",
    "                break\n",
    "    return f\"{lst1,lst2} >> {output}\""
   ]
  },
  {
   "cell_type": "code",
   "execution_count": 132,
   "id": "845dee87",
   "metadata": {},
   "outputs": [
    {
     "name": "stdout",
     "output_type": "stream",
     "text": [
      "(['Beth T.'], ['Brandishing Mimosa']) >> False\n",
      "(['Adrian M.', 'Harriet S.', 'Mandy T.'], ['Amazing Artichoke', 'Hopeful Hedgehog', 'Marvelous Mouse']) >> True\n",
      "(['Rachel F.', 'Pam G.', 'Fred Z.', 'Nancy K.'], ['Reassuring Rat', 'Peaceful Panda', 'Fantastic Frog', 'Notable Nickel']) >> True\n"
     ]
    }
   ],
   "source": [
    "print(is_correct_aliases([\"Beth T.\"],[\"Brandishing Mimosa\"]))\n",
    "print(is_correct_aliases([\"Adrian M.\",\"Harriet S.\",\"Mandy T.\"], [\"Amazing Artichoke\", \"Hopeful Hedgehog\", \"Marvelous Mouse\"]))\n",
    "print(is_correct_aliases([\"Rachel F.\",\"Pam G.\",\"Fred Z.\",\"Nancy K.\"], [\"Reassuring Rat\", \"Peaceful Panda\", \"Fantastic Frog\", \"Notable Nickel\"]))"
   ]
  },
  {
   "cell_type": "markdown",
   "id": "e3f8680b",
   "metadata": {},
   "source": [
    "1. Create a function based on the input and output. Look at the examples, there is a pattern.\n",
    "Examples:\n",
    "secret(\"p.one.two.three\") ➞ \"<p class='one two three'></p>\"\n",
    "secret(\"p.one\") ➞ \"<p class='one'></p>\"\n",
    "secret(\"p.four.five\") ➞ \"<p class='four five'></p>\""
   ]
  },
  {
   "cell_type": "code",
   "execution_count": 133,
   "id": "f4c524f6",
   "metadata": {},
   "outputs": [],
   "source": [
    "def secret(string):\n",
    "    clone = string\n",
    "    string = string.split(\".\")\n",
    "    output = f\"<{string[0]} class={' '.join(string[1:])}></{string[0]}>\"\n",
    "    return f\"{string} >>: {output}\""
   ]
  },
  {
   "cell_type": "code",
   "execution_count": 134,
   "id": "ca46cee3",
   "metadata": {},
   "outputs": [
    {
     "name": "stdout",
     "output_type": "stream",
     "text": [
      "['p', 'one', 'two', 'three'] >>: <p class=one two three></p>\n",
      "['p', 'one'] >>: <p class=one></p>\n",
      "['p', 'four', 'five'] >>: <p class=four five></p>\n",
      "['p', 'yash', 'mohite'] >>: <p class=yash mohite></p>\n"
     ]
    }
   ],
   "source": [
    "print(secret(\"p.one.two.three\"))\n",
    "print(secret(\"p.one\"))\n",
    "print(secret(\"p.four.five\"))\n",
    "print(secret(\"p.yash.mohite\"))"
   ]
  },
  {
   "cell_type": "markdown",
   "id": "04dfb933",
   "metadata": {},
   "source": [
    "2. Create a function which counts how many lone 1s appear in a given number. Lone means the number doesn't appear twice or more in a row.\n",
    "Examples:\n",
    "count_lone_ones(101) ➞ 2\n",
    "count_lone_ones(1191) ➞ 1\n",
    "count_lone_ones(1111) ➞ 0\n",
    "count_lone_ones(462) ➞ 0"
   ]
  },
  {
   "cell_type": "code",
   "execution_count": 135,
   "id": "6ce60878",
   "metadata": {},
   "outputs": [],
   "source": [
    "def count_lone(num):\n",
    "    pattern =  r\"(?<!1)1(?!1)\"\n",
    "    output = re.findall(pattern,str(num))\n",
    "    return f\"{num} >>> {len(output)}\""
   ]
  },
  {
   "cell_type": "code",
   "execution_count": 136,
   "id": "cc6a4b09",
   "metadata": {},
   "outputs": [
    {
     "name": "stdout",
     "output_type": "stream",
     "text": [
      "101 >>> 2\n",
      "1191 >>> 1\n",
      "1111 >>> 0\n",
      "462 >>> 0\n",
      "1101 >>> 1\n"
     ]
    }
   ],
   "source": [
    "print(count_lone(101))\n",
    "print(count_lone(1191))\n",
    "print(count_lone(1111))\n",
    "print(count_lone(462))\n",
    "print(count_lone(1101))"
   ]
  },
  {
   "cell_type": "markdown",
   "id": "6403df24",
   "metadata": {},
   "source": [
    "3. Write a method that accepts two integer parameters rows and cols. The output is a 2d array of numbers displayed in column-major order, meaning the numbers shown increase sequentially down each column and wrap to the top of the next column to the right once the bottom of the current column is reached.\n",
    "Examples:\n",
    "printGrid(3, 6) ➞ [ [1, 4, 7, 10, 13, 16], [2, 5, 8, 11, 14, 17], [3, 6, 9, 12, 15, 18] ]\n",
    "\n",
    "printGrid(5, 3) ➞ [ [1, 6, 11], [2, 7, 12], [3, 8, 13], [4, 9, 14], [5, 10, 15] ]\n",
    "\n",
    "printGrid(4, 1) ➞ [ [1], [2], [3], [4] ]"
   ]
  },
  {
   "cell_type": "code",
   "execution_count": 137,
   "id": "66508e12",
   "metadata": {},
   "outputs": [],
   "source": [
    "def printGrid(rows,colm):\n",
    "    output = []\n",
    "    for i in range(rows):\n",
    "        temp = []\n",
    "        for j in range(colm):\n",
    "            temp.append(i+(rows*j)+1)\n",
    "        output.append(temp)\n",
    "    return f\"{rows,colm} >>> {output}\""
   ]
  },
  {
   "cell_type": "code",
   "execution_count": 138,
   "id": "d6bfe077",
   "metadata": {},
   "outputs": [
    {
     "name": "stdout",
     "output_type": "stream",
     "text": [
      "(3, 6) >>> [[1, 4, 7, 10, 13, 16], [2, 5, 8, 11, 14, 17], [3, 6, 9, 12, 15, 18]]\n",
      "(5, 3) >>> [[1, 6, 11], [2, 7, 12], [3, 8, 13], [4, 9, 14], [5, 10, 15]]\n",
      "(4, 1) >>> [[1], [2], [3], [4]]\n",
      "(2, 1) >>> [[1], [2]]\n"
     ]
    }
   ],
   "source": [
    "print(printGrid(3, 6))\n",
    "print(printGrid(5, 3))  \n",
    "print(printGrid(4, 1))\n",
    "print(printGrid(2,1))"
   ]
  },
  {
   "cell_type": "markdown",
   "id": "d28fd338",
   "metadata": {},
   "source": [
    "4. Given a list of integers, return the smallest positive integer not present in the list.\n",
    "Here is a representative example.\n",
    "Consider the list: [-2, 6, 4, 5, 7, -1, 7, 1, 3, 6, 6, -2, 9, 10, 2, 2]\n",
    "After reordering, the list becomes: [-2, -2, -1, 1, 2, 2, 3, 4, 5, 6, 6, 6, 7, 7, 9, 10]\n",
    "from which we see that the smallest missing positive integer is 8.\n",
    "\n",
    "Examples:\n",
    "min_miss_pos([-2, 6, 4, 5, 7, -1, 1, 3, 6, -2, 9, 10, 2, 2]) ➞ 8\n",
    "# After sorting, list becomes [-2, -2, -1, 1, 2, 2, 3, 4, 5, 6, 6, 7, 9, 10]\n",
    "# So the smallest missing positive integer is 8\n",
    "\n",
    "min_miss_pos([5, 9, -2, 0, 1, 3, 9, 3, 8, 9]) ➞ 2\n",
    "# After sorting, list becomes [-2, 0, 1, 3, 3, 5, 8, 9, 9, 9]\n",
    "# So the smallest missing positive integer is 2\n",
    "\n",
    "min_miss_pos([0, 4, 4, -1, 9, 4, 5, 2, 10, 7, 6, 3, 10, 9]) ➞ 1\n",
    "# After sorting, list becomes [-1, 0, 2, 3, 4, 4, 4, 5, 6, 7, 9, 9, 10, 10]\n",
    "# So the smallest missing positive integer is 1"
   ]
  },
  {
   "cell_type": "code",
   "execution_count": 139,
   "id": "e26c7906",
   "metadata": {},
   "outputs": [],
   "source": [
    "def min_miss_pos(lst):\n",
    "    copy_lst = lst.copy()\n",
    "    lst = sorted(lst)\n",
    "    output = -1\n",
    "    for i in range(1,max(lst)+1):\n",
    "        if i not in lst:\n",
    "            output = i\n",
    "            break  \n",
    "    return f\"{copy_lst} >> {output}\""
   ]
  },
  {
   "cell_type": "code",
   "execution_count": 140,
   "id": "343138d7",
   "metadata": {},
   "outputs": [
    {
     "name": "stdout",
     "output_type": "stream",
     "text": [
      "[-2, 6, 4, 5, 7, -1, 1, 3, 6, -2, 9, 10, 2, 2] >> 8\n",
      "[5, 9, -2, 0, 1, 3, 9, 3, 8, 9] >> 2\n",
      "[0, 4, 4, -1, 9, 4, 5, 2, 10, 7, 6, 3, 10, 9] >> 1\n",
      "[1, 3, 5] >> 2\n"
     ]
    }
   ],
   "source": [
    "print(min_miss_pos([-2, 6, 4, 5, 7, -1, 1, 3, 6, -2, 9, 10, 2, 2]))\n",
    "print(min_miss_pos([5, 9, -2, 0, 1, 3, 9, 3, 8, 9]))\n",
    "print(min_miss_pos([0, 4, 4, -1, 9, 4, 5, 2, 10, 7, 6, 3, 10, 9]))\n",
    "print(min_miss_pos([1,3,5]))"
   ]
  },
  {
   "cell_type": "markdown",
   "id": "75a64cdc",
   "metadata": {},
   "source": [
    "5. Google is launching a network of autonomous pizza delivery drones and wants you to create a flexible rewards system (Pizza Points™) that can be tweaked in the future. The rules are simple: if a customer has made at least N orders of at least Y price, they get a FREE pizza!\n",
    "Create a function that takes a dictionary of customers, a minimum number of orders and a minimum order price. Return a list of customers that are eligible for a free pizza.\n",
    "\n",
    "Examples:\n",
    "\n",
    "customers = { \"Batman\": [22, 30, 11, 17, 15, 52, 27, 12], \"Spider-Man\": [5, 17, 30, 33, 40, 22, 26, 10, 11, 45] }\n",
    "\n",
    "pizza_points(customers, 5, 20) ➞ [\"Spider-Man\"]\n",
    "pizza_points(customers, 3, 10) ➞ [\"Batman\", \"Spider-Man\"]\n",
    "pizza_points(customers, 5, 100) ➞ []"
   ]
  },
  {
   "cell_type": "code",
   "execution_count": 141,
   "id": "846501e8",
   "metadata": {},
   "outputs": [],
   "source": [
    "def pizza_point(customers,min_oders,min_price):\n",
    "    output = []\n",
    "    for customer,orders in customers.items():\n",
    "        num_orders = len([i for i in orders if i >= min_price])\n",
    "        if num_orders >= min_oders:\n",
    "            output.append(customer)\n",
    "    return f\"{min_oders,min_price} >> {output}\"\n",
    "\n",
    "customers = {\n",
    "  \"Batman\": [22, 30, 11, 17, 15, 52, 27, 12],\n",
    "  \"Spider-Man\": [5, 17, 30, 33, 40, 22, 26, 10, 11, 45]\n",
    "}"
   ]
  },
  {
   "cell_type": "code",
   "execution_count": 142,
   "id": "e00067b3",
   "metadata": {},
   "outputs": [
    {
     "name": "stdout",
     "output_type": "stream",
     "text": [
      "(5, 20) >> ['Spider-Man']\n",
      "(3, 10) >> ['Batman', 'Spider-Man']\n",
      "(5, 100) >> []\n"
     ]
    }
   ],
   "source": [
    "print(pizza_point(customers, 5, 20))\n",
    "print(pizza_point(customers, 3, 10))\n",
    "print(pizza_point(customers, 5, 100))"
   ]
  },
  {
   "cell_type": "markdown",
   "id": "ce11d50a",
   "metadata": {},
   "source": [
    "1. Given a sentence, return the number of words which have the same first and last letter.\n",
    "Examples:\n",
    "count_same_ends(\"Pop! goes the balloon\") ➞ 1\n",
    "count_same_ends(\"And the crowd goes wild!\") ➞ 0\n",
    "count_same_ends(\"No I am not in a gang.\") ➞ 1"
   ]
  },
  {
   "cell_type": "code",
   "execution_count": 143,
   "id": "c54fb18a",
   "metadata": {},
   "outputs": [],
   "source": [
    "def count_same_ends(string):\n",
    "    special_char = \"!@#$%^&*.\"\n",
    "    clean = \"\"\n",
    "    out_num = 0\n",
    "    for i in string:\n",
    "        if i not in special_char:\n",
    "            clean += i\n",
    "    for j in clean.split(\" \"):\n",
    "        if j[0].lower() == j[-1].lower():\n",
    "            if len(j) > 1:\n",
    "                out_num += 1\n",
    "    return f\"{string} >> {out_num}\""
   ]
  },
  {
   "cell_type": "code",
   "execution_count": 144,
   "id": "f8a78589",
   "metadata": {},
   "outputs": [
    {
     "name": "stdout",
     "output_type": "stream",
     "text": [
      "Pop! goes the balloo >> 1\n",
      "And the crowd goes wild! >> 0\n",
      "No I am not in a gang. >> 1\n"
     ]
    }
   ],
   "source": [
    "print(count_same_ends(\"Pop! goes the balloo\"))\n",
    "print(count_same_ends(\"And the crowd goes wild!\"))\n",
    "print(count_same_ends(\"No I am not in a gang.\"))"
   ]
  },
  {
   "cell_type": "markdown",
   "id": "6d362074",
   "metadata": {},
   "source": [
    "2. The Atbash cipher is an encryption method in which each letter of a word is replaced with its \"mirror\" letter in the alphabet: A <=> Z; B <=> Y; C <=> X; etc.\n",
    "Create a function that takes a string and applies the Atbash cipher to it.\n",
    "\n",
    "Examples:\n",
    "atbash(\"apple\") ➞ \"zkkov\"\n",
    "atbash(\"Hello world!\") ➞ \"Svool dliow!\"\n",
    "atbash(\"Christmas is the 25th of December\") ➞ \"Xsirhgnzh rh gsv 25gs lu Wvxvnyvi\""
   ]
  },
  {
   "cell_type": "code",
   "execution_count": 145,
   "id": "29178ce3",
   "metadata": {},
   "outputs": [],
   "source": [
    "def atbash(string):\n",
    "    alpha = 'abcdefghijklmnopqrstuvwxyz'\n",
    "    reve_alpha = 'zyxwvutsrqponmlkjihgfedcba'\n",
    "    output = \"\"\n",
    "    for i in string:\n",
    "        if i not in \" !1234567890\":\n",
    "            output += reve_alpha[alpha.index(i.lower())].upper() if i.isupper() else reve_alpha[alpha.index(i.lower())]\n",
    "        else:\n",
    "            output += i\n",
    "    return f\"{string} >> {output}\"\n",
    "    "
   ]
  },
  {
   "cell_type": "code",
   "execution_count": 146,
   "id": "8c6777ec",
   "metadata": {},
   "outputs": [
    {
     "name": "stdout",
     "output_type": "stream",
     "text": [
      "apple >> zkkov\n",
      "Hello world! >> Svool dliow!\n",
      "Christmas is the 25th of December >> Xsirhgnzh rh gsv 25gs lu Wvxvnyvi\n",
      "yash mohite >> bzhs nlsrgv\n",
      "1569itrd >> 1569rgiw\n"
     ]
    }
   ],
   "source": [
    "print(atbash(\"apple\"))\n",
    "print(atbash(\"Hello world!\"))\n",
    "print(atbash(\"Christmas is the 25th of December\"))\n",
    "print(atbash(\"yash mohite\"))\n",
    "print(atbash(\"1569itrd\"))"
   ]
  },
  {
   "cell_type": "markdown",
   "id": "abc20459",
   "metadata": {},
   "source": [
    "3. Create a class Employee that will take a full name as argument, as well as a set of none, one or more keywords. Each instance should have a name and a lastname attributes plus one more attribute for each of the keywords, if any.\n",
    "Examples:\n",
    "john = Employee(\"John Doe\")\n",
    "mary = Employee(\"Mary Major\", salary=120000)\n",
    "richard = Employee(\"Richard Roe\", salary=110000, height=178)\n",
    "giancarlo = Employee(\"Giancarlo Rossi\", salary=115000, height=182, nationality=\"Italian\")\n",
    "\n",
    "john.name ➞ \"John\"\n",
    "mary.lastname ➞ \"Major\"\n",
    "richard.height ➞ 178\n",
    "giancarlo.nationality ➞ \"Italian\""
   ]
  },
  {
   "cell_type": "code",
   "execution_count": 147,
   "id": "e15c562a",
   "metadata": {},
   "outputs": [],
   "source": [
    "class Employee:\n",
    "    \n",
    "    def __init__(self,name=None,salary=None,height=None,nationality=None):\n",
    "        self.name = name\n",
    "        self.firstname = name.split(\" \")[0]\n",
    "        self.lastname = name.split(\" \")[1]\n",
    "        self.salary = salary\n",
    "        self.height = height\n",
    "        self.nationality = nationality"
   ]
  },
  {
   "cell_type": "code",
   "execution_count": 148,
   "id": "c5e36108",
   "metadata": {},
   "outputs": [],
   "source": [
    "john = Employee(\"John Doe\")    \n",
    "mary = Employee(\"Mary Major\",salary=120000)\n",
    "richard = Employee(\"Richard Roe\", salary=110000, height=178)\n",
    "giancarlo = Employee(\"Giancarlo Rossi\", salary=115000, height=182, nationality=\"Italian\")"
   ]
  },
  {
   "cell_type": "code",
   "execution_count": 149,
   "id": "b2772375",
   "metadata": {},
   "outputs": [
    {
     "name": "stdout",
     "output_type": "stream",
     "text": [
      "john.name ➞ \"John Doe\"\n",
      "mary.lastname ➞ \"Major\"\n",
      "richard.height ➞ 178\n",
      "giancarlo.nationality ➞ \"Italian\"\n"
     ]
    }
   ],
   "source": [
    "print(f'john.name ➞ \"{john.name}\"')\n",
    "print(f'mary.lastname ➞ \"{mary.lastname}\"')\n",
    "print(f'richard.height ➞ {richard.height}')\n",
    "print(f'giancarlo.nationality ➞ \"{giancarlo.nationality}\"')"
   ]
  },
  {
   "cell_type": "markdown",
   "id": "e5765269",
   "metadata": {},
   "source": [
    "4. Create a function that determines whether each seat can \"see\" the front-stage. A number can \"see\" the front-stage if it is strictly greater than the number before it.\n",
    "Everyone can see the front-stage in the example below:\n",
    "\n",
    "# FRONT STAGE [[1, 2, 3, 2, 1, 1], [2, 4, 4, 3, 2, 2], [5, 5, 5, 5, 4, 4], [6, 6, 7, 6, 5, 5]]\n",
    "\n",
    "# Starting from the left, the 6 > 5 > 2 > 1, so all numbers can see.\n",
    "# 6 > 5 > 4 > 2 - so all numbers can see, etc.\n",
    "\n",
    "Not everyone can see the front-stage in the example below:\n",
    "\n",
    "# FRONT STAGE [[1, 2, 3, 2, 1, 1], [2, 4, 4, 3, 2, 2], [5, 5, 5, 10, 4, 4], [6, 6, 7, 6, 5, 5]]\n",
    "\n",
    "# The 10 is directly in front of the 6 and blocking its view.\n",
    "\n",
    "The function should return True if every number can see the front-stage, and False if even a single number cannot.\n",
    "\n",
    "Examples:\n",
    "can_see_stage([[1, 2, 3],[4, 5, 6],[7, 8, 9]]) ➞ True\n",
    "can_see_stage([[0, 0, 0],[1, 1, 1],[2, 2, 2]]) ➞ True\n",
    "can_see_stage([[2, 0, 0],[1, 1, 1],[2, 2, 2]]) ➞ False\n",
    "can_see_stage([[1, 0, 0],[1, 1, 1],[2, 2, 2]]) ➞ False\n",
    "\n",
    "# Number must be strictly smaller than\n",
    "# the number directly behind it."
   ]
  },
  {
   "cell_type": "code",
   "execution_count": 150,
   "id": "7172de7e",
   "metadata": {},
   "outputs": [],
   "source": [
    "def can_see_stage(lst):\n",
    "    for i in range(len(lst)-1):\n",
    "        for j in range(len(lst[i])):\n",
    "            if lst[i][j] >= lst[i + 1][j]:\n",
    "                return f\"{lst} >> {False}\"\n",
    "    return f\"{lst} >> {True}\""
   ]
  },
  {
   "cell_type": "code",
   "execution_count": 151,
   "id": "d0e09f8d",
   "metadata": {},
   "outputs": [
    {
     "name": "stdout",
     "output_type": "stream",
     "text": [
      "[[1, 2, 3], [4, 5, 6], [7, 8, 9]] >> True\n",
      "[[0, 0, 0], [1, 1, 1], [2, 2, 2]] >> True\n",
      "[[2, 0, 0], [1, 1, 1], [2, 2, 2]] >> False\n",
      "[[1, 0, 0], [1, 1, 1], [2, 2, 2]] >> False\n"
     ]
    }
   ],
   "source": [
    "print(can_see_stage([[1, 2, 3],[4, 5, 6],[7, 8, 9]]))\n",
    "print(can_see_stage([[0, 0, 0],[1, 1, 1],[2, 2, 2]]))\n",
    "print(can_see_stage([[2, 0, 0],[1, 1, 1],[2, 2, 2]]))\n",
    "print(can_see_stage([[1, 0, 0],[1, 1, 1],[2, 2, 2]]))"
   ]
  },
  {
   "cell_type": "markdown",
   "id": "e5949f52",
   "metadata": {},
   "source": [
    "Examples:\n",
    "\n",
    "p1 = Pizza([\"bacon\", \"parmesan\", \"ham\"]) # order 1\n",
    "p2 = Pizza.garden_feast() # order 2\n",
    "p1.ingredients ➞ [\"bacon\", \"parmesan\", \"ham\"]\n",
    "p2.ingredients ➞ [\"spinach\", \"olives\", \"mushroom\"]\n",
    "p1.order_number ➞ 1\n",
    "p2.order_number ➞ 2"
   ]
  },
  {
   "cell_type": "code",
   "execution_count": 152,
   "id": "7d06250a",
   "metadata": {},
   "outputs": [],
   "source": [
    "class Pizza:\n",
    "    order_count = 0\n",
    "    \n",
    "    def __init__(self,ingredients=None):\n",
    "        self.ingredients = ingredients\n",
    "        self.order_number = Pizza.order_count+1\n",
    "        Pizza.order_count = self.order_number\n",
    "        \n",
    "    def hawaiian(self):\n",
    "        self.ingredients = [\"ham\", \"pineapple\"]\n",
    "    \n",
    "    def meat_festival(self):\n",
    "        self.ingredients = ['beef', 'meatball', 'bacon']\n",
    "        \n",
    "    def garden_feast(self):\n",
    "        self.ingredients = ['spinach', 'olives', 'mushroom']"
   ]
  },
  {
   "cell_type": "code",
   "execution_count": 153,
   "id": "36aa9c1e",
   "metadata": {},
   "outputs": [],
   "source": [
    "p1 = Pizza([\"bacon\", \"parmesan\", \"ham\"])"
   ]
  },
  {
   "cell_type": "code",
   "execution_count": 154,
   "id": "1fcd4cab",
   "metadata": {},
   "outputs": [
    {
     "data": {
      "text/plain": [
       "['bacon', 'parmesan', 'ham']"
      ]
     },
     "execution_count": 154,
     "metadata": {},
     "output_type": "execute_result"
    }
   ],
   "source": [
    "p1.ingredients"
   ]
  },
  {
   "cell_type": "code",
   "execution_count": 155,
   "id": "f5bd47da",
   "metadata": {},
   "outputs": [],
   "source": [
    "p2 = Pizza()"
   ]
  },
  {
   "cell_type": "code",
   "execution_count": 156,
   "id": "21302d78",
   "metadata": {},
   "outputs": [],
   "source": [
    "p2.ingredients"
   ]
  },
  {
   "cell_type": "code",
   "execution_count": 157,
   "id": "cb49698b",
   "metadata": {},
   "outputs": [
    {
     "data": {
      "text/plain": [
       "1"
      ]
     },
     "execution_count": 157,
     "metadata": {},
     "output_type": "execute_result"
    }
   ],
   "source": [
    "p1.order_number"
   ]
  },
  {
   "cell_type": "code",
   "execution_count": 158,
   "id": "d09808a0",
   "metadata": {},
   "outputs": [
    {
     "data": {
      "text/plain": [
       "2"
      ]
     },
     "execution_count": 158,
     "metadata": {},
     "output_type": "execute_result"
    }
   ],
   "source": [
    "p2.order_number"
   ]
  },
  {
   "cell_type": "markdown",
   "id": "ea471d15",
   "metadata": {},
   "source": [
    "1. Create a class Smoothie and do the following:\n",
    "Create an instance attribute called ingredients.\n",
    "Create a get_cost method which calculates the total cost of the ingredients used to make the smoothie.\n",
    "Create a get_price method which returns the number from get_cost plus the number from get_cost multiplied by 1.5. Round to two decimal places.\n",
    "Create a get_name method which gets the ingredients and puts them in alphabetical order into a nice descriptive sentence. If there are multiple ingredients, add the word \"Fusion\" to the end but otherwise, add \"Smoothie\". Remember to change \"-berries\" to \"-berry\". See the examples below.\n",
    "Ingredient\t Price\n",
    "Strawberries $1.50\n",
    "Banana\t $0.50\n",
    "Mango\t $2.50\n",
    "Blueberries\t $1.00\n",
    "Raspberries\t $1.00\n",
    "Apple\t $1.75\n",
    "Pineapple\t $3.50\n",
    "\n",
    "Examples:\n",
    "\n",
    "s1 = Smoothie([\"Banana\"]) s1.ingredients ➞ [\"Banana\"] s1.get_cost() ➞ \"$0.50\" s1.get_price() ➞ \"$1.25\" s1.get_name() ➞ \"Banana Smoothie\" s2 = Smoothie([\"Raspberries\", \"Strawberries\", \"Blueberries\"]) s2.ingredients ➞ [\"Raspberries\", \"Strawberries\", \"Blueberries\"] s2.get_cost() ➞ \"$3.50\" s2.get_price() ➞ \"$8.75\" s2.get_name() ➞ \"Blueberry Raspberry Strawberry Fusion\""
   ]
  },
  {
   "cell_type": "code",
   "execution_count": 222,
   "id": "80562813",
   "metadata": {},
   "outputs": [],
   "source": [
    "class Smoothie:\n",
    "    price = {\n",
    "        'Strawberries':1.50,\n",
    "        'Banana':0.50,\n",
    "        'Mango':2.50,\n",
    "        'Blueberries':1.00,\n",
    "        'Raspberries':1.00,\n",
    "        'Apple':1.75,\n",
    "        'Pineapple':3.50\n",
    "    }\n",
    "    \n",
    "    def __init__(self,ingeredient):\n",
    "        self.ingeredient = ingeredient\n",
    "        \n",
    "    \n",
    "    def get_cost(self):\n",
    "        cost = sum(self.price[i] for i in self.ingeredient)\n",
    "        return \"${:.2f}\".format(cost)\n",
    "    \n",
    "    def get_price(self):\n",
    "        cost = sum(self.price[i] for i in self.ingeredient)\n",
    "        price = cost * 1.5 +cost\n",
    "        return \"${:.2f}\".format(price)\n",
    "    \n",
    "    def get_name(self):\n",
    "        ingeredient = [i.replace(\"berries\", \"berry\") for i in sorted(self.ingeredient)]\n",
    "        if len(ingeredient) > 1:\n",
    "            return \"{} fusion\".format(\" \".join(ingeredient))\n",
    "        else:\n",
    "            return \"{} smoothie\".format(ingeredient[0])"
   ]
  },
  {
   "cell_type": "code",
   "execution_count": 223,
   "id": "c71bb717",
   "metadata": {},
   "outputs": [],
   "source": [
    "s1 = Smoothie([\"Banana\"])"
   ]
  },
  {
   "cell_type": "code",
   "execution_count": 224,
   "id": "ec71a279",
   "metadata": {},
   "outputs": [
    {
     "data": {
      "text/plain": [
       "['Banana']"
      ]
     },
     "execution_count": 224,
     "metadata": {},
     "output_type": "execute_result"
    }
   ],
   "source": [
    "s1.ingeredient"
   ]
  },
  {
   "cell_type": "code",
   "execution_count": 225,
   "id": "431ab19f",
   "metadata": {},
   "outputs": [
    {
     "data": {
      "text/plain": [
       "'$0.50'"
      ]
     },
     "execution_count": 225,
     "metadata": {},
     "output_type": "execute_result"
    }
   ],
   "source": [
    "s1.get_cost()"
   ]
  },
  {
   "cell_type": "code",
   "execution_count": 226,
   "id": "9fb5cff6",
   "metadata": {},
   "outputs": [
    {
     "data": {
      "text/plain": [
       "'$1.25'"
      ]
     },
     "execution_count": 226,
     "metadata": {},
     "output_type": "execute_result"
    }
   ],
   "source": [
    "s1.get_price()"
   ]
  },
  {
   "cell_type": "code",
   "execution_count": 227,
   "id": "bcc7b702",
   "metadata": {},
   "outputs": [
    {
     "data": {
      "text/plain": [
       "'Banana smoothie'"
      ]
     },
     "execution_count": 227,
     "metadata": {},
     "output_type": "execute_result"
    }
   ],
   "source": [
    "s1.get_name()"
   ]
  },
  {
   "cell_type": "code",
   "execution_count": 228,
   "id": "7fdbff78",
   "metadata": {},
   "outputs": [],
   "source": [
    "s2 = Smoothie([\"Raspberries\", \"Strawberries\", \"Blueberries\"])"
   ]
  },
  {
   "cell_type": "code",
   "execution_count": 229,
   "id": "30a64053",
   "metadata": {},
   "outputs": [
    {
     "data": {
      "text/plain": [
       "['Raspberries', 'Strawberries', 'Blueberries']"
      ]
     },
     "execution_count": 229,
     "metadata": {},
     "output_type": "execute_result"
    }
   ],
   "source": [
    "s2.ingeredient"
   ]
  },
  {
   "cell_type": "code",
   "execution_count": 230,
   "id": "cb20780a",
   "metadata": {},
   "outputs": [
    {
     "data": {
      "text/plain": [
       "'$3.50'"
      ]
     },
     "execution_count": 230,
     "metadata": {},
     "output_type": "execute_result"
    }
   ],
   "source": [
    "s2.get_cost()"
   ]
  },
  {
   "cell_type": "code",
   "execution_count": 231,
   "id": "7f8d814f",
   "metadata": {},
   "outputs": [
    {
     "data": {
      "text/plain": [
       "'$8.75'"
      ]
     },
     "execution_count": 231,
     "metadata": {},
     "output_type": "execute_result"
    }
   ],
   "source": [
    "s2.get_price()"
   ]
  },
  {
   "cell_type": "code",
   "execution_count": 232,
   "id": "5bd75ba0",
   "metadata": {},
   "outputs": [
    {
     "data": {
      "text/plain": [
       "'Blueberry Raspberry Strawberry fusion'"
      ]
     },
     "execution_count": 232,
     "metadata": {},
     "output_type": "execute_result"
    }
   ],
   "source": [
    "s2.get_name()"
   ]
  },
  {
   "cell_type": "markdown",
   "id": "9f495cd2",
   "metadata": {},
   "source": [
    "2. Your task is to write a program which allows teachers to create a multiple choice test in a class called Testpaper and to be also able to assign a minimum pass mark. The testpaper's subject should also be included. The attributes are in the following order:\n",
    "subject\n",
    "markscheme\n",
    "pass_mark\n",
    "As well as that, we need to create student objects to take the test itself! Create another class called Student and do the following:\n",
    "\n",
    "Create an attribute called tests_taken and set the default as 'No tests taken'.\n",
    "Make a method called take_test(), which takes in the testpaper object they are completing and the student's answers. Compare what they wrote to the mark scheme, and append to the/create a dictionary assigned to tests_taken in the way as shown in the point below.\n",
    "Each key in the dictionary should be the testpaper subject and each value should be a string in the format seen in the examples below (whether or not the student has failed, and their percentage in brackets).\n",
    "Examples:\n",
    "paper1 = Testpaper(\"Maths\", [\"1A\", \"2C\", \"3D\", \"4A\", \"5A\"], \"60%\") paper2 = Testpaper(\"Chemistry\", [\"1C\", \"2C\", \"3D\", \"4A\"], \"75%\") paper3 = Testpaper(\"Computing\", [\"1D\", \"2C\", \"3C\", \"4B\", \"5D\", \"6C\", \"7A\"], \"75%\")"
   ]
  },
  {
   "cell_type": "code",
   "execution_count": 248,
   "id": "eb4fcc04",
   "metadata": {},
   "outputs": [],
   "source": [
    "class Testpaper:\n",
    "    def __init__(self,subject,markscheme,pass_marks):\n",
    "        self.subject = subject\n",
    "        self.markscheme = markscheme\n",
    "        self.pass_marks = pass_marks\n",
    "        \n",
    "    def get_result(self,ans):\n",
    "        total_marks = len(self.markscheme)\n",
    "        correct_marks = sum([1 for a,b in zip(self.markscheme,ans) if a == b])\n",
    "        percent = (correct_marks / total_marks)*100\n",
    "        return \"passed\" if percent > float(self.pass_marks.strip(\"%\")) else \"Fail\",\"{:.2f}%\".format(percent)\n",
    "\n",
    "class Student:\n",
    "    def __init__(self):\n",
    "        self.test_taken = {\"No Test Taken \"}\n",
    "    def take_test(self,testpaper,ans):\n",
    "        result,percent = testpaper.get_result(ans)\n",
    "        self.test_taken.add(\"{} ({})\".format(result,percent))\n",
    "                                         "
   ]
  },
  {
   "cell_type": "code",
   "execution_count": 249,
   "id": "389adba4",
   "metadata": {},
   "outputs": [],
   "source": [
    "paper1 =  Testpaper(\"Maths\", [\"1A\", \"2C\", \"3D\", \"4A\", \"5A\"], \"60%\")\n",
    "paper2 = Testpaper(\"Chemistry\", [\"1C\", \"2C\", \"3D\", \"4A\"], \"75%\")\n",
    "paper3 = Testpaper(\"Computing\", [\"1D\", \"2C\", \"3C\", \"4B\", \"5D\", \"6C\", \"7A\"], \"75%\")       "
   ]
  },
  {
   "cell_type": "code",
   "execution_count": 250,
   "id": "7d284469",
   "metadata": {},
   "outputs": [],
   "source": [
    "student1 = Student()\n",
    "student2 = Student()"
   ]
  },
  {
   "cell_type": "code",
   "execution_count": 251,
   "id": "c2a47a20",
   "metadata": {},
   "outputs": [
    {
     "data": {
      "text/plain": [
       "{'No Test Taken '}"
      ]
     },
     "execution_count": 251,
     "metadata": {},
     "output_type": "execute_result"
    }
   ],
   "source": [
    "student1.test_taken"
   ]
  },
  {
   "cell_type": "code",
   "execution_count": 256,
   "id": "a192c564",
   "metadata": {},
   "outputs": [],
   "source": [
    "student1.take_test(paper1, [\"1A\", \"2D\", \"3D\", \"4A\", \"5A\"])"
   ]
  },
  {
   "cell_type": "code",
   "execution_count": 257,
   "id": "b7417789",
   "metadata": {},
   "outputs": [
    {
     "data": {
      "text/plain": [
       "{'No Test Taken ', 'passed (80.00%)'}"
      ]
     },
     "execution_count": 257,
     "metadata": {},
     "output_type": "execute_result"
    }
   ],
   "source": [
    "student1.test_taken"
   ]
  },
  {
   "cell_type": "code",
   "execution_count": 259,
   "id": "615aa1c2",
   "metadata": {},
   "outputs": [],
   "source": [
    "student2.take_test(paper2, [\"1C\", \"2D\", \"3A\", \"4C\"]) "
   ]
  },
  {
   "cell_type": "code",
   "execution_count": 260,
   "id": "b428024f",
   "metadata": {},
   "outputs": [],
   "source": [
    "student2.take_test(paper3, [\"1A\", \"2C\", \"3A\", \"4C\", \"5D\", \"6C\", \"7B\"])"
   ]
  },
  {
   "cell_type": "code",
   "execution_count": 261,
   "id": "02d9a294",
   "metadata": {},
   "outputs": [
    {
     "data": {
      "text/plain": [
       "{'Fail (25.00%)', 'Fail (42.86%)', 'No Test Taken '}"
      ]
     },
     "execution_count": 261,
     "metadata": {},
     "output_type": "execute_result"
    }
   ],
   "source": [
    "student2.test_taken"
   ]
  },
  {
   "cell_type": "markdown",
   "id": "27b300e9",
   "metadata": {},
   "source": [
    "3. Due to unforseen circumstances in Suburbia, the trains will be delayed by a further 10 minutes.\n",
    "Create a function that will help to plan out and manage these delays! Create a function called manage_delays that does the following:\n",
    "\n",
    "Parameters will be the train object, a destination and number of minutes the delay is.\n",
    "Increment to the train object's expected_time by the delay, if the destination given is in the train object's destinations.\n",
    "Examples:\n",
    "trains = [ Train([\"Townsville\", \"Suburbia\", \"Urbantska\"], \"13:04\"), Train([\"Farmsdale\", \"Suburbia\", \"Lakeside Valley\"], \"13:20\"), Train([\"Suburbia\", \"Townsville\", \"Lakeside Valley\"], \"13:22\") ]\n",
    "\n",
    "for t in trains: manage_delays(t, \"Lakeside Valley\", 60)\n",
    "\n",
    "trains[0].expected_time ➞ \"13:04\" trains[1].expected_time ➞ \"14:20\" trains[2].expected_time ➞ \"14:22\""
   ]
  },
  {
   "cell_type": "code",
   "execution_count": 262,
   "id": "02c055e5",
   "metadata": {},
   "outputs": [],
   "source": [
    "import datetime\n",
    "class Train:\n",
    "    \n",
    "    def __init__(self,destinations,expected_time):\n",
    "        self.destinations = destinations\n",
    "        self.expected_time =expected_time\n",
    "        \n",
    "    def update_expexted_time(self,delay):\n",
    "        time = datetime.datetime.strptime(self.expected_time,\"%H:%M\")\n",
    "        time += datetime.timedelta(minutes=delay)\n",
    "        self.expected_time = time.strftime(\"%H:%M\")\n",
    "        \n",
    "def manage_delays(train,destination,delay):\n",
    "    if destination in train.destinations:\n",
    "        train.update_expexted_time(delay)"
   ]
  },
  {
   "cell_type": "code",
   "execution_count": 265,
   "id": "557c7139",
   "metadata": {},
   "outputs": [],
   "source": [
    "trains = [\n",
    "  Train([\"Townsville\", \"Suburbia\", \"Urbantska\"], \"13:04\"),\n",
    "  Train([\"Farmsdale\", \"Suburbia\", \"Lakeside Valley\"], \"13:20\"),\n",
    "  Train([\"Suburbia\", \"Townsville\", \"Lakeside Valley\"], \"13:22\")\n",
    "]\n",
    "\n",
    "for i in trains:\n",
    "    manage_delays(i,\"Lakeside Valley\", 60)"
   ]
  },
  {
   "cell_type": "code",
   "execution_count": 267,
   "id": "71144652",
   "metadata": {},
   "outputs": [
    {
     "name": "stdout",
     "output_type": "stream",
     "text": [
      "Expected Time: 13:04\n",
      "Expected Time: 14:20\n",
      "Expected Time: 14:22\n"
     ]
    }
   ],
   "source": [
    "print(f\"Expected Time: {trains[0].expected_time}\") \n",
    "print(f\"Expected Time: {trains[1].expected_time}\") \n",
    "print(f\"Expected Time: {trains[2].expected_time}\") "
   ]
  },
  {
   "cell_type": "code",
   "execution_count": null,
   "id": "8866e952",
   "metadata": {},
   "outputs": [],
   "source": []
  }
 ],
 "metadata": {
  "kernelspec": {
   "display_name": "Python 3 (ipykernel)",
   "language": "python",
   "name": "python3"
  },
  "language_info": {
   "codemirror_mode": {
    "name": "ipython",
    "version": 3
   },
   "file_extension": ".py",
   "mimetype": "text/x-python",
   "name": "python",
   "nbconvert_exporter": "python",
   "pygments_lexer": "ipython3",
   "version": "3.10.6"
  }
 },
 "nbformat": 4,
 "nbformat_minor": 5
}
