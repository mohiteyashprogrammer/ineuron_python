{
 "cells": [
  {
   "cell_type": "code",
   "execution_count": 1,
   "id": "55f21fdc",
   "metadata": {},
   "outputs": [
    {
     "name": "stdout",
     "output_type": "stream",
     "text": [
      "your total amount is 601000\n",
      "pay ammount420700.0\n"
     ]
    }
   ],
   "source": [
    "total_amt = 100+500+600400\n",
    "\n",
    "print(f\"your total amount is {total_amt}\")\n",
    "\n",
    "if total_amt > 999:\n",
    "    price_after_discount = total_amt*70/100\n",
    "    print(f\"pay ammount{price_after_discount}\")\n",
    "    \n",
    "elif total_amt <= 999and total_amt > 499:\n",
    "    price_after_discount = total_amt*80/ 100\n",
    "    print(f\"pay ammount{price_after_discount}\")\n",
    "elif  total_amt > 2000:\n",
    "    price_after_discount = total_amt*40/100\n",
    "    print(f\"pay ammount{price_after_discount}\")\n",
    "        \n",
    "\n",
    "else:\n",
    "    print(f\"you paid the ammount{total_amt}\")\n",
    "    \n",
    "\n"
   ]
  },
  {
   "cell_type": "code",
   "execution_count": 2,
   "id": "91ec7ac1",
   "metadata": {},
   "outputs": [
    {
     "name": "stdout",
     "output_type": "stream",
     "text": [
      "Enter the number1\n",
      "positive no\n"
     ]
    }
   ],
   "source": [
    "value = float(input(\"Enter the number\"))# nasted if else\n",
    "\n",
    "if value>=0:\n",
    "    if value == 0:\n",
    "        print(\"tis zero\")\n",
    "    else:\n",
    "        print(\"positive no\")\n",
    "else:\n",
    "    print(\"negative no\")"
   ]
  },
  {
   "cell_type": "code",
   "execution_count": null,
   "id": "8eebe93e",
   "metadata": {},
   "outputs": [],
   "source": [
    "# Loops: While\n",
    "\n",
    "note =10\n",
    "i = 1\n",
    "while i<= note:\n",
    "    print(i*10)\n",
    "    i=i+1\n",
    "\n",
    "\n"
   ]
  },
  {
   "cell_type": "code",
   "execution_count": null,
   "id": "7ebf05c4",
   "metadata": {},
   "outputs": [],
   "source": []
  }
 ],
 "metadata": {
  "kernelspec": {
   "display_name": "Python 3 (ipykernel)",
   "language": "python",
   "name": "python3"
  },
  "language_info": {
   "codemirror_mode": {
    "name": "ipython",
    "version": 3
   },
   "file_extension": ".py",
   "mimetype": "text/x-python",
   "name": "python",
   "nbconvert_exporter": "python",
   "pygments_lexer": "ipython3",
   "version": "3.10.6"
  }
 },
 "nbformat": 4,
 "nbformat_minor": 5
}
