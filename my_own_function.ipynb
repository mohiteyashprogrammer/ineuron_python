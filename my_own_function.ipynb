{
 "cells": [
  {
   "cell_type": "code",
   "execution_count": 74,
   "id": "d7da5805",
   "metadata": {},
   "outputs": [],
   "source": [
    "import string\n",
    "import math\n",
    "import re\n",
    "class MyFunction:\n",
    "    \n",
    "    def __init__(self):\n",
    "        pass\n",
    "    \n",
    "    def print_stars(self, num):\n",
    "        for i in range(1,num+1):\n",
    "            for j in range(1,i+1):\n",
    "                print(\"*\",end = \" \")\n",
    "            print()\n",
    "            \n",
    "    def saprate_high_low(self,lst,threshold):\n",
    "        higher = []\n",
    "        lower = []\n",
    "        for i in lst:\n",
    "            if i > threshold:\n",
    "                higher.append(i)\n",
    "            else:\n",
    "                lower.append(i)\n",
    "        return f\"{lst}, Higher number: {higher},Lower numbers: {lower}\"\n",
    "    \n",
    "    def seprate_values(self,lst,value):\n",
    "        output = []\n",
    "        for i in lst:\n",
    "            if type(i) == value:\n",
    "                output.append(i)\n",
    "            else:\n",
    "                None\n",
    "        return f\"seprated value: {output}\" \n",
    "    \n",
    "    def fetch_vowel(self,lst):\n",
    "        vowels = [\"a\",\"e\",\"i\",\"o\",\"u\"]\n",
    "        output = []\n",
    "        for i in lst:\n",
    "            for j in i:\n",
    "                if j in vowels:\n",
    "                    output.append(j)\n",
    "        return f\"{lst}, Vowels found in list: {set(output)}\"\n",
    "    \n",
    "    def seprate_even_odd(self,num):\n",
    "        even = []\n",
    "        odd = []\n",
    "        for i in num:\n",
    "            if i%2 == 0:\n",
    "                even.append(i)\n",
    "            else:\n",
    "                odd.append(i)\n",
    "        return f\"Even number: {even}, Odd number: {odd}\"\n",
    "    \n",
    "    def check_even_odd(self,num):\n",
    "        if num%2 == 0:\n",
    "            return f\"Number is Even:{num}\"\n",
    "        else:\n",
    "            return f\"Number is odd:{num}\"\n",
    "    \n",
    "    def positiveORnegative(self,num):\n",
    "        if num > 0:\n",
    "            return f\"Number is possitive: {num}\"\n",
    "        elif num < 0 :\n",
    "            return f\"Number is Negative: {num}\"\n",
    "        else:\n",
    "            return \"Number is zero\"\n",
    "        \n",
    "    def check_prime(self,num):\n",
    "        output = False\n",
    "        for i in range(2,num):\n",
    "            if num%i == 0:\n",
    "                output = True\n",
    "        if not output:\n",
    "            return f\"Number is prime: {num}\"\n",
    "        else:\n",
    "            return f\"Number is Not Prime: {num}\"\n",
    "        \n",
    "        \n",
    "    def fibonacci(self,num):\n",
    "        sequence = [0, 1]\n",
    "        for i in range(2, num):\n",
    "            next_term = sequence[i-1] + sequence[i-2]\n",
    "            sequence.append(next_term)\n",
    "        return sequence\n",
    "    \n",
    "    \n",
    "    def convert(self,num):\n",
    "        return f\"Binary Number: {bin(num)}, Octal Number: {oct(num)}, Hexadecimal Number:{hex(num)}\"\n",
    "    \n",
    "    \n",
    "    def sum_array(self,lst):\n",
    "        return sum(lst)\n",
    "    \n",
    "    \n",
    "    def max_array(self,lst):\n",
    "        return f\"MAX_Array: {max(lst)}\"\n",
    "    \n",
    "    \n",
    "    def split_array(self,lst,n):\n",
    "        first_part = lst[:n]\n",
    "        second_part = lst[n:]\n",
    "        return second_part + first_part\n",
    "    \n",
    "    def sort_words(self,string):\n",
    "        s = string.split(\" \")\n",
    "        for i in range(len(s)):\n",
    "            so = sorted(s)\n",
    "        return \" \".join(so)\n",
    "    \n",
    "    \n",
    "    def remove_punctuation(self,x):\n",
    "        remove = str.maketrans(\"\",\"\",string.punctuation)\n",
    "        no_pun = x.translate(remove)\n",
    "        return no_pun\n",
    "    \n",
    "    \n",
    "    def find_multiplaction(self,lst):\n",
    "        output = 1\n",
    "        for i in lst:\n",
    "            if type(i) == int:\n",
    "                output = i*output\n",
    "        return output\n",
    "    \n",
    "    \n",
    "    def find_smallest_number(self,lst):\n",
    "        return min(lst)\n",
    "    \n",
    "    def find_largest_number(self,lst):\n",
    "        return max(lst)\n",
    "    \n",
    "    def how_many_largest_no(self,lst,num):\n",
    "        lst.sort(reverse = True)\n",
    "        return lst[:num]\n",
    "    \n",
    "    def repitation_number(self,lst):\n",
    "        output = []\n",
    "        for i in lst:\n",
    "            if lst.count(i) > 1:\n",
    "                output.append(i)\n",
    "        return set(output)\n",
    "        \n",
    "    def gen_array(self,x,y):\n",
    "        array = []\n",
    "        for i in range(x):\n",
    "            row = []\n",
    "            for j in range(x):\n",
    "                row.append(i*j)\n",
    "            array.append(row)\n",
    "        return array\n",
    "        \n",
    "    def sortingstring(self,string):\n",
    "        output = \",\".join(sorted(string.split(\",\")))\n",
    "        return output\n",
    "    \n",
    "    def calculate_string(self,string):\n",
    "        l = 0\n",
    "        d = 0\n",
    "        for i in string:\n",
    "            if i.isalpha():\n",
    "                l=l+1\n",
    "            elif i.isdigit():\n",
    "                d=d+1\n",
    "        return f\"LETTERS:{l} \\n DIGITS:{d}\"\n",
    "    \n",
    "    def generat_sentence(self,a,b,c):\n",
    "        for i in a:\n",
    "            for j in b:\n",
    "                for k in c:\n",
    "                    return f\"{i} {j} {k}\"\n",
    "                \n",
    "    \n",
    "    def saprate_email(self,string):\n",
    "        output = string.split(\"@\")\n",
    "        return output[0]\n",
    "    \n",
    "    \n",
    "    def stutter_words(self,string):\n",
    "        output = string.replace(string[:2],((string[:2]+\"...\")*2) + string[:2])+\"?\"\n",
    "        return output\n",
    "    \n",
    "    def get_binary(self,num):\n",
    "        output = bin(num)[2:]\n",
    "        return output\n",
    "    \n",
    "    def evenlyDivisible(self,a,b,c):\n",
    "        output = []\n",
    "        for i in range(a,b):\n",
    "            if i%c == 0:\n",
    "                output.append(i)\n",
    "        return f\"{sum(output)}\"\n",
    "    \n",
    "    def replaceVowels(self,string,r):\n",
    "        vowels = [\"a\",\"e\",\"i\",\"o\",\"u\"]\n",
    "        for i in string:\n",
    "            if i in vowels:\n",
    "                string = string.replace(i,r)\n",
    "        return string\n",
    "    \n",
    "    def palandrom(self,string):\n",
    "        output = string[::-1].swapcase()\n",
    "        return output\n",
    "    \n",
    "    def move_to_end(self,lst,num):\n",
    "        firstend = []\n",
    "        secondend = []\n",
    "        \n",
    "        for i in lst:\n",
    "            if i == num:\n",
    "                secondend.append(i)\n",
    "            else:\n",
    "                firstend.append(i)\n",
    "        firstend.extend(secondend)\n",
    "        return firstend\n",
    "    \n",
    "    \n",
    "    def double_char(self,string):\n",
    "        output = \" \"\n",
    "        \n",
    "        for i in string:\n",
    "            output +=i*3\n",
    "        return output\n",
    "    \n",
    "    def index_of_capital(self,string):\n",
    "        output = []\n",
    "        for i in string:\n",
    "            if i.isupper():\n",
    "                output.append(string.index(i))\n",
    "        return output\n",
    "    \n",
    "    def add_index(self,lst):\n",
    "        output = []\n",
    "        \n",
    "        for i in range(len(lst)):\n",
    "            output.append(i+lst[i])\n",
    "        return output\n",
    "    \n",
    "    def missing_number(self,lst):\n",
    "        for i in range(1,1000000):\n",
    "            if i not in lst:\n",
    "                    return f\"Missing Number is: {i}\"\n",
    "                \n",
    "    \n",
    "    def alphabet_sort(self,string):\n",
    "        output = \"\".join(sorted(string))\n",
    "        return output\n",
    "    \n",
    "    def get_budget(self,d):\n",
    "        s = 0\n",
    "        \n",
    "        for i in d:\n",
    "            s=s+i[\"budget\"]\n",
    "        return f\"sum if budget is {s}\"\n",
    "    \n",
    "    def alphabet_soup(self,string):\n",
    "        output = \"\".join(sorted(string))\n",
    "        return output.upper()\n",
    "    \n",
    "    def multiply_num(self,string):\n",
    "        output_str = string.split(\",\")\n",
    "        output = 1\n",
    "        \n",
    "        for i in output_str:\n",
    "            output *= int(i)\n",
    "        return output\n",
    "    \n",
    "    \n",
    "    def squre_every_difit(self,num):\n",
    "        output = \"\"\n",
    "        for i in str(num):\n",
    "            output += str(int(i)**2)\n",
    "        return output\n",
    "    \n",
    "    def remove_duplicets(self,lst):\n",
    "        output = sorted(set(lst))\n",
    "        return output\n",
    "    \n",
    "    def mean(self,num):\n",
    "        sum = 0\n",
    "        for i in num:\n",
    "            sum = sum+i\n",
    "        mean = sum/len(num)\n",
    "        return mean\n",
    "    \n",
    "    def amplify(self,num):\n",
    "        output = []\n",
    "        for i in range(1,num+1):\n",
    "            if i%4 == 0:\n",
    "                output.append(i*10)\n",
    "\n",
    "            else:\n",
    "                output.append(i)\n",
    "        return output\n",
    "    \n",
    "    def uniqNumber(self,lst):\n",
    "        output = []\n",
    "        for i in lst:\n",
    "            if lst.count(i) <= 1:\n",
    "                output.append(i)\n",
    "        return output\n",
    "    \n",
    "    def sortBYlength(self,lst):\n",
    "        output = sorted(lst,key=len)\n",
    "        return output\n",
    "    \n",
    "    \n",
    "    @staticmethod\n",
    "    def equal(a,b,c):\n",
    "        if a == b == c:\n",
    "            return 0\n",
    "        elif a == b or b == c:\n",
    "            return 2\n",
    "        else:\n",
    "            return 3\n",
    "        \n",
    "    @staticmethod\n",
    "    def dict_to_list(d):\n",
    "        output = []\n",
    "        \n",
    "        for key,value in d.items():\n",
    "            output.append((key,value))\n",
    "        return sorted(output)\n",
    "    \n",
    "    \n",
    "    def mapping(self,lst):\n",
    "        output = {}\n",
    "        \n",
    "        for i in lst:\n",
    "            output[i] = i.upper()\n",
    "        return output\n",
    "    \n",
    "    \n",
    "    @staticmethod\n",
    "    def vowel_replace_sp(string,v):\n",
    "        vowels = ['a','e','i','o','u']\n",
    "        \n",
    "        for i in string:\n",
    "            if i in vowels:\n",
    "                string = string.replace(i,v)\n",
    "        return string\n",
    "    \n",
    "    @staticmethod\n",
    "    def ascii_capitalize(string):\n",
    "        output = \"\"\n",
    "        for i in range(len(string)):\n",
    "            c = string[i]\n",
    "            if ord(c)%2 == 0:\n",
    "                output += c.upper()\n",
    "            else:\n",
    "                output += c.lower()\n",
    "        return output\n",
    "                \n",
    "        \n",
    "        \n",
    "        \n",
    "                \n",
    "            \n",
    "        \n",
    "    \n",
    "            \n",
    "                \n",
    "                \n",
    "                "
   ]
  },
  {
   "cell_type": "code",
   "execution_count": 71,
   "id": "86f831be",
   "metadata": {},
   "outputs": [],
   "source": [
    "a = MyFunction()"
   ]
  },
  {
   "cell_type": "code",
   "execution_count": 72,
   "id": "337fa63d",
   "metadata": {},
   "outputs": [
    {
     "name": "stdout",
     "output_type": "stream",
     "text": [
      "* \n",
      "* * \n",
      "* * * \n",
      "* * * * \n",
      "* * * * * \n"
     ]
    }
   ],
   "source": [
    "a.print_stars(5)"
   ]
  },
  {
   "cell_type": "code",
   "execution_count": 73,
   "id": "9bb3c7f3",
   "metadata": {},
   "outputs": [
    {
     "data": {
      "text/plain": [
       "'[1, 1, 2, 5, 8, 9, 9, 6, 2], Higher number: [5, 8, 9, 9, 6],Lower numbers: [1, 1, 2, 2]'"
      ]
     },
     "execution_count": 73,
     "metadata": {},
     "output_type": "execute_result"
    }
   ],
   "source": [
    "a.saprate_high_low([1,1,2,5,8,9,9,6,2,],2)"
   ]
  },
  {
   "cell_type": "code",
   "execution_count": 5,
   "id": "ecd61b42",
   "metadata": {},
   "outputs": [
    {
     "data": {
      "text/plain": [
       "'seprated value: [1, 2, 3, 6, 5, 478]'"
      ]
     },
     "execution_count": 5,
     "metadata": {},
     "output_type": "execute_result"
    }
   ],
   "source": [
    "a.seprate_values([1,2,3,6,5,478,\"yash\", \"isha\",\"ankita\",\"seema\",\n",
    "                      \"sarah\",\"rutuja\",\"goli\",\"vishnavi\",1.3,55.9],int)"
   ]
  },
  {
   "cell_type": "code",
   "execution_count": 6,
   "id": "4202c88a",
   "metadata": {},
   "outputs": [
    {
     "data": {
      "text/plain": [
       "\"['yash mohite'], Vowels found in list: {'a', 'i', 'o', 'e'}\""
      ]
     },
     "execution_count": 6,
     "metadata": {},
     "output_type": "execute_result"
    }
   ],
   "source": [
    "a.fetch_vowel([\"yash mohite\"])"
   ]
  },
  {
   "cell_type": "code",
   "execution_count": 7,
   "id": "a3aeac77",
   "metadata": {},
   "outputs": [
    {
     "data": {
      "text/plain": [
       "'Even number: [4, 52, 6, 8, 6, 2], Odd number: [1, 3, 9, 7, 589, 5, 3]'"
      ]
     },
     "execution_count": 7,
     "metadata": {},
     "output_type": "execute_result"
    }
   ],
   "source": [
    "a.seprate_even_odd([1,4,52,3,6,9,8,7,589,5,6,3,2])"
   ]
  },
  {
   "cell_type": "code",
   "execution_count": 8,
   "id": "9262db90",
   "metadata": {},
   "outputs": [
    {
     "data": {
      "text/plain": [
       "'Number is Negative: -1'"
      ]
     },
     "execution_count": 8,
     "metadata": {},
     "output_type": "execute_result"
    }
   ],
   "source": [
    "a.positiveORnegative(-1)"
   ]
  },
  {
   "cell_type": "code",
   "execution_count": 9,
   "id": "83484532",
   "metadata": {},
   "outputs": [
    {
     "data": {
      "text/plain": [
       "'Number is Even:10'"
      ]
     },
     "execution_count": 9,
     "metadata": {},
     "output_type": "execute_result"
    }
   ],
   "source": [
    "a.check_even_odd(10)"
   ]
  },
  {
   "cell_type": "code",
   "execution_count": 10,
   "id": "f4fb24f1",
   "metadata": {},
   "outputs": [
    {
     "data": {
      "text/plain": [
       "'Number is Not Prime: 85'"
      ]
     },
     "execution_count": 10,
     "metadata": {},
     "output_type": "execute_result"
    }
   ],
   "source": [
    "a.check_prime(85)"
   ]
  },
  {
   "cell_type": "code",
   "execution_count": 11,
   "id": "b629714d",
   "metadata": {},
   "outputs": [
    {
     "data": {
      "text/plain": [
       "[0, 1, 1, 2, 3, 5, 8, 13, 21, 34]"
      ]
     },
     "execution_count": 11,
     "metadata": {},
     "output_type": "execute_result"
    }
   ],
   "source": [
    "a.fibonacci(10)"
   ]
  },
  {
   "cell_type": "code",
   "execution_count": 12,
   "id": "255a674a",
   "metadata": {},
   "outputs": [
    {
     "data": {
      "text/plain": [
       "'Binary Number: 0b101, Octal Number: 0o5, Hexadecimal Number:0x5'"
      ]
     },
     "execution_count": 12,
     "metadata": {},
     "output_type": "execute_result"
    }
   ],
   "source": [
    "a.convert(5)"
   ]
  },
  {
   "cell_type": "code",
   "execution_count": 13,
   "id": "b069663d",
   "metadata": {},
   "outputs": [
    {
     "data": {
      "text/plain": [
       "250"
      ]
     },
     "execution_count": 13,
     "metadata": {},
     "output_type": "execute_result"
    }
   ],
   "source": [
    "a.sum_array([152,3,6,89])"
   ]
  },
  {
   "cell_type": "code",
   "execution_count": 14,
   "id": "271974b5",
   "metadata": {},
   "outputs": [
    {
     "data": {
      "text/plain": [
       "'MAX_Array: 152'"
      ]
     },
     "execution_count": 14,
     "metadata": {},
     "output_type": "execute_result"
    }
   ],
   "source": [
    "a.max_array([152,3,6,89])"
   ]
  },
  {
   "cell_type": "code",
   "execution_count": 15,
   "id": "e2586160",
   "metadata": {},
   "outputs": [
    {
     "data": {
      "text/plain": [
       "[8, 1, 2, 5, 4, 7]"
      ]
     },
     "execution_count": 15,
     "metadata": {},
     "output_type": "execute_result"
    }
   ],
   "source": [
    "a.split_array([1,2,5,4,7,8,],5)"
   ]
  },
  {
   "cell_type": "code",
   "execution_count": 16,
   "id": "07a43544",
   "metadata": {},
   "outputs": [
    {
     "data": {
      "text/plain": [
       "'a boy good is mohite yash'"
      ]
     },
     "execution_count": 16,
     "metadata": {},
     "output_type": "execute_result"
    }
   ],
   "source": [
    "a.sort_words(\"Yash mohite is a good boy\".lower())"
   ]
  },
  {
   "cell_type": "code",
   "execution_count": 17,
   "id": "2edfee7e",
   "metadata": {},
   "outputs": [
    {
     "data": {
      "text/plain": [
       "'yashmohite'"
      ]
     },
     "execution_count": 17,
     "metadata": {},
     "output_type": "execute_result"
    }
   ],
   "source": [
    "a.remove_punctuation(\"!@#$yash$@mohite\")"
   ]
  },
  {
   "cell_type": "code",
   "execution_count": 18,
   "id": "811f11c2",
   "metadata": {},
   "outputs": [
    {
     "data": {
      "text/plain": [
       "970"
      ]
     },
     "execution_count": 18,
     "metadata": {},
     "output_type": "execute_result"
    }
   ],
   "source": [
    "a.find_multiplaction([5,97,1,2])"
   ]
  },
  {
   "cell_type": "code",
   "execution_count": 19,
   "id": "d61c0a29",
   "metadata": {},
   "outputs": [
    {
     "data": {
      "text/plain": [
       "1"
      ]
     },
     "execution_count": 19,
     "metadata": {},
     "output_type": "execute_result"
    }
   ],
   "source": [
    "a.find_smallest_number([5,97,1,2])"
   ]
  },
  {
   "cell_type": "code",
   "execution_count": 20,
   "id": "f20af510",
   "metadata": {},
   "outputs": [
    {
     "data": {
      "text/plain": [
       "97"
      ]
     },
     "execution_count": 20,
     "metadata": {},
     "output_type": "execute_result"
    }
   ],
   "source": [
    "a.find_largest_number([5,97,1,2])"
   ]
  },
  {
   "cell_type": "code",
   "execution_count": 21,
   "id": "01b5996b",
   "metadata": {},
   "outputs": [
    {
     "data": {
      "text/plain": [
       "[478, 222, 100]"
      ]
     },
     "execution_count": 21,
     "metadata": {},
     "output_type": "execute_result"
    }
   ],
   "source": [
    "a.how_many_largest_no([478, 222, 100, 99, 99, 98, 88, 60, 45, 12],3)"
   ]
  },
  {
   "cell_type": "code",
   "execution_count": 22,
   "id": "f33ed3b4",
   "metadata": {},
   "outputs": [
    {
     "data": {
      "text/plain": [
       "{1, 5, 6, 7, 8}"
      ]
     },
     "execution_count": 22,
     "metadata": {},
     "output_type": "execute_result"
    }
   ],
   "source": [
    "a.repitation_number([111,2,3,6,555,4,7,8,1,1,1,1,5,5,5,7,7,8,8,9,6,33,32])"
   ]
  },
  {
   "cell_type": "code",
   "execution_count": 23,
   "id": "4027edf1",
   "metadata": {},
   "outputs": [
    {
     "data": {
      "text/plain": [
       "[[0, 0, 0, 0], [0, 1, 2, 3], [0, 2, 4, 6], [0, 3, 6, 9]]"
      ]
     },
     "execution_count": 23,
     "metadata": {},
     "output_type": "execute_result"
    }
   ],
   "source": [
    "a.gen_array(4,4)"
   ]
  },
  {
   "cell_type": "code",
   "execution_count": 24,
   "id": "1bab8dc1",
   "metadata": {},
   "outputs": [
    {
     "data": {
      "text/plain": [
       "'bag,hello,without,world'"
      ]
     },
     "execution_count": 24,
     "metadata": {},
     "output_type": "execute_result"
    }
   ],
   "source": [
    "a.sortingstring(\"without,hello,bag,world\")"
   ]
  },
  {
   "cell_type": "code",
   "execution_count": 25,
   "id": "ba6d2871",
   "metadata": {},
   "outputs": [
    {
     "data": {
      "text/plain": [
       "'LETTERS:10 \\n DIGITS:5'"
      ]
     },
     "execution_count": 25,
     "metadata": {},
     "output_type": "execute_result"
    }
   ],
   "source": [
    "a.calculate_string(\"yash8mohite1418\")"
   ]
  },
  {
   "cell_type": "code",
   "execution_count": 26,
   "id": "edc673ae",
   "metadata": {},
   "outputs": [
    {
     "data": {
      "text/plain": [
       "'I fuck isha'"
      ]
     },
     "execution_count": 26,
     "metadata": {},
     "output_type": "execute_result"
    }
   ],
   "source": [
    "a.generat_sentence(['I','You'],['fuck','Love'],['isha','Football'])"
   ]
  },
  {
   "cell_type": "code",
   "execution_count": 27,
   "id": "4fd1b9a1",
   "metadata": {},
   "outputs": [
    {
     "data": {
      "text/plain": [
       "'mohite.yassh'"
      ]
     },
     "execution_count": 27,
     "metadata": {},
     "output_type": "execute_result"
    }
   ],
   "source": [
    "a.saprate_email(\"mohite.yassh@gmail.com\")"
   ]
  },
  {
   "cell_type": "code",
   "execution_count": 28,
   "id": "c3209a25",
   "metadata": {},
   "outputs": [
    {
     "data": {
      "text/plain": [
       "'in...in...incredible?'"
      ]
     },
     "execution_count": 28,
     "metadata": {},
     "output_type": "execute_result"
    }
   ],
   "source": [
    "a.stutter_words(\"incredible\")"
   ]
  },
  {
   "cell_type": "code",
   "execution_count": 29,
   "id": "39075bdf",
   "metadata": {},
   "outputs": [
    {
     "data": {
      "text/plain": [
       "'10110001010'"
      ]
     },
     "execution_count": 29,
     "metadata": {},
     "output_type": "execute_result"
    }
   ],
   "source": [
    "a.get_binary(1418)"
   ]
  },
  {
   "cell_type": "code",
   "execution_count": 30,
   "id": "333d4af5",
   "metadata": {},
   "outputs": [
    {
     "data": {
      "text/plain": [
       "'190'"
      ]
     },
     "execution_count": 30,
     "metadata": {},
     "output_type": "execute_result"
    }
   ],
   "source": [
    "a.evenlyDivisible(0,20,1)"
   ]
  },
  {
   "cell_type": "code",
   "execution_count": 31,
   "id": "45409566",
   "metadata": {},
   "outputs": [
    {
     "data": {
      "text/plain": [
       "'y^sh m^h^t^'"
      ]
     },
     "execution_count": 31,
     "metadata": {},
     "output_type": "execute_result"
    }
   ],
   "source": [
    "a.replaceVowels(\"yash mohite\",\"^\")"
   ]
  },
  {
   "cell_type": "code",
   "execution_count": 32,
   "id": "194090ed",
   "metadata": {},
   "outputs": [
    {
     "data": {
      "text/plain": [
       "'MAYALAM'"
      ]
     },
     "execution_count": 32,
     "metadata": {},
     "output_type": "execute_result"
    }
   ],
   "source": [
    "a.palandrom(\"malayam\")"
   ]
  },
  {
   "cell_type": "code",
   "execution_count": 33,
   "id": "4a5f771b",
   "metadata": {},
   "outputs": [
    {
     "data": {
      "text/plain": [
       "[1, 7, 8, 8, 9, 9, 5, 22, 2, 4, 4, 4]"
      ]
     },
     "execution_count": 33,
     "metadata": {},
     "output_type": "execute_result"
    }
   ],
   "source": [
    "a.move_to_end([1,4,4,7,8,8,9,9,5,4,22,2], 4)"
   ]
  },
  {
   "cell_type": "code",
   "execution_count": 34,
   "id": "1cb1d066",
   "metadata": {},
   "outputs": [
    {
     "data": {
      "text/plain": [
       "' iiissshhhaaa'"
      ]
     },
     "execution_count": 34,
     "metadata": {},
     "output_type": "execute_result"
    }
   ],
   "source": [
    "a.double_char(\"isha\")"
   ]
  },
  {
   "cell_type": "code",
   "execution_count": 35,
   "id": "b2a9cb6f",
   "metadata": {},
   "outputs": [
    {
     "data": {
      "text/plain": [
       "[1, 3, 4, 6]"
      ]
     },
     "execution_count": 35,
     "metadata": {},
     "output_type": "execute_result"
    }
   ],
   "source": [
    "a.index_of_capital(\"eQuINoX\")"
   ]
  },
  {
   "cell_type": "code",
   "execution_count": 36,
   "id": "b5c796a0",
   "metadata": {},
   "outputs": [
    {
     "data": {
      "text/plain": [
       "[1, 3, 5, 9, 9, 9, 13, 15, 17, 794]"
      ]
     },
     "execution_count": 36,
     "metadata": {},
     "output_type": "execute_result"
    }
   ],
   "source": [
    "a.add_index([1,2,3,6,5,4,7,8,9,785])"
   ]
  },
  {
   "cell_type": "code",
   "execution_count": 37,
   "id": "323375c0",
   "metadata": {},
   "outputs": [
    {
     "data": {
      "text/plain": [
       "'Missing Number is: 2'"
      ]
     },
     "execution_count": 37,
     "metadata": {},
     "output_type": "execute_result"
    }
   ],
   "source": [
    "a.missing_number([1,5,10])"
   ]
  },
  {
   "cell_type": "code",
   "execution_count": 38,
   "id": "c461ba2d",
   "metadata": {},
   "outputs": [
    {
     "data": {
      "text/plain": [
       "'ahsy'"
      ]
     },
     "execution_count": 38,
     "metadata": {},
     "output_type": "execute_result"
    }
   ],
   "source": [
    "a.alphabet_sort(\"yash\")"
   ]
  },
  {
   "cell_type": "code",
   "execution_count": 39,
   "id": "3bfd55e9",
   "metadata": {},
   "outputs": [
    {
     "data": {
      "text/plain": [
       "'sum if budget is 65700'"
      ]
     },
     "execution_count": 39,
     "metadata": {},
     "output_type": "execute_result"
    }
   ],
   "source": [
    "a.get_budget([\n",
    "    { \"name\": \"John\", \"age\": 21, \"budget\": 23000 },\n",
    "{ \"name\": \"Steve\", \"age\": 32, \"budget\": 40000 },\n",
    "{ \"name\": \"Martin\", \"age\": 16, \"budget\": 2700 }\n",
    "])"
   ]
  },
  {
   "cell_type": "code",
   "execution_count": 40,
   "id": "e4dbb750",
   "metadata": {},
   "outputs": [
    {
     "data": {
      "text/plain": [
       "'EHLLO'"
      ]
     },
     "execution_count": 40,
     "metadata": {},
     "output_type": "execute_result"
    }
   ],
   "source": [
    "a.alphabet_soup(\"hello\")"
   ]
  },
  {
   "cell_type": "code",
   "execution_count": 41,
   "id": "c2186132",
   "metadata": {},
   "outputs": [
    {
     "data": {
      "text/plain": [
       "24"
      ]
     },
     "execution_count": 41,
     "metadata": {},
     "output_type": "execute_result"
    }
   ],
   "source": [
    "a.multiply_num(\"1, 2, 3, 4\")"
   ]
  },
  {
   "cell_type": "code",
   "execution_count": 42,
   "id": "1d77ca2b",
   "metadata": {},
   "outputs": [
    {
     "data": {
      "text/plain": [
       "'644644'"
      ]
     },
     "execution_count": 42,
     "metadata": {},
     "output_type": "execute_result"
    }
   ],
   "source": [
    "a.squre_every_difit(8282)"
   ]
  },
  {
   "cell_type": "code",
   "execution_count": 43,
   "id": "1d8582fc",
   "metadata": {},
   "outputs": [
    {
     "data": {
      "text/plain": [
       "['isha', 'yash']"
      ]
     },
     "execution_count": 43,
     "metadata": {},
     "output_type": "execute_result"
    }
   ],
   "source": [
    "a.remove_duplicets([\"yash\",\"yash\",\"isha\"])"
   ]
  },
  {
   "cell_type": "code",
   "execution_count": 44,
   "id": "137fda0a",
   "metadata": {},
   "outputs": [
    {
     "data": {
      "text/plain": [
       "37.36363636363637"
      ]
     },
     "execution_count": 44,
     "metadata": {},
     "output_type": "execute_result"
    }
   ],
   "source": [
    "a.mean([23,24,32,45,12,43,67,45,32,56,32])"
   ]
  },
  {
   "cell_type": "code",
   "execution_count": 45,
   "id": "9525570e",
   "metadata": {},
   "outputs": [
    {
     "data": {
      "text/plain": [
       "[1, 2, 3, 40, 5, 6, 7, 80, 9, 10]"
      ]
     },
     "execution_count": 45,
     "metadata": {},
     "output_type": "execute_result"
    }
   ],
   "source": [
    "a.amplify(10)"
   ]
  },
  {
   "cell_type": "code",
   "execution_count": 46,
   "id": "940dd137",
   "metadata": {},
   "outputs": [
    {
     "data": {
      "text/plain": [
       "[3, 5, 4, 7, 88888]"
      ]
     },
     "execution_count": 46,
     "metadata": {},
     "output_type": "execute_result"
    }
   ],
   "source": [
    "a.uniqNumber([1,1,2,3,6,5,4,7,88888,9,9,6,2])"
   ]
  },
  {
   "cell_type": "code",
   "execution_count": 47,
   "id": "6cca02fa",
   "metadata": {},
   "outputs": [
    {
     "data": {
      "text/plain": [
       "['Apple', 'Google', 'Microsoft']"
      ]
     },
     "execution_count": 47,
     "metadata": {},
     "output_type": "execute_result"
    }
   ],
   "source": [
    "a.sortBYlength([\"Google\", \"Apple\", \"Microsoft\"])"
   ]
  },
  {
   "cell_type": "code",
   "execution_count": 48,
   "id": "78b7c554",
   "metadata": {},
   "outputs": [
    {
     "data": {
      "text/plain": [
       "0"
      ]
     },
     "execution_count": 48,
     "metadata": {},
     "output_type": "execute_result"
    }
   ],
   "source": [
    "a.equal(1,1,1)"
   ]
  },
  {
   "cell_type": "code",
   "execution_count": 49,
   "id": "1b308aa2",
   "metadata": {},
   "outputs": [
    {
     "data": {
      "text/plain": [
       "[('B', 2), ('C', 3), ('D', 1)]"
      ]
     },
     "execution_count": 49,
     "metadata": {},
     "output_type": "execute_result"
    }
   ],
   "source": [
    "a.dict_to_list({ \"D\": 1, \"B\": 2, \"C\": 3 })"
   ]
  },
  {
   "cell_type": "code",
   "execution_count": 53,
   "id": "76247550",
   "metadata": {},
   "outputs": [
    {
     "data": {
      "text/plain": [
       "{'p': 'P', 's': 'S', 'yash': 'YASH'}"
      ]
     },
     "execution_count": 53,
     "metadata": {},
     "output_type": "execute_result"
    }
   ],
   "source": [
    "a.mapping([\"p\", \"s\",\"yash\"])"
   ]
  },
  {
   "cell_type": "code",
   "execution_count": 66,
   "id": "64f5dede",
   "metadata": {},
   "outputs": [
    {
     "data": {
      "text/plain": [
       "'st0,1ff0,1d j0,1l0,1p0,1n0,1 p0,1pp0,1rs'"
      ]
     },
     "execution_count": 66,
     "metadata": {},
     "output_type": "execute_result"
    }
   ],
   "source": [
    "a.vowel_replace_sp(\"stuffed jalapeno poppers\", \"0,1\")"
   ]
  },
  {
   "cell_type": "code",
   "execution_count": 69,
   "id": "aa26b426",
   "metadata": {},
   "outputs": [
    {
     "data": {
      "text/plain": [
       "'oH wHaT a BeauTiFuL moRNiNg.'"
      ]
     },
     "execution_count": 69,
     "metadata": {},
     "output_type": "execute_result"
    }
   ],
   "source": [
    "a.ascii_capitalize(\"Oh what a beautiful morning.\")"
   ]
  },
  {
   "cell_type": "code",
   "execution_count": null,
   "id": "03d09f0f",
   "metadata": {},
   "outputs": [],
   "source": []
  },
  {
   "cell_type": "code",
   "execution_count": null,
   "id": "ee683ab9",
   "metadata": {},
   "outputs": [],
   "source": []
  },
  {
   "cell_type": "code",
   "execution_count": null,
   "id": "759ca421",
   "metadata": {},
   "outputs": [],
   "source": []
  }
 ],
 "metadata": {
  "kernelspec": {
   "display_name": "Python 3 (ipykernel)",
   "language": "python",
   "name": "python3"
  },
  "language_info": {
   "codemirror_mode": {
    "name": "ipython",
    "version": 3
   },
   "file_extension": ".py",
   "mimetype": "text/x-python",
   "name": "python",
   "nbconvert_exporter": "python",
   "pygments_lexer": "ipython3",
   "version": "3.10.6"
  }
 },
 "nbformat": 4,
 "nbformat_minor": 5
}
