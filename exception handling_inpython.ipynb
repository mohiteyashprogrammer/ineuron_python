{
 "cells": [
  {
   "cell_type": "code",
   "execution_count": 2,
   "id": "2eba2caa",
   "metadata": {},
   "outputs": [
    {
     "ename": "IndentationError",
     "evalue": "unexpected indent (2116801888.py, line 2)",
     "output_type": "error",
     "traceback": [
      "\u001b[1;36m  Cell \u001b[1;32mIn [2], line 2\u001b[1;36m\u001b[0m\n\u001b[1;33m    print(\"yash\")\u001b[0m\n\u001b[1;37m    ^\u001b[0m\n\u001b[1;31mIndentationError\u001b[0m\u001b[1;31m:\u001b[0m unexpected indent\n"
     ]
    }
   ],
   "source": [
    "print(\"i wrice the code\") \n",
    "    print(\"yash\")"
   ]
  },
  {
   "cell_type": "code",
   "execution_count": 3,
   "id": "83e6a2e0",
   "metadata": {},
   "outputs": [
    {
     "ename": "ZeroDivisionError",
     "evalue": "division by zero",
     "output_type": "error",
     "traceback": [
      "\u001b[1;31m---------------------------------------------------------------------------\u001b[0m",
      "\u001b[1;31mZeroDivisionError\u001b[0m                         Traceback (most recent call last)",
      "Cell \u001b[1;32mIn [3], line 1\u001b[0m\n\u001b[1;32m----> 1\u001b[0m \u001b[38;5;241;43m1\u001b[39;49m\u001b[38;5;241;43m/\u001b[39;49m\u001b[38;5;241;43m0\u001b[39;49m\n",
      "\u001b[1;31mZeroDivisionError\u001b[0m: division by zero"
     ]
    }
   ],
   "source": [
    "1/0"
   ]
  },
  {
   "cell_type": "code",
   "execution_count": null,
   "id": "e1c3569d",
   "metadata": {},
   "outputs": [],
   "source": [
    "a-9"
   ]
  },
  {
   "cell_type": "code",
   "execution_count": 4,
   "id": "1ec6a9fd",
   "metadata": {},
   "outputs": [
    {
     "ename": "FileNotFoundError",
     "evalue": "[Errno 2] No such file or directory: 'txt.l'",
     "output_type": "error",
     "traceback": [
      "\u001b[1;31m---------------------------------------------------------------------------\u001b[0m",
      "\u001b[1;31mFileNotFoundError\u001b[0m                         Traceback (most recent call last)",
      "Cell \u001b[1;32mIn [4], line 1\u001b[0m\n\u001b[1;32m----> 1\u001b[0m \u001b[38;5;28;43mopen\u001b[39;49m\u001b[43m(\u001b[49m\u001b[38;5;124;43m\"\u001b[39;49m\u001b[38;5;124;43mtxt.l\u001b[39;49m\u001b[38;5;124;43m\"\u001b[39;49m\u001b[43m)\u001b[49m\n",
      "\u001b[1;31mFileNotFoundError\u001b[0m: [Errno 2] No such file or directory: 'txt.l'"
     ]
    }
   ],
   "source": [
    "open(\"txt.l\")"
   ]
  },
  {
   "cell_type": "code",
   "execution_count": 5,
   "id": "0d2feba6",
   "metadata": {},
   "outputs": [
    {
     "ename": "NameError",
     "evalue": "name 'c' is not defined",
     "output_type": "error",
     "traceback": [
      "\u001b[1;31m---------------------------------------------------------------------------\u001b[0m",
      "\u001b[1;31mNameError\u001b[0m                                 Traceback (most recent call last)",
      "Cell \u001b[1;32mIn [5], line 3\u001b[0m\n\u001b[0;32m      1\u001b[0m a\u001b[38;5;241m=\u001b[39m\u001b[38;5;241m5\u001b[39m\n\u001b[0;32m      2\u001b[0m b\u001b[38;5;241m=\u001b[39m\u001b[38;5;241m9\u001b[39m\n\u001b[1;32m----> 3\u001b[0m \u001b[38;5;28mprint\u001b[39m(a\u001b[38;5;241m+\u001b[39m\u001b[43mc\u001b[49m)\n",
      "\u001b[1;31mNameError\u001b[0m: name 'c' is not defined"
     ]
    }
   ],
   "source": [
    "a=5\n",
    "b=9\n",
    "print(a+c)"
   ]
  },
  {
   "cell_type": "code",
   "execution_count": 6,
   "id": "23574763",
   "metadata": {},
   "outputs": [
    {
     "name": "stdout",
     "output_type": "stream",
     "text": [
      "['ArithmeticError', 'AssertionError', 'AttributeError', 'BaseException', 'BlockingIOError', 'BrokenPipeError', 'BufferError', 'BytesWarning', 'ChildProcessError', 'ConnectionAbortedError', 'ConnectionError', 'ConnectionRefusedError', 'ConnectionResetError', 'DeprecationWarning', 'EOFError', 'Ellipsis', 'EncodingWarning', 'EnvironmentError', 'Exception', 'False', 'FileExistsError', 'FileNotFoundError', 'FloatingPointError', 'FutureWarning', 'GeneratorExit', 'IOError', 'ImportError', 'ImportWarning', 'IndentationError', 'IndexError', 'InterruptedError', 'IsADirectoryError', 'KeyError', 'KeyboardInterrupt', 'LookupError', 'MemoryError', 'ModuleNotFoundError', 'NameError', 'None', 'NotADirectoryError', 'NotImplemented', 'NotImplementedError', 'OSError', 'OverflowError', 'PendingDeprecationWarning', 'PermissionError', 'ProcessLookupError', 'RecursionError', 'ReferenceError', 'ResourceWarning', 'RuntimeError', 'RuntimeWarning', 'StopAsyncIteration', 'StopIteration', 'SyntaxError', 'SyntaxWarning', 'SystemError', 'SystemExit', 'TabError', 'TimeoutError', 'True', 'TypeError', 'UnboundLocalError', 'UnicodeDecodeError', 'UnicodeEncodeError', 'UnicodeError', 'UnicodeTranslateError', 'UnicodeWarning', 'UserWarning', 'ValueError', 'Warning', 'WindowsError', 'ZeroDivisionError', '__IPYTHON__', '__build_class__', '__debug__', '__doc__', '__import__', '__loader__', '__name__', '__package__', '__spec__', 'abs', 'aiter', 'all', 'anext', 'any', 'ascii', 'bin', 'bool', 'breakpoint', 'bytearray', 'bytes', 'callable', 'chr', 'classmethod', 'compile', 'complex', 'copyright', 'credits', 'delattr', 'dict', 'dir', 'display', 'divmod', 'enumerate', 'eval', 'exec', 'execfile', 'filter', 'float', 'format', 'frozenset', 'get_ipython', 'getattr', 'globals', 'hasattr', 'hash', 'help', 'hex', 'id', 'input', 'int', 'isinstance', 'issubclass', 'iter', 'len', 'license', 'list', 'locals', 'map', 'max', 'memoryview', 'min', 'next', 'object', 'oct', 'open', 'ord', 'pow', 'print', 'property', 'range', 'repr', 'reversed', 'round', 'runfile', 'set', 'setattr', 'slice', 'sorted', 'staticmethod', 'str', 'sum', 'super', 'tuple', 'type', 'vars', 'zip']\n"
     ]
    }
   ],
   "source": [
    "print(dir(locals()['__builtins__']))"
   ]
  },
  {
   "cell_type": "code",
   "execution_count": 7,
   "id": "e51dcd09",
   "metadata": {},
   "outputs": [
    {
     "ename": "SyntaxError",
     "evalue": "invalid syntax (4089172327.py, line 3)",
     "output_type": "error",
     "traceback": [
      "\u001b[1;36m  Cell \u001b[1;32mIn [7], line 3\u001b[1;36m\u001b[0m\n\u001b[1;33m    b =\u001b[0m\n\u001b[1;37m        ^\u001b[0m\n\u001b[1;31mSyntaxError\u001b[0m\u001b[1;31m:\u001b[0m invalid syntax\n"
     ]
    }
   ],
   "source": [
    " #assertion Error\n",
    "a = 1\n",
    "b = \n",
    "assert b!=0,\"invalid operator\"# \n",
    "\n",
    "print(a/b)"
   ]
  },
  {
   "cell_type": "code",
   "execution_count": 8,
   "id": "93d7ebaa",
   "metadata": {},
   "outputs": [
    {
     "ename": "AttributeError",
     "evalue": "'int' object has no attribute 'append'",
     "output_type": "error",
     "traceback": [
      "\u001b[1;31m---------------------------------------------------------------------------\u001b[0m",
      "\u001b[1;31mAttributeError\u001b[0m                            Traceback (most recent call last)",
      "Cell \u001b[1;32mIn [8], line 2\u001b[0m\n\u001b[0;32m      1\u001b[0m y \u001b[38;5;241m=\u001b[39m \u001b[38;5;241m5\u001b[39m\n\u001b[1;32m----> 2\u001b[0m \u001b[43my\u001b[49m\u001b[38;5;241;43m.\u001b[39;49m\u001b[43mappend\u001b[49m(\u001b[38;5;241m10\u001b[39m)\n",
      "\u001b[1;31mAttributeError\u001b[0m: 'int' object has no attribute 'append'"
     ]
    }
   ],
   "source": [
    "y = 5\n",
    "y.append(10)"
   ]
  },
  {
   "cell_type": "code",
   "execution_count": 9,
   "id": "9be23fe2",
   "metadata": {},
   "outputs": [
    {
     "ename": "ModuleNotFoundError",
     "evalue": "No module named 'pd'",
     "output_type": "error",
     "traceback": [
      "\u001b[1;31m---------------------------------------------------------------------------\u001b[0m",
      "\u001b[1;31mModuleNotFoundError\u001b[0m                       Traceback (most recent call last)",
      "Cell \u001b[1;32mIn [9], line 1\u001b[0m\n\u001b[1;32m----> 1\u001b[0m \u001b[38;5;28;01mimport\u001b[39;00m \u001b[38;5;21;01mpd\u001b[39;00m\n",
      "\u001b[1;31mModuleNotFoundError\u001b[0m: No module named 'pd'"
     ]
    }
   ],
   "source": [
    "import pd"
   ]
  },
  {
   "cell_type": "code",
   "execution_count": 10,
   "id": "ab472845",
   "metadata": {},
   "outputs": [
    {
     "ename": "IndexError",
     "evalue": "list index out of range",
     "output_type": "error",
     "traceback": [
      "\u001b[1;31m---------------------------------------------------------------------------\u001b[0m",
      "\u001b[1;31mIndexError\u001b[0m                                Traceback (most recent call last)",
      "Cell \u001b[1;32mIn [10], line 3\u001b[0m\n\u001b[0;32m      1\u001b[0m lst \u001b[38;5;241m=\u001b[39m [\u001b[38;5;241m1\u001b[39m,\u001b[38;5;241m2\u001b[39m,\u001b[38;5;241m3\u001b[39m,\u001b[38;5;241m6\u001b[39m,\u001b[38;5;241m5\u001b[39m,\u001b[38;5;241m4\u001b[39m]\n\u001b[1;32m----> 3\u001b[0m \u001b[43mlst\u001b[49m\u001b[43m[\u001b[49m\u001b[38;5;241;43m10\u001b[39;49m\u001b[43m]\u001b[49m\n",
      "\u001b[1;31mIndexError\u001b[0m: list index out of range"
     ]
    }
   ],
   "source": [
    "lst = [1,2,3,6,5,4]\n",
    "\n",
    "lst[10]"
   ]
  },
  {
   "cell_type": "code",
   "execution_count": 11,
   "id": "ad195ef5",
   "metadata": {},
   "outputs": [
    {
     "ename": "SyntaxError",
     "evalue": "invalid syntax (389314577.py, line 1)",
     "output_type": "error",
     "traceback": [
      "\u001b[1;36m  Cell \u001b[1;32mIn [11], line 1\u001b[1;36m\u001b[0m\n\u001b[1;33m    dict1 = {\"yasj\":\"isha\"}<\u001b[0m\n\u001b[1;37m                            ^\u001b[0m\n\u001b[1;31mSyntaxError\u001b[0m\u001b[1;31m:\u001b[0m invalid syntax\n"
     ]
    }
   ],
   "source": [
    "dict1 = {\"yasj\":\"isha\"}<"
   ]
  },
  {
   "cell_type": "code",
   "execution_count": 12,
   "id": "113321fb",
   "metadata": {},
   "outputs": [
    {
     "ename": "NameError",
     "evalue": "name 'dict1' is not defined",
     "output_type": "error",
     "traceback": [
      "\u001b[1;31m---------------------------------------------------------------------------\u001b[0m",
      "\u001b[1;31mNameError\u001b[0m                                 Traceback (most recent call last)",
      "Cell \u001b[1;32mIn [12], line 1\u001b[0m\n\u001b[1;32m----> 1\u001b[0m \u001b[43mdict1\u001b[49m[\u001b[38;5;124m\"\u001b[39m\u001b[38;5;124mage\u001b[39m\u001b[38;5;124m\"\u001b[39m]\n",
      "\u001b[1;31mNameError\u001b[0m: name 'dict1' is not defined"
     ]
    }
   ],
   "source": [
    "dict1[\"age\"]"
   ]
  },
  {
   "cell_type": "code",
   "execution_count": 13,
   "id": "f78a3987",
   "metadata": {},
   "outputs": [
    {
     "ename": "NameError",
     "evalue": "name 'k' is not defined",
     "output_type": "error",
     "traceback": [
      "\u001b[1;31m---------------------------------------------------------------------------\u001b[0m",
      "\u001b[1;31mNameError\u001b[0m                                 Traceback (most recent call last)",
      "Cell \u001b[1;32mIn [13], line 1\u001b[0m\n\u001b[1;32m----> 1\u001b[0m \u001b[38;5;28mprint\u001b[39m(\u001b[43mk\u001b[49m)\n",
      "\u001b[1;31mNameError\u001b[0m: name 'k' is not defined"
     ]
    }
   ],
   "source": [
    "print(k)"
   ]
  },
  {
   "cell_type": "code",
   "execution_count": 23,
   "id": "d995fc22",
   "metadata": {},
   "outputs": [
    {
     "name": "stdout",
     "output_type": "stream",
     "text": [
      "0\n",
      "cant divide by zero select different number\n"
     ]
    }
   ],
   "source": [
    "try:\n",
    "    a = 6\n",
    "    b = int(input())# using try except method to handel error\n",
    "    c = a/b\n",
    "except:\n",
    "    print(\"cant divide by zero select different number\")"
   ]
  },
  {
   "cell_type": "code",
   "execution_count": 33,
   "id": "3c98987e",
   "metadata": {},
   "outputs": [
    {
     "name": "stdout",
     "output_type": "stream",
     "text": [
      "[Errno 2] No such file or directory: 'txt.l'\n",
      "file is not found\n"
     ]
    }
   ],
   "source": [
    "try:\n",
    "    f = open(\"txt.l\")\n",
    "    f.write(\"yash\")\n",
    "except Exception as e:\n",
    "    print(e)\n",
    "    print(\"file is not found\")"
   ]
  },
  {
   "cell_type": "code",
   "execution_count": 34,
   "id": "2799faf8",
   "metadata": {},
   "outputs": [
    {
     "name": "stdout",
     "output_type": "stream",
     "text": [
      "1\n",
      "2\n",
      "3\n",
      "6\n",
      "5\n",
      "4\n",
      "7\n",
      "8\n",
      "9\n",
      "this is not working\n"
     ]
    }
   ],
   "source": [
    "l = [1,2,3,6,5,4,7,8,9]\n",
    "try:\n",
    "    for i in range(len(l)+1):# solving the index error\n",
    "        print(l[i])\n",
    "except:\n",
    "    print(\"this is not working\")"
   ]
  },
  {
   "cell_type": "code",
   "execution_count": 35,
   "id": "d6e1d8f8",
   "metadata": {},
   "outputs": [
    {
     "name": "stdout",
     "output_type": "stream",
     "text": [
      "1\n",
      "2\n",
      "3\n",
      "6\n",
      "5\n",
      "4\n",
      "7\n",
      "8\n",
      "9\n",
      "list index out of range\n",
      "this is not working\n"
     ]
    }
   ],
   "source": [
    " l = [1,2,3,6,5,4,7,8,9]\n",
    "try:\n",
    "    for i in range(len(l)+1):# solving the index error\n",
    "        print(l[i])\n",
    "except Exception as e:\n",
    "    print(e)\n",
    "    print(\"this is not working\")"
   ]
  },
  {
   "cell_type": "code",
   "execution_count": 38,
   "id": "349d4275",
   "metadata": {},
   "outputs": [
    {
     "name": "stdout",
     "output_type": "stream",
     "text": [
      "l\n",
      "invalid literal for int() with base 10: 'l'\n",
      "yash\n"
     ]
    }
   ],
   "source": [
    "try:\n",
    "    d = int(input())\n",
    "    e = int(input())\n",
    "except Exception as e:# this is for value error\n",
    "    print(e)\n",
    "print(\"yash\")"
   ]
  },
  {
   "cell_type": "code",
   "execution_count": 42,
   "id": "ae1f1600",
   "metadata": {},
   "outputs": [
    {
     "name": "stdout",
     "output_type": "stream",
     "text": [
      "0\n",
      "0\n",
      "cant divide by zero\n"
     ]
    }
   ],
   "source": [
    "try:\n",
    "    d = int(input())\n",
    "    e = int(input())\n",
    "    c = d/e\n",
    "except ValueError :\n",
    "    print(\"value wrong\")# handel valuue erroe and zero dividion error\n",
    "except ZeroDivisionError :\n",
    "    print(\"cant divide by zero\")"
   ]
  },
  {
   "cell_type": "code",
   "execution_count": 44,
   "id": "edd2bf2f",
   "metadata": {},
   "outputs": [
    {
     "name": "stdout",
     "output_type": "stream",
     "text": [
      "5\n",
      "y\n",
      "value wrong\n"
     ]
    }
   ],
   "source": [
    "try:\n",
    "    d = int(input())\n",
    "    e = int(input())\n",
    "    c = d/e\n",
    "except ValueError :\n",
    "    print(\"value wrong\")# handel valuue erroe and zero dividion error\n",
    "except ZeroDivisionError :\n",
    "    print(\"cant divide by zero\")"
   ]
  },
  {
   "cell_type": "code",
   "execution_count": 46,
   "id": "cc1b99a4",
   "metadata": {},
   "outputs": [],
   "source": [
    "# try:\n",
    "#     # block of code\n",
    "# except Exception:\n",
    "#     # block of code\n",
    "# else:\n",
    "#     # this code execute when execption is not accured\n",
    "    \n",
    "    "
   ]
  },
  {
   "cell_type": "code",
   "execution_count": 66,
   "id": "08f5f73f",
   "metadata": {},
   "outputs": [
    {
     "name": "stdout",
     "output_type": "stream",
     "text": [
      "5\n",
      "not the even number\n"
     ]
    }
   ],
   "source": [
    "try:\n",
    "    n=int(input())\n",
    "    assert n%2 == 0\n",
    "except  :\n",
    "    print(\"not the even number\")\n",
    "else:\n",
    "    r=1/n\n",
    "    print(r,\"odd number\")\n",
    "    \n",
    "        "
   ]
  },
  {
   "cell_type": "code",
   "execution_count": 60,
   "id": "9500f2fc",
   "metadata": {},
   "outputs": [
    {
     "name": "stdout",
     "output_type": "stream",
     "text": [
      "5\n",
      "5\n",
      "else block\n"
     ]
    }
   ],
   "source": [
    "try:\n",
    "    d = int(input())\n",
    "    e = int(input())\n",
    "    c = d/e\n",
    "except ZeroDivisionError :\n",
    "    print(\"cant divide by zero\")\n",
    "else:\n",
    "    print(\"else block\")"
   ]
  },
  {
   "cell_type": "code",
   "execution_count": 68,
   "id": "f06039c7",
   "metadata": {},
   "outputs": [
    {
     "name": "stdout",
     "output_type": "stream",
     "text": [
      "5\n",
      "5\n",
      "from finally block\n"
     ]
    }
   ],
   "source": [
    "try:\n",
    "    d = int(input())\n",
    "    e = int(input())\n",
    "    c = d/e\n",
    "except ValueError :\n",
    "    print(\"value wrong\")# handel valuue erroe and zero dividion error\n",
    "except ZeroDivisionError :\n",
    "    print(\"cant divide by zero\")\n",
    "    \n",
    "finally:\n",
    "    print(\"from finally block\")# finally always runs"
   ]
  },
  {
   "cell_type": "code",
   "execution_count": 79,
   "id": "92268118",
   "metadata": {},
   "outputs": [],
   "source": [
    "def divid(a,b):\n",
    "    try:\n",
    "        print(a/b)\n",
    "    except ZeroDivisionError as e: #try except use i function\n",
    "        print(e)\n",
    "    \n",
    "   "
   ]
  },
  {
   "cell_type": "code",
   "execution_count": 81,
   "id": "8e7e69be",
   "metadata": {},
   "outputs": [
    {
     "name": "stdout",
     "output_type": "stream",
     "text": [
      "division by zero\n"
     ]
    }
   ],
   "source": [
    "divid(4,0)"
   ]
  },
  {
   "cell_type": "code",
   "execution_count": 83,
   "id": "84703074",
   "metadata": {},
   "outputs": [],
   "source": [
    "def divid(a,b):\n",
    "    try:\n",
    "        print(a/b)\n",
    "    except ZeroDivisionError as e: #try except use i function\n",
    "        print(e)\n",
    "    else:\n",
    "        print(\"else block\")\n",
    "    finally:\n",
    "        print(\"run any way\")"
   ]
  },
  {
   "cell_type": "code",
   "execution_count": 86,
   "id": "cf476885",
   "metadata": {},
   "outputs": [
    {
     "name": "stdout",
     "output_type": "stream",
     "text": [
      "0.8\n",
      "else block\n",
      "run any way\n",
      "division by zero\n",
      "run any way\n",
      "1.0\n",
      "else block\n",
      "run any way\n"
     ]
    }
   ],
   "source": [
    "divid(4,5)\n",
    "divid(4,0)\n",
    "divid(4,4)"
   ]
  },
  {
   "cell_type": "code",
   "execution_count": 94,
   "id": "6c70ee41",
   "metadata": {},
   "outputs": [
    {
     "name": "stdout",
     "output_type": "stream",
     "text": [
      "outer block\n",
      "nested block\n",
      "outer exception\n",
      "division by zero\n"
     ]
    }
   ],
   "source": [
    "a = 10\n",
    "b = 0\n",
    "\n",
    "try:\n",
    "    print(\"outer block\")\n",
    "    \n",
    "    try:\n",
    "        print(\"nested block\")\n",
    "        print(a/b)\n",
    "    except SyntaxError as e:\n",
    "        print(\"nested exception\")\n",
    "        print(e)\n",
    "except ZeroDivisionError as z:\n",
    "    print(\"outer exception\")\n",
    "    print(z)"
   ]
  },
  {
   "cell_type": "code",
   "execution_count": null,
   "id": "eb03facb",
   "metadata": {},
   "outputs": [],
   "source": []
  }
 ],
 "metadata": {
  "kernelspec": {
   "display_name": "Python 3 (ipykernel)",
   "language": "python",
   "name": "python3"
  },
  "language_info": {
   "codemirror_mode": {
    "name": "ipython",
    "version": 3
   },
   "file_extension": ".py",
   "mimetype": "text/x-python",
   "name": "python",
   "nbconvert_exporter": "python",
   "pygments_lexer": "ipython3",
   "version": "3.10.6"
  }
 },
 "nbformat": 4,
 "nbformat_minor": 5
}
