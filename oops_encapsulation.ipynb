{
 "cells": [
  {
   "cell_type": "code",
   "execution_count": 1,
   "id": "5afe2dd5",
   "metadata": {},
   "outputs": [],
   "source": [
    "class Car:\n",
    "    pass"
   ]
  },
  {
   "cell_type": "code",
   "execution_count": 2,
   "id": "e0051cb2",
   "metadata": {},
   "outputs": [],
   "source": [
    "audi = Car()"
   ]
  },
  {
   "cell_type": "code",
   "execution_count": 3,
   "id": "2c7c773b",
   "metadata": {},
   "outputs": [],
   "source": [
    "audi.milage = 15\n",
    "audi.year = 2000\n",
    "audi.model = \"ad47\""
   ]
  },
  {
   "cell_type": "code",
   "execution_count": 4,
   "id": "80b8ae24",
   "metadata": {},
   "outputs": [
    {
     "data": {
      "text/plain": [
       "15"
      ]
     },
     "execution_count": 4,
     "metadata": {},
     "output_type": "execute_result"
    }
   ],
   "source": [
    "audi.milage"
   ]
  },
  {
   "cell_type": "code",
   "execution_count": 5,
   "id": "ce2609f6",
   "metadata": {},
   "outputs": [],
   "source": [
    "class Car:\n",
    "    \n",
    "    def __init__(self,milage,year,make,model):\n",
    "        self.milage =milage\n",
    "        self.year = year\n",
    "        self.make =make\n",
    "        self.model=model"
   ]
  },
  {
   "cell_type": "code",
   "execution_count": 6,
   "id": "5a10d909",
   "metadata": {},
   "outputs": [],
   "source": [
    "BMW = Car(30,2018,\"usa\",\"478-10\")"
   ]
  },
  {
   "cell_type": "code",
   "execution_count": 7,
   "id": "19a3aedb",
   "metadata": {},
   "outputs": [
    {
     "data": {
      "text/plain": [
       "30"
      ]
     },
     "execution_count": 7,
     "metadata": {},
     "output_type": "execute_result"
    }
   ],
   "source": [
    "BMW.milage"
   ]
  },
  {
   "cell_type": "code",
   "execution_count": 8,
   "id": "cb160fd6",
   "metadata": {},
   "outputs": [],
   "source": [
    "class person:\n",
    "    \n",
    "    def __init__(self,first_name,last_name,age):\n",
    "        self.first_name = first_name\n",
    "        self.last_name = last_name\n",
    "        self.age = age\n",
    "        \n",
    "    def __str__(self):\n",
    "        return \"this is person class\"\n",
    "    "
   ]
  },
  {
   "cell_type": "code",
   "execution_count": 9,
   "id": "ac0d6d92",
   "metadata": {},
   "outputs": [],
   "source": [
    "p = person(\"yash\",\"mohite\",22)"
   ]
  },
  {
   "cell_type": "code",
   "execution_count": 10,
   "id": "f06a1de1",
   "metadata": {},
   "outputs": [
    {
     "name": "stdout",
     "output_type": "stream",
     "text": [
      "this is person class\n"
     ]
    }
   ],
   "source": [
    "print(p)"
   ]
  },
  {
   "cell_type": "code",
   "execution_count": 11,
   "id": "95eab865",
   "metadata": {},
   "outputs": [],
   "source": [
    "class Student:\n",
    "    \n",
    "    def __init__(self,name,roll_no,joining_date,current_topic):\n",
    "        self.name=name\n",
    "        self.roll_no = roll_no\n",
    "        self.joining_date = joining_date\n",
    "        self.current_topic = current_topic\n",
    "        \n",
    "    def Current_top(self):\n",
    "        print(f\"current topic discuss in class is: {self.current_topic}\")\n",
    "     \n",
    "    def str_rollno(self):\n",
    "        try:\n",
    "            if type(self.roll_no) == str:\n",
    "                print(\"do nothing\")\n",
    "            else:\n",
    "                return str(self.roll_no)\n",
    "        except exception as e:\n",
    "            print(e)\n",
    "            \n",
    "    def Duration(self,current_date):\n",
    "        print(\"duration of student in my class is:\",current_date - self.joining_date)\n",
    "    \n",
    "    \n",
    "    def __str__(self):\n",
    "        return \"this is student class\"\n",
    "    "
   ]
  },
  {
   "cell_type": "code",
   "execution_count": 12,
   "id": "039c427f",
   "metadata": {},
   "outputs": [],
   "source": [
    "std = Student(\"yash mohite\",18,2022,\"data science\" )"
   ]
  },
  {
   "cell_type": "code",
   "execution_count": 13,
   "id": "4d021804",
   "metadata": {},
   "outputs": [
    {
     "name": "stdout",
     "output_type": "stream",
     "text": [
      "this is student class\n"
     ]
    }
   ],
   "source": [
    "print(std)"
   ]
  },
  {
   "cell_type": "code",
   "execution_count": 14,
   "id": "aaf68da9",
   "metadata": {},
   "outputs": [
    {
     "name": "stdout",
     "output_type": "stream",
     "text": [
      "duration of student in my class is: 0\n"
     ]
    }
   ],
   "source": [
    "std.Duration(2022)"
   ]
  },
  {
   "cell_type": "code",
   "execution_count": 15,
   "id": "43f7c4b2",
   "metadata": {},
   "outputs": [
    {
     "data": {
      "text/plain": [
       "'18'"
      ]
     },
     "execution_count": 15,
     "metadata": {},
     "output_type": "execute_result"
    }
   ],
   "source": [
    "std.str_rollno()"
   ]
  },
  {
   "cell_type": "code",
   "execution_count": 16,
   "id": "6df906d5",
   "metadata": {},
   "outputs": [
    {
     "data": {
      "text/plain": [
       "'data science'"
      ]
     },
     "execution_count": 16,
     "metadata": {},
     "output_type": "execute_result"
    }
   ],
   "source": [
    "std.current_topic"
   ]
  },
  {
   "cell_type": "code",
   "execution_count": 17,
   "id": "3b6a9e86",
   "metadata": {},
   "outputs": [],
   "source": [
    "class Calculater:\n",
    "    \n",
    "    \n",
    "    def __init__(self):\n",
    "        self.x = int(input(\"enter the number\"))\n",
    "        self.y = int(input(\"enter the number\"))\n",
    "        \n",
    "    def add(self):\n",
    "        return self.x + self.y\n",
    "    \n",
    "    def sub(self):\n",
    "        return self.x - self.y\n",
    "    \n",
    "    def multi(self):\n",
    "        return self.x * self.y\n",
    "    \n",
    "    def div(self):\n",
    "        return self.x / self.y\n",
    "    \n",
    "    def per(self):\n",
    "        return self.x % self.y\n",
    "    \n",
    "    def sqr(self):\n",
    "        return self.x ** self.y\n",
    "    \n",
    "    def __str__(self):\n",
    "        return \"this is calculator\""
   ]
  },
  {
   "cell_type": "code",
   "execution_count": 18,
   "id": "aa1217ec",
   "metadata": {},
   "outputs": [
    {
     "name": "stdout",
     "output_type": "stream",
     "text": [
      "enter the number7\n",
      "enter the number9\n"
     ]
    }
   ],
   "source": [
    "c = Calculater()"
   ]
  },
  {
   "cell_type": "code",
   "execution_count": 19,
   "id": "b7117b98",
   "metadata": {},
   "outputs": [
    {
     "data": {
      "text/plain": [
       "16"
      ]
     },
     "execution_count": 19,
     "metadata": {},
     "output_type": "execute_result"
    }
   ],
   "source": [
    "c.add()"
   ]
  },
  {
   "cell_type": "code",
   "execution_count": 20,
   "id": "44335b2c",
   "metadata": {},
   "outputs": [
    {
     "data": {
      "text/plain": [
       "-2"
      ]
     },
     "execution_count": 20,
     "metadata": {},
     "output_type": "execute_result"
    }
   ],
   "source": [
    "c.sub()"
   ]
  },
  {
   "cell_type": "code",
   "execution_count": 21,
   "id": "f096bd97",
   "metadata": {},
   "outputs": [
    {
     "data": {
      "text/plain": [
       "63"
      ]
     },
     "execution_count": 21,
     "metadata": {},
     "output_type": "execute_result"
    }
   ],
   "source": [
    "c.multi()"
   ]
  },
  {
   "cell_type": "code",
   "execution_count": 22,
   "id": "24fda0f6",
   "metadata": {},
   "outputs": [
    {
     "data": {
      "text/plain": [
       "0.7777777777777778"
      ]
     },
     "execution_count": 22,
     "metadata": {},
     "output_type": "execute_result"
    }
   ],
   "source": [
    "c.div()"
   ]
  },
  {
   "cell_type": "code",
   "execution_count": 23,
   "id": "092a0d45",
   "metadata": {},
   "outputs": [
    {
     "data": {
      "text/plain": [
       "40353607"
      ]
     },
     "execution_count": 23,
     "metadata": {},
     "output_type": "execute_result"
    }
   ],
   "source": [
    "c.sqr()"
   ]
  },
  {
   "cell_type": "code",
   "execution_count": 24,
   "id": "263419b7",
   "metadata": {},
   "outputs": [
    {
     "data": {
      "text/plain": [
       "7"
      ]
     },
     "execution_count": 24,
     "metadata": {},
     "output_type": "execute_result"
    }
   ],
   "source": [
    "c.per()"
   ]
  },
  {
   "cell_type": "code",
   "execution_count": 25,
   "id": "42cff89a",
   "metadata": {},
   "outputs": [],
   "source": [
    "# ENCAPSULATION\n",
    "\n",
    "class public:\n",
    "    \n",
    "    def __init__(self,name,age):\n",
    "        self._name = name\n",
    "        self.age = age\n",
    "        \n",
    "    def age_1(self):\n",
    "        print(f\"age: {self.age}\")\n",
    "        \n",
    "    "
   ]
  },
  {
   "cell_type": "code",
   "execution_count": 26,
   "id": "95d311dd",
   "metadata": {},
   "outputs": [],
   "source": [
    "p = public(\"yash mohite\", 22)"
   ]
  },
  {
   "cell_type": "code",
   "execution_count": 27,
   "id": "b578af65",
   "metadata": {},
   "outputs": [
    {
     "name": "stdout",
     "output_type": "stream",
     "text": [
      "age: 22\n"
     ]
    }
   ],
   "source": [
    "p.age_1()"
   ]
  },
  {
   "cell_type": "code",
   "execution_count": 28,
   "id": "503a74a3",
   "metadata": {},
   "outputs": [],
   "source": [
    "# _ before name is protected\n",
    "# __ before name is private"
   ]
  },
  {
   "cell_type": "code",
   "execution_count": 29,
   "id": "79c9358f",
   "metadata": {},
   "outputs": [],
   "source": [
    "#p."
   ]
  },
  {
   "cell_type": "code",
   "execution_count": 30,
   "id": "56832f3d",
   "metadata": {},
   "outputs": [],
   "source": [
    "class Rectangle:\n",
    "    \n",
    "   # __length = 0\n",
    "    #__breadth = 0\n",
    "    \n",
    "    def __init__(self):\n",
    "        self.length = 5\n",
    "        self.__breadth = 3 # only accese to class not outside class\n",
    "        \n",
    "        print(self.length)\n",
    "        print(self.__breadth)"
   ]
  },
  {
   "cell_type": "code",
   "execution_count": 31,
   "id": "eac6697d",
   "metadata": {},
   "outputs": [
    {
     "name": "stdout",
     "output_type": "stream",
     "text": [
      "5\n",
      "3\n"
     ]
    }
   ],
   "source": [
    "r1 = Rectangle()"
   ]
  },
  {
   "cell_type": "code",
   "execution_count": 32,
   "id": "8d53756b",
   "metadata": {},
   "outputs": [
    {
     "data": {
      "text/plain": [
       "5"
      ]
     },
     "execution_count": 32,
     "metadata": {},
     "output_type": "execute_result"
    }
   ],
   "source": [
    "r1.length"
   ]
  },
  {
   "cell_type": "code",
   "execution_count": 33,
   "id": "9c31d691",
   "metadata": {},
   "outputs": [],
   "source": [
    "class Rectangle:\n",
    "    \n",
    "   # __length = 0\n",
    "    #__breadth = 0\n",
    "    \n",
    "    def __init__(self):\n",
    "        self.length = 5\n",
    "        self.__breadth = 3 # only accese to class not outside class\n",
    "        \n",
    "        print(self.length)\n",
    "        print(self.__breadth)\n",
    "        \n",
    "    def show(self):\n",
    "        print(f\"this is the private variable: {self.__breadth}\") #ue can use private variable in class like this\n",
    "        "
   ]
  },
  {
   "cell_type": "code",
   "execution_count": 34,
   "id": "6eb9e393",
   "metadata": {},
   "outputs": [
    {
     "name": "stdout",
     "output_type": "stream",
     "text": [
      "5\n",
      "3\n"
     ]
    }
   ],
   "source": [
    "r2 = Rectangle()"
   ]
  },
  {
   "cell_type": "code",
   "execution_count": 35,
   "id": "7d035e03",
   "metadata": {},
   "outputs": [
    {
     "name": "stdout",
     "output_type": "stream",
     "text": [
      "this is the private variable: 3\n"
     ]
    }
   ],
   "source": [
    "r2.show()"
   ]
  },
  {
   "cell_type": "code",
   "execution_count": 36,
   "id": "f5e32d58",
   "metadata": {},
   "outputs": [
    {
     "data": {
      "text/plain": [
       "3"
      ]
     },
     "execution_count": 36,
     "metadata": {},
     "output_type": "execute_result"
    }
   ],
   "source": [
    "r2._Rectangle__breadth # this is other way to acess private variable in object"
   ]
  },
  {
   "cell_type": "code",
   "execution_count": 37,
   "id": "e7cc4847",
   "metadata": {},
   "outputs": [],
   "source": [
    "class Test:\n",
    "    \n",
    "    def __init__(self):\n",
    "        self.a = 5\n",
    "        self._b = 6\n",
    "        self.__c = 10\n",
    "        \n",
    "    def Show(self):\n",
    "        print(\"this is public\",self.a)\n",
    "        print(\"this is protected\",self._b)\n",
    "        print(\"this is private\",self.__c)"
   ]
  },
  {
   "cell_type": "code",
   "execution_count": 38,
   "id": "f9902b5f",
   "metadata": {},
   "outputs": [],
   "source": [
    "p = Test()"
   ]
  },
  {
   "cell_type": "code",
   "execution_count": 39,
   "id": "8297a19d",
   "metadata": {},
   "outputs": [
    {
     "name": "stdout",
     "output_type": "stream",
     "text": [
      "this is public 5\n",
      "this is protected 6\n",
      "this is private 10\n"
     ]
    }
   ],
   "source": [
    "p.Show() # this is also way to acess the private and protected"
   ]
  },
  {
   "cell_type": "code",
   "execution_count": 40,
   "id": "670442f5",
   "metadata": {},
   "outputs": [
    {
     "data": {
      "text/plain": [
       "10"
      ]
     },
     "execution_count": 40,
     "metadata": {},
     "output_type": "execute_result"
    }
   ],
   "source": [
    "p._Test__c # this is anathor mated called datamangnin"
   ]
  },
  {
   "cell_type": "code",
   "execution_count": 41,
   "id": "880eef5f",
   "metadata": {},
   "outputs": [
    {
     "data": {
      "text/plain": [
       "6"
      ]
     },
     "execution_count": 41,
     "metadata": {},
     "output_type": "execute_result"
    }
   ],
   "source": [
    "p._b # this is way to acces the protected"
   ]
  },
  {
   "cell_type": "code",
   "execution_count": 123,
   "id": "72b4073b",
   "metadata": {},
   "outputs": [],
   "source": [
    "# Actual Encapsulation\n",
    "\n"
   ]
  },
  {
   "cell_type": "code",
   "execution_count": null,
   "id": "0b98b661",
   "metadata": {},
   "outputs": [],
   "source": []
  },
  {
   "cell_type": "code",
   "execution_count": null,
   "id": "d29cd913",
   "metadata": {},
   "outputs": [],
   "source": []
  },
  {
   "cell_type": "code",
   "execution_count": null,
   "id": "b0e4ab0c",
   "metadata": {},
   "outputs": [],
   "source": []
  },
  {
   "cell_type": "code",
   "execution_count": null,
   "id": "b863ad94",
   "metadata": {},
   "outputs": [],
   "source": []
  },
  {
   "cell_type": "code",
   "execution_count": null,
   "id": "1983d513",
   "metadata": {},
   "outputs": [],
   "source": []
  }
 ],
 "metadata": {
  "kernelspec": {
   "display_name": "Python 3 (ipykernel)",
   "language": "python",
   "name": "python3"
  },
  "language_info": {
   "codemirror_mode": {
    "name": "ipython",
    "version": 3
   },
   "file_extension": ".py",
   "mimetype": "text/x-python",
   "name": "python",
   "nbconvert_exporter": "python",
   "pygments_lexer": "ipython3",
   "version": "3.10.6"
  }
 },
 "nbformat": 4,
 "nbformat_minor": 5
}
