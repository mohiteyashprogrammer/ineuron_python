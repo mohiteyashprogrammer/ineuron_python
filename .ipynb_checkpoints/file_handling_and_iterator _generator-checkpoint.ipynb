{
 "cells": [
  {
   "cell_type": "code",
   "execution_count": 1,
   "id": "f01ccf32",
   "metadata": {},
   "outputs": [
    {
     "name": "stdout",
     "output_type": "stream",
     "text": [
      " Volume in drive C is OS\n",
      " Volume Serial Number is 066D-7C05\n",
      "\n",
      " Directory of C:\\Users\\yash mohite\\OneDrive\\Desktop\\ineuron\n",
      "\n",
      "18-12-2022  12:49    <DIR>          .\n",
      "14-12-2022  10:58    <DIR>          ..\n",
      "17-12-2022  18:59    <DIR>          .ipynb_checkpoints\n",
      "12-12-2022  12:52             2,426 countrol_flow_python.ipynb\n",
      "18-12-2022  12:41                20 data_science.txt\n",
      "17-12-2022  16:59            19,737 exception handling_inpython.ipynb\n",
      "18-12-2022  12:49        18,967,634 file_handling_and_iterator _generator.ipynb\n",
      "14-12-2022  14:37               593 function.py\n",
      "16-12-2022  14:20            43,068 functions.ipynb\n",
      "18-12-2022  11:09                 0 new.txt\n",
      "15-12-2022  13:07            12,214 practic.ipynb\n",
      "16-12-2022  12:35             7,879 prsctic_functions.ipynb\n",
      "17-12-2022  14:20            13,703 Question_solving.ipynb\n",
      "17-12-2022  20:06                 6 test.txt.txt\n",
      "18-12-2022  12:41                36 test1.txt.txt\n",
      "18-12-2022  10:55                 0 test2.txt\n",
      "15-12-2022  11:14                 0 untitled\n",
      "11-12-2022  22:45               984 Untitled-1.py\n",
      "              15 File(s)     19,068,300 bytes\n",
      "               3 Dir(s)  342,502,215,680 bytes free\n"
     ]
    }
   ],
   "source": [
    "%ls"
   ]
  },
  {
   "cell_type": "code",
   "execution_count": 2,
   "id": "7ccf8afe",
   "metadata": {},
   "outputs": [
    {
     "data": {
      "text/plain": [
       "'C:\\\\Users\\\\yash mohite\\\\OneDrive\\\\Desktop\\\\ineuron'"
      ]
     },
     "execution_count": 2,
     "metadata": {},
     "output_type": "execute_result"
    }
   ],
   "source": [
    "pwd()"
   ]
  },
  {
   "cell_type": "code",
   "execution_count": 3,
   "id": "1b371854",
   "metadata": {},
   "outputs": [],
   "source": [
    "#this command is to open file\n",
    "f = open(\"test.txt.txt\")"
   ]
  },
  {
   "cell_type": "code",
   "execution_count": 4,
   "id": "30f84b46",
   "metadata": {},
   "outputs": [
    {
     "data": {
      "text/plain": [
       "_io.TextIOWrapper"
      ]
     },
     "execution_count": 4,
     "metadata": {},
     "output_type": "execute_result"
    }
   ],
   "source": [
    "type(f)"
   ]
  },
  {
   "cell_type": "code",
   "execution_count": 5,
   "id": "e4394d39",
   "metadata": {},
   "outputs": [],
   "source": [
    "f.close()"
   ]
  },
  {
   "cell_type": "code",
   "execution_count": 6,
   "id": "7375e7ff",
   "metadata": {},
   "outputs": [],
   "source": [
    "#f = open(r\"c:/user/yash/downlodes/text.text\"'r')"
   ]
  },
  {
   "cell_type": "code",
   "execution_count": 7,
   "id": "cad29a2c",
   "metadata": {},
   "outputs": [],
   "source": [
    "#how to read a file\n",
    "f = open(\"test.txt.txt\")"
   ]
  },
  {
   "cell_type": "code",
   "execution_count": 8,
   "id": "0cb269cf",
   "metadata": {},
   "outputs": [
    {
     "data": {
      "text/plain": [
       "'coding'"
      ]
     },
     "execution_count": 8,
     "metadata": {},
     "output_type": "execute_result"
    }
   ],
   "source": [
    "f.read()"
   ]
  },
  {
   "cell_type": "code",
   "execution_count": 9,
   "id": "0c55f6f4",
   "metadata": {},
   "outputs": [
    {
     "data": {
      "text/plain": [
       "''"
      ]
     },
     "execution_count": 9,
     "metadata": {},
     "output_type": "execute_result"
    }
   ],
   "source": [
    "f.read(4)"
   ]
  },
  {
   "cell_type": "code",
   "execution_count": 10,
   "id": "b40ecc35",
   "metadata": {},
   "outputs": [
    {
     "data": {
      "text/plain": [
       "0"
      ]
     },
     "execution_count": 10,
     "metadata": {},
     "output_type": "execute_result"
    }
   ],
   "source": [
    "f.seek(0)"
   ]
  },
  {
   "cell_type": "code",
   "execution_count": 11,
   "id": "8f2d48fe",
   "metadata": {},
   "outputs": [
    {
     "data": {
      "text/plain": [
       "0"
      ]
     },
     "execution_count": 11,
     "metadata": {},
     "output_type": "execute_result"
    }
   ],
   "source": [
    "f.tell()# this show current file position"
   ]
  },
  {
   "cell_type": "code",
   "execution_count": 12,
   "id": "bbf8325d",
   "metadata": {},
   "outputs": [
    {
     "data": {
      "text/plain": [
       "['coding']"
      ]
     },
     "execution_count": 12,
     "metadata": {},
     "output_type": "execute_result"
    }
   ],
   "source": [
    "f.readlines()"
   ]
  },
  {
   "cell_type": "code",
   "execution_count": 13,
   "id": "7acff985",
   "metadata": {},
   "outputs": [],
   "source": [
    "with open(\"test.txt.txt\") as f:\n",
    "    # final operation, other way to open file\n",
    "    f.read()\n",
    "    pass # auto close the file with mode"
   ]
  },
  {
   "cell_type": "code",
   "execution_count": 14,
   "id": "e5958b30",
   "metadata": {},
   "outputs": [],
   "source": [
    "#write the file\n",
    "data = \"coding,i join data science boot camp\"\n",
    "f=open(\"test1.txt.txt\", \"w\")"
   ]
  },
  {
   "cell_type": "code",
   "execution_count": 15,
   "id": "f78fff11",
   "metadata": {},
   "outputs": [
    {
     "data": {
      "text/plain": [
       "36"
      ]
     },
     "execution_count": 15,
     "metadata": {},
     "output_type": "execute_result"
    }
   ],
   "source": [
    "f.write(data)"
   ]
  },
  {
   "cell_type": "code",
   "execution_count": 16,
   "id": "db1e785b",
   "metadata": {},
   "outputs": [
    {
     "name": "stdout",
     "output_type": "stream",
     "text": [
      "done\n"
     ]
    }
   ],
   "source": [
    "print(\"done\")"
   ]
  },
  {
   "cell_type": "code",
   "execution_count": 17,
   "id": "cc5aba9e",
   "metadata": {},
   "outputs": [],
   "source": [
    "f.close()"
   ]
  },
  {
   "cell_type": "code",
   "execution_count": 18,
   "id": "3d4e00ae",
   "metadata": {},
   "outputs": [
    {
     "name": "stdout",
     "output_type": "stream",
     "text": [
      "5\n",
      "0\n",
      "division by zero\n"
     ]
    }
   ],
   "source": [
    "try:\n",
    "    a=int(input())\n",
    "    b=int(input())\n",
    "    c = a/b\n",
    "except ArithmeticError as e:\n",
    "    print(e)\n",
    "    f=open(\"data_science.txt\",\"w+\")\n",
    "    f.write(\"yash\")\n",
    "    f.write(str(e))\n",
    "    \n",
    "    f.read()\n",
    "else:\n",
    "    print(\"this will except once try is suceess\")\n",
    "    try:\n",
    "        f=open(\"test2.txt\",\"w\")\n",
    "    except:\n",
    "        print(\"this is and issue with try block\")"
   ]
  },
  {
   "cell_type": "code",
   "execution_count": 19,
   "id": "1d7b5f66",
   "metadata": {},
   "outputs": [],
   "source": [
    "# r open file to read\n",
    "# w open and write a creating folder\n",
    "# x this will open file executistive creation if the file already exitesoperations\n",
    "# a open a file for appending at end ned of flie\n",
    "# + open a file for update (reading a  writing)"
   ]
  },
  {
   "cell_type": "code",
   "execution_count": 21,
   "id": "0fc0745f",
   "metadata": {},
   "outputs": [
    {
     "ename": "FileExistsError",
     "evalue": "[Errno 17] File exists: 'new.txt'",
     "output_type": "error",
     "traceback": [
      "\u001b[1;31m---------------------------------------------------------------------------\u001b[0m",
      "\u001b[1;31mFileExistsError\u001b[0m                           Traceback (most recent call last)",
      "Cell \u001b[1;32mIn [21], line 1\u001b[0m\n\u001b[1;32m----> 1\u001b[0m f \u001b[38;5;241m=\u001b[39m \u001b[38;5;28;43mopen\u001b[39;49m\u001b[43m(\u001b[49m\u001b[38;5;124;43m\"\u001b[39;49m\u001b[38;5;124;43mnew.txt\u001b[39;49m\u001b[38;5;124;43m\"\u001b[39;49m\u001b[43m,\u001b[49m\u001b[38;5;124;43m\"\u001b[39;49m\u001b[38;5;124;43mx\u001b[39;49m\u001b[38;5;124;43m\"\u001b[39;49m\u001b[43m)\u001b[49m\n",
      "\u001b[1;31mFileExistsError\u001b[0m: [Errno 17] File exists: 'new.txt'"
     ]
    }
   ],
   "source": [
    "f = open(\"new.txt\",\"x\")"
   ]
  },
  {
   "cell_type": "markdown",
   "id": "96b09bf4",
   "metadata": {},
   "source": [
    "## iterator, iterable and generator"
   ]
  },
  {
   "cell_type": "code",
   "execution_count": 22,
   "id": "7aa11eac",
   "metadata": {},
   "outputs": [],
   "source": [
    "# Iteration is like repiting the steps (like loop)\n",
    "\n",
    "# Iterable are the object thet can be iterated in iteration (eg: list, tuple and dict,sets)\n",
    "\n",
    "# iterator is an object that hold countable number of values"
   ]
  },
  {
   "cell_type": "code",
   "execution_count": 23,
   "id": "649ceba5",
   "metadata": {},
   "outputs": [
    {
     "name": "stdout",
     "output_type": "stream",
     "text": [
      "yash\n",
      "isha\n",
      "code\n"
     ]
    }
   ],
   "source": [
    "tup = (\"yash\",\"isha\",\"code\")\n",
    "for i in tup:\n",
    "    print(i)"
   ]
  },
  {
   "cell_type": "code",
   "execution_count": 24,
   "id": "6c71bbf7",
   "metadata": {},
   "outputs": [
    {
     "data": {
      "text/plain": [
       "tuple"
      ]
     },
     "execution_count": 24,
     "metadata": {},
     "output_type": "execute_result"
    }
   ],
   "source": [
    "type(tup)"
   ]
  },
  {
   "cell_type": "code",
   "execution_count": 25,
   "id": "e1b60a91",
   "metadata": {},
   "outputs": [
    {
     "data": {
      "text/plain": [
       "['__add__',\n",
       " '__class__',\n",
       " '__class_getitem__',\n",
       " '__contains__',\n",
       " '__delattr__',\n",
       " '__dir__',\n",
       " '__doc__',\n",
       " '__eq__',\n",
       " '__format__',\n",
       " '__ge__',\n",
       " '__getattribute__',\n",
       " '__getitem__',\n",
       " '__getnewargs__',\n",
       " '__gt__',\n",
       " '__hash__',\n",
       " '__init__',\n",
       " '__init_subclass__',\n",
       " '__iter__',\n",
       " '__le__',\n",
       " '__len__',\n",
       " '__lt__',\n",
       " '__mul__',\n",
       " '__ne__',\n",
       " '__new__',\n",
       " '__reduce__',\n",
       " '__reduce_ex__',\n",
       " '__repr__',\n",
       " '__rmul__',\n",
       " '__setattr__',\n",
       " '__sizeof__',\n",
       " '__str__',\n",
       " '__subclasshook__',\n",
       " 'count',\n",
       " 'index']"
      ]
     },
     "execution_count": 25,
     "metadata": {},
     "output_type": "execute_result"
    }
   ],
   "source": [
    "dir(tup)"
   ]
  },
  {
   "cell_type": "code",
   "execution_count": 26,
   "id": "332a8398",
   "metadata": {},
   "outputs": [
    {
     "name": "stdout",
     "output_type": "stream",
     "text": [
      "y\n",
      "a\n",
      "s\n",
      "h\n"
     ]
    }
   ],
   "source": [
    "st = \"yash\"\n",
    "for i in st:\n",
    "    print(i)"
   ]
  },
  {
   "cell_type": "code",
   "execution_count": 27,
   "id": "a6306a2f",
   "metadata": {},
   "outputs": [
    {
     "data": {
      "text/plain": [
       "str"
      ]
     },
     "execution_count": 27,
     "metadata": {},
     "output_type": "execute_result"
    }
   ],
   "source": [
    "type(st)"
   ]
  },
  {
   "cell_type": "code",
   "execution_count": 28,
   "id": "09e16b78",
   "metadata": {},
   "outputs": [
    {
     "data": {
      "text/plain": [
       "['__add__',\n",
       " '__class__',\n",
       " '__contains__',\n",
       " '__delattr__',\n",
       " '__dir__',\n",
       " '__doc__',\n",
       " '__eq__',\n",
       " '__format__',\n",
       " '__ge__',\n",
       " '__getattribute__',\n",
       " '__getitem__',\n",
       " '__getnewargs__',\n",
       " '__gt__',\n",
       " '__hash__',\n",
       " '__init__',\n",
       " '__init_subclass__',\n",
       " '__iter__',\n",
       " '__le__',\n",
       " '__len__',\n",
       " '__lt__',\n",
       " '__mod__',\n",
       " '__mul__',\n",
       " '__ne__',\n",
       " '__new__',\n",
       " '__reduce__',\n",
       " '__reduce_ex__',\n",
       " '__repr__',\n",
       " '__rmod__',\n",
       " '__rmul__',\n",
       " '__setattr__',\n",
       " '__sizeof__',\n",
       " '__str__',\n",
       " '__subclasshook__',\n",
       " 'capitalize',\n",
       " 'casefold',\n",
       " 'center',\n",
       " 'count',\n",
       " 'encode',\n",
       " 'endswith',\n",
       " 'expandtabs',\n",
       " 'find',\n",
       " 'format',\n",
       " 'format_map',\n",
       " 'index',\n",
       " 'isalnum',\n",
       " 'isalpha',\n",
       " 'isascii',\n",
       " 'isdecimal',\n",
       " 'isdigit',\n",
       " 'isidentifier',\n",
       " 'islower',\n",
       " 'isnumeric',\n",
       " 'isprintable',\n",
       " 'isspace',\n",
       " 'istitle',\n",
       " 'isupper',\n",
       " 'join',\n",
       " 'ljust',\n",
       " 'lower',\n",
       " 'lstrip',\n",
       " 'maketrans',\n",
       " 'partition',\n",
       " 'removeprefix',\n",
       " 'removesuffix',\n",
       " 'replace',\n",
       " 'rfind',\n",
       " 'rindex',\n",
       " 'rjust',\n",
       " 'rpartition',\n",
       " 'rsplit',\n",
       " 'rstrip',\n",
       " 'split',\n",
       " 'splitlines',\n",
       " 'startswith',\n",
       " 'strip',\n",
       " 'swapcase',\n",
       " 'title',\n",
       " 'translate',\n",
       " 'upper',\n",
       " 'zfill']"
      ]
     },
     "execution_count": 28,
     "metadata": {},
     "output_type": "execute_result"
    }
   ],
   "source": [
    "dir(st)"
   ]
  },
  {
   "cell_type": "code",
   "execution_count": 29,
   "id": "fb0c57d4",
   "metadata": {},
   "outputs": [
    {
     "name": "stdout",
     "output_type": "stream",
     "text": [
      "1\n",
      "2\n",
      "3\n",
      "6\n",
      "5\n",
      "4\n"
     ]
    }
   ],
   "source": [
    "lst = [1,2,3,6,5,4]\n",
    "for i in lst:\n",
    "    print(i)"
   ]
  },
  {
   "cell_type": "code",
   "execution_count": 30,
   "id": "d0f8a9f8",
   "metadata": {},
   "outputs": [
    {
     "data": {
      "text/plain": [
       "['__add__',\n",
       " '__class__',\n",
       " '__class_getitem__',\n",
       " '__contains__',\n",
       " '__delattr__',\n",
       " '__delitem__',\n",
       " '__dir__',\n",
       " '__doc__',\n",
       " '__eq__',\n",
       " '__format__',\n",
       " '__ge__',\n",
       " '__getattribute__',\n",
       " '__getitem__',\n",
       " '__gt__',\n",
       " '__hash__',\n",
       " '__iadd__',\n",
       " '__imul__',\n",
       " '__init__',\n",
       " '__init_subclass__',\n",
       " '__iter__',\n",
       " '__le__',\n",
       " '__len__',\n",
       " '__lt__',\n",
       " '__mul__',\n",
       " '__ne__',\n",
       " '__new__',\n",
       " '__reduce__',\n",
       " '__reduce_ex__',\n",
       " '__repr__',\n",
       " '__reversed__',\n",
       " '__rmul__',\n",
       " '__setattr__',\n",
       " '__setitem__',\n",
       " '__sizeof__',\n",
       " '__str__',\n",
       " '__subclasshook__',\n",
       " 'append',\n",
       " 'clear',\n",
       " 'copy',\n",
       " 'count',\n",
       " 'extend',\n",
       " 'index',\n",
       " 'insert',\n",
       " 'pop',\n",
       " 'remove',\n",
       " 'reverse',\n",
       " 'sort']"
      ]
     },
     "execution_count": 30,
     "metadata": {},
     "output_type": "execute_result"
    }
   ],
   "source": [
    "dir(lst)"
   ]
  },
  {
   "cell_type": "code",
   "execution_count": 31,
   "id": "920fd104",
   "metadata": {},
   "outputs": [],
   "source": [
    "d = {\"x\":14, \"y\":58,\"z\":89}"
   ]
  },
  {
   "cell_type": "code",
   "execution_count": 32,
   "id": "cfd883b5",
   "metadata": {},
   "outputs": [
    {
     "name": "stdout",
     "output_type": "stream",
     "text": [
      "('x', 14)\n",
      "('y', 58)\n",
      "('z', 89)\n"
     ]
    }
   ],
   "source": [
    "for i in d.items():\n",
    "    print(i)"
   ]
  },
  {
   "cell_type": "code",
   "execution_count": 33,
   "id": "5c20be3b",
   "metadata": {},
   "outputs": [],
   "source": [
    "data = [\"ineuron\", \"code\",\"india\"]"
   ]
  },
  {
   "cell_type": "code",
   "execution_count": 34,
   "id": "810fb284",
   "metadata": {},
   "outputs": [],
   "source": [
    "a = iter(data) #iter function can convert data in to iterator"
   ]
  },
  {
   "cell_type": "code",
   "execution_count": 35,
   "id": "4a2a25b9",
   "metadata": {},
   "outputs": [
    {
     "data": {
      "text/plain": [
       "list_iterator"
      ]
     },
     "execution_count": 35,
     "metadata": {},
     "output_type": "execute_result"
    }
   ],
   "source": [
    "type(a)"
   ]
  },
  {
   "cell_type": "code",
   "execution_count": 36,
   "id": "3b3a88f8",
   "metadata": {},
   "outputs": [
    {
     "data": {
      "text/plain": [
       "'ineuron'"
      ]
     },
     "execution_count": 36,
     "metadata": {},
     "output_type": "execute_result"
    }
   ],
   "source": [
    "next(a) # next function return the next item in an iterator"
   ]
  },
  {
   "cell_type": "code",
   "execution_count": 37,
   "id": "c142ee41",
   "metadata": {},
   "outputs": [],
   "source": [
    "y = \"yash mohite\""
   ]
  },
  {
   "cell_type": "code",
   "execution_count": 38,
   "id": "44bad22f",
   "metadata": {},
   "outputs": [],
   "source": [
    "x = iter(y)"
   ]
  },
  {
   "cell_type": "code",
   "execution_count": 39,
   "id": "eaf88a0e",
   "metadata": {},
   "outputs": [
    {
     "data": {
      "text/plain": [
       "'y'"
      ]
     },
     "execution_count": 39,
     "metadata": {},
     "output_type": "execute_result"
    }
   ],
   "source": [
    "next(x)"
   ]
  },
  {
   "cell_type": "code",
   "execution_count": 40,
   "id": "adc9e678",
   "metadata": {},
   "outputs": [],
   "source": [
    "# itertable are not iterators\n",
    "# iterator are also interables\n",
    "# calling iter() function on iterable give an iterator\n",
    "\n"
   ]
  },
  {
   "cell_type": "code",
   "execution_count": 41,
   "id": "8c762359",
   "metadata": {},
   "outputs": [
    {
     "name": "stdout",
     "output_type": "stream",
     "text": [
      "code\n",
      "india\n"
     ]
    }
   ],
   "source": [
    "for i in a:\n",
    "    print(i)"
   ]
  },
  {
   "cell_type": "code",
   "execution_count": 42,
   "id": "2b961094",
   "metadata": {},
   "outputs": [],
   "source": [
    "# GENERATOR is other way of creating iterators"
   ]
  },
  {
   "cell_type": "code",
   "execution_count": 43,
   "id": "06f86515",
   "metadata": {},
   "outputs": [],
   "source": [
    "def squre(n):\n",
    "    for i in range(n):\n",
    "        yield i**2 #yield is key word to generat generators"
   ]
  },
  {
   "cell_type": "code",
   "execution_count": 44,
   "id": "3a495321",
   "metadata": {},
   "outputs": [
    {
     "data": {
      "text/plain": [
       "generator"
      ]
     },
     "execution_count": 44,
     "metadata": {},
     "output_type": "execute_result"
    }
   ],
   "source": [
    "k = squre(3)\n",
    "type(k)"
   ]
  },
  {
   "cell_type": "code",
   "execution_count": 45,
   "id": "b164a1a4",
   "metadata": {},
   "outputs": [
    {
     "name": "stdout",
     "output_type": "stream",
     "text": [
      "0\n",
      "1\n",
      "4\n"
     ]
    }
   ],
   "source": [
    "for i in k:\n",
    "    print(i)"
   ]
  },
  {
   "cell_type": "code",
   "execution_count": 46,
   "id": "cd4490d7",
   "metadata": {},
   "outputs": [],
   "source": [
    "def new():\n",
    "    n=1\n",
    "    print(\"line one\")\n",
    "    yield n\n",
    "    \n",
    "    n=n+1\n",
    "    print(\"second line\")\n",
    "    yield n\n",
    "    \n",
    "    n=n+1\n",
    "    print(\"line three\")\n",
    "    yield n"
   ]
  },
  {
   "cell_type": "code",
   "execution_count": 47,
   "id": "065974d2",
   "metadata": {},
   "outputs": [
    {
     "name": "stdout",
     "output_type": "stream",
     "text": [
      "line one\n",
      "1\n",
      "second line\n",
      "2\n",
      "line three\n",
      "3\n"
     ]
    }
   ],
   "source": [
    "for i in new():\n",
    "    print(i)"
   ]
  },
  {
   "cell_type": "code",
   "execution_count": 48,
   "id": "51f2af0a",
   "metadata": {},
   "outputs": [],
   "source": [
    "def getcube(n):\n",
    "    l=[]\n",
    "    for i in range(n):\n",
    "        l.append(i**3)\n",
    "    return l\n"
   ]
  },
  {
   "cell_type": "code",
   "execution_count": 49,
   "id": "284d921b",
   "metadata": {},
   "outputs": [
    {
     "data": {
      "text/plain": [
       "[0, 1, 8]"
      ]
     },
     "execution_count": 49,
     "metadata": {},
     "output_type": "execute_result"
    }
   ],
   "source": [
    "getcube(3)"
   ]
  },
  {
   "cell_type": "code",
   "execution_count": 50,
   "id": "357a22e1",
   "metadata": {},
   "outputs": [],
   "source": [
    "def newcube(n):\n",
    "    for i in range(n):\n",
    "        yield i**3"
   ]
  },
  {
   "cell_type": "code",
   "execution_count": 54,
   "id": "f7dbb2b9",
   "metadata": {},
   "outputs": [
    {
     "data": {
      "text/plain": [
       "<generator object newcube at 0x000002106CF46180>"
      ]
     },
     "execution_count": 54,
     "metadata": {},
     "output_type": "execute_result"
    }
   ],
   "source": [
    " newcube(300)"
   ]
  },
  {
   "cell_type": "code",
   "execution_count": 55,
   "id": "48bd1d0a",
   "metadata": {},
   "outputs": [],
   "source": [
    "num = [1,2,3,6,5,4,7]\n"
   ]
  },
  {
   "cell_type": "code",
   "execution_count": 56,
   "id": "fd529dbf",
   "metadata": {},
   "outputs": [],
   "source": [
    "inum = iter(num)"
   ]
  },
  {
   "cell_type": "code",
   "execution_count": 57,
   "id": "ba0cc424",
   "metadata": {},
   "outputs": [
    {
     "name": "stdout",
     "output_type": "stream",
     "text": [
      "1\n",
      "2\n",
      "3\n",
      "6\n",
      "5\n",
      "4\n",
      "7\n"
     ]
    }
   ],
   "source": [
    "while True:\n",
    "    try:\n",
    "        item=next(inum)\n",
    "        print(item)\n",
    "    except StopIteration:\n",
    "        break\n",
    "        "
   ]
  },
  {
   "cell_type": "code",
   "execution_count": null,
   "id": "b313dc1c",
   "metadata": {},
   "outputs": [],
   "source": []
  },
  {
   "cell_type": "code",
   "execution_count": null,
   "id": "69ee7795",
   "metadata": {},
   "outputs": [],
   "source": []
  },
  {
   "cell_type": "code",
   "execution_count": null,
   "id": "f5f446c0",
   "metadata": {},
   "outputs": [],
   "source": []
  }
 ],
 "metadata": {
  "kernelspec": {
   "display_name": "Python 3 (ipykernel)",
   "language": "python",
   "name": "python3"
  },
  "language_info": {
   "codemirror_mode": {
    "name": "ipython",
    "version": 3
   },
   "file_extension": ".py",
   "mimetype": "text/x-python",
   "name": "python",
   "nbconvert_exporter": "python",
   "pygments_lexer": "ipython3",
   "version": "3.10.6"
  }
 },
 "nbformat": 4,
 "nbformat_minor": 5
}
