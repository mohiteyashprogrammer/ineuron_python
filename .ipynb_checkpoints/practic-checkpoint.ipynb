{
 "cells": [
  {
   "cell_type": "code",
   "execution_count": 1,
   "id": "d1abd072",
   "metadata": {},
   "outputs": [],
   "source": [
    "# Guess game\n",
    "import random"
   ]
  },
  {
   "cell_type": "code",
   "execution_count": 2,
   "id": "f24df28e",
   "metadata": {},
   "outputs": [],
   "source": [
    "# jack_pot = random.randint(1,50)\n",
    "\n",
    "# user = int(input(\"Enter number\"))\n",
    "# c=1\n",
    "# while user != jack_pot:\n",
    "#     if user < jack_pot:\n",
    "#         print(\"Guess higher\")\n",
    "#     else:\n",
    "#         print(\" Guess lower\")\n",
    "#     user = int(input(\"Enter number\"))\n",
    "#     c+=1\n",
    "# else:\n",
    "#     print(\"JACKPOT\")\n",
    "#     print(\"attenpt\",c)\n",
    "    "
   ]
  },
  {
   "cell_type": "code",
   "execution_count": 3,
   "id": "ad6f075c",
   "metadata": {},
   "outputs": [],
   "source": [
    "#saprate higher numbers and lower numbers\n",
    "lst = [1,2,3,6,5,5,4,7,7,8,9,5,5,5,6,3,2,1,1145,789,15633,4554,2,6,9]\n",
    "a =[]\n",
    "b = []\n",
    "for i in lst:\n",
    "    if i > 20:\n",
    "        a.append(i)\n",
    "    elif i < 20:\n",
    "        b.append(i)\n",
    "        \n"
   ]
  },
  {
   "cell_type": "code",
   "execution_count": 4,
   "id": "015cb61a",
   "metadata": {},
   "outputs": [
    {
     "data": {
      "text/plain": [
       "[1145, 789, 15633, 4554]"
      ]
     },
     "execution_count": 4,
     "metadata": {},
     "output_type": "execute_result"
    }
   ],
   "source": [
    "a"
   ]
  },
  {
   "cell_type": "code",
   "execution_count": 5,
   "id": "7d00e4c0",
   "metadata": {},
   "outputs": [
    {
     "data": {
      "text/plain": [
       "[1, 2, 3, 6, 5, 5, 4, 7, 7, 8, 9, 5, 5, 5, 6, 3, 2, 1, 2, 6, 9]"
      ]
     },
     "execution_count": 5,
     "metadata": {},
     "output_type": "execute_result"
    }
   ],
   "source": [
    "b"
   ]
  },
  {
   "cell_type": "code",
   "execution_count": 6,
   "id": "0a366c72",
   "metadata": {},
   "outputs": [
    {
     "name": "stdout",
     "output_type": "stream",
     "text": [
      "[1, 2, 3, 6, 5, 5, 4, 7, 7, 8, 9, 5, 5, 5, 6, 3, 2, 1, 1145, 789, 15633, 4554, 2, 6, 9]\n"
     ]
    }
   ],
   "source": [
    "print(lst)"
   ]
  },
  {
   "cell_type": "code",
   "execution_count": 7,
   "id": "bfdb4b8d",
   "metadata": {},
   "outputs": [],
   "source": [
    "for i in lst:\n",
    "    if i == 5:\n",
    "        lst.remove(i)"
   ]
  },
  {
   "cell_type": "code",
   "execution_count": 16,
   "id": "aa8377dc",
   "metadata": {},
   "outputs": [
    {
     "data": {
      "text/plain": [
       "[1, 2, 3, 6, 4, 7, 7, 8, 9, 5]"
      ]
     },
     "execution_count": 16,
     "metadata": {},
     "output_type": "execute_result"
    }
   ],
   "source": [
    "lst[:10]"
   ]
  },
  {
   "cell_type": "code",
   "execution_count": 17,
   "id": "5fe8bdcc",
   "metadata": {},
   "outputs": [
    {
     "data": {
      "text/plain": [
       "[5, 6, 3, 2, 1, 1145, 789, 15633, 4554, 2, 6, 9]"
      ]
     },
     "execution_count": 17,
     "metadata": {},
     "output_type": "execute_result"
    }
   ],
   "source": [
    "lst[10:]"
   ]
  },
  {
   "cell_type": "code",
   "execution_count": 18,
   "id": "c8610af1",
   "metadata": {},
   "outputs": [
    {
     "data": {
      "text/plain": [
       "[9, 6, 2, 4554, 15633, 789, 1145, 1, 2, 3, 6, 5, 5, 9, 8, 7, 7, 4, 6, 3, 2, 1]"
      ]
     },
     "execution_count": 18,
     "metadata": {},
     "output_type": "execute_result"
    }
   ],
   "source": [
    "lst[::-1]"
   ]
  },
  {
   "cell_type": "code",
   "execution_count": 29,
   "id": "528db1d9",
   "metadata": {},
   "outputs": [
    {
     "data": {
      "text/plain": [
       "22"
      ]
     },
     "execution_count": 29,
     "metadata": {},
     "output_type": "execute_result"
    }
   ],
   "source": [
    "len(lst)"
   ]
  },
  {
   "cell_type": "code",
   "execution_count": 19,
   "id": "ffd48e84",
   "metadata": {},
   "outputs": [
    {
     "data": {
      "text/plain": [
       "[1, 3, 4, 7, 9, 5, 3, 1, 789, 4554, 6]"
      ]
     },
     "execution_count": 19,
     "metadata": {},
     "output_type": "execute_result"
    }
   ],
   "source": [
    "lst[::2]"
   ]
  },
  {
   "cell_type": "code",
   "execution_count": 20,
   "id": "49584b25",
   "metadata": {},
   "outputs": [],
   "source": [
    "txt = \"so im watching preson break and the carecater are bad ass and mical scholfild is dam man \""
   ]
  },
  {
   "cell_type": "code",
   "execution_count": 21,
   "id": "7908e973",
   "metadata": {},
   "outputs": [
    {
     "data": {
      "text/plain": [
       "'soimwatchingpresonbreakandthecarecaterarebadassandmicalscholfildisdamman'"
      ]
     },
     "execution_count": 21,
     "metadata": {},
     "output_type": "execute_result"
    }
   ],
   "source": [
    "txt.replace(\" \",\"\")"
   ]
  },
  {
   "cell_type": "code",
   "execution_count": 24,
   "id": "6e805c70",
   "metadata": {},
   "outputs": [
    {
     "data": {
      "text/plain": [
       "'s.o. .i.m. .w.a.t.c.h.i.n.g. .p.r.e.s.o.n. .b.r.e.a.k. .a.n.d. .t.h.e. .c.a.r.e.c.a.t.e.r. .a.r.e. .b.a.d. .a.s.s. .a.n.d. .m.i.c.a.l. .s.c.h.o.l.f.i.l.d. .i.s. .d.a.m. .m.a.n. '"
      ]
     },
     "execution_count": 24,
     "metadata": {},
     "output_type": "execute_result"
    }
   ],
   "source": [
    "\".\".join(txt)"
   ]
  },
  {
   "cell_type": "code",
   "execution_count": 28,
   "id": "ddb4d978",
   "metadata": {},
   "outputs": [
    {
     "data": {
      "text/plain": [
       "['so',\n",
       " 'im',\n",
       " 'watching',\n",
       " 'preson',\n",
       " 'break',\n",
       " 'and',\n",
       " 'the',\n",
       " 'carecater',\n",
       " 'are',\n",
       " 'bad',\n",
       " 'ass',\n",
       " 'and',\n",
       " 'mical',\n",
       " 'scholfild',\n",
       " 'is',\n",
       " 'dam',\n",
       " 'man',\n",
       " '']"
      ]
     },
     "execution_count": 28,
     "metadata": {},
     "output_type": "execute_result"
    }
   ],
   "source": [
    "txt.split(\" \")"
   ]
  },
  {
   "cell_type": "code",
   "execution_count": 30,
   "id": "9bdba01c",
   "metadata": {},
   "outputs": [
    {
     "data": {
      "text/plain": [
       "89"
      ]
     },
     "execution_count": 30,
     "metadata": {},
     "output_type": "execute_result"
    }
   ],
   "source": [
    "len(txt)"
   ]
  },
  {
   "cell_type": "code",
   "execution_count": 31,
   "id": "9c31929e",
   "metadata": {},
   "outputs": [
    {
     "data": {
      "text/plain": [
       "'SO IM WATCHING PRESON BREAK AND THE CARECATER ARE BAD ASS AND MICAL SCHOLFILD IS DAM MAN '"
      ]
     },
     "execution_count": 31,
     "metadata": {},
     "output_type": "execute_result"
    }
   ],
   "source": [
    "txt.upper()"
   ]
  },
  {
   "cell_type": "code",
   "execution_count": 32,
   "id": "0b56de46",
   "metadata": {},
   "outputs": [
    {
     "data": {
      "text/plain": [
       "'so im watching preson break and the carecater are bad ass and mical scholfild is dam man '"
      ]
     },
     "execution_count": 32,
     "metadata": {},
     "output_type": "execute_result"
    }
   ],
   "source": [
    "txt.lower()"
   ]
  },
  {
   "cell_type": "code",
   "execution_count": 33,
   "id": "93ead820",
   "metadata": {},
   "outputs": [
    {
     "data": {
      "text/plain": [
       "'So Im Watching Preson Break And The Carecater Are Bad Ass And Mical Scholfild Is Dam Man '"
      ]
     },
     "execution_count": 33,
     "metadata": {},
     "output_type": "execute_result"
    }
   ],
   "source": [
    "txt.title()"
   ]
  },
  {
   "cell_type": "code",
   "execution_count": 34,
   "id": "2e355824",
   "metadata": {},
   "outputs": [],
   "source": [
    "comp = [1,2,3,6,5,478,\"yash\", \"isha\",\"ankita\",\"seema\",\"sarah\",\"rutuja\",\"goli\",\"vishnavi\",1.3,55.9]"
   ]
  },
  {
   "cell_type": "code",
   "execution_count": 35,
   "id": "512f2f66",
   "metadata": {},
   "outputs": [],
   "source": [
    "n=[]\n",
    "s = []\n",
    "f = []\n",
    "\n",
    "for i in comp:\n",
    "    if type(i) == int:\n",
    "        n.append(i)\n",
    "    elif type(i) == str:\n",
    "        s.append(i)\n",
    "    elif type(i) == float:\n",
    "        f.append(i)"
   ]
  },
  {
   "cell_type": "code",
   "execution_count": 36,
   "id": "097c906d",
   "metadata": {},
   "outputs": [
    {
     "data": {
      "text/plain": [
       "[1, 2, 3, 6, 5, 478]"
      ]
     },
     "execution_count": 36,
     "metadata": {},
     "output_type": "execute_result"
    }
   ],
   "source": [
    "n"
   ]
  },
  {
   "cell_type": "code",
   "execution_count": 37,
   "id": "17cf0e30",
   "metadata": {},
   "outputs": [
    {
     "data": {
      "text/plain": [
       "['yash', 'isha', 'ankita', 'seema', 'sarah', 'rutuja', 'goli', 'vishnavi']"
      ]
     },
     "execution_count": 37,
     "metadata": {},
     "output_type": "execute_result"
    }
   ],
   "source": [
    "s"
   ]
  },
  {
   "cell_type": "code",
   "execution_count": 38,
   "id": "017aaebe",
   "metadata": {},
   "outputs": [
    {
     "data": {
      "text/plain": [
       "[1.3, 55.9]"
      ]
     },
     "execution_count": 38,
     "metadata": {},
     "output_type": "execute_result"
    }
   ],
   "source": [
    "f"
   ]
  },
  {
   "cell_type": "code",
   "execution_count": 42,
   "id": "c151f3ff",
   "metadata": {},
   "outputs": [
    {
     "name": "stdout",
     "output_type": "stream",
     "text": [
      "Enter 10th persentage90\n",
      "Enter 12th persentage80\n",
      "Enter CGPA9\n",
      "you have the chances to get good college\n",
      "you will get grate college\n",
      "you will get high pakage in company\n"
     ]
    }
   ],
   "source": [
    "per_10 = (int(input(\"Enter 10th persentage\")))\n",
    "per_12 = (int(input(\"Enter 12th persentage\")))\n",
    "CGPA = (int(input(\"Enter CGPA\")))\n",
    "\n",
    "if per_10 < 50:\n",
    "    print(\"you will not get good college\")\n",
    "else:\n",
    "    print(\"you have the chances to get good college\")\n",
    "if per_12 > 80:\n",
    "    print(\"you will get grate college\")\n",
    "else:\n",
    "    print(\"now you have to study hard bro\")\n",
    "if CGPA > 8.5:\n",
    "    print(\"you will get high pakage in company\")\n",
    "else:\n",
    "    print(\"you hav to try hard in life bro\")\n"
   ]
  },
  {
   "cell_type": "code",
   "execution_count": 49,
   "id": "c4e128c8",
   "metadata": {},
   "outputs": [
    {
     "name": "stdout",
     "output_type": "stream",
     "text": [
      "Enter number of rows20\n",
      "* \n",
      "* * \n",
      "* * * \n",
      "* * * * \n",
      "* * * * * \n",
      "* * * * * * \n",
      "* * * * * * * \n",
      "* * * * * * * * \n",
      "* * * * * * * * * \n",
      "* * * * * * * * * * \n",
      "* * * * * * * * * * * \n",
      "* * * * * * * * * * * * \n",
      "* * * * * * * * * * * * * \n",
      "* * * * * * * * * * * * * * \n",
      "* * * * * * * * * * * * * * * \n",
      "* * * * * * * * * * * * * * * * \n",
      "* * * * * * * * * * * * * * * * * \n",
      "* * * * * * * * * * * * * * * * * * \n",
      "* * * * * * * * * * * * * * * * * * * \n",
      "* * * * * * * * * * * * * * * * * * * * \n"
     ]
    }
   ],
   "source": [
    "# print pattern\n",
    "rows = int(input(\"Enter number of rows\"))\n",
    "\n",
    "for i in range(1,rows+1):\n",
    "    for j in range(1,i+1):\n",
    "        print(\"*\",end=\" \")\n",
    "        \n",
    "    print()\n",
    "        \n",
    "    \n"
   ]
  },
  {
   "cell_type": "code",
   "execution_count": null,
   "id": "8d3bfe5b",
   "metadata": {},
   "outputs": [],
   "source": []
  }
 ],
 "metadata": {
  "kernelspec": {
   "display_name": "Python 3 (ipykernel)",
   "language": "python",
   "name": "python3"
  },
  "language_info": {
   "codemirror_mode": {
    "name": "ipython",
    "version": 3
   },
   "file_extension": ".py",
   "mimetype": "text/x-python",
   "name": "python",
   "nbconvert_exporter": "python",
   "pygments_lexer": "ipython3",
   "version": "3.10.6"
  }
 },
 "nbformat": 4,
 "nbformat_minor": 5
}
