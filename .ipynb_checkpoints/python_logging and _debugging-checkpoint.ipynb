{
 "cells": [
  {
   "cell_type": "code",
   "execution_count": 1,
   "id": "e28bdfb0",
   "metadata": {},
   "outputs": [
    {
     "name": "stdout",
     "output_type": "stream",
     "text": [
      "57\n",
      "-33\n",
      "540\n",
      "0.26666666666666666\n"
     ]
    }
   ],
   "source": [
    "def  add(x,y):\n",
    "    return x+y\n",
    "\n",
    "def sub(x,y):\n",
    "    return x-y\n",
    "\n",
    "def multi(x,y):\n",
    "    return x*y\n",
    "\n",
    "def div(x,y):\n",
    "    return x/y\n",
    "\n",
    "\n",
    "num=12\n",
    "num1=45\n",
    "\n",
    "\n",
    "add_result = add(num,num1)\n",
    "print(add_result)\n",
    "sub_result = sub(num,num1)\n",
    "print(sub_result)\n",
    "mult_result = multi(num,num1)\n",
    "print(mult_result)\n",
    "div_result = div(num,num1)\n",
    "print(div_result)"
   ]
  },
  {
   "cell_type": "code",
   "execution_count": 2,
   "id": "8564fefc",
   "metadata": {},
   "outputs": [],
   "source": [
    "# logging is basicaly is a module in python which help us to track and moniter/record the application"
   ]
  },
  {
   "cell_type": "code",
   "execution_count": 3,
   "id": "f7ce6618",
   "metadata": {},
   "outputs": [],
   "source": [
    "# log is a critical part of system documentation about runtime status of application"
   ]
  },
  {
   "cell_type": "code",
   "execution_count": 4,
   "id": "e5c35651",
   "metadata": {},
   "outputs": [],
   "source": [
    "import logging\n",
    "\n",
    "logging.basicConfig(filename=\"tst2.log\",level=logging.DEBUG,format=\"%(asctime)s - %(levelname)s - %(message)s\")\n",
    "\n",
    "def  add(x,y):\n",
    "    return x+y\n",
    "\n",
    "def sub(x,y):\n",
    "    return x-y\n",
    "\n",
    "def multi(x,y):\n",
    "    return x*y\n",
    "\n",
    "def div(x,y):\n",
    "    return x/y\n",
    "\n",
    "\n",
    "num=12\n",
    "num1=45\n",
    "\n",
    "\n",
    "add_result = add(num,num1)\n",
    "logging.debug(add_result)\n",
    "sub_result = sub(num,num1)\n",
    "logging.info(sub_result)\n",
    "mult_result = multi(num,num1)\n",
    "logging.warning(mult_result)\n",
    "div_result = div(num,num1)\n",
    "logging.critical(div_result)"
   ]
  },
  {
   "cell_type": "code",
   "execution_count": 5,
   "id": "e3efa9ff",
   "metadata": {},
   "outputs": [],
   "source": [
    "# level 1 is debug,point 10\n",
    "# level 2 info,point 20\n",
    "# level 3 warning,point 30\n",
    "# level 4 error, point 40\n",
    "# level 5 critical,point 50\n"
   ]
  },
  {
   "cell_type": "code",
   "execution_count": 6,
   "id": "46915e74",
   "metadata": {},
   "outputs": [],
   "source": [
    "def namecheck(name):\n",
    "    if len(name) <2:\n",
    "        print(\"check the name \")\n",
    "        return \"invalid name\"\n",
    "    elif name.isspace():\n",
    "        print(\"check the name space\")\n",
    "        return \"invalid name\"\n",
    "    elif name.isalpha():\n",
    "        print(\"check the name alphabets\")\n",
    "        return \"valid name\"\n",
    "    elif name.replace(\" \",\"\").isalpha():\n",
    "        print(\"check for full name\")\n",
    "        return \"valid name\"\n",
    "    else:\n",
    "        print(\"failde all check\")\n",
    "        return \"invalid name\"\n"
   ]
  },
  {
   "cell_type": "code",
   "execution_count": 7,
   "id": "bd45a762",
   "metadata": {},
   "outputs": [
    {
     "name": "stdout",
     "output_type": "stream",
     "text": [
      "check the name alphabets\n",
      "valid name\n"
     ]
    }
   ],
   "source": [
    "print(namecheck(\"yash\"))"
   ]
  },
  {
   "cell_type": "code",
   "execution_count": 8,
   "id": "5135036e",
   "metadata": {},
   "outputs": [
    {
     "name": "stdout",
     "output_type": "stream",
     "text": [
      "check for full name\n",
      "valid name\n"
     ]
    }
   ],
   "source": [
    "print(namecheck(\"yash mohite\"))"
   ]
  },
  {
   "cell_type": "code",
   "execution_count": 9,
   "id": "f4dcbb7a",
   "metadata": {},
   "outputs": [
    {
     "name": "stdout",
     "output_type": "stream",
     "text": [
      "failde all check\n",
      "invalid name\n"
     ]
    }
   ],
   "source": [
    "print(namecheck(\"l5\"))"
   ]
  },
  {
   "cell_type": "code",
   "execution_count": 10,
   "id": "337e4a44",
   "metadata": {},
   "outputs": [],
   "source": [
    "import logging\n",
    "\n",
    "logging.basicConfig(filename=\"test2.log\",level=logging.DEBUG)\n",
    "\n",
    "\n",
    "def namecheck(name):\n",
    "    if len(name) <2:\n",
    "        logging.debug(\"check the name \")\n",
    "        return \"invalid name\"\n",
    "    elif name.isspace():\n",
    "        logging.debug(\"check the name space\")\n",
    "        return \"invalid name\"\n",
    "    elif name.isalpha():\n",
    "        logging.debug(\"check the name alphabets\")\n",
    "        return \"valid name\"\n",
    "    elif name.replace(\" \",\"\").isalpha():\n",
    "        logging.debug(\"check for full name\")\n",
    "        return \"valid name\"\n",
    "    else:\n",
    "        logging.debug(\"failde all check\")\n",
    "        return \"invalid name\"\n"
   ]
  },
  {
   "cell_type": "code",
   "execution_count": 11,
   "id": "f526ed7f",
   "metadata": {},
   "outputs": [
    {
     "data": {
      "text/plain": [
       "'valid name'"
      ]
     },
     "execution_count": 11,
     "metadata": {},
     "output_type": "execute_result"
    }
   ],
   "source": [
    "namecheck(\"yash\")"
   ]
  },
  {
   "cell_type": "code",
   "execution_count": 12,
   "id": "6397aafb",
   "metadata": {},
   "outputs": [
    {
     "data": {
      "text/plain": [
       "'invalid name'"
      ]
     },
     "execution_count": 12,
     "metadata": {},
     "output_type": "execute_result"
    }
   ],
   "source": [
    "namecheck(\"f\")"
   ]
  },
  {
   "cell_type": "code",
   "execution_count": 13,
   "id": "32f0aa74",
   "metadata": {},
   "outputs": [
    {
     "data": {
      "text/plain": [
       "'invalid name'"
      ]
     },
     "execution_count": 13,
     "metadata": {},
     "output_type": "execute_result"
    }
   ],
   "source": [
    "namecheck(\"lkg5\")"
   ]
  },
  {
   "cell_type": "code",
   "execution_count": 16,
   "id": "15b83b46",
   "metadata": {},
   "outputs": [],
   "source": [
    "import logging\n",
    "logging.basicConfig(filename=\"demo.log\", level = logging.DEBUG)\n",
    "def sumes(l):\n",
    "    logging.debug(\"check the number \")\n",
    "    return sum(l)"
   ]
  },
  {
   "cell_type": "code",
   "execution_count": 17,
   "id": "3a5c962b",
   "metadata": {},
   "outputs": [
    {
     "data": {
      "text/plain": [
       "17"
      ]
     },
     "execution_count": 17,
     "metadata": {},
     "output_type": "execute_result"
    }
   ],
   "source": [
    "sumes([1,2,3,6,5])"
   ]
  },
  {
   "cell_type": "code",
   "execution_count": null,
   "id": "0551429d",
   "metadata": {},
   "outputs": [],
   "source": []
  }
 ],
 "metadata": {
  "kernelspec": {
   "display_name": "Python 3 (ipykernel)",
   "language": "python",
   "name": "python3"
  },
  "language_info": {
   "codemirror_mode": {
    "name": "ipython",
    "version": 3
   },
   "file_extension": ".py",
   "mimetype": "text/x-python",
   "name": "python",
   "nbconvert_exporter": "python",
   "pygments_lexer": "ipython3",
   "version": "3.10.6"
  }
 },
 "nbformat": 4,
 "nbformat_minor": 5
}
