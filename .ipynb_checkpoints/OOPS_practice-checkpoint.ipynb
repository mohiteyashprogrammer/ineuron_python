{
 "cells": [
  {
   "cell_type": "code",
   "execution_count": 1,
   "id": "01253548",
   "metadata": {},
   "outputs": [],
   "source": [
    "class Robot:\n",
    "    \n",
    "    def __init__(self,name,version,place,power):\n",
    "        self.name = name\n",
    "        self.version = version\n",
    "        self.place = place\n",
    "        self.power = power\n",
    "        \n",
    "    def Introduce(self):\n",
    "        print(f\"my name is: {self.name}\")\n",
    "        print(f\"my latest version is: {self.version}\")\n",
    "        print(f\"the place i work in is: {self.place} \")\n",
    "        print(f\"power of my system is: {self.power}\")\n",
    "        "
   ]
  },
  {
   "cell_type": "code",
   "execution_count": 2,
   "id": "118fb1fd",
   "metadata": {},
   "outputs": [],
   "source": [
    "r1 = Robot(\"ultron\",10.1,\"space station\",\"1000 horse power\")"
   ]
  },
  {
   "cell_type": "code",
   "execution_count": 3,
   "id": "9c47c89d",
   "metadata": {},
   "outputs": [
    {
     "name": "stdout",
     "output_type": "stream",
     "text": [
      "my name is: ultron\n",
      "my latest version is: 10.1\n",
      "the place i work in is: space station \n",
      "power of my system is: 1000 horse power\n"
     ]
    }
   ],
   "source": [
    "r1.Introduce()"
   ]
  },
  {
   "cell_type": "code",
   "execution_count": 4,
   "id": "1927cc69",
   "metadata": {},
   "outputs": [],
   "source": [
    "r2 = Robot(\"vision\",20.5,\"other universe\",\"5000 horse power\")"
   ]
  },
  {
   "cell_type": "code",
   "execution_count": 5,
   "id": "bce53e63",
   "metadata": {},
   "outputs": [
    {
     "name": "stdout",
     "output_type": "stream",
     "text": [
      "my name is: vision\n",
      "my latest version is: 20.5\n",
      "the place i work in is: other universe \n",
      "power of my system is: 5000 horse power\n"
     ]
    }
   ],
   "source": [
    "r2.Introduce()"
   ]
  },
  {
   "cell_type": "code",
   "execution_count": 6,
   "id": "2df2c67a",
   "metadata": {},
   "outputs": [
    {
     "name": "stdout",
     "output_type": "stream",
     "text": [
      "<class '__main__.Robot'>\n"
     ]
    }
   ],
   "source": [
    "print(type(r2))"
   ]
  },
  {
   "cell_type": "code",
   "execution_count": 7,
   "id": "79b2ef8e",
   "metadata": {},
   "outputs": [],
   "source": [
    "r2.version = 21.1"
   ]
  },
  {
   "cell_type": "code",
   "execution_count": 8,
   "id": "1cd4e134",
   "metadata": {},
   "outputs": [
    {
     "name": "stdout",
     "output_type": "stream",
     "text": [
      "my name is: vision\n",
      "my latest version is: 21.1\n",
      "the place i work in is: other universe \n",
      "power of my system is: 5000 horse power\n"
     ]
    }
   ],
   "source": [
    "r2.Introduce()"
   ]
  },
  {
   "cell_type": "code",
   "execution_count": 9,
   "id": "5092f5be",
   "metadata": {},
   "outputs": [],
   "source": [
    "class Employee:\n",
    "    \n",
    "    def __init__(self):\n",
    "        print(id(self))\n",
    "        self.name = \"yash mohite\"\n",
    "        self.location = \"andheri\"\n",
    "        self.job_role = \"data scientist\"\n",
    "        self.salary = 70000\n",
    "        \n",
    "    def Details(self):\n",
    "        print(f\"employee id: {self}\")\n",
    "        print(f\"Name is: {self.name}\")\n",
    "        print(f\"live at this place: {self.location}\")\n",
    "        print(f\"job role in his company is: {self.job_role}\")\n",
    "        print(f\"salary is: {self.salary} thousand monthly\")\n",
    "        \n",
    "        \n",
    "    def show(self):\n",
    "        persion\n",
    "    "
   ]
  },
  {
   "cell_type": "code",
   "execution_count": 10,
   "id": "5a8720b3",
   "metadata": {},
   "outputs": [
    {
     "name": "stdout",
     "output_type": "stream",
     "text": [
      "2448654659504\n"
     ]
    }
   ],
   "source": [
    "persion = Employee()"
   ]
  },
  {
   "cell_type": "code",
   "execution_count": 11,
   "id": "5f20538f",
   "metadata": {},
   "outputs": [
    {
     "name": "stdout",
     "output_type": "stream",
     "text": [
      "employee id: <__main__.Employee object at 0x0000023A1F30EFB0>\n",
      "Name is: yash mohite\n",
      "live at this place: andheri\n",
      "job role in his company is: data scientist\n",
      "salary is: 70000 thousand monthly\n"
     ]
    }
   ],
   "source": [
    "persion.Details()"
   ]
  },
  {
   "cell_type": "code",
   "execution_count": 12,
   "id": "68bdf6a3",
   "metadata": {},
   "outputs": [],
   "source": [
    "class Bank_Account:\n",
    "    \n",
    "    def __init__(self,ac_no,name,balance):\n",
    "        self.ac_no = ac_no\n",
    "        self.name = name\n",
    "        self.balance =balance\n",
    "        \n",
    "    def detals(self):\n",
    "        print(f\"your account no is: {self.ac_no}\")\n",
    "        print(f\"name is: {self.name}\")\n",
    "        print(f\"your account balance is: {self.balance}\")\n",
    "    \n",
    "    def Deposite(self,deposite_ammount):\n",
    "        self.deposite_ammount = deposite_ammount\n",
    "        self.balance += self.deposite_ammount\n",
    "        print(f\"{self.deposite_ammount} is credited in {self.ac_no} your bank account\")\n",
    "        print(f\"{self.ac_no} your account balance is: {self.balance}\")\n",
    "        \n",
    "    def withdraw(self,withdraw_ammount):\n",
    "        self.withdraw_ammount = withdraw_ammount\n",
    "        self.balance -= self.withdraw_ammount\n",
    "        print(f\"{self.withdraw_ammount} is debited from your {self.ac_no} bank account\")\n",
    "        print(f\"{self.ac_no} your account balance is: {self.balance}\")\n",
    "        \n",
    "        "
   ]
  },
  {
   "cell_type": "code",
   "execution_count": 13,
   "id": "7f8c5a93",
   "metadata": {},
   "outputs": [],
   "source": [
    "ac_holder1 = Bank_Account(\"8424943192\",\"yash mohite\",50000)"
   ]
  },
  {
   "cell_type": "code",
   "execution_count": 14,
   "id": "27690532",
   "metadata": {},
   "outputs": [
    {
     "name": "stdout",
     "output_type": "stream",
     "text": [
      "your account no is: 8424943192\n",
      "name is: yash mohite\n",
      "your account balance is: 50000\n"
     ]
    }
   ],
   "source": [
    "ac_holder1.detals()"
   ]
  },
  {
   "cell_type": "code",
   "execution_count": 15,
   "id": "77261119",
   "metadata": {},
   "outputs": [
    {
     "name": "stdout",
     "output_type": "stream",
     "text": [
      "50000 is credited in 8424943192 your bank account\n",
      "8424943192 your account balance is: 100000\n"
     ]
    }
   ],
   "source": [
    "ac_holder1.Deposite(50000)"
   ]
  },
  {
   "cell_type": "code",
   "execution_count": 16,
   "id": "4937dcdb",
   "metadata": {},
   "outputs": [
    {
     "name": "stdout",
     "output_type": "stream",
     "text": [
      "20000 is debited from your 8424943192 bank account\n",
      "8424943192 your account balance is: 80000\n"
     ]
    }
   ],
   "source": [
    "ac_holder1.withdraw(20000)"
   ]
  },
  {
   "cell_type": "code",
   "execution_count": 17,
   "id": "ed711ef1",
   "metadata": {},
   "outputs": [
    {
     "data": {
      "text/plain": [
       "80000"
      ]
     },
     "execution_count": 17,
     "metadata": {},
     "output_type": "execute_result"
    }
   ],
   "source": [
    "ac_holder1.balance"
   ]
  },
  {
   "cell_type": "code",
   "execution_count": 18,
   "id": "4f160e12",
   "metadata": {},
   "outputs": [],
   "source": [
    "ac_holder2 = Bank_Account(\"14187956\",\"isha mohite\",50000)"
   ]
  },
  {
   "cell_type": "code",
   "execution_count": 19,
   "id": "77ad6daa",
   "metadata": {},
   "outputs": [
    {
     "name": "stdout",
     "output_type": "stream",
     "text": [
      "your account no is: 14187956\n",
      "name is: isha mohite\n",
      "your account balance is: 50000\n"
     ]
    }
   ],
   "source": [
    "ac_holder2.detals()"
   ]
  },
  {
   "cell_type": "code",
   "execution_count": 20,
   "id": "12a8f666",
   "metadata": {},
   "outputs": [
    {
     "name": "stdout",
     "output_type": "stream",
     "text": [
      "5000 is credited in 14187956 your bank account\n",
      "14187956 your account balance is: 55000\n"
     ]
    }
   ],
   "source": [
    "ac_holder2.Deposite(5000)"
   ]
  },
  {
   "cell_type": "code",
   "execution_count": 21,
   "id": "b8016068",
   "metadata": {},
   "outputs": [
    {
     "name": "stdout",
     "output_type": "stream",
     "text": [
      "25000 is debited from your 14187956 bank account\n",
      "14187956 your account balance is: 30000\n"
     ]
    }
   ],
   "source": [
    "ac_holder2.withdraw(25000)"
   ]
  },
  {
   "cell_type": "code",
   "execution_count": 22,
   "id": "827a033e",
   "metadata": {},
   "outputs": [],
   "source": [
    "class Amazon:\n",
    "    \n",
    "    def __init__(self,ac_name,cart,points):\n",
    "        self.ac_name = ac_name\n",
    "        self.cart = cart\n",
    "        self.points = points\n",
    "            \n",
    "        \n",
    "    def Showdetails(self):\n",
    "        print(f\"your account name is: {self.ac_name}\")\n",
    "        print(f\"in your cart: {self.cart}\")\n",
    "        print(f\"your points are: {self.points}\")\n",
    "    \n",
    "        "
   ]
  },
  {
   "cell_type": "code",
   "execution_count": 23,
   "id": "83206ff3",
   "metadata": {},
   "outputs": [],
   "source": [
    "user = Amazon(\"yash mohite\",\"condom,treammer,cloaths,chapal\",400)"
   ]
  },
  {
   "cell_type": "code",
   "execution_count": 24,
   "id": "435738cc",
   "metadata": {},
   "outputs": [
    {
     "name": "stdout",
     "output_type": "stream",
     "text": [
      "your account name is: yash mohite\n",
      "in your cart: condom,treammer,cloaths,chapal\n",
      "your points are: 400\n"
     ]
    }
   ],
   "source": [
    "user.Showdetails()"
   ]
  },
  {
   "cell_type": "markdown",
   "id": "fc837c55",
   "metadata": {},
   "source": [
    "## Encapsulation"
   ]
  },
  {
   "cell_type": "code",
   "execution_count": null,
   "id": "16350d60",
   "metadata": {},
   "outputs": [],
   "source": []
  },
  {
   "cell_type": "code",
   "execution_count": 34,
   "id": "c8f45938",
   "metadata": {},
   "outputs": [],
   "source": []
  },
  {
   "cell_type": "code",
   "execution_count": null,
   "id": "357354cb",
   "metadata": {},
   "outputs": [],
   "source": []
  },
  {
   "cell_type": "code",
   "execution_count": null,
   "id": "d23c6b4e",
   "metadata": {},
   "outputs": [],
   "source": []
  },
  {
   "cell_type": "code",
   "execution_count": null,
   "id": "bdca74bd",
   "metadata": {},
   "outputs": [],
   "source": []
  }
 ],
 "metadata": {
  "kernelspec": {
   "display_name": "Python 3 (ipykernel)",
   "language": "python",
   "name": "python3"
  },
  "language_info": {
   "codemirror_mode": {
    "name": "ipython",
    "version": 3
   },
   "file_extension": ".py",
   "mimetype": "text/x-python",
   "name": "python",
   "nbconvert_exporter": "python",
   "pygments_lexer": "ipython3",
   "version": "3.10.6"
  }
 },
 "nbformat": 4,
 "nbformat_minor": 5
}
