{
 "cells": [
  {
   "cell_type": "code",
   "execution_count": 9,
   "id": "5d976cbb",
   "metadata": {},
   "outputs": [
    {
     "data": {
      "text/plain": [
       "tuple"
      ]
     },
     "execution_count": 9,
     "metadata": {},
     "output_type": "execute_result"
    }
   ],
   "source": [
    "#data type tuple # tuple are immutable object\n",
    "t = (1,2,3,6,5,4,7,8,9,\"ljo\",458+69j)\n",
    "type(t)"
   ]
  },
  {
   "cell_type": "code",
   "execution_count": 10,
   "id": "5f680c84",
   "metadata": {},
   "outputs": [
    {
     "data": {
      "text/plain": [
       "complex"
      ]
     },
     "execution_count": 10,
     "metadata": {},
     "output_type": "execute_result"
    }
   ],
   "source": [
    "t = (1,2,3,6,5,4,7,8,9,\"ljo\",458+69j)\n",
    "type(t[10])#using indexing and get value of complex"
   ]
  },
  {
   "cell_type": "code",
   "execution_count": 11,
   "id": "7d2a371d",
   "metadata": {},
   "outputs": [],
   "source": [
    "l = [1,2,3,6,5,4,7,8,9,\"ljo\",458+69j]"
   ]
  },
  {
   "cell_type": "code",
   "execution_count": 15,
   "id": "ac9d361b",
   "metadata": {},
   "outputs": [
    {
     "data": {
      "text/plain": [
       "list"
      ]
     },
     "execution_count": 15,
     "metadata": {},
     "output_type": "execute_result"
    }
   ],
   "source": [
    "type(l)"
   ]
  },
  {
   "cell_type": "code",
   "execution_count": 22,
   "id": "74608dba",
   "metadata": {},
   "outputs": [],
   "source": [
    "t = (14587,\"yash\",\"mohite\",458+69j,True,)"
   ]
  },
  {
   "cell_type": "code",
   "execution_count": 23,
   "id": "0b7d6892",
   "metadata": {},
   "outputs": [
    {
     "data": {
      "text/plain": [
       "tuple"
      ]
     },
     "execution_count": 23,
     "metadata": {},
     "output_type": "execute_result"
    }
   ],
   "source": [
    "type(t)"
   ]
  },
  {
   "cell_type": "code",
   "execution_count": 25,
   "id": "a05b039b",
   "metadata": {},
   "outputs": [
    {
     "data": {
      "text/plain": [
       "(14587, 'yash', 'mohite')"
      ]
     },
     "execution_count": 25,
     "metadata": {},
     "output_type": "execute_result"
    }
   ],
   "source": [
    "t[:3]"
   ]
  },
  {
   "cell_type": "code",
   "execution_count": 26,
   "id": "f92c041b",
   "metadata": {},
   "outputs": [
    {
     "data": {
      "text/plain": [
       "(True, (458+69j), 'mohite', 'yash', 14587)"
      ]
     },
     "execution_count": 26,
     "metadata": {},
     "output_type": "execute_result"
    }
   ],
   "source": [
    "t[::-1]"
   ]
  },
  {
   "cell_type": "code",
   "execution_count": 27,
   "id": "96af819f",
   "metadata": {},
   "outputs": [
    {
     "data": {
      "text/plain": [
       "True"
      ]
     },
     "execution_count": 27,
     "metadata": {},
     "output_type": "execute_result"
    }
   ],
   "source": [
    "t[-1]"
   ]
  },
  {
   "cell_type": "code",
   "execution_count": 28,
   "id": "f4cb98f5",
   "metadata": {},
   "outputs": [
    {
     "data": {
      "text/plain": [
       "(14587, 'mohite', True)"
      ]
     },
     "execution_count": 28,
     "metadata": {},
     "output_type": "execute_result"
    }
   ],
   "source": [
    "t[::2]"
   ]
  },
  {
   "cell_type": "code",
   "execution_count": 29,
   "id": "3059782b",
   "metadata": {},
   "outputs": [
    {
     "data": {
      "text/plain": [
       "[1, 2, 3, 6, 5, 4, 7, 8, 9, 'ljo', (458+69j)]"
      ]
     },
     "execution_count": 29,
     "metadata": {},
     "output_type": "execute_result"
    }
   ],
   "source": [
    "l"
   ]
  },
  {
   "cell_type": "code",
   "execution_count": 30,
   "id": "311bda0b",
   "metadata": {},
   "outputs": [],
   "source": [
    "l1 = [1,2,3,6]"
   ]
  },
  {
   "cell_type": "code",
   "execution_count": 32,
   "id": "fe6674b0",
   "metadata": {},
   "outputs": [],
   "source": [
    "l[9] = \"yash\""
   ]
  },
  {
   "cell_type": "code",
   "execution_count": 33,
   "id": "71bbb821",
   "metadata": {},
   "outputs": [
    {
     "data": {
      "text/plain": [
       "[1, 2, 3, 6, 5, 4, 7, 8, 9, 'yash', (458+69j)]"
      ]
     },
     "execution_count": 33,
     "metadata": {},
     "output_type": "execute_result"
    }
   ],
   "source": [
    "l"
   ]
  },
  {
   "cell_type": "code",
   "execution_count": 37,
   "id": "7e93ff4e",
   "metadata": {},
   "outputs": [
    {
     "ename": "TypeError",
     "evalue": "'tuple' object does not support item assignment",
     "output_type": "error",
     "traceback": [
      "\u001b[1;31m---------------------------------------------------------------------------\u001b[0m",
      "\u001b[1;31mTypeError\u001b[0m                                 Traceback (most recent call last)",
      "Cell \u001b[1;32mIn [37], line 1\u001b[0m\n\u001b[1;32m----> 1\u001b[0m \u001b[43mt\u001b[49m\u001b[43m[\u001b[49m\u001b[38;5;241;43m0\u001b[39;49m\u001b[43m]\u001b[49m \u001b[38;5;241m=\u001b[39m \u001b[38;5;124m\"\u001b[39m\u001b[38;5;124myash\u001b[39m\u001b[38;5;124m\"\u001b[39m\n",
      "\u001b[1;31mTypeError\u001b[0m: 'tuple' object does not support item assignment"
     ]
    }
   ],
   "source": [
    "t[0] = \"yash\"#  tuple are immutable object"
   ]
  },
  {
   "cell_type": "code",
   "execution_count": 38,
   "id": "d7e8137b",
   "metadata": {},
   "outputs": [],
   "source": [
    "t2 = (1,4,5,8)"
   ]
  },
  {
   "cell_type": "code",
   "execution_count": 40,
   "id": "4965856b",
   "metadata": {},
   "outputs": [
    {
     "data": {
      "text/plain": [
       "(14587, 'yash', 'mohite', (458+69j), True, 1, 4, 5, 8)"
      ]
     },
     "execution_count": 40,
     "metadata": {},
     "output_type": "execute_result"
    }
   ],
   "source": [
    "t+t2 #Tuple concatnation"
   ]
  },
  {
   "cell_type": "code",
   "execution_count": 46,
   "id": "e910446b",
   "metadata": {},
   "outputs": [
    {
     "data": {
      "text/plain": [
       "(1, 4, 5, 8, 1, 4, 5, 8)"
      ]
     },
     "execution_count": 46,
     "metadata": {},
     "output_type": "execute_result"
    }
   ],
   "source": [
    "t2*2"
   ]
  },
  {
   "cell_type": "code",
   "execution_count": 53,
   "id": "97f0ee2e",
   "metadata": {},
   "outputs": [
    {
     "data": {
      "text/plain": [
       "3"
      ]
     },
     "execution_count": 53,
     "metadata": {},
     "output_type": "execute_result"
    }
   ],
   "source": [
    "t2.index(8)"
   ]
  },
  {
   "cell_type": "code",
   "execution_count": 54,
   "id": "d3fb4053",
   "metadata": {},
   "outputs": [
    {
     "data": {
      "text/plain": [
       "1"
      ]
     },
     "execution_count": 54,
     "metadata": {},
     "output_type": "execute_result"
    }
   ],
   "source": [
    "t.count(\"yash\")"
   ]
  },
  {
   "cell_type": "code",
   "execution_count": 73,
   "id": "303187ce",
   "metadata": {},
   "outputs": [],
   "source": [
    "t3 = (11,2,5,4 , [4,7,8,9] , (\"isha\"))"
   ]
  },
  {
   "cell_type": "code",
   "execution_count": 76,
   "id": "b02197fc",
   "metadata": {},
   "outputs": [],
   "source": [
    "t3[4][2] = \"yash\""
   ]
  },
  {
   "cell_type": "code",
   "execution_count": 77,
   "id": "a6a04e64",
   "metadata": {},
   "outputs": [
    {
     "data": {
      "text/plain": [
       "(11, 2, 5, 4, [4, 7, 'yash', 9], 'isha')"
      ]
     },
     "execution_count": 77,
     "metadata": {},
     "output_type": "execute_result"
    }
   ],
   "source": [
    "t3"
   ]
  },
  {
   "cell_type": "code",
   "execution_count": 78,
   "id": "edcab142",
   "metadata": {},
   "outputs": [],
   "source": [
    "tu = (1,2,3,6,5,4,7,8,)"
   ]
  },
  {
   "cell_type": "code",
   "execution_count": 79,
   "id": "f93a4569",
   "metadata": {},
   "outputs": [
    {
     "data": {
      "text/plain": [
       "[1, 2, 3, 6, 5, 4, 7, 8]"
      ]
     },
     "execution_count": 79,
     "metadata": {},
     "output_type": "execute_result"
    }
   ],
   "source": [
    "list(tu)#we can convert tuple in to list "
   ]
  },
  {
   "cell_type": "code",
   "execution_count": 81,
   "id": "99f513d8",
   "metadata": {},
   "outputs": [],
   "source": [
    "lst = [1,7,9,5,4,6,]"
   ]
  },
  {
   "cell_type": "code",
   "execution_count": 83,
   "id": "ff1f4bc4",
   "metadata": {},
   "outputs": [
    {
     "data": {
      "text/plain": [
       "(1, 7, 9, 5, 4, 6)"
      ]
     },
     "execution_count": 83,
     "metadata": {},
     "output_type": "execute_result"
    }
   ],
   "source": [
    "tuple(lst)#we can convert list in to tuple"
   ]
  },
  {
   "cell_type": "markdown",
   "id": "bb58f57a",
   "metadata": {},
   "source": [
    "## set"
   ]
  },
  {
   "cell_type": "code",
   "execution_count": 87,
   "id": "faabecb3",
   "metadata": {},
   "outputs": [],
   "source": [
    "s = [1,2,3,6,5,4,7,8,8,8,7,5,5,7,8,9,]"
   ]
  },
  {
   "cell_type": "code",
   "execution_count": 90,
   "id": "c3457d85",
   "metadata": {},
   "outputs": [
    {
     "data": {
      "text/plain": [
       "[1, 2, 3, 4, 5, 6, 7, 8, 9]"
      ]
     },
     "execution_count": 90,
     "metadata": {},
     "output_type": "execute_result"
    }
   ],
   "source": [
    "list(set(s))#set remove duplect aliment and store unice element"
   ]
  },
  {
   "cell_type": "code",
   "execution_count": 91,
   "id": "94e0ea82",
   "metadata": {},
   "outputs": [],
   "source": [
    "s1 = {1,4,9}# sets are the unorder collection"
   ]
  },
  {
   "cell_type": "code",
   "execution_count": 92,
   "id": "e65244a8",
   "metadata": {},
   "outputs": [
    {
     "data": {
      "text/plain": [
       "set"
      ]
     },
     "execution_count": 92,
     "metadata": {},
     "output_type": "execute_result"
    }
   ],
   "source": [
    "type(s1)"
   ]
  },
  {
   "cell_type": "code",
   "execution_count": 93,
   "id": "66a70fa8",
   "metadata": {},
   "outputs": [
    {
     "data": {
      "text/plain": [
       "dict"
      ]
     },
     "execution_count": 93,
     "metadata": {},
     "output_type": "execute_result"
    }
   ],
   "source": [
    "s2 = {}\n",
    "type(s2)#if we dont give a value to curly braces then it will show dictionary"
   ]
  },
  {
   "cell_type": "code",
   "execution_count": 117,
   "id": "f2827e36",
   "metadata": {},
   "outputs": [],
   "source": [
    "s3 = {1,2,3,6,5,4,7,8,9,8,7,4,4,4,1,1}"
   ]
  },
  {
   "cell_type": "code",
   "execution_count": 118,
   "id": "7145bc32",
   "metadata": {},
   "outputs": [
    {
     "ename": "TypeError",
     "evalue": "'set' object is not subscriptable",
     "output_type": "error",
     "traceback": [
      "\u001b[1;31m---------------------------------------------------------------------------\u001b[0m",
      "\u001b[1;31mTypeError\u001b[0m                                 Traceback (most recent call last)",
      "Cell \u001b[1;32mIn [118], line 1\u001b[0m\n\u001b[1;32m----> 1\u001b[0m \u001b[43ms3\u001b[49m\u001b[43m[\u001b[49m\u001b[38;5;241;43m5\u001b[39;49m\u001b[43m]\u001b[49m\n",
      "\u001b[1;31mTypeError\u001b[0m: 'set' object is not subscriptable"
     ]
    }
   ],
   "source": [
    "s3[5]"
   ]
  },
  {
   "cell_type": "code",
   "execution_count": 119,
   "id": "395a3b38",
   "metadata": {},
   "outputs": [
    {
     "data": {
      "text/plain": [
       "6"
      ]
     },
     "execution_count": 119,
     "metadata": {},
     "output_type": "execute_result"
    }
   ],
   "source": [
    "list(s3)[5]"
   ]
  },
  {
   "cell_type": "code",
   "execution_count": 120,
   "id": "15bae386",
   "metadata": {},
   "outputs": [],
   "source": [
    "s3.add(145879)#add function add element in set to end"
   ]
  },
  {
   "cell_type": "code",
   "execution_count": 121,
   "id": "ceeaf6b4",
   "metadata": {},
   "outputs": [
    {
     "data": {
      "text/plain": [
       "{1, 2, 3, 4, 5, 6, 7, 8, 9, 145879}"
      ]
     },
     "execution_count": 121,
     "metadata": {},
     "output_type": "execute_result"
    }
   ],
   "source": [
    "s3"
   ]
  },
  {
   "cell_type": "code",
   "execution_count": 140,
   "id": "0269a86e",
   "metadata": {},
   "outputs": [],
   "source": [
    "s3.add(\"yash\")"
   ]
  },
  {
   "cell_type": "code",
   "execution_count": 141,
   "id": "6286137f",
   "metadata": {},
   "outputs": [
    {
     "data": {
      "text/plain": [
       "{145879, 6, 7, 8, 9, 'yash'}"
      ]
     },
     "execution_count": 141,
     "metadata": {},
     "output_type": "execute_result"
    }
   ],
   "source": [
    "s3"
   ]
  },
  {
   "cell_type": "code",
   "execution_count": 142,
   "id": "0af2d68f",
   "metadata": {},
   "outputs": [
    {
     "data": {
      "text/plain": [
       "6"
      ]
     },
     "execution_count": 142,
     "metadata": {},
     "output_type": "execute_result"
    }
   ],
   "source": [
    "s3.pop()"
   ]
  },
  {
   "cell_type": "code",
   "execution_count": 143,
   "id": "78464a9d",
   "metadata": {},
   "outputs": [],
   "source": [
    "s3.remove(\"yash\")#remove element from set"
   ]
  },
  {
   "cell_type": "code",
   "execution_count": 144,
   "id": "722447e0",
   "metadata": {},
   "outputs": [
    {
     "data": {
      "text/plain": [
       "{7, 8, 9, 145879}"
      ]
     },
     "execution_count": 144,
     "metadata": {},
     "output_type": "execute_result"
    }
   ],
   "source": [
    "s3"
   ]
  },
  {
   "cell_type": "code",
   "execution_count": 145,
   "id": "bb7db270",
   "metadata": {},
   "outputs": [
    {
     "data": {
      "text/plain": [
       "[1, 2, 3, 6, 5, 4, 7, 8, 8, 8, 7, 5, 5, 7, 8, 9]"
      ]
     },
     "execution_count": 145,
     "metadata": {},
     "output_type": "execute_result"
    }
   ],
   "source": [
    "s"
   ]
  },
  {
   "cell_type": "code",
   "execution_count": 148,
   "id": "fc99076d",
   "metadata": {},
   "outputs": [],
   "source": [
    "ss = set(s)"
   ]
  },
  {
   "cell_type": "code",
   "execution_count": 150,
   "id": "16eed69f",
   "metadata": {},
   "outputs": [],
   "source": [
    "ss.discard(6)#Remove an element from a set if it is a member.\n"
   ]
  },
  {
   "cell_type": "code",
   "execution_count": 151,
   "id": "36f3b8dd",
   "metadata": {},
   "outputs": [
    {
     "data": {
      "text/plain": [
       "{1, 2, 3, 4, 5, 7, 8, 9}"
      ]
     },
     "execution_count": 151,
     "metadata": {},
     "output_type": "execute_result"
    }
   ],
   "source": [
    "ss"
   ]
  },
  {
   "cell_type": "markdown",
   "id": "a637d248",
   "metadata": {},
   "source": [
    "## Dictionary"
   ]
  },
  {
   "cell_type": "code",
   "execution_count": 178,
   "id": "b61b773b",
   "metadata": {},
   "outputs": [],
   "source": [
    "d1 = {\"key1\":557, \"key2\":\"yash\",\"key3\":\"mohite\", \"key4\":[1,2,3,6]}"
   ]
  },
  {
   "cell_type": "code",
   "execution_count": 179,
   "id": "91fb8abd",
   "metadata": {},
   "outputs": [
    {
     "data": {
      "text/plain": [
       "{'key1': 557, 'key2': 'yash', 'key3': 'mohite', 'key4': [1, 2, 3, 6]}"
      ]
     },
     "execution_count": 179,
     "metadata": {},
     "output_type": "execute_result"
    }
   ],
   "source": [
    "d1# dictionar hold key valu pare"
   ]
  },
  {
   "cell_type": "code",
   "execution_count": 180,
   "id": "bcfaa889",
   "metadata": {},
   "outputs": [
    {
     "data": {
      "text/plain": [
       "[1, 2, 3, 6]"
      ]
     },
     "execution_count": 180,
     "metadata": {},
     "output_type": "execute_result"
    }
   ],
   "source": [
    "d1[\"key4\"]#this is how you find value"
   ]
  },
  {
   "cell_type": "code",
   "execution_count": 181,
   "id": "0fdfeb78",
   "metadata": {},
   "outputs": [
    {
     "data": {
      "text/plain": [
       "557"
      ]
     },
     "execution_count": 181,
     "metadata": {},
     "output_type": "execute_result"
    }
   ],
   "source": [
    "d1[\"key1\"]"
   ]
  },
  {
   "cell_type": "code",
   "execution_count": 182,
   "id": "ed40e656",
   "metadata": {},
   "outputs": [],
   "source": [
    "d2 = {3:[\"yash\",\"mohite\",1,2,5,4,]} #value store in distionary is  list ,string,tuple,set"
   ]
  },
  {
   "cell_type": "code",
   "execution_count": 183,
   "id": "089431ea",
   "metadata": {},
   "outputs": [
    {
     "data": {
      "text/plain": [
       "{3: ['yash', 'mohite', 1, 2, 5, 4]}"
      ]
     },
     "execution_count": 183,
     "metadata": {},
     "output_type": "execute_result"
    }
   ],
   "source": [
    "d2"
   ]
  },
  {
   "cell_type": "code",
   "execution_count": 185,
   "id": "91d53383",
   "metadata": {},
   "outputs": [
    {
     "ename": "TypeError",
     "evalue": "unsupported operand type(s) for +: 'dict' and 'dict'",
     "output_type": "error",
     "traceback": [
      "\u001b[1;31m---------------------------------------------------------------------------\u001b[0m",
      "\u001b[1;31mTypeError\u001b[0m                                 Traceback (most recent call last)",
      "Cell \u001b[1;32mIn [185], line 1\u001b[0m\n\u001b[1;32m----> 1\u001b[0m \u001b[43md1\u001b[49m\u001b[43m \u001b[49m\u001b[38;5;241;43m+\u001b[39;49m\u001b[43m \u001b[49m\u001b[43md2\u001b[49m\n",
      "\u001b[1;31mTypeError\u001b[0m: unsupported operand type(s) for +: 'dict' and 'dict'"
     ]
    }
   ],
   "source": [
    "d1 + d2 #not allow"
   ]
  },
  {
   "cell_type": "code",
   "execution_count": 191,
   "id": "90c48afe",
   "metadata": {},
   "outputs": [],
   "source": [
    "d3 = {\"key\": [1,2,3,4,7], \"key1\":{1,2,3,6,4}, \"key2\": (1,2,4,7), \"key3\":125478,\"key4\":\"mohite\"}"
   ]
  },
  {
   "cell_type": "code",
   "execution_count": 192,
   "id": "cc27893b",
   "metadata": {},
   "outputs": [
    {
     "data": {
      "text/plain": [
       "{'key': [1, 2, 3, 4, 7],\n",
       " 'key1': {1, 2, 3, 4, 6},\n",
       " 'key2': (1, 2, 4, 7),\n",
       " 'key3': 125478,\n",
       " 'key4': 'mohite'}"
      ]
     },
     "execution_count": 192,
     "metadata": {},
     "output_type": "execute_result"
    }
   ],
   "source": [
    "d3"
   ]
  },
  {
   "cell_type": "code",
   "execution_count": 193,
   "id": "b3d13da8",
   "metadata": {},
   "outputs": [
    {
     "data": {
      "text/plain": [
       "[1, 2, 3, 4, 7]"
      ]
     },
     "execution_count": 193,
     "metadata": {},
     "output_type": "execute_result"
    }
   ],
   "source": [
    "d3[\"key\"]"
   ]
  },
  {
   "cell_type": "code",
   "execution_count": 196,
   "id": "0ec6c609",
   "metadata": {},
   "outputs": [
    {
     "data": {
      "text/plain": [
       "tuple"
      ]
     },
     "execution_count": 196,
     "metadata": {},
     "output_type": "execute_result"
    }
   ],
   "source": [
    "type(d3[\"key2\"])"
   ]
  },
  {
   "cell_type": "code",
   "execution_count": 201,
   "id": "049b3410",
   "metadata": {},
   "outputs": [
    {
     "data": {
      "text/plain": [
       "7"
      ]
     },
     "execution_count": 201,
     "metadata": {},
     "output_type": "execute_result"
    }
   ],
   "source": [
    "d3[\"key\"][4]"
   ]
  },
  {
   "cell_type": "code",
   "execution_count": 203,
   "id": "1dcbe3c7",
   "metadata": {},
   "outputs": [
    {
     "data": {
      "text/plain": [
       "{'key': [1, 2, 3, 4, 7],\n",
       " 'key1': {1, 2, 3, 4, 6},\n",
       " 'key2': (1, 2, 4, 7),\n",
       " 'key3': 125478,\n",
       " 'key4': 'mohite'}"
      ]
     },
     "execution_count": 203,
     "metadata": {},
     "output_type": "execute_result"
    }
   ],
   "source": [
    "d3"
   ]
  },
  {
   "cell_type": "code",
   "execution_count": 205,
   "id": "4bcc48aa",
   "metadata": {},
   "outputs": [
    {
     "data": {
      "text/plain": [
       "dict_keys(['key', 'key1', 'key2', 'key3', 'key4'])"
      ]
     },
     "execution_count": 205,
     "metadata": {},
     "output_type": "execute_result"
    }
   ],
   "source": [
    "d3.keys()# this function keys will give all the key valu in dict"
   ]
  },
  {
   "cell_type": "code",
   "execution_count": 207,
   "id": "2de114ca",
   "metadata": {},
   "outputs": [
    {
     "data": {
      "text/plain": [
       "dict_values([[1, 2, 3, 4, 7], {1, 2, 3, 4, 6}, (1, 2, 4, 7), 125478, 'mohite'])"
      ]
     },
     "execution_count": 207,
     "metadata": {},
     "output_type": "execute_result"
    }
   ],
   "source": [
    "d3.values()#give all values of dictionary"
   ]
  },
  {
   "cell_type": "code",
   "execution_count": 209,
   "id": "689efef6",
   "metadata": {},
   "outputs": [
    {
     "data": {
      "text/plain": [
       "dict_items"
      ]
     },
     "execution_count": 209,
     "metadata": {},
     "output_type": "execute_result"
    }
   ],
   "source": [
    "type(d3.items())#D.items() -> a set-like object providing a view on D's items"
   ]
  },
  {
   "cell_type": "code",
   "execution_count": 210,
   "id": "e117be54",
   "metadata": {},
   "outputs": [
    {
     "data": {
      "text/plain": [
       "{'key': [1, 2, 3, 4, 7],\n",
       " 'key1': {1, 2, 3, 4, 6},\n",
       " 'key2': (1, 2, 4, 7),\n",
       " 'key3': 125478,\n",
       " 'key4': 'mohite'}"
      ]
     },
     "execution_count": 210,
     "metadata": {},
     "output_type": "execute_result"
    }
   ],
   "source": [
    "d3"
   ]
  },
  {
   "cell_type": "code",
   "execution_count": 211,
   "id": "5380a187",
   "metadata": {},
   "outputs": [],
   "source": [
    "d3[\"key5\"] = \"yash mohite\"#creat new key value pare"
   ]
  },
  {
   "cell_type": "code",
   "execution_count": 212,
   "id": "7d91d6f6",
   "metadata": {},
   "outputs": [
    {
     "data": {
      "text/plain": [
       "{'key': [1, 2, 3, 4, 7],\n",
       " 'key1': {1, 2, 3, 4, 6},\n",
       " 'key2': (1, 2, 4, 7),\n",
       " 'key3': 125478,\n",
       " 'key4': 'mohite',\n",
       " 'key5': 'yash mohite'}"
      ]
     },
     "execution_count": 212,
     "metadata": {},
     "output_type": "execute_result"
    }
   ],
   "source": [
    "d3"
   ]
  },
  {
   "cell_type": "code",
   "execution_count": 213,
   "id": "4f66af5a",
   "metadata": {},
   "outputs": [],
   "source": [
    "d3[\"key4\"] = \"isha\""
   ]
  },
  {
   "cell_type": "code",
   "execution_count": 214,
   "id": "a2f43016",
   "metadata": {},
   "outputs": [
    {
     "data": {
      "text/plain": [
       "{'key': [1, 2, 3, 4, 7],\n",
       " 'key1': {1, 2, 3, 4, 6},\n",
       " 'key2': (1, 2, 4, 7),\n",
       " 'key3': 125478,\n",
       " 'key4': 'isha',\n",
       " 'key5': 'yash mohite'}"
      ]
     },
     "execution_count": 214,
     "metadata": {},
     "output_type": "execute_result"
    }
   ],
   "source": [
    "d3"
   ]
  },
  {
   "cell_type": "code",
   "execution_count": 215,
   "id": "8fa80950",
   "metadata": {},
   "outputs": [],
   "source": [
    "del d3[\"key4\"] #delet function will delet "
   ]
  },
  {
   "cell_type": "code",
   "execution_count": 216,
   "id": "a31f557b",
   "metadata": {},
   "outputs": [
    {
     "data": {
      "text/plain": [
       "{'key': [1, 2, 3, 4, 7],\n",
       " 'key1': {1, 2, 3, 4, 6},\n",
       " 'key2': (1, 2, 4, 7),\n",
       " 'key3': 125478,\n",
       " 'key5': 'yash mohite'}"
      ]
     },
     "execution_count": 216,
     "metadata": {},
     "output_type": "execute_result"
    }
   ],
   "source": [
    "d3 "
   ]
  },
  {
   "cell_type": "code",
   "execution_count": 217,
   "id": "59e0d55a",
   "metadata": {},
   "outputs": [],
   "source": [
    "# immutable object will wark as key if you want to use"
   ]
  },
  {
   "cell_type": "code",
   "execution_count": 218,
   "id": "acd5b24e",
   "metadata": {},
   "outputs": [
    {
     "data": {
      "text/plain": [
       "'yash mohite'"
      ]
     },
     "execution_count": 218,
     "metadata": {},
     "output_type": "execute_result"
    }
   ],
   "source": [
    "d3.get(\"key5\")"
   ]
  },
  {
   "cell_type": "code",
   "execution_count": 222,
   "id": "f837984f",
   "metadata": {},
   "outputs": [],
   "source": [
    "d3.update(d2)#update and combind 2 list "
   ]
  },
  {
   "cell_type": "code",
   "execution_count": 223,
   "id": "d99e671e",
   "metadata": {},
   "outputs": [
    {
     "data": {
      "text/plain": [
       "{'key': [1, 2, 3, 4, 7],\n",
       " 'key1': {1, 2, 3, 4, 6},\n",
       " 'key2': (1, 2, 4, 7),\n",
       " 'key3': 125478,\n",
       " 'key5': 'yash mohite',\n",
       " 3: ['yash', 'mohite', 1, 2, 5, 4]}"
      ]
     },
     "execution_count": 223,
     "metadata": {},
     "output_type": "execute_result"
    }
   ],
   "source": [
    "d3"
   ]
  },
  {
   "cell_type": "code",
   "execution_count": null,
   "id": "3c5b8702",
   "metadata": {},
   "outputs": [],
   "source": []
  },
  {
   "cell_type": "code",
   "execution_count": null,
   "id": "44d32a5e",
   "metadata": {},
   "outputs": [],
   "source": []
  }
 ],
 "metadata": {
  "kernelspec": {
   "display_name": "Python 3 (ipykernel)",
   "language": "python",
   "name": "python3"
  },
  "language_info": {
   "codemirror_mode": {
    "name": "ipython",
    "version": 3
   },
   "file_extension": ".py",
   "mimetype": "text/x-python",
   "name": "python",
   "nbconvert_exporter": "python",
   "pygments_lexer": "ipython3",
   "version": "3.10.6"
  }
 },
 "nbformat": 4,
 "nbformat_minor": 5
}
