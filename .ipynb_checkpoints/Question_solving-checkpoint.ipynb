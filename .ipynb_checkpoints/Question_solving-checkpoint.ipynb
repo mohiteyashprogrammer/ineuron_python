{
 "cells": [
  {
   "cell_type": "code",
   "execution_count": 1,
   "id": "c2c8334d",
   "metadata": {},
   "outputs": [
    {
     "name": "stdout",
     "output_type": "stream",
     "text": [
      "1\n",
      "2\n",
      "3\n",
      "4\n",
      "5\n"
     ]
    }
   ],
   "source": [
    "# 5numbers\n",
    "for i in range(1,6):\n",
    "    print(i)"
   ]
  },
  {
   "cell_type": "code",
   "execution_count": 2,
   "id": "0e50999f",
   "metadata": {},
   "outputs": [
    {
     "name": "stdout",
     "output_type": "stream",
     "text": [
      "\n",
      "*\n",
      "**\n",
      "***\n",
      "****\n"
     ]
    }
   ],
   "source": [
    "# pattern stars\n",
    "for i in range(5):\n",
    "    print(\"*\"*i)"
   ]
  },
  {
   "cell_type": "code",
   "execution_count": 3,
   "id": "b72c80ef",
   "metadata": {},
   "outputs": [
    {
     "name": "stdout",
     "output_type": "stream",
     "text": [
      "enter the row10\n",
      "*\n",
      "**\n",
      "***\n",
      "****\n",
      "*****\n",
      "******\n",
      "*******\n",
      "********\n",
      "*********\n",
      "**********\n"
     ]
    }
   ],
   "source": [
    "rows = int(input(\"enter the row\"))\n",
    "\n",
    "for i in range(1,rows+1):\n",
    "    for j in range(1,1+i):\n",
    "        print(\"*\",end=\"\")\n",
    "    print()"
   ]
  },
  {
   "cell_type": "code",
   "execution_count": 4,
   "id": "12aa0326",
   "metadata": {},
   "outputs": [
    {
     "name": "stdout",
     "output_type": "stream",
     "text": [
      "5\n",
      "25\n"
     ]
    }
   ],
   "source": [
    "#squres\n",
    "n = int(input())\n",
    "print(n**2)"
   ]
  },
  {
   "cell_type": "code",
   "execution_count": 5,
   "id": "4d6b81eb",
   "metadata": {},
   "outputs": [
    {
     "name": "stdout",
     "output_type": "stream",
     "text": [
      "enter number5\n",
      "enter number5\n",
      "10\n"
     ]
    }
   ],
   "source": [
    "a = int(input(\"enter number\"))\n",
    "a1 = int(input(\"enter number\"))\n",
    "print(a+a1)\n",
    "\n",
    "\n"
   ]
  },
  {
   "cell_type": "code",
   "execution_count": 6,
   "id": "731bfbb3",
   "metadata": {},
   "outputs": [
    {
     "name": "stdout",
     "output_type": "stream",
     "text": [
      "u\n",
      "u\n",
      "u u\n"
     ]
    }
   ],
   "source": [
    "#sp ce\n",
    "b = input()\n",
    "c = input()\n",
    "print(b+\" \"+c)"
   ]
  },
  {
   "cell_type": "code",
   "execution_count": 7,
   "id": "0b19d8a6",
   "metadata": {},
   "outputs": [
    {
     "name": "stdout",
     "output_type": "stream",
     "text": [
      "5555\n",
      "555\n"
     ]
    }
   ],
   "source": [
    "s = input()\n",
    "print(s[0:3])"
   ]
  },
  {
   "cell_type": "code",
   "execution_count": 8,
   "id": "cf038283",
   "metadata": {},
   "outputs": [
    {
     "name": "stdout",
     "output_type": "stream",
     "text": [
      "enter no58\n"
     ]
    },
    {
     "data": {
      "text/plain": [
       "13"
      ]
     },
     "execution_count": 8,
     "metadata": {},
     "output_type": "execute_result"
    }
   ],
   "source": [
    "n = input('enter no')\n",
    "c= 0\n",
    "for i in (n):\n",
    "    c+=int(i)\n",
    "c\n",
    "    \n"
   ]
  },
  {
   "cell_type": "code",
   "execution_count": 9,
   "id": "0a11e93b",
   "metadata": {},
   "outputs": [
    {
     "name": "stdout",
     "output_type": "stream",
     "text": [
      "r\n",
      "r\n",
      "r\n",
      "r\n",
      "r\n",
      "r r r r r.\n"
     ]
    }
   ],
   "source": [
    "# concanite\n",
    "word1 =input()\n",
    "word2 =input()\n",
    "word3=input()\n",
    "word4 =input()\n",
    "word5 =input()\n",
    "space = \" \"\n",
    "stop = \".\"\n",
    "print(word1+space+word2+space+word3+space+word4+space+word5+stop)"
   ]
  },
  {
   "cell_type": "code",
   "execution_count": 10,
   "id": "97b304b3",
   "metadata": {},
   "outputs": [
    {
     "name": "stdout",
     "output_type": "stream",
     "text": [
      "r\n",
      "r\n"
     ]
    }
   ],
   "source": [
    "date = input()\n",
    "print(date[-4:])\n"
   ]
  },
  {
   "cell_type": "code",
   "execution_count": 11,
   "id": "66a40099",
   "metadata": {},
   "outputs": [
    {
     "name": "stdout",
     "output_type": "stream",
     "text": [
      "enter not\n"
     ]
    },
    {
     "ename": "ValueError",
     "evalue": "invalid literal for int() with base 10: 't'",
     "output_type": "error",
     "traceback": [
      "\u001b[1;31m---------------------------------------------------------------------------\u001b[0m",
      "\u001b[1;31mValueError\u001b[0m                                Traceback (most recent call last)",
      "Cell \u001b[1;32mIn [11], line 1\u001b[0m\n\u001b[1;32m----> 1\u001b[0m number \u001b[38;5;241m=\u001b[39m \u001b[38;5;28;43mint\u001b[39;49m\u001b[43m(\u001b[49m\u001b[38;5;28;43minput\u001b[39;49m\u001b[43m(\u001b[49m\u001b[38;5;124;43m\"\u001b[39;49m\u001b[38;5;124;43menter no\u001b[39;49m\u001b[38;5;124;43m\"\u001b[39;49m\u001b[43m)\u001b[49m\u001b[43m)\u001b[49m\n\u001b[0;32m      3\u001b[0m \u001b[38;5;28;01mfor\u001b[39;00m i \u001b[38;5;129;01min\u001b[39;00m number:\n\u001b[0;32m      4\u001b[0m     \u001b[38;5;28;01mif\u001b[39;00m (i) \u001b[38;5;241m==\u001b[39m \u001b[38;5;124m\"\u001b[39m\u001b[38;5;124m.\u001b[39m\u001b[38;5;124m\"\u001b[39m:\n",
      "\u001b[1;31mValueError\u001b[0m: invalid literal for int() with base 10: 't'"
     ]
    }
   ],
   "source": [
    "number = int(input(\"enter no\"))\n",
    "\n",
    "for i in number:\n",
    "    if (i) == \".\":\n",
    "        number.replace(\".\",\"\")"
   ]
  },
  {
   "cell_type": "code",
   "execution_count": 12,
   "id": "f940899d",
   "metadata": {},
   "outputs": [],
   "source": [
    "d = lambda x,y:x**y "
   ]
  },
  {
   "cell_type": "code",
   "execution_count": 13,
   "id": "b8e314b9",
   "metadata": {},
   "outputs": [
    {
     "data": {
      "text/plain": [
       "8"
      ]
     },
     "execution_count": 13,
     "metadata": {},
     "output_type": "execute_result"
    }
   ],
   "source": [
    "len(str(d(10,7)))"
   ]
  },
  {
   "cell_type": "code",
   "execution_count": 14,
   "id": "c3e0fa2b",
   "metadata": {},
   "outputs": [
    {
     "name": "stdout",
     "output_type": "stream",
     "text": [
      "54\n",
      "45\n",
      "5\n",
      "no\n"
     ]
    }
   ],
   "source": [
    "# made right angle tryangle\n",
    "x = int(input())\n",
    "y = int(input())\n",
    "z = int(input())\n",
    "\n",
    "if ((x**2 + y**2 == z**2)or\n",
    "(y**2 + z**2 == x**2)or\n",
    "(z**2+ x**2 == y**2)):\n",
    "    print(\"yes\")\n",
    "else:\n",
    "    print(\"no\")"
   ]
  },
  {
   "cell_type": "code",
   "execution_count": 15,
   "id": "3578b25e",
   "metadata": {},
   "outputs": [
    {
     "name": "stdout",
     "output_type": "stream",
     "text": [
      "enter here: yash mohite\n",
      "found vowels: \n",
      "{'a', 'i', 'e', 'o'}\n"
     ]
    }
   ],
   "source": [
    "# remove a.e.i.o.u from list\n",
    "txt = input(\"enter here: \")\n",
    "lst = list(txt)\n",
    "vols = [\"a\",\"e\",\"i\",\"o\",\"u\"]\n",
    "\n",
    "pick = []\n",
    "\n",
    "for i in lst:\n",
    "    if i in vols:\n",
    "        pick.append(i)\n",
    "print(\"found vowels: \")\n",
    "print(set(pick))\n",
    "        \n"
   ]
  },
  {
   "cell_type": "code",
   "execution_count": 16,
   "id": "00336734",
   "metadata": {},
   "outputs": [
    {
     "name": "stdout",
     "output_type": "stream",
     "text": [
      "enter your name5\n",
      "enter your DoB5\n",
      "enter your name4\n",
      "enter your DoB5\n",
      "older one: 4\n"
     ]
    }
   ],
   "source": [
    "# find how is younger fron given bod\n",
    "name1 = input(\"enter your name\")\n",
    "dob1 = input(\"enter your DoB\")\n",
    "\n",
    "name2 = input(\"enter your name\")\n",
    "dob2 = input(\"enter your DoB\")\n",
    "if dob1 == dob2:\n",
    "    if dob1[-4:] != dob2[-4:]:\n",
    "        print(f\"yonger one: {name1}\")\n",
    "    else:\n",
    "        print(f\"older one: {name2}\")\n",
    "else:\n",
    "    print(f\"younger one is {name2}\")"
   ]
  },
  {
   "cell_type": "code",
   "execution_count": 17,
   "id": "3f7a4a8c",
   "metadata": {},
   "outputs": [
    {
     "name": "stdout",
     "output_type": "stream",
     "text": [
      "enter the number5669874566\n",
      "invalid\n"
     ]
    }
   ],
   "source": [
    "#check phone number\n",
    "pn = input(\"enter the number\")\n",
    "a = False\n",
    "if len(pn) == 10 and int(pn[0]) > 5 and pn.isdigit():\n",
    "    for i in range((10)):\n",
    "        if pn.count(pn[i]) < 8:\n",
    "            a = True\n",
    "            if pn[i]*6 in pn:\n",
    "                a =False\n",
    "                break\n",
    "            else:\n",
    "                break\n",
    "if a:\n",
    "    print(\"valid\")\n",
    "else:\n",
    "    print(\"invalid\")\n",
    "    \n",
    "   "
   ]
  },
  {
   "cell_type": "code",
   "execution_count": 18,
   "id": "c0ef079f",
   "metadata": {},
   "outputs": [
    {
     "name": "stdout",
     "output_type": "stream",
     "text": [
      "enter the number444\n"
     ]
    }
   ],
   "source": [
    "#own logic\n",
    "pn = input(\"enter the number\")\n",
    "\n",
    "if len(pn) == 10 and int(pn[0]) > 5 and pn.isdigit():\n",
    "    for i in range(10):\n",
    "        if pn[i]*6 in pn:\n",
    "            print(\"invalid number\")\n",
    "            break\n",
    "        else:\n",
    "            print(\"valid number\")\n",
    "            break\n",
    "           \n",
    "            \n",
    "# else:\n",
    "#     print(\"valid\")"
   ]
  },
  {
   "cell_type": "code",
   "execution_count": 19,
   "id": "012e7836",
   "metadata": {},
   "outputs": [
    {
     "name": "stdout",
     "output_type": "stream",
     "text": [
      "enter text44\n",
      "5\n",
      "No\n"
     ]
    }
   ],
   "source": [
    "# count string words how many time\n",
    "txt = input(\"enter text\")#.split(\" \")\n",
    "s = input()\n",
    "\n",
    "if s in txt:\n",
    "    print(\"Yes\")\n",
    "    print(txt.count(s))\n",
    "    \n",
    "else:\n",
    "    print(\"No\")\n",
    "    \n",
    "\n"
   ]
  },
  {
   "cell_type": "code",
   "execution_count": 20,
   "id": "d71ff089",
   "metadata": {},
   "outputs": [],
   "source": [
    "#creat function\n",
    "def factorial(n):\n",
    "    if n <0:\n",
    "        return -1\n",
    "    elif n == 0:\n",
    "        return 1\n",
    "        \n",
    "    else:\n",
    "        f=1\n",
    "        for i in range(1,n+1):\n",
    "            f*=i\n",
    "        return f\n",
    "            \n",
    "        "
   ]
  },
  {
   "cell_type": "code",
   "execution_count": 21,
   "id": "3ff33ee3",
   "metadata": {},
   "outputs": [
    {
     "data": {
      "text/plain": [
       "120"
      ]
     },
     "execution_count": 21,
     "metadata": {},
     "output_type": "execute_result"
    }
   ],
   "source": [
    "factorial(5)"
   ]
  },
  {
   "cell_type": "code",
   "execution_count": 22,
   "id": "d3292ec3",
   "metadata": {},
   "outputs": [],
   "source": [
    "# check max and in function\n",
    "def min_max(a):\n",
    "    return min(a),max(a)\n",
    "\n",
    "    "
   ]
  },
  {
   "cell_type": "code",
   "execution_count": 23,
   "id": "d4343b59",
   "metadata": {},
   "outputs": [
    {
     "data": {
      "text/plain": [
       "(1, 6)"
      ]
     },
     "execution_count": 23,
     "metadata": {},
     "output_type": "execute_result"
    }
   ],
   "source": [
    "l=[1,2,3,6,5,4]\n",
    "min_max(l)"
   ]
  },
  {
   "cell_type": "code",
   "execution_count": 24,
   "id": "0908007e",
   "metadata": {},
   "outputs": [],
   "source": [
    "def file_reader(publi):\n",
    "    with open (\"public.txt.txt\") as f: #function to reead the file\n",
    "        lines = f.read()\n",
    "        print(lines)"
   ]
  },
  {
   "cell_type": "code",
   "execution_count": 25,
   "id": "376007aa",
   "metadata": {},
   "outputs": [
    {
     "name": "stdout",
     "output_type": "stream",
     "text": [
      "i m a yash mohite and i m writing code in this jupyter notebook.\n",
      "so here is the code and i write the code by my own logic.\n"
     ]
    }
   ],
   "source": [
    "file_reader(l)"
   ]
  },
  {
   "cell_type": "code",
   "execution_count": 26,
   "id": "06fd6212",
   "metadata": {},
   "outputs": [
    {
     "name": "stdout",
     "output_type": "stream",
     "text": [
      "Enter roll no: \n"
     ]
    },
    {
     "ename": "IndexError",
     "evalue": "string index out of range",
     "output_type": "error",
     "traceback": [
      "\u001b[1;31m---------------------------------------------------------------------------\u001b[0m",
      "\u001b[1;31mIndexError\u001b[0m                                Traceback (most recent call last)",
      "Cell \u001b[1;32mIn [26], line 4\u001b[0m\n\u001b[0;32m      1\u001b[0m \u001b[38;5;66;03m# find out who is in data science\u001b[39;00m\n\u001b[0;32m      2\u001b[0m rollno \u001b[38;5;241m=\u001b[39m \u001b[38;5;28minput\u001b[39m(\u001b[38;5;124m\"\u001b[39m\u001b[38;5;124mEnter roll no: \u001b[39m\u001b[38;5;124m\"\u001b[39m)\n\u001b[1;32m----> 4\u001b[0m \u001b[38;5;28;01mif\u001b[39;00m \u001b[43mrollno\u001b[49m\u001b[43m[\u001b[49m\u001b[38;5;241;43m0\u001b[39;49m\u001b[43m]\u001b[49m \u001b[38;5;241m==\u001b[39m\u001b[38;5;124m\"\u001b[39m\u001b[38;5;124mD\u001b[39m\u001b[38;5;124m\"\u001b[39m \u001b[38;5;129;01mand\u001b[39;00m rollno[\u001b[38;5;241m1\u001b[39m] \u001b[38;5;241m==\u001b[39m \u001b[38;5;124m\"\u001b[39m\u001b[38;5;124mS\u001b[39m\u001b[38;5;124m\"\u001b[39m:\n\u001b[0;32m      5\u001b[0m     \u001b[38;5;28mprint\u001b[39m(\u001b[38;5;28;01mTrue\u001b[39;00m)\n\u001b[0;32m      6\u001b[0m     \u001b[38;5;28mprint\u001b[39m(\u001b[38;5;124m\"\u001b[39m\u001b[38;5;124mFrom data science batch\u001b[39m\u001b[38;5;124m\"\u001b[39m)\n",
      "\u001b[1;31mIndexError\u001b[0m: string index out of range"
     ]
    }
   ],
   "source": [
    "# find out who is in data science\n",
    "rollno = input(\"Enter roll no: \")\n",
    "\n",
    "if rollno[0] ==\"D\" and rollno[1] == \"S\":\n",
    "    print(True)\n",
    "    print(\"From data science batch\")\n",
    "else:\n",
    "    \n",
    "    print(False)\n",
    "    print(\"from other batch\")\n",
    "\n",
    "    "
   ]
  },
  {
   "cell_type": "code",
   "execution_count": 27,
   "id": "179af6e0",
   "metadata": {},
   "outputs": [
    {
     "name": "stdout",
     "output_type": "stream",
     "text": [
      "Enter plate no\n",
      "False\n",
      "NUMBER plate not Detected\n"
     ]
    }
   ],
   "source": [
    "#Crack the case NUMBER PLATE DECETED\n",
    "\n",
    "noplate = input(\"Enter plate no\")\n",
    "\n",
    "if noplate[:4] == \"TN07\":\n",
    "    print(True)\n",
    "    print(\"NUMBER plate detected\")\n",
    "else:\n",
    "    print(False)\n",
    "    print(\"NUMBER plate not Detected\")"
   ]
  },
  {
   "cell_type": "code",
   "execution_count": 28,
   "id": "746457c8",
   "metadata": {},
   "outputs": [
    {
     "name": "stdout",
     "output_type": "stream",
     "text": [
      "enter no\n"
     ]
    },
    {
     "ename": "ValueError",
     "evalue": "invalid literal for int() with base 10: ''",
     "output_type": "error",
     "traceback": [
      "\u001b[1;31m---------------------------------------------------------------------------\u001b[0m",
      "\u001b[1;31mValueError\u001b[0m                                Traceback (most recent call last)",
      "Cell \u001b[1;32mIn [28], line 3\u001b[0m\n\u001b[0;32m      1\u001b[0m \u001b[38;5;66;03m# split classs\u001b[39;00m\n\u001b[1;32m----> 3\u001b[0m n \u001b[38;5;241m=\u001b[39m \u001b[38;5;28;43mint\u001b[39;49m\u001b[43m(\u001b[49m\u001b[38;5;28;43minput\u001b[39;49m\u001b[43m(\u001b[49m\u001b[38;5;124;43m\"\u001b[39;49m\u001b[38;5;124;43menter no\u001b[39;49m\u001b[38;5;124;43m\"\u001b[39;49m\u001b[43m)\u001b[49m\u001b[43m)\u001b[49m\n\u001b[0;32m      5\u001b[0m \u001b[38;5;28;01mfor\u001b[39;00m i \u001b[38;5;129;01min\u001b[39;00m \u001b[38;5;28mrange\u001b[39m(\u001b[38;5;241m1\u001b[39m,n\u001b[38;5;241m+\u001b[39m\u001b[38;5;241m1\u001b[39m,\u001b[38;5;241m4\u001b[39m):\n\u001b[0;32m      6\u001b[0m     \u001b[38;5;28;01mif\u001b[39;00m n \u001b[38;5;241m==\u001b[39m i:\n",
      "\u001b[1;31mValueError\u001b[0m: invalid literal for int() with base 10: ''"
     ]
    }
   ],
   "source": [
    "# split classs\n",
    "\n",
    "n = int(input(\"enter no\"))\n",
    "\n",
    "for i in range(1,n+1,4):\n",
    "    if n == i:\n",
    "        print(\"sapphire\")\n",
    "        \n",
    "for j in range(2,n+1,4):\n",
    "    if n == j:\n",
    "        print(\"peridet\")\n",
    "        \n",
    "for k in range(3,n+1,4):\n",
    "    if n == k:\n",
    "        print(\"ruby\")\n",
    "        \n",
    "for l in range(4,n+1,4):\n",
    "    if n == l:\n",
    "        print(\"emerald\")\n",
    "    "
   ]
  },
  {
   "cell_type": "code",
   "execution_count": 29,
   "id": "32ed1f5a",
   "metadata": {},
   "outputs": [
    {
     "name": "stdout",
     "output_type": "stream",
     "text": [
      "enter backlock\n"
     ]
    },
    {
     "ename": "ValueError",
     "evalue": "could not convert string to float: ''",
     "output_type": "error",
     "traceback": [
      "\u001b[1;31m---------------------------------------------------------------------------\u001b[0m",
      "\u001b[1;31mValueError\u001b[0m                                Traceback (most recent call last)",
      "Cell \u001b[1;32mIn [29], line 1\u001b[0m\n\u001b[1;32m----> 1\u001b[0m backlog \u001b[38;5;241m=\u001b[39m \u001b[38;5;28;43mfloat\u001b[39;49m\u001b[43m(\u001b[49m\u001b[38;5;28;43minput\u001b[39;49m\u001b[43m(\u001b[49m\u001b[38;5;124;43m\"\u001b[39;49m\u001b[38;5;124;43menter backlock\u001b[39;49m\u001b[38;5;124;43m\"\u001b[39;49m\u001b[43m)\u001b[49m\u001b[43m)\u001b[49m\n\u001b[0;32m      2\u001b[0m cgpa \u001b[38;5;241m=\u001b[39m \u001b[38;5;28mfloat\u001b[39m(\u001b[38;5;28minput\u001b[39m(\u001b[38;5;124m\"\u001b[39m\u001b[38;5;124menter cgpa\u001b[39m\u001b[38;5;124m\"\u001b[39m))\n\u001b[0;32m      5\u001b[0m \u001b[38;5;28;01mif\u001b[39;00m backlog \u001b[38;5;241m<\u001b[39m\u001b[38;5;241m=\u001b[39m \u001b[38;5;241m5\u001b[39m \u001b[38;5;129;01mand\u001b[39;00m cgpa \u001b[38;5;241m>\u001b[39m\u001b[38;5;241m=\u001b[39m \u001b[38;5;241m6\u001b[39m:\n",
      "\u001b[1;31mValueError\u001b[0m: could not convert string to float: ''"
     ]
    }
   ],
   "source": [
    "backlog = float(input(\"enter backlock\"))\n",
    "cgpa = float(input(\"enter cgpa\"))\n",
    "                \n",
    "\n",
    "if backlog <= 5 and cgpa >= 6:\n",
    "    print(5*backlog)\n",
    "else:\n",
    "    print(\"not selected\")\n",
    "                "
   ]
  },
  {
   "cell_type": "code",
   "execution_count": 30,
   "id": "0ceaf451",
   "metadata": {},
   "outputs": [],
   "source": [
    "s = \"malayalam\""
   ]
  },
  {
   "cell_type": "code",
   "execution_count": 31,
   "id": "7ea9e54a",
   "metadata": {},
   "outputs": [
    {
     "data": {
      "text/plain": [
       "'malayalam'"
      ]
     },
     "execution_count": 31,
     "metadata": {},
     "output_type": "execute_result"
    }
   ],
   "source": [
    "s[::-1]"
   ]
  },
  {
   "cell_type": "code",
   "execution_count": 32,
   "id": "78f37e61",
   "metadata": {},
   "outputs": [],
   "source": [
    "# Strong passwoed\n",
    "\n",
    "def Strong_password():\n",
    "    simbol = \"!@#$%^&*\"\n",
    "    \n",
    "    username = input(\"enter user name\")\n",
    "    password = input(\"enter password\")\n",
    "    \n",
    "    if type(username) != str:\n",
    "        print(\"user name only take alphabits\")\n",
    "    elif password in simbol and password > 7 and len(password) == 7:\n",
    "        print(\"correct password\")\n",
    "    else:\n",
    "        print(\"incorrect password\")\n",
    "                     "
   ]
  },
  {
   "cell_type": "code",
   "execution_count": 33,
   "id": "c157f515",
   "metadata": {},
   "outputs": [
    {
     "name": "stdout",
     "output_type": "stream",
     "text": [
      "enter user name\n",
      "enter password\n"
     ]
    },
    {
     "ename": "TypeError",
     "evalue": "'>' not supported between instances of 'str' and 'int'",
     "output_type": "error",
     "traceback": [
      "\u001b[1;31m---------------------------------------------------------------------------\u001b[0m",
      "\u001b[1;31mTypeError\u001b[0m                                 Traceback (most recent call last)",
      "Cell \u001b[1;32mIn [33], line 1\u001b[0m\n\u001b[1;32m----> 1\u001b[0m \u001b[43mStrong_password\u001b[49m\u001b[43m(\u001b[49m\u001b[43m)\u001b[49m\n",
      "Cell \u001b[1;32mIn [32], line 11\u001b[0m, in \u001b[0;36mStrong_password\u001b[1;34m()\u001b[0m\n\u001b[0;32m      9\u001b[0m \u001b[38;5;28;01mif\u001b[39;00m \u001b[38;5;28mtype\u001b[39m(username) \u001b[38;5;241m!=\u001b[39m \u001b[38;5;28mstr\u001b[39m:\n\u001b[0;32m     10\u001b[0m     \u001b[38;5;28mprint\u001b[39m(\u001b[38;5;124m\"\u001b[39m\u001b[38;5;124muser name only take alphabits\u001b[39m\u001b[38;5;124m\"\u001b[39m)\n\u001b[1;32m---> 11\u001b[0m \u001b[38;5;28;01melif\u001b[39;00m password \u001b[38;5;129;01min\u001b[39;00m simbol \u001b[38;5;129;01mand\u001b[39;00m \u001b[43mpassword\u001b[49m\u001b[43m \u001b[49m\u001b[38;5;241;43m>\u001b[39;49m\u001b[43m \u001b[49m\u001b[38;5;241;43m7\u001b[39;49m \u001b[38;5;129;01mand\u001b[39;00m \u001b[38;5;28mlen\u001b[39m(password) \u001b[38;5;241m==\u001b[39m \u001b[38;5;241m7\u001b[39m:\n\u001b[0;32m     12\u001b[0m     \u001b[38;5;28mprint\u001b[39m(\u001b[38;5;124m\"\u001b[39m\u001b[38;5;124mcorrect password\u001b[39m\u001b[38;5;124m\"\u001b[39m)\n\u001b[0;32m     13\u001b[0m \u001b[38;5;28;01melse\u001b[39;00m:\n",
      "\u001b[1;31mTypeError\u001b[0m: '>' not supported between instances of 'str' and 'int'"
     ]
    }
   ],
   "source": [
    "Strong_password()"
   ]
  },
  {
   "cell_type": "code",
   "execution_count": 34,
   "id": "e975234d",
   "metadata": {},
   "outputs": [],
   "source": [
    "from datetime import datetime\n",
    "\n",
    "def log_datetime(func):\n",
    "    def wrap():\n",
    "        print(func.__name__,datetime.today())\n",
    "        func()\n",
    "    return wrap\n",
    "\n",
    "\n",
    "@log_datetime\n",
    "def daily_backup():\n",
    "    return print(\"Dailed backup finish\")\n",
    "    "
   ]
  },
  {
   "cell_type": "code",
   "execution_count": 35,
   "id": "33db944c",
   "metadata": {},
   "outputs": [
    {
     "name": "stdout",
     "output_type": "stream",
     "text": [
      "daily_backup 2022-12-27 15:09:25.143705\n",
      "Dailed backup finish\n"
     ]
    }
   ],
   "source": [
    "daily_backup()"
   ]
  },
  {
   "cell_type": "code",
   "execution_count": 36,
   "id": "f3c82c8e",
   "metadata": {},
   "outputs": [],
   "source": [
    "def add1(func):\n",
    "    def add():\n",
    "        print(func.__name__,5+6)\n",
    "        func()\n",
    "    return add\n",
    "\n",
    "@add1\n",
    "def print_statment():\n",
    "    return print(\"this is addition\")\n",
    "    "
   ]
  },
  {
   "cell_type": "code",
   "execution_count": 37,
   "id": "f2975276",
   "metadata": {},
   "outputs": [
    {
     "name": "stdout",
     "output_type": "stream",
     "text": [
      "print_statment 11\n",
      "this is addition\n"
     ]
    }
   ],
   "source": [
    "print_statment()"
   ]
  },
  {
   "cell_type": "code",
   "execution_count": 38,
   "id": "91ce2e40",
   "metadata": {},
   "outputs": [],
   "source": [
    "odd_list = [1,2,2,6,5,8,789,45,99,9,9,]\n",
    "l = []\n",
    "# pick odd number\n",
    "for i in odd_list:\n",
    "    if odd_list.count(i) %2 != 0:\n",
    "        if i not in l:\n",
    "            l.append(i)"
   ]
  },
  {
   "cell_type": "code",
   "execution_count": 39,
   "id": "afd910c3",
   "metadata": {},
   "outputs": [
    {
     "data": {
      "text/plain": [
       "[1, 6, 5, 8, 789, 45, 99]"
      ]
     },
     "execution_count": 39,
     "metadata": {},
     "output_type": "execute_result"
    }
   ],
   "source": [
    "l"
   ]
  },
  {
   "cell_type": "code",
   "execution_count": 40,
   "id": "f94bd42f",
   "metadata": {},
   "outputs": [
    {
     "name": "stdout",
     "output_type": "stream",
     "text": [
      "[10, 20, 30, 20, 40]\n"
     ]
    }
   ],
   "source": [
    "lst = [10,20,60,30,20,40,50,60,70,80,90,100]\n",
    "l = []\n",
    "#pick smaller then 50 no\n",
    "for i in lst:\n",
    "    if i < 50:\n",
    "        l.append(i)\n",
    "\n",
    "print(l)\n",
    "       \n",
    "        \n",
    "\n",
    "\n"
   ]
  },
  {
   "cell_type": "code",
   "execution_count": 41,
   "id": "5f4ac2a9",
   "metadata": {},
   "outputs": [
    {
     "name": "stdout",
     "output_type": "stream",
     "text": [
      "{70, 20, 30, 60}\n"
     ]
    }
   ],
   "source": [
    "a = [10,20,20,30,30,60,30,20,40,50,60,70,70,80,90,100]\n",
    "r = []\n",
    "# remove duplicate\n",
    "for i in a:\n",
    "    if a.count(i)>1:\n",
    "        r.append(i)\n",
    "print(set(r))"
   ]
  },
  {
   "cell_type": "code",
   "execution_count": 42,
   "id": "567a9615",
   "metadata": {},
   "outputs": [
    {
     "name": "stdout",
     "output_type": "stream",
     "text": [
      "[20, 30, 60, 70]\n"
     ]
    }
   ],
   "source": [
    "import collections\n",
    "smp = [10,20,20,30,30,60,30,20,40,50,60,70,70,80,90,100]\n",
    "dup = []\n",
    "# removev duplicats\n",
    "for item,count in collections.Counter(smp).items():\n",
    "    if count > 1:\n",
    "        dup.append(item)\n",
    "print(dup)"
   ]
  },
  {
   "cell_type": "code",
   "execution_count": 43,
   "id": "b770b6b4",
   "metadata": {},
   "outputs": [
    {
     "data": {
      "text/plain": [
       "' yash  mohite developer'"
      ]
     },
     "execution_count": 43,
     "metadata": {},
     "output_type": "execute_result"
    }
   ],
   "source": [
    "def add(x,y):\n",
    "    def inner(x,y):# concation function\n",
    "        x = x + y\n",
    "    return  (x + y) + \"developer\"\n",
    "\n",
    "add(\" yash \",\" mohite \")\n"
   ]
  },
  {
   "cell_type": "code",
   "execution_count": 44,
   "id": "705200fb",
   "metadata": {},
   "outputs": [],
   "source": [
    "ls = [5,[10,15,[20,25,[30,35],40],45],50]\n",
    "\n",
    "ls[:2][1][2][2][1] = 3500"
   ]
  },
  {
   "cell_type": "code",
   "execution_count": 45,
   "id": "cb65a0f6",
   "metadata": {},
   "outputs": [
    {
     "data": {
      "text/plain": [
       "[5, [10, 15, [20, 25, [30, 3500], 40], 45], 50]"
      ]
     },
     "execution_count": 45,
     "metadata": {},
     "output_type": "execute_result"
    }
   ],
   "source": [
    "ls"
   ]
  },
  {
   "cell_type": "code",
   "execution_count": 47,
   "id": "ebaa7501",
   "metadata": {},
   "outputs": [
    {
     "name": "stdout",
     "output_type": "stream",
     "text": [
      "1 2 3 4 5 6 7 8 9 10 \n",
      "2 4 6 8 10 12 14 16 18 20 \n",
      "3 6 9 12 15 18 21 24 27 30 \n",
      "4 8 12 16 20 24 28 32 36 40 \n",
      "5 10 15 20 25 30 35 40 45 50 \n",
      "6 12 18 24 30 36 42 48 54 60 \n",
      "7 14 21 28 35 42 49 56 63 70 \n",
      "8 16 24 32 40 48 56 64 72 80 \n",
      "9 18 27 36 45 54 63 72 81 90 \n",
      "10 20 30 40 50 60 70 80 90 100 \n"
     ]
    }
   ],
   "source": [
    "for i in range(1,11):\n",
    "    for j in range(1,11):\n",
    "        c =i*j\n",
    "        print(c,end=\" \")\n",
    "    print()"
   ]
  },
  {
   "cell_type": "code",
   "execution_count": null,
   "id": "bf12ce12",
   "metadata": {},
   "outputs": [],
   "source": [
    "\n",
    "\n",
    "\n",
    "        \n",
    "        \n"
   ]
  },
  {
   "cell_type": "code",
   "execution_count": null,
   "id": "24addcfa",
   "metadata": {},
   "outputs": [],
   "source": []
  },
  {
   "cell_type": "code",
   "execution_count": null,
   "id": "7b0679a2",
   "metadata": {},
   "outputs": [],
   "source": []
  }
 ],
 "metadata": {
  "kernelspec": {
   "display_name": "Python 3 (ipykernel)",
   "language": "python",
   "name": "python3"
  },
  "language_info": {
   "codemirror_mode": {
    "name": "ipython",
    "version": 3
   },
   "file_extension": ".py",
   "mimetype": "text/x-python",
   "name": "python",
   "nbconvert_exporter": "python",
   "pygments_lexer": "ipython3",
   "version": "3.10.6"
  }
 },
 "nbformat": 4,
 "nbformat_minor": 5
}
