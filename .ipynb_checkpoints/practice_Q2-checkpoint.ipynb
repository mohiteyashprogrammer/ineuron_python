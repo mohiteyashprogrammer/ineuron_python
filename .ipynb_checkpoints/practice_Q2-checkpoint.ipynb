{
 "cells": [
  {
   "cell_type": "code",
   "execution_count": 15,
   "id": "dcc4deb6",
   "metadata": {},
   "outputs": [],
   "source": [
    "st = \"yash mohite\"\n",
    "wovel  = [\"a\",\"e\",\"i\",\"o\",\"u\"]# pick volels from input\n",
    "pick = []\n",
    "\n",
    "for i in st:\n",
    "    if i in wovel:\n",
    "        pick.append(i)\n"
   ]
  },
  {
   "cell_type": "code",
   "execution_count": 17,
   "id": "62da6d9a",
   "metadata": {},
   "outputs": [
    {
     "name": "stdout",
     "output_type": "stream",
     "text": [
      "{'e', 'i', 'a', 'o'}\n"
     ]
    }
   ],
   "source": [
    "print(set(pick))"
   ]
  },
  {
   "cell_type": "code",
   "execution_count": 18,
   "id": "1a1df7f6",
   "metadata": {},
   "outputs": [],
   "source": [
    "lst = [10,20,30,4,50,89,45,\"yash\",\"isha\",2.0,3.5,4.8]\n",
    "# saprate int,str,flot\n",
    "i1 = []\n",
    "s = []\n",
    "f = []\n",
    "\n",
    "for i in lst:\n",
    "    if type(i) == int:\n",
    "        i1.append(i)\n",
    "    elif type(i) == str:\n",
    "        s.append(i)\n",
    "    elif type(i) == float:\n",
    "        f.append(i)\n",
    "        \n",
    "\n"
   ]
  },
  {
   "cell_type": "code",
   "execution_count": 19,
   "id": "e81f1d97",
   "metadata": {},
   "outputs": [
    {
     "data": {
      "text/plain": [
       "[10, 20, 30, 4, 50, 89, 45]"
      ]
     },
     "execution_count": 19,
     "metadata": {},
     "output_type": "execute_result"
    }
   ],
   "source": [
    "i1"
   ]
  },
  {
   "cell_type": "code",
   "execution_count": 20,
   "id": "5ed98862",
   "metadata": {},
   "outputs": [
    {
     "data": {
      "text/plain": [
       "['yash', 'isha']"
      ]
     },
     "execution_count": 20,
     "metadata": {},
     "output_type": "execute_result"
    }
   ],
   "source": [
    "s"
   ]
  },
  {
   "cell_type": "code",
   "execution_count": 21,
   "id": "be7c3c5a",
   "metadata": {},
   "outputs": [
    {
     "data": {
      "text/plain": [
       "[2.0, 3.5, 4.8]"
      ]
     },
     "execution_count": 21,
     "metadata": {},
     "output_type": "execute_result"
    }
   ],
   "source": [
    "f"
   ]
  },
  {
   "cell_type": "code",
   "execution_count": 36,
   "id": "d05b6028",
   "metadata": {},
   "outputs": [
    {
     "name": "stdout",
     "output_type": "stream",
     "text": [
      "{'yash', 4, 5, 6}\n"
     ]
    }
   ],
   "source": [
    "lst1 = [10,20,30,4,4,4,5,5,6,6,7,9,8,50,89,45,\"yash\",\"yash\",\"isha\",2.0,3.5,4.8]\n",
    "duplicet = []\n",
    "# remove duplicets\n",
    "\n",
    "for i in lst1:\n",
    "    if lst1.count(i) >1:\n",
    "        duplicet.append(i)\n",
    "print(set(duplicet))"
   ]
  },
  {
   "cell_type": "code",
   "execution_count": 38,
   "id": "355e89a6",
   "metadata": {},
   "outputs": [
    {
     "name": "stdout",
     "output_type": "stream",
     "text": [
      "{2.0, 3.5, 4, 5, 6, 7, 8, 9, 10, 4.8, 45, 'yash', 50, 20, 89, 'isha', 30}\n"
     ]
    }
   ],
   "source": [
    "lst2 = set([10,20,30,4,4,4,5,5,6,6,7,9,8,50,89,45,\"yash\",\"yash\",\"isha\",2.0,3.5,4.8])\n",
    "print(lst2)"
   ]
  },
  {
   "cell_type": "code",
   "execution_count": 92,
   "id": "d13e2aaf",
   "metadata": {},
   "outputs": [],
   "source": [
    "def strmultiply(lm):\n",
    "    m=1\n",
    "    \n",
    "    for i in lm:\n",
    "        if type(i) == int or type(i) == float:\n",
    "            m=m*i\n",
    "    return m"
   ]
  },
  {
   "cell_type": "code",
   "execution_count": 110,
   "id": "8cd395e6",
   "metadata": {},
   "outputs": [],
   "source": [
    "w = [10, 20, 30, 4, 50, 89, 45]\n",
    "def addition(n):\n",
    "    a = 1\n",
    "    for i in n:\n",
    "        if type(i) == int or type(i) == float:\n",
    "            a=a+i\n",
    "    return a\n"
   ]
  },
  {
   "cell_type": "code",
   "execution_count": 119,
   "id": "aecab647",
   "metadata": {},
   "outputs": [
    {
     "name": "stdout",
     "output_type": "stream",
     "text": [
      "249\n"
     ]
    }
   ],
   "source": [
    "print(addition(w))\n",
    "\n"
   ]
  },
  {
   "cell_type": "code",
   "execution_count": 126,
   "id": "3dbd264f",
   "metadata": {},
   "outputs": [
    {
     "name": "stdout",
     "output_type": "stream",
     "text": [
      "(65, 99, 41, 45, 87, 94)\n",
      "41\n",
      "99\n"
     ]
    }
   ],
   "source": [
    "sample_list = [87,45,41,65,94,41,99,94]\n",
    "s = set(sample_list)\n",
    "#print(s)\n",
    "t = tuple(s)\n",
    "print(t)\n",
    "print(min(t))\n",
    "print(max(t))"
   ]
  },
  {
   "cell_type": "code",
   "execution_count": 127,
   "id": "0bfbea42",
   "metadata": {},
   "outputs": [],
   "source": [
    "lam = lambda x,y: x*y"
   ]
  },
  {
   "cell_type": "code",
   "execution_count": 128,
   "id": "9f2628ef",
   "metadata": {},
   "outputs": [
    {
     "data": {
      "text/plain": [
       "25"
      ]
     },
     "execution_count": 128,
     "metadata": {},
     "output_type": "execute_result"
    }
   ],
   "source": [
    "lam(5,5)"
   ]
  },
  {
   "cell_type": "code",
   "execution_count": 134,
   "id": "076b06ed",
   "metadata": {},
   "outputs": [],
   "source": [
    "lam2 = lambda x: x+10"
   ]
  },
  {
   "cell_type": "code",
   "execution_count": 159,
   "id": "d56ed322",
   "metadata": {},
   "outputs": [
    {
     "data": {
      "text/plain": [
       "15"
      ]
     },
     "execution_count": 159,
     "metadata": {},
     "output_type": "execute_result"
    }
   ],
   "source": [
    "lam2(5)"
   ]
  },
  {
   "cell_type": "code",
   "execution_count": 165,
   "id": "82f5a919",
   "metadata": {},
   "outputs": [
    {
     "data": {
      "text/plain": [
       "[('ankita', 50), ('isha', 80), ('patade', 25), ('yash', 99)]"
      ]
     },
     "execution_count": 165,
     "metadata": {},
     "output_type": "execute_result"
    }
   ],
   "source": [
    "le = [(\"yash\",99),(\"isha\",80),(\"ankita\",50),(\"patade\",25)]\n",
    "lam3 = lambda x: sorted(x) #sort list using lambda\n",
    "lam3(le)"
   ]
  },
  {
   "cell_type": "code",
   "execution_count": 170,
   "id": "345ae2d2",
   "metadata": {},
   "outputs": [
    {
     "name": "stdout",
     "output_type": "stream",
     "text": [
      "2022-12-27 21:39:16.265973\n",
      "2022\n",
      "12\n",
      "27\n",
      "21:39:16.265973\n"
     ]
    }
   ],
   "source": [
    "import datetime\n",
    "\n",
    "now = datetime.datetime.now()\n",
    "\n",
    "print(now)\n",
    "\n",
    "year = lambda x:x.year\n",
    "month = lambda x:x.month\n",
    "day = lambda x:x.day\n",
    "tim = lambda x:x.time()\n",
    "\n",
    "print(year(now))\n",
    "print(month(now))\n",
    "print(day(now))\n",
    "print(tim(now))\n",
    "\n"
   ]
  },
  {
   "cell_type": "code",
   "execution_count": 178,
   "id": "a4862d8c",
   "metadata": {},
   "outputs": [
    {
     "name": "stdout",
     "output_type": "stream",
     "text": [
      "256\n"
     ]
    }
   ],
   "source": [
    "sq = lambda x,y: x**y\n",
    "print(sq(2,8))"
   ]
  },
  {
   "cell_type": "code",
   "execution_count": 215,
   "id": "90ede580",
   "metadata": {},
   "outputs": [],
   "source": [
    "lx = [10, 20, 30, 4, 50, 89, 45,5]\n",
    "\n",
    "\n",
    "eo = list(filter(lambda x: x%2 == 0,lx))\n",
    "\n",
    "od = list(filter(lambda x:x%2 != 0,lx))\n"
   ]
  },
  {
   "cell_type": "code",
   "execution_count": 216,
   "id": "6bf446bc",
   "metadata": {},
   "outputs": [
    {
     "name": "stdout",
     "output_type": "stream",
     "text": [
      "[10, 20, 30, 4, 50] even number\n",
      "[89, 45, 5] odd number\n"
     ]
    }
   ],
   "source": [
    "print(eo,\"even number\")\n",
    "print(od,\"odd number\")"
   ]
  },
  {
   "cell_type": "code",
   "execution_count": 217,
   "id": "e9c02109",
   "metadata": {},
   "outputs": [
    {
     "name": "stdout",
     "output_type": "stream",
     "text": [
      "[89, 45, 5] odd number\n"
     ]
    }
   ],
   "source": [
    "print(od,\"odd number\")"
   ]
  },
  {
   "cell_type": "code",
   "execution_count": 236,
   "id": "7065e544",
   "metadata": {},
   "outputs": [],
   "source": [
    "def add(x):\n",
    "    return x*x#using map function take function and iterable object"
   ]
  },
  {
   "cell_type": "code",
   "execution_count": 237,
   "id": "983143cf",
   "metadata": {},
   "outputs": [],
   "source": [
    "m = list(map(add,lx))"
   ]
  },
  {
   "cell_type": "code",
   "execution_count": 238,
   "id": "8db3a38d",
   "metadata": {},
   "outputs": [
    {
     "name": "stdout",
     "output_type": "stream",
     "text": [
      "[100, 400, 900, 16, 2500, 7921, 2025, 25]\n"
     ]
    }
   ],
   "source": [
    "print(m)"
   ]
  },
  {
   "cell_type": "code",
   "execution_count": 239,
   "id": "b459dc02",
   "metadata": {},
   "outputs": [],
   "source": [
    "def UL(s):\n",
    "    return str(s).upper(),str(s).lower()"
   ]
  },
  {
   "cell_type": "code",
   "execution_count": 247,
   "id": "c4cb8667",
   "metadata": {},
   "outputs": [],
   "source": [
    "y = [\"yash\"]\n",
    "d = list(map(UL,y))# convert in upper and lower case"
   ]
  },
  {
   "cell_type": "code",
   "execution_count": 246,
   "id": "e7c0a5e7",
   "metadata": {},
   "outputs": [
    {
     "name": "stdout",
     "output_type": "stream",
     "text": [
      "[('YASH', 'yash')]\n"
     ]
    }
   ],
   "source": [
    "print(d)"
   ]
  },
  {
   "cell_type": "code",
   "execution_count": null,
   "id": "ea21d500",
   "metadata": {},
   "outputs": [],
   "source": []
  }
 ],
 "metadata": {
  "kernelspec": {
   "display_name": "Python 3 (ipykernel)",
   "language": "python",
   "name": "python3"
  },
  "language_info": {
   "codemirror_mode": {
    "name": "ipython",
    "version": 3
   },
   "file_extension": ".py",
   "mimetype": "text/x-python",
   "name": "python",
   "nbconvert_exporter": "python",
   "pygments_lexer": "ipython3",
   "version": "3.10.6"
  }
 },
 "nbformat": 4,
 "nbformat_minor": 5
}
