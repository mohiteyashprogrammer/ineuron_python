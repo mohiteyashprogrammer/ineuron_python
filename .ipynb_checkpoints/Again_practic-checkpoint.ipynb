{
 "cells": [
  {
   "cell_type": "code",
   "execution_count": 1,
   "id": "3bbead48",
   "metadata": {},
   "outputs": [],
   "source": [
    "#creating function saprate string and int\n",
    "\n",
    "def saprate_str_lst(lst):\n",
    "    n = []\n",
    "    s = []\n",
    "    \n",
    "    for i in lst:\n",
    "        if type(i) == int:\n",
    "             n.append(i)\n",
    "                \n",
    "        elif type(i) == str:\n",
    "                s.append(i)  \n",
    "                \n",
    "    return n,s"
   ]
  },
  {
   "cell_type": "code",
   "execution_count": 2,
   "id": "7d15e242",
   "metadata": {},
   "outputs": [
    {
     "data": {
      "text/plain": [
       "([1, 2, 3, 5, 4, 78], ['yash', 'isha', 'ankita', 'patade'])"
      ]
     },
     "execution_count": 2,
     "metadata": {},
     "output_type": "execute_result"
    }
   ],
   "source": [
    "(saprate_str_lst([1,2,3,5,4,78,\"yash\",\"isha\",\"ankita\",\"patade\"]))"
   ]
  },
  {
   "cell_type": "code",
   "execution_count": 3,
   "id": "b6c4028e",
   "metadata": {},
   "outputs": [],
   "source": [
    "# find vowels in in given list\n",
    "\n",
    "def find_vowels(lst):\n",
    "    vowels = [\"a\",\"e\",\"i\",\"o\",\"u\"]\n",
    "    find = []\n",
    "    \n",
    "    \n",
    "    for i in lst:\n",
    "        for j in i:\n",
    "            if j in vowels:\n",
    "                find.append(j)\n",
    "    return f\"{lst} > find vowels: {find}\" "
   ]
  },
  {
   "cell_type": "code",
   "execution_count": 4,
   "id": "3fd0aa6f",
   "metadata": {},
   "outputs": [
    {
     "name": "stdout",
     "output_type": "stream",
     "text": [
      "['yash mohite'] > find vowels: ['a', 'o', 'i', 'e']\n",
      "['isha suryavanshi'] > find vowels: ['i', 'a', 'u', 'a', 'a', 'i']\n"
     ]
    }
   ],
   "source": [
    "print(find_vowels([\"yash mohite\"]))\n",
    "print(find_vowels([\"isha suryavanshi\"]))"
   ]
  },
  {
   "cell_type": "code",
   "execution_count": 5,
   "id": "c4fb8885",
   "metadata": {},
   "outputs": [],
   "source": [
    "# saprate even and odd number\n",
    "\n",
    "def even_odd(number):\n",
    "    even = []\n",
    "    odd = []\n",
    "    \n",
    "    for i in number:\n",
    "        if i%2 == 0:\n",
    "            even.append(i)\n",
    "            \n",
    "        else:\n",
    "            odd.append(i)\n",
    "    return f\"even numbers: {even}  odd number: {odd}\""
   ]
  },
  {
   "cell_type": "code",
   "execution_count": 6,
   "id": "e9837af3",
   "metadata": {},
   "outputs": [
    {
     "data": {
      "text/plain": [
       "'even numbers: [2, 4, 6, 8, 10]  odd number: [1, 3, 5, 7, 9]'"
      ]
     },
     "execution_count": 6,
     "metadata": {},
     "output_type": "execute_result"
    }
   ],
   "source": [
    "even_odd([1, 2, 3, 4, 5, 6, 7, 8, 9, 10])"
   ]
  },
  {
   "cell_type": "code",
   "execution_count": 7,
   "id": "25416300",
   "metadata": {},
   "outputs": [],
   "source": [
    "#check number is positive or negative\n",
    "\n",
    "def positive_or_negative(number):\n",
    "    \n",
    "    if number > 0:\n",
    "        return (f\"{number} is positive\")\n",
    "    \n",
    "    elif number < 0:\n",
    "        return (f\"{number} is negative\")\n",
    "    \n",
    "    else:\n",
    "        return (\"number is Zero\")\n",
    "        \n",
    "    "
   ]
  },
  {
   "cell_type": "code",
   "execution_count": 8,
   "id": "973a472e",
   "metadata": {},
   "outputs": [
    {
     "name": "stdout",
     "output_type": "stream",
     "text": [
      "85 is positive\n",
      "-9 is negative\n",
      "number is Zero\n"
     ]
    }
   ],
   "source": [
    "print(positive_or_negative(85))\n",
    "print(positive_or_negative(-9))\n",
    "print(positive_or_negative(0))\n"
   ]
  },
  {
   "cell_type": "code",
   "execution_count": 9,
   "id": "39cfcc00",
   "metadata": {},
   "outputs": [],
   "source": [
    "# check number is even or odd\n",
    "\n",
    "def even_odd(num):\n",
    "    \n",
    "    if num%2 == 0:\n",
    "        return f\"{num} is even\"\n",
    "    \n",
    "    else:\n",
    "        return f\"{num} is odd\""
   ]
  },
  {
   "cell_type": "code",
   "execution_count": 10,
   "id": "947cab91",
   "metadata": {},
   "outputs": [
    {
     "name": "stdout",
     "output_type": "stream",
     "text": [
      "45 is odd\n",
      "100 is even\n",
      "0 is even\n"
     ]
    }
   ],
   "source": [
    "print(even_odd(45))\n",
    "print(even_odd(100))\n",
    "print(even_odd(0))"
   ]
  },
  {
   "cell_type": "code",
   "execution_count": 11,
   "id": "b7a0bb78",
   "metadata": {},
   "outputs": [],
   "source": [
    "#che3ck prime number\n",
    "\n",
    "def check_primenumber(num):\n",
    "    \n",
    "    flag = False\n",
    "    for i in range(2,num):\n",
    "        if num%i == 0:\n",
    "            flag = True\n",
    "            \n",
    "    if not flag:\n",
    "        return f\"{num} is prime number\"\n",
    "    else:\n",
    "        return f\"{num} is not prime number\""
   ]
  },
  {
   "cell_type": "code",
   "execution_count": 12,
   "id": "c2669c11",
   "metadata": {},
   "outputs": [
    {
     "name": "stdout",
     "output_type": "stream",
     "text": [
      "-100 is prime number\n",
      "100 is not prime number\n",
      "5 is prime number\n"
     ]
    }
   ],
   "source": [
    "print(check_primenumber(-100))\n",
    "print(check_primenumber(100))\n",
    "print(check_primenumber(5))"
   ]
  },
  {
   "cell_type": "code",
   "execution_count": 13,
   "id": "ca5cc9ef",
   "metadata": {},
   "outputs": [],
   "source": [
    "# find Factorial number\n",
    "\n",
    "def factorial(num):\n",
    "    \n",
    "    if num == 0:\n",
    "        return 1\n",
    "    \n",
    "    else:\n",
    "        return num * factorial(num-1)\n",
    "   "
   ]
  },
  {
   "cell_type": "code",
   "execution_count": 14,
   "id": "7c322bbb",
   "metadata": {},
   "outputs": [
    {
     "name": "stdout",
     "output_type": "stream",
     "text": [
      "24\n",
      "1\n",
      "5040\n",
      "6402373705728000\n"
     ]
    }
   ],
   "source": [
    "print(factorial(4))\n",
    "print(factorial(0))\n",
    "print(factorial(7))\n",
    "print(factorial(18))"
   ]
  },
  {
   "cell_type": "code",
   "execution_count": 15,
   "id": "097b2ee2",
   "metadata": {},
   "outputs": [],
   "source": [
    "# fibonaci swquence\n",
    "\n",
    "def fibonaci(number):\n",
    "    \n",
    "        if number == 0:\n",
    "            return 0\n",
    "        \n",
    "        elif number == 1:\n",
    "            return 1\n",
    "        \n",
    "        else:\n",
    "            return fibonaci(number-1)+fibonaci(number-2)"
   ]
  },
  {
   "cell_type": "code",
   "execution_count": 16,
   "id": "337b47de",
   "metadata": {},
   "outputs": [
    {
     "name": "stdout",
     "output_type": "stream",
     "text": [
      "1 1 2 3 5 8 13 21 34 55 89 144 233 377 "
     ]
    }
   ],
   "source": [
    "for i in range(1,15):\n",
    "    print(fibonaci(i),end=\" \")"
   ]
  },
  {
   "cell_type": "code",
   "execution_count": 17,
   "id": "7c0b5f14",
   "metadata": {},
   "outputs": [],
   "source": [
    "#Write a Python Program to Convert Decimal to Binary, Octal and Hexadecimal ?\n",
    "def convert(number):\n",
    "    return f\"binary number:{bin(number)}, octal number:{oct(number)}, hexadecimal number:{hex(number)}\"\n",
    "    "
   ]
  },
  {
   "cell_type": "code",
   "execution_count": 18,
   "id": "a95f43db",
   "metadata": {},
   "outputs": [
    {
     "name": "stdout",
     "output_type": "stream",
     "text": [
      "binary number:0b1101001, octal number:0o151, hexadecimal number:0x69\n",
      "binary number:0b1010, octal number:0o12, hexadecimal number:0xa\n",
      "binary number:0b10100000001000, octal number:0o24010, hexadecimal number:0x2808\n"
     ]
    }
   ],
   "source": [
    "print(convert(105))\n",
    "print(convert(10))\n",
    "print(convert(10248))"
   ]
  },
  {
   "cell_type": "code",
   "execution_count": 19,
   "id": "31ba07b2",
   "metadata": {},
   "outputs": [],
   "source": [
    "#make calculater\n",
    "\n",
    "def calculater():\n",
    "    x = int(input(\"enter number\"))\n",
    "    y = int(input(\"enter number\"))\n",
    "    operator = input(\"enter operator\")\n",
    "    \n",
    "    if operator == \"+\":\n",
    "        return x+y\n",
    "    \n",
    "    elif operator == \"-\":\n",
    "        return x-y\n",
    "    \n",
    "    elif operator == \"*\":\n",
    "        return x*y\n",
    "    \n",
    "    elif operator == \"/\":\n",
    "        return x/y\n",
    "    \n",
    "    elif operator == \"%\":\n",
    "        return x%y\n",
    "    \n",
    "    else:\n",
    "        return \"invalid operator\"\n",
    "    "
   ]
  },
  {
   "cell_type": "code",
   "execution_count": 20,
   "id": "bee94515",
   "metadata": {},
   "outputs": [
    {
     "name": "stdout",
     "output_type": "stream",
     "text": [
      "enter number789\n",
      "enter number124\n",
      "enter operator/\n"
     ]
    },
    {
     "data": {
      "text/plain": [
       "6.362903225806452"
      ]
     },
     "execution_count": 20,
     "metadata": {},
     "output_type": "execute_result"
    }
   ],
   "source": [
    "calculater()"
   ]
  },
  {
   "cell_type": "code",
   "execution_count": 21,
   "id": "68aa6227",
   "metadata": {},
   "outputs": [],
   "source": [
    "#print fibonaci\n",
    "\n",
    "def genfibonacci(number):\n",
    "    \n",
    "    if number == 0:\n",
    "        return 0\n",
    "    \n",
    "    elif number == 1:\n",
    "        return 1\n",
    "    \n",
    "    else:\n",
    "        return genfibonacci(number-1) + genfibonacci(number-2)"
   ]
  },
  {
   "cell_type": "code",
   "execution_count": 22,
   "id": "d4c13267",
   "metadata": {},
   "outputs": [
    {
     "name": "stdout",
     "output_type": "stream",
     "text": [
      "0,1,1,2,3,5,8,13,21,34,55,89,144,233,"
     ]
    }
   ],
   "source": [
    "for i in range(14):\n",
    "    print(genfibonacci(i),end=\",\")\n",
    " "
   ]
  },
  {
   "cell_type": "code",
   "execution_count": 23,
   "id": "076a3f3d",
   "metadata": {},
   "outputs": [],
   "source": [
    "# find factorial\n",
    "\n",
    "def factorial_x(num):\n",
    "    \n",
    "    if num == 1:\n",
    "        return 1\n",
    "    \n",
    "    else: \n",
    "        return num * factorial_x(num-1)"
   ]
  },
  {
   "cell_type": "code",
   "execution_count": 24,
   "id": "8bb5b03c",
   "metadata": {},
   "outputs": [
    {
     "name": "stdout",
     "output_type": "stream",
     "text": [
      "40320\n",
      "362880\n",
      "2432902008176640000\n",
      "6402373705728000\n"
     ]
    }
   ],
   "source": [
    "print(factorial_x(8))\n",
    "print(factorial_x(9))\n",
    "print(factorial_x(20))\n",
    "print(factorial_x(18))"
   ]
  },
  {
   "cell_type": "code",
   "execution_count": 25,
   "id": "b805ae92",
   "metadata": {},
   "outputs": [],
   "source": [
    "# Python Program to find sum of Array\n",
    "\n",
    "def sum_array(lst):\n",
    "    return sum(lst)"
   ]
  },
  {
   "cell_type": "code",
   "execution_count": 26,
   "id": "2d57b680",
   "metadata": {},
   "outputs": [
    {
     "name": "stdout",
     "output_type": "stream",
     "text": [
      "39\n",
      "153\n",
      "692\n"
     ]
    }
   ],
   "source": [
    "print(sum_array([1,2,3,4,5,7,8,9,0]))\n",
    "print(sum_array([10,20,45,78,]))\n",
    "print(sum_array([100,500,78,14]))\n",
    "    \n",
    "    \n",
    "    "
   ]
  },
  {
   "cell_type": "code",
   "execution_count": 27,
   "id": "285ebd0e",
   "metadata": {},
   "outputs": [],
   "source": [
    "#Python Program to find Largest element in an Array ?\n",
    "\n",
    "def MAX_array(lst):\n",
    "    return f\"{lst} > {max(lst)}\" "
   ]
  },
  {
   "cell_type": "code",
   "execution_count": 28,
   "id": "2538c36e",
   "metadata": {},
   "outputs": [
    {
     "name": "stdout",
     "output_type": "stream",
     "text": [
      "[100, 500, 78, 14] > 500\n",
      "[10, 20, 45, 78] > 78\n",
      "[1, 2, 3, 4, 5, 7, 8, 9, 0] > 9\n"
     ]
    }
   ],
   "source": [
    "print(MAX_array([100,500,78,14]))\n",
    "print(MAX_array([10,20,45,78,]))\n",
    "print(MAX_array([1,2,3,4,5,7,8,9,0]))\n",
    "\n"
   ]
  },
  {
   "cell_type": "code",
   "execution_count": 29,
   "id": "767a2821",
   "metadata": {},
   "outputs": [],
   "source": [
    "def split_array(arr,n):\n",
    "    first_part = arr[:n]\n",
    "    second_part = arr[n:]\n",
    "    \n",
    "    return second_part + first_part"
   ]
  },
  {
   "cell_type": "code",
   "execution_count": 30,
   "id": "1d464a52",
   "metadata": {},
   "outputs": [
    {
     "name": "stdout",
     "output_type": "stream",
     "text": [
      "[5, 4, 7, 8, 1, 2]\n",
      "[7, 8, 1, 2, 5, 4]\n",
      "[2, 5, 4, 7, 8, 1]\n"
     ]
    }
   ],
   "source": [
    "print(split_array([1,2,5,4,7,8,],2))\n",
    "print(split_array([1,2,5,4,7,8,],4))\n",
    "print(split_array([1,2,5,4,7,8,],1))\n"
   ]
  },
  {
   "cell_type": "code",
   "execution_count": 31,
   "id": "78e68731",
   "metadata": {},
   "outputs": [
    {
     "name": "stdout",
     "output_type": "stream",
     "text": [
      "[10, 10, 10, 0]\n",
      "[11, 13, 15, 0]\n",
      "[4, 8, 12, 0]\n"
     ]
    }
   ],
   "source": [
    "# add two matrix\n",
    "\n",
    "x = [[1,2,3,5],\n",
    "    [7,8,9,4],\n",
    "    [2,7,9,6]]\n",
    "\n",
    "y = [[9,8,7,4],\n",
    "    [4,5,6,1],\n",
    "    [2,1,3,5]]\n",
    "\n",
    "result = [[0,0,0,0],\n",
    "         [0,0,0,0],\n",
    "         [0,0,0,0]]\n",
    "\n",
    "for i in range(len(x)):\n",
    "    for j in range(len(y)):\n",
    "        result[i][j] = x[i][j] + y[i][j]\n",
    "        \n",
    "for i in result:\n",
    "    print(i)"
   ]
  },
  {
   "cell_type": "code",
   "execution_count": 32,
   "id": "418fcebe",
   "metadata": {},
   "outputs": [
    {
     "name": "stdout",
     "output_type": "stream",
     "text": [
      "[9, 16, 21, 0]\n",
      "[28, 40, 54, 0]\n",
      "[4, 7, 27, 0]\n"
     ]
    }
   ],
   "source": [
    "# multiply two matrix\n",
    "\n",
    "x = [[1,2,3,5],\n",
    "    [7,8,9,4],\n",
    "    [2,7,9,6]]\n",
    "\n",
    "y = [[9,8,7,4],\n",
    "    [4,5,6,1],\n",
    "    [2,1,3,5]]\n",
    "\n",
    "result = [[0,0,0,0],\n",
    "         [0,0,0,0],\n",
    "         [0,0,0,0]]\n",
    "\n",
    "for i in range(len(x)):\n",
    "    for j in range(len(y)):\n",
    "        result[i][j] = x[i][j] * y[i][j]\n",
    "        \n",
    "for i in result:\n",
    "    print(i)"
   ]
  },
  {
   "cell_type": "code",
   "execution_count": 33,
   "id": "67802545",
   "metadata": {},
   "outputs": [],
   "source": [
    "def sort_wordes(string):\n",
    "    s = string.split(\" \")\n",
    "    \n",
    "    for i in range(len(s)):\n",
    "        so = sorted(s)\n",
    "        return \" \".join(so)\n",
    "        \n",
    "            \n",
    "        "
   ]
  },
  {
   "cell_type": "code",
   "execution_count": 34,
   "id": "bcf0bb05",
   "metadata": {},
   "outputs": [
    {
     "name": "stdout",
     "output_type": "stream",
     "text": [
      "brown dog fox jumps lazy over quick the the\n",
      "a boy good is mohite yash\n",
      "a am and god i is madarchoad me okay this\n"
     ]
    }
   ],
   "source": [
    "print(sort_wordes(\"the Quick brown fox jumPs over the lazY Dog\".lower()))\n",
    "print(sort_wordes(\"yash mohite is a good boy\".lower()))\n",
    "print(sort_wordes(\"this is me and i am a god okay madarchoad\".lower()))"
   ]
  },
  {
   "cell_type": "code",
   "execution_count": 35,
   "id": "01bf3cad",
   "metadata": {},
   "outputs": [],
   "source": [
    "# Python Program to remove Punctuations From a String \n",
    "import string\n",
    "def remove_punc(s):\n",
    "    \n",
    "    remove = str.maketrans(\"\",\"\",string.punctuation)\n",
    "    no_p = s.translate(remove)\n",
    "    return no_p       "
   ]
  },
  {
   "cell_type": "code",
   "execution_count": 36,
   "id": "f366773e",
   "metadata": {},
   "outputs": [
    {
     "name": "stdout",
     "output_type": "stream",
     "text": [
      "yashmohite\n",
      "Hello How are you today good\n"
     ]
    }
   ],
   "source": [
    "print(remove_punc(\"!@#$yash$@mohite\"))\n",
    "print(remove_punc(\"Hello! How are you today? #good\"))"
   ]
  },
  {
   "cell_type": "code",
   "execution_count": 37,
   "id": "dd83bc03",
   "metadata": {},
   "outputs": [],
   "source": [
    "\n",
    "#Python Program to find sum of elements in a list ?\n",
    "def find_sum(lst):\n",
    "    n = 0\n",
    "    for i in lst:\n",
    "        if type(i) == int:\n",
    "             n = i+n\n",
    "    return f\"{lst} > {n}\"\n",
    "            \n",
    "    "
   ]
  },
  {
   "cell_type": "code",
   "execution_count": 38,
   "id": "b22bc5d3",
   "metadata": {},
   "outputs": [
    {
     "name": "stdout",
     "output_type": "stream",
     "text": [
      "[1, 2, 3, 4, 5] > 15\n",
      "[4, 7, 88, 4, 5, 97, 1, 2] > 208\n"
     ]
    }
   ],
   "source": [
    "print(find_sum([1,2,3,4,5]))\n",
    "print(find_sum([4,7,88,4,5,97,1,2]))\n"
   ]
  },
  {
   "cell_type": "code",
   "execution_count": 39,
   "id": "52579c94",
   "metadata": {},
   "outputs": [],
   "source": [
    "# Python Program to multiply all numbers in the list ?\n",
    "\n",
    "def find_multi(lst):\n",
    "    n = 1\n",
    "    \n",
    "    for i in lst:\n",
    "        if type(i) == int:\n",
    "            n = i*n\n",
    "    return  f\"{lst} > {n}\""
   ]
  },
  {
   "cell_type": "code",
   "execution_count": 40,
   "id": "dbf55caf",
   "metadata": {},
   "outputs": [
    {
     "name": "stdout",
     "output_type": "stream",
     "text": [
      "[1, 2, 3, 4, 5] > 120\n",
      "[4, 7, 88, 4, 5, 97, 1, 2] > 9560320\n"
     ]
    }
   ],
   "source": [
    "print(find_multi([1,2,3,4,5]))\n",
    "print(find_multi([4,7,88,4,5,97,1,2]))"
   ]
  },
  {
   "cell_type": "code",
   "execution_count": 41,
   "id": "271f7adb",
   "metadata": {},
   "outputs": [],
   "source": [
    "def find_smallest_number(lst):\n",
    "    return f\"{lst} > {min(lst)}\""
   ]
  },
  {
   "cell_type": "code",
   "execution_count": 42,
   "id": "55ef8dd3",
   "metadata": {},
   "outputs": [
    {
     "name": "stdout",
     "output_type": "stream",
     "text": [
      "[1, 2, 3, 4, 5] > 1\n",
      "[4, 7, 88, 4, 5, 97, 2] > 2\n"
     ]
    }
   ],
   "source": [
    "print(find_smallest_number([1,2,3,4,5]))\n",
    "print(find_smallest_number([4,7,88,4,5,97,2]))"
   ]
  },
  {
   "cell_type": "code",
   "execution_count": 43,
   "id": "dd85787e",
   "metadata": {},
   "outputs": [],
   "source": [
    "def find_largest_number(lst):\n",
    "    return f\"{lst} > {max(lst)}\""
   ]
  },
  {
   "cell_type": "code",
   "execution_count": 44,
   "id": "71b964f3",
   "metadata": {},
   "outputs": [
    {
     "name": "stdout",
     "output_type": "stream",
     "text": [
      "[1, 2, 3, 4, 5] > 5\n",
      "[4, 7, 88, 4, 5, 97, 2] > 97\n"
     ]
    }
   ],
   "source": [
    "print(find_largest_number([1,2,3,4,5]))\n",
    "print(find_largest_number([4,7,88,4,5,97,2]))"
   ]
  },
  {
   "cell_type": "code",
   "execution_count": 45,
   "id": "bc88566d",
   "metadata": {},
   "outputs": [],
   "source": [
    "#find even number\n",
    "\n",
    "def find_even(lst):\n",
    "    l = []\n",
    "    for i in lst:\n",
    "        if i%2 == 0:\n",
    "            l.append(i)\n",
    "    return f\"{lst} > even numbers:{l}\""
   ]
  },
  {
   "cell_type": "code",
   "execution_count": 46,
   "id": "7573b195",
   "metadata": {},
   "outputs": [
    {
     "data": {
      "text/plain": [
       "'[99, 100, 478, 12, 99, 88, 222, 45, 60, 98] > even numbers:[100, 478, 12, 88, 222, 60, 98]'"
      ]
     },
     "execution_count": 46,
     "metadata": {},
     "output_type": "execute_result"
    }
   ],
   "source": [
    "find_even([99,100,478,12,99,88,222,45,60,98])"
   ]
  },
  {
   "cell_type": "code",
   "execution_count": 47,
   "id": "061e5d36",
   "metadata": {},
   "outputs": [],
   "source": [
    "## Python Program to find N largest elements in the list ?\n",
    "\n",
    "def n_largest_number(num,n):\n",
    "    num.sort(reverse=True)\n",
    "    return f\"{num} > largest number in list:{num[:n]}\""
   ]
  },
  {
   "cell_type": "code",
   "execution_count": 48,
   "id": "b4f05334",
   "metadata": {},
   "outputs": [
    {
     "data": {
      "text/plain": [
       "'[478, 222, 100, 99, 99, 98, 88, 60, 45, 12] > largest number in list:[478, 222, 100, 99]'"
      ]
     },
     "execution_count": 48,
     "metadata": {},
     "output_type": "execute_result"
    }
   ],
   "source": [
    "n_largest_number([99,100,478,12,99,88,222,45,60,98],4)"
   ]
  },
  {
   "cell_type": "code",
   "execution_count": 49,
   "id": "606be7e7",
   "metadata": {},
   "outputs": [],
   "source": [
    "# find odd\n",
    "def find_odd(lst):\n",
    "    l = []\n",
    "    for i in lst:\n",
    "        if i%2 != 0:\n",
    "            l.append(i)\n",
    "    return f\"{lst} > odd numbers:{l}\""
   ]
  },
  {
   "cell_type": "code",
   "execution_count": 50,
   "id": "cbea7ce9",
   "metadata": {},
   "outputs": [
    {
     "data": {
      "text/plain": [
       "'[99, 100, 478, 12, 99, 88, 222, 45, 60, 98] > odd numbers:[99, 99, 45]'"
      ]
     },
     "execution_count": 50,
     "metadata": {},
     "output_type": "execute_result"
    }
   ],
   "source": [
    "find_odd([99,100,478,12,99,88,222,45,60,98])"
   ]
  },
  {
   "cell_type": "code",
   "execution_count": 51,
   "id": "80b238a8",
   "metadata": {},
   "outputs": [],
   "source": [
    "#Write a Python Program to count occurences of an element in a list ?\n",
    "\n",
    "def repitation(lst):\n",
    "    \n",
    "    for i in lst:\n",
    "        if lst.count(i) > 1:\n",
    "            r = print(\"repited number\",i,end=\" \")\n",
    "    return r"
   ]
  },
  {
   "cell_type": "code",
   "execution_count": 52,
   "id": "206805ae",
   "metadata": {},
   "outputs": [
    {
     "name": "stdout",
     "output_type": "stream",
     "text": [
      "repited number 6 repited number 7 repited number 8 repited number 1 repited number 1 repited number 1 repited number 1 repited number 5 repited number 5 repited number 5 repited number 7 repited number 7 repited number 8 repited number 8 repited number 6 "
     ]
    }
   ],
   "source": [
    "repitation([111,2,3,6,555,4,7,8,1,1,1,1,5,5,5,7,7,8,8,9,6,33,32])"
   ]
  },
  {
   "cell_type": "code",
   "execution_count": 53,
   "id": "318a4a55",
   "metadata": {},
   "outputs": [],
   "source": [
    "#generat array\n",
    "\n",
    "def gen_array(x,y):\n",
    "    array = []\n",
    "    \n",
    "    for i in range(x):\n",
    "        row = []\n",
    "        \n",
    "        for j in range(y):\n",
    "            row.append(i*j)\n",
    "        array.append(row)\n",
    "    return array"
   ]
  },
  {
   "cell_type": "code",
   "execution_count": 54,
   "id": "3b752244",
   "metadata": {},
   "outputs": [
    {
     "data": {
      "text/plain": [
       "[[0, 0, 0, 0],\n",
       " [0, 1, 2, 3],\n",
       " [0, 2, 4, 6],\n",
       " [0, 3, 6, 9],\n",
       " [0, 4, 8, 12],\n",
       " [0, 5, 10, 15],\n",
       " [0, 6, 12, 18],\n",
       " [0, 7, 14, 21]]"
      ]
     },
     "execution_count": 54,
     "metadata": {},
     "output_type": "execute_result"
    }
   ],
   "source": [
    "gen_array(8,4)"
   ]
  },
  {
   "cell_type": "code",
   "execution_count": 55,
   "id": "2d0c356c",
   "metadata": {},
   "outputs": [],
   "source": [
    "#sorting given string by comma\n",
    "\n",
    "def sortingString(string):\n",
    "    outpur = \",\".join(sorted(string.split(\",\")))\n",
    "    return outpur"
   ]
  },
  {
   "cell_type": "code",
   "execution_count": 56,
   "id": "fc6d98c9",
   "metadata": {},
   "outputs": [
    {
     "name": "stdout",
     "output_type": "stream",
     "text": [
      "bag,hello,without,world\n",
      "after,alphabetically,sequence,sorting,them\n"
     ]
    }
   ],
   "source": [
    "print(sortingString(\"without,hello,bag,world\"))\n",
    "print(sortingString(\"sequence,after,sorting,them,alphabetically\"))"
   ]
  },
  {
   "cell_type": "code",
   "execution_count": 57,
   "id": "d73cc868",
   "metadata": {},
   "outputs": [],
   "source": [
    "def removesortString(string):\n",
    "    \n",
    "    output = \" \".join(sorted(set(string.split(\" \"))))\n",
    "    return output"
   ]
  },
  {
   "cell_type": "code",
   "execution_count": 58,
   "id": "3c41edbe",
   "metadata": {},
   "outputs": [
    {
     "name": "stdout",
     "output_type": "stream",
     "text": [
      "again and hello makes perfect practice world\n",
      "all alphanumerically and duplicate sorting them words\n"
     ]
    }
   ],
   "source": [
    "print(removesortString(\"hello world and practice makes perfect and hello world again\"))\n",
    "print(removesortString(\"all duplicate words and sorting them alphanumerically\"))"
   ]
  },
  {
   "cell_type": "code",
   "execution_count": 59,
   "id": "30d634bf",
   "metadata": {},
   "outputs": [],
   "source": [
    "def calculate_str(string):\n",
    "    \n",
    "    l = 0\n",
    "    d = 0\n",
    "    \n",
    "    for i in string:\n",
    "        if i.isalpha():\n",
    "            l=l+1\n",
    "        if i.isdigit():\n",
    "            d=d+1\n",
    "    return f\"LETTERS:{l} \\n DIGITS:{d}\"\n"
   ]
  },
  {
   "cell_type": "code",
   "execution_count": 60,
   "id": "17c7caae",
   "metadata": {},
   "outputs": [
    {
     "name": "stdout",
     "output_type": "stream",
     "text": [
      "LETTERS:10 \n",
      " DIGITS:3\n",
      "LETTERS:38 \n",
      " DIGITS:6\n",
      "LETTERS:10 \n",
      " DIGITS:4\n"
     ]
    }
   ],
   "source": [
    "print(calculate_str(\"hello world! 123\"))\n",
    "print(calculate_str(\"again and hello makes perfect practice world 147895\"))\n",
    "print(calculate_str(\"yash mohite1418\"))"
   ]
  },
  {
   "cell_type": "code",
   "execution_count": 61,
   "id": "bbeb0e90",
   "metadata": {},
   "outputs": [],
   "source": [
    "#generat sentence\n",
    "def gen(a,b,c):\n",
    "    \n",
    "    for i in a:\n",
    "        for j in b:\n",
    "            for k in c:\n",
    "                return f\"{i} {j} {k}\" "
   ]
  },
  {
   "cell_type": "code",
   "execution_count": 62,
   "id": "2c8a44a5",
   "metadata": {},
   "outputs": [
    {
     "name": "stdout",
     "output_type": "stream",
     "text": [
      "I Play Hockey\n"
     ]
    }
   ],
   "source": [
    "print(gen(['I','You'],['Play','Love'],['Hockey','Football']))"
   ]
  },
  {
   "cell_type": "code",
   "execution_count": 63,
   "id": "bf0a2bb3",
   "metadata": {},
   "outputs": [],
   "source": [
    "#generat division by 5 and 7 \n",
    "def showDivision(num):\n",
    "    \n",
    "    for i in range(0,num):\n",
    "        if i%5 == 0 and i%7 == 0:\n",
    "            yield i"
   ]
  },
  {
   "cell_type": "code",
   "execution_count": 64,
   "id": "20425ed3",
   "metadata": {},
   "outputs": [
    {
     "name": "stdout",
     "output_type": "stream",
     "text": [
      "0 35 70 "
     ]
    }
   ],
   "source": [
    "for i in showDivision(100):\n",
    "    print(i,end=\" \")"
   ]
  },
  {
   "cell_type": "code",
   "execution_count": 65,
   "id": "7297b377",
   "metadata": {},
   "outputs": [],
   "source": [
    "#generat even number \n",
    "def generat_even(num):\n",
    "    for i in range(0,num):\n",
    "        if i%2 == 0:\n",
    "            yield i"
   ]
  },
  {
   "cell_type": "code",
   "execution_count": 66,
   "id": "6b919913",
   "metadata": {},
   "outputs": [
    {
     "name": "stdout",
     "output_type": "stream",
     "text": [
      "0 2 4 6 8 10 12 14 16 18 20 "
     ]
    }
   ],
   "source": [
    "for i in generat_even(22):\n",
    "    print(i,end=\" \")"
   ]
  },
  {
   "cell_type": "code",
   "execution_count": 67,
   "id": "a1021583",
   "metadata": {},
   "outputs": [],
   "source": [
    "# generat fibonacci\n",
    "\n",
    "def fibo(number):\n",
    "    if number == 0:\n",
    "        return 0\n",
    "    \n",
    "    elif number == 1:\n",
    "        return 1\n",
    "    \n",
    "    else:\n",
    "        return fibo(number - 1) + fibo(number - 2)"
   ]
  },
  {
   "cell_type": "code",
   "execution_count": 68,
   "id": "d7b9153c",
   "metadata": {},
   "outputs": [
    {
     "name": "stdout",
     "output_type": "stream",
     "text": [
      "1 1 2 3 5 8 13 21 34 55 "
     ]
    }
   ],
   "source": [
    "for i in range(1,11):\n",
    "    print(fibo(i),end = \" \")\n",
    "    "
   ]
  },
  {
   "cell_type": "code",
   "execution_count": 69,
   "id": "616faf7f",
   "metadata": {},
   "outputs": [],
   "source": [
    "# saparate name from email\n",
    "\n",
    "def saprate_email(string):\n",
    "    output = string.split(\"@\")\n",
    "    return f\"{string} > username: {output[0]}\"    "
   ]
  },
  {
   "cell_type": "code",
   "execution_count": 70,
   "id": "d704a699",
   "metadata": {},
   "outputs": [
    {
     "name": "stdout",
     "output_type": "stream",
     "text": [
      "mohite.yassh@gmail.com > username: mohite.yassh\n",
      "ishasurivanshi@gmil.com > username: ishasurivanshi\n",
      "john@google.com > username: john\n"
     ]
    }
   ],
   "source": [
    "print(saprate_email(\"mohite.yassh@gmail.com\"))\n",
    "print(saprate_email(\"ishasurivanshi@gmil.com\"))\n",
    "print(saprate_email(\"john@google.com\"))"
   ]
  },
  {
   "cell_type": "code",
   "execution_count": 71,
   "id": "6ac3730d",
   "metadata": {},
   "outputs": [],
   "source": [
    "# creat function give  \"in... in... incredible?\" string\n",
    "def stutter_words(string):\n",
    "    output = string.replace(string[:2],((string[:2]+\"...\")*2) + string[:2])+\"?\"\n",
    "    return f\"{string} > {output}\"\n"
   ]
  },
  {
   "cell_type": "code",
   "execution_count": 72,
   "id": "99d7d898",
   "metadata": {},
   "outputs": [
    {
     "name": "stdout",
     "output_type": "stream",
     "text": [
      "incredible > in...in...incredible?\n",
      "outstanding > ou...ou...outstanding?\n",
      "isha > is...is...isha?\n"
     ]
    }
   ],
   "source": [
    "print(stutter_words(\"incredible\"))\n",
    "print(stutter_words(\"outstanding\"))\n",
    "print(stutter_words(\"isha\"))"
   ]
  },
  {
   "cell_type": "code",
   "execution_count": 73,
   "id": "f74d40af",
   "metadata": {},
   "outputs": [],
   "source": [
    "# convert binary number\n",
    "def get_binary(num):\n",
    "    output = bin(num)[2:] #replace(\"0b\",\"\")\n",
    "    return f\"binary of:{num} > {output}\""
   ]
  },
  {
   "cell_type": "code",
   "execution_count": 74,
   "id": "d186090d",
   "metadata": {},
   "outputs": [
    {
     "name": "stdout",
     "output_type": "stream",
     "text": [
      "binary of:5 > 101\n",
      "binary of:2 > 10\n",
      "binary of:1418 > 10110001010\n"
     ]
    }
   ],
   "source": [
    "print(get_binary(5))\n",
    "print(get_binary(2))\n",
    "print(get_binary(1418))"
   ]
  },
  {
   "cell_type": "code",
   "execution_count": 75,
   "id": "d2e14306",
   "metadata": {},
   "outputs": [],
   "source": [
    "#Examples: evenly_divisible(1, 10, 20) ➞ 0 # No number between 1 and 10 can be evenly divided by 20. evenly_divisible(1, 10, 2) ➞ 30 # 2 + 4 + 6 + 8 + 10 = 30 .,\n",
    "#evenly_divisible(1, 10, 3) ➞ 18 # 3 + 6 + 9 = 18\n",
    "def evenlyDivisible(a,b,c):\n",
    "    output = []\n",
    "    \n",
    "    for i in range(a,b):\n",
    "        if i%c ==0:\n",
    "            output.append(i)\n",
    "    return f\"{a,b,c} > {sum(output)}\""
   ]
  },
  {
   "cell_type": "code",
   "execution_count": 76,
   "id": "197b27c7",
   "metadata": {},
   "outputs": [
    {
     "name": "stdout",
     "output_type": "stream",
     "text": [
      "(1, 200, 10) > 1900\n",
      "(1, 10, 3) > 18\n",
      "(1, 10, 2) > 20\n",
      "(1, 48, 6) > 168\n"
     ]
    }
   ],
   "source": [
    "print(evenlyDivisible(1,200,10))\n",
    "print(evenlyDivisible(1,10,3))\n",
    "print(evenlyDivisible(1,10,2))\n",
    "print(evenlyDivisible(1,48,6))"
   ]
  },
  {
   "cell_type": "code",
   "execution_count": 77,
   "id": "9fd99ef7",
   "metadata": {},
   "outputs": [],
   "source": [
    "#Examples: correct_signs(\"3 < 7 < 11\") ➞ True correct_signs(\"13 > 44 > 33 > 1\") \n",
    "#➞ False correct_signs(\"1 < 2 < 6 < 9 > 3\") ➞ True\n",
    "def correct_Signs(num):\n",
    "    output = eval(num)\n",
    "    return f\"{num} > {output}\""
   ]
  },
  {
   "cell_type": "code",
   "execution_count": 78,
   "id": "63874f02",
   "metadata": {},
   "outputs": [
    {
     "name": "stdout",
     "output_type": "stream",
     "text": [
      "3<7<11 > True\n",
      "13 > 44 > 33 > 1 > False\n",
      "1 < 2 < 6 < 9 > 3 > True\n"
     ]
    }
   ],
   "source": [
    "print(correct_Signs(\"3<7<11\"))\n",
    "print(correct_Signs(\"13 > 44 > 33 > 1\"))\n",
    "print(correct_Signs(\"1 < 2 < 6 < 9 > 3\"))"
   ]
  },
  {
   "cell_type": "code",
   "execution_count": 79,
   "id": "f276f6d0",
   "metadata": {},
   "outputs": [],
   "source": [
    "# a function that replaces all the vowels in a string with a specified \n",
    "#character ?\n",
    "\n",
    "def replaceVowels(string,r):\n",
    "    vowels = [\"a\",\"e\",\"i\",\"o\",\"u\"]\n",
    "    for i in string:\n",
    "        if i in vowels:\n",
    "            string = string.replace(i,r)\n",
    "    return f\"Vowels replace by special character: {string}: {r}\"\n",
    "    "
   ]
  },
  {
   "cell_type": "code",
   "execution_count": 80,
   "id": "134499b1",
   "metadata": {},
   "outputs": [
    {
     "name": "stdout",
     "output_type": "stream",
     "text": [
      "Vowels replace by special character: th# ##rdv#rk: #\n",
      "Vowels replace by special character: m?nn?? m??s?: ?\n",
      "Vowels replace by special character: sh*k*sp**r*: *\n",
      "Vowels replace by special character: y$sh m$h$t$: $\n"
     ]
    }
   ],
   "source": [
    "print(replaceVowels(\"the aardvark\",\"#\"))\n",
    "print(replaceVowels(\"minnie mouse\",\"?\"))\n",
    "print(replaceVowels(\"shakespeare\",\"*\"))\n",
    "print(replaceVowels(\"yash mohite\",\"$\"))\n"
   ]
  },
  {
   "cell_type": "code",
   "execution_count": 81,
   "id": "41b3cad3",
   "metadata": {},
   "outputs": [],
   "source": [
    "#filter list in to int\n",
    "\n",
    "def filter_list(lst):\n",
    "    output = []\n",
    "    \n",
    "    for i in lst:\n",
    "        if type(i) == int and i >=0:\n",
    "            output.append(i)\n",
    "    return f\"{lst} > {output}\""
   ]
  },
  {
   "cell_type": "code",
   "execution_count": 82,
   "id": "a7c45325",
   "metadata": {},
   "outputs": [
    {
     "name": "stdout",
     "output_type": "stream",
     "text": [
      "[1, 2, 'a', 'b'] > [1, 2]\n",
      "[1, 'a', 'b', 0, 15] > [1, 0, 15]\n",
      "[1, 2, 'aasf', '1', '123', 123] > [1, 2, 123]\n",
      "['yash', 1, 2, 3, 0, 4, -47] > [1, 2, 3, 0, 4]\n"
     ]
    }
   ],
   "source": [
    "print(filter_list([1, 2, \"a\", \"b\"]))\n",
    "print(filter_list([1, \"a\", \"b\", 0, 15]))\n",
    "print(filter_list([1, 2, \"aasf\", \"1\", \"123\", 123]))\n",
    "print(filter_list([\"yash\",1,2,3,0,4,-47]))\n"
   ]
  },
  {
   "cell_type": "code",
   "execution_count": 83,
   "id": "1c7678bf",
   "metadata": {},
   "outputs": [],
   "source": [
    "# take string give reversed and oposite case\n",
    "\n",
    "def reverse(string):\n",
    "    output = string[::-1].swapcase()\n",
    "    return f\"{string} > {output}\""
   ]
  },
  {
   "cell_type": "code",
   "execution_count": 84,
   "id": "d787725d",
   "metadata": {},
   "outputs": [
    {
     "name": "stdout",
     "output_type": "stream",
     "text": [
      "Hello World > DLROw OLLEh\n",
      "ReVeRsE > eSrEvEr\n",
      "Radar > RADAr\n",
      "malayalam > MALAYALAM\n"
     ]
    }
   ],
   "source": [
    "print(reverse(\"Hello World\"))\n",
    "print(reverse(\"ReVeRsE\"))\n",
    "print(reverse(\"Radar\"))\n",
    "print(reverse(\"malayalam\"))"
   ]
  },
  {
   "cell_type": "code",
   "execution_count": 85,
   "id": "5f399302",
   "metadata": {},
   "outputs": [],
   "source": [
    "# move one type emement to end\n",
    "\n",
    "def move_to_end(lst,n):\n",
    "    firstend = []\n",
    "    secondend = []\n",
    "    \n",
    "    for i in lst:\n",
    "        if i == n:\n",
    "            secondend.append(i)\n",
    "            \n",
    "        else:\n",
    "            firstend.append(i)\n",
    "    firstend.extend(secondend)\n",
    "    return f\"{lst} > {firstend}\""
   ]
  },
  {
   "cell_type": "code",
   "execution_count": 86,
   "id": "2453a567",
   "metadata": {},
   "outputs": [
    {
     "name": "stdout",
     "output_type": "stream",
     "text": [
      "[1, 3, 2, 4, 4, 1] > [3, 2, 4, 4, 1, 1]\n",
      "[1, 4, 4, 7, 8, 8, 9, 9, 5, 4, 22, 2] > [1, 4, 4, 7, 8, 8, 5, 4, 22, 2, 9, 9]\n",
      "['a', 'a', 'a', 'b'] > ['b', 'a', 'a', 'a']\n"
     ]
    }
   ],
   "source": [
    "print(move_to_end([1, 3, 2, 4, 4, 1], 1))\n",
    "print(move_to_end([1,4,4,7,8,8,9,9,5,4,22,2], 9))\n",
    "print(move_to_end([\"a\", \"a\", \"a\", \"b\"], \"a\" ))"
   ]
  },
  {
   "cell_type": "code",
   "execution_count": 87,
   "id": "cc2c34ed",
   "metadata": {},
   "outputs": [],
   "source": [
    "#reapited character\n",
    "\n",
    "def double_char(s):\n",
    "    output = \" \"\n",
    "    \n",
    "    for i in s:\n",
    "        output +=i*2\n",
    "\n",
    "    return f\"{s} > {output}\"\n"
   ]
  },
  {
   "cell_type": "code",
   "execution_count": 88,
   "id": "728095f6",
   "metadata": {},
   "outputs": [
    {
     "name": "stdout",
     "output_type": "stream",
     "text": [
      "string >  ssttrriinngg\n",
      "yash mohite >  yyaasshh  mmoohhiittee\n",
      "12336547_ >  1122333366554477__\n"
     ]
    }
   ],
   "source": [
    "print(double_char(\"string\"))\n",
    "print(double_char(\"yash mohite\"))\n",
    "print(double_char(\"12336547_\"))"
   ]
  },
  {
   "cell_type": "code",
   "execution_count": 89,
   "id": "637344e8",
   "metadata": {},
   "outputs": [],
   "source": [
    "# show the capital index\n",
    "\n",
    "def index_of_cap(string):\n",
    "    output = []\n",
    "    for i in string:\n",
    "        if i.isupper():\n",
    "            output.append(string.index(i))\n",
    "    return f\"{string} > {output}\""
   ]
  },
  {
   "cell_type": "code",
   "execution_count": 90,
   "id": "7a3697a4",
   "metadata": {},
   "outputs": [
    {
     "name": "stdout",
     "output_type": "stream",
     "text": [
      "Yash MOhite > [0, 5, 6]\n",
      "eDaBiT > [1, 3, 5]\n",
      "eQuINoX > [1, 3, 4, 6]\n"
     ]
    }
   ],
   "source": [
    "print(index_of_cap(\"Yash MOhite\"))\n",
    "print(index_of_cap(\"eDaBiT\"))\n",
    "print(index_of_cap(\"eQuINoX\"))"
   ]
  },
  {
   "cell_type": "code",
   "execution_count": 91,
   "id": "e77a170e",
   "metadata": {},
   "outputs": [],
   "source": [
    "# filter list from given list\n",
    "\n",
    "def filter_list(lst):\n",
    "    output = []\n",
    "    \n",
    "    for i in lst:\n",
    "        if type(i) == int:\n",
    "            output.append(i)\n",
    "    return f\"{lst} > {output}\""
   ]
  },
  {
   "cell_type": "code",
   "execution_count": 92,
   "id": "6bbcf02b",
   "metadata": {},
   "outputs": [
    {
     "name": "stdout",
     "output_type": "stream",
     "text": [
      "[1, 2, 3, 'a', 'b', 4] > [1, 2, 3, 4]\n",
      "['A', 0, 'Edabit', 1729, 'Python', '1729'] > [0, 1729]\n",
      "[1, 2, 3, 'yahs', 1478] > [1, 2, 3, 1478]\n"
     ]
    }
   ],
   "source": [
    "print(filter_list([1, 2, 3, \"a\", \"b\", 4]))\n",
    "print(filter_list([\"A\", 0, \"Edabit\", 1729, \"Python\", \"1729\"]))\n",
    "print(filter_list([1, 2, 3,\"yahs\",1478]))"
   ]
  },
  {
   "cell_type": "code",
   "execution_count": 93,
   "id": "8e3731a5",
   "metadata": {},
   "outputs": [],
   "source": [
    "#give index of lst\n",
    "\n",
    "def add_index(lst):\n",
    "    output = []\n",
    "    \n",
    "    for i in range(len(lst)):\n",
    "        output.append(i+lst[i])\n",
    "    return f\"{lst} > {output}\""
   ]
  },
  {
   "cell_type": "code",
   "execution_count": 94,
   "id": "1f8d3f69",
   "metadata": {},
   "outputs": [
    {
     "name": "stdout",
     "output_type": "stream",
     "text": [
      "[0, 0, 0, 0, 0] > [0, 1, 2, 3, 4]\n",
      "[1, 2, 3, 4, 5] > [1, 3, 5, 7, 9]\n",
      "[5, 4, 3, 2, 1] > [5, 5, 5, 5, 5]\n"
     ]
    }
   ],
   "source": [
    "print(add_index([0,0,0,0,0]))\n",
    "print(add_index([1,2,3,4,5]))\n",
    "print(add_index([5,4,3,2,1]))"
   ]
  },
  {
   "cell_type": "code",
   "execution_count": 95,
   "id": "7305d0ec",
   "metadata": {},
   "outputs": [],
   "source": [
    "#find missing number\n",
    "\n",
    "def missing_number(lst):\n",
    "    for i in range(1,10000):\n",
    "        if i not in lst:\n",
    "            return f\"{lst} > missing number: {i}\""
   ]
  },
  {
   "cell_type": "code",
   "execution_count": 96,
   "id": "8f843c54",
   "metadata": {},
   "outputs": [
    {
     "name": "stdout",
     "output_type": "stream",
     "text": [
      "[1, 2, 3, 4, 6, 7, 8, 9, 10] > missing number: 5\n",
      "[7, 2, 3, 6, 5, 9, 1, 4, 8] > missing number: 10\n",
      "[101, 4, 8, 9, 54, 7, 2, 3, 6, 11, 5, 10, 1] > missing number: 12\n",
      "[10, 5, 1, 2, 4, 6, 8, 3, 9] > missing number: 7\n"
     ]
    }
   ],
   "source": [
    "print(missing_number([1, 2, 3, 4, 6, 7, 8, 9, 10]))\n",
    "print(missing_number([7, 2, 3, 6, 5, 9, 1, 4, 8]))\n",
    "print(missing_number([101,4,8,9,54,7,2,3,6,11,5,10,1]))\n",
    "print(missing_number([10, 5, 1, 2, 4, 6, 8, 3, 9]))"
   ]
  },
  {
   "cell_type": "code",
   "execution_count": 97,
   "id": "12356e5d",
   "metadata": {},
   "outputs": [],
   "source": [
    "# update list\n",
    "\n",
    "def update_list(lst,n):\n",
    "    \n",
    "    if len(lst) > 1:\n",
    "        lst.append(n)\n",
    "        lst.remove(lst[0])\n",
    "    else:\n",
    "        print(\"no list has been selected\")\n",
    "    return f\"Output > {lst}\"\n"
   ]
  },
  {
   "cell_type": "code",
   "execution_count": 98,
   "id": "428c68f7",
   "metadata": {},
   "outputs": [
    {
     "name": "stdout",
     "output_type": "stream",
     "text": [
      "Output > [6, 7, 8, 9, 1000]\n",
      "Output > [6, 3, 23, 17, 10]\n",
      "no list has been selected\n",
      "Output > []\n",
      "Output > [10, 20, 42, 6]\n"
     ]
    }
   ],
   "source": [
    "print(update_list([5, 6, 7, 8, 9],1000))\n",
    "print(update_list([7, 6, 3, 23, 17], 10))\n",
    "print(update_list([],1))\n",
    "print(update_list([1, 10, 20, 42 ], 6))"
   ]
  },
  {
   "cell_type": "code",
   "execution_count": 99,
   "id": "140c5d75",
   "metadata": {},
   "outputs": [],
   "source": [
    "#some dict value\n",
    "\n",
    "def get_budget(d):\n",
    "    s = 0\n",
    "    \n",
    "    for i in d:\n",
    "        s=s+i[\"budget\"]\n",
    "    return f\"sum of budget is {s}\""
   ]
  },
  {
   "cell_type": "code",
   "execution_count": 100,
   "id": "64985eb8",
   "metadata": {},
   "outputs": [
    {
     "name": "stdout",
     "output_type": "stream",
     "text": [
      "sum of budget is 65700\n",
      "sum of budget is 62600\n"
     ]
    }
   ],
   "source": [
    "print(get_budget([\n",
    "    { \"name\": \"John\", \"age\": 21, \"budget\": 23000 },\n",
    "{ \"name\": \"Steve\", \"age\": 32, \"budget\": 40000 },\n",
    "{ \"name\": \"Martin\", \"age\": 16, \"budget\": 2700 }\n",
    "]))\n",
    "\n",
    "print(get_budget([\n",
    "{ \"name\": \"John\", \"age\": 21, \"budget\": 29000 },\n",
    "{ \"name\": \"Steve\", \"age\": 32, \"budget\": 32000 },\n",
    "{ \"name\": \"Martin\", \"age\": 16, \"budget\": 1600 }\n",
    "]))"
   ]
  },
  {
   "cell_type": "code",
   "execution_count": 101,
   "id": "c3f50e1e",
   "metadata": {},
   "outputs": [],
   "source": [
    "#sorted i  alphabetical oder\n",
    "\n",
    "def alplabet_soup(string):\n",
    "    output = \"\".join(sorted(string))\n",
    "    return f\"{string} > {output}\""
   ]
  },
  {
   "cell_type": "code",
   "execution_count": 102,
   "id": "35993e3a",
   "metadata": {},
   "outputs": [
    {
     "name": "stdout",
     "output_type": "stream",
     "text": [
      "hello > ehllo\n",
      "edabit > abdeit\n",
      "hacker > acehkr\n",
      "geek > eegk\n",
      "javascript > aacijprstv\n"
     ]
    }
   ],
   "source": [
    "print(alplabet_soup(\"hello\"))\n",
    "print(alplabet_soup(\"edabit\"))\n",
    "print(alplabet_soup(\"hacker\"))\n",
    "print(alplabet_soup(\"geek\"))\n",
    "print(alplabet_soup(\"javascript\"))"
   ]
  },
  {
   "cell_type": "code",
   "execution_count": 103,
   "id": "1843a874",
   "metadata": {},
   "outputs": [],
   "source": [
    "#symmetrical number in reverse oder\n",
    "\n",
    "def is_symmetrical(num):\n",
    "    if str(num) == str(num)[::-1]:\n",
    "        return f\"{num} > {True}\"\n",
    "    \n",
    "    else:\n",
    "        return f\"{num} > {False}\" "
   ]
  },
  {
   "cell_type": "code",
   "execution_count": 104,
   "id": "6fcb03fe",
   "metadata": {},
   "outputs": [
    {
     "name": "stdout",
     "output_type": "stream",
     "text": [
      "7227 > True\n",
      "123456 > False\n",
      "4444 > True\n",
      "111214711 > False\n"
     ]
    }
   ],
   "source": [
    "print(is_symmetrical(7227))\n",
    "print(is_symmetrical(123456))\n",
    "print(is_symmetrical(4444))\n",
    "print(is_symmetrical(111214711))"
   ]
  },
  {
   "cell_type": "code",
   "execution_count": 105,
   "id": "a9707e16",
   "metadata": {},
   "outputs": [],
   "source": [
    "#multiply num\n",
    "\n",
    "def multiply_num(string):\n",
    "    output_str = string.replace(\"\",\"\").split(\",\")\n",
    "    output = 1\n",
    "    \n",
    "    for i in output_str:\n",
    "        output*= int(i)\n",
    "    return f\"{string} > {output}\""
   ]
  },
  {
   "cell_type": "code",
   "execution_count": 106,
   "id": "2d3beb56",
   "metadata": {},
   "outputs": [
    {
     "name": "stdout",
     "output_type": "stream",
     "text": [
      "2,3 > 6\n",
      "1, 2, 3, 4 > 24\n",
      "55, 475, 3, 0 > 0\n",
      "10,-2 > -20\n"
     ]
    }
   ],
   "source": [
    "print(multiply_num(\"2,3\"))\n",
    "print(multiply_num(\"1, 2, 3, 4\"))\n",
    "print(multiply_num(\"55, 475, 3, 0\"))\n",
    "print(multiply_num(\"10,-2\"))"
   ]
  },
  {
   "cell_type": "code",
   "execution_count": 107,
   "id": "49d8d9b1",
   "metadata": {},
   "outputs": [],
   "source": [
    "#squre every digit \n",
    "\n",
    "def squre_digit(num):\n",
    "    output = \"\"\n",
    "    for i in str(num):\n",
    "        output += str(int(i)**2)\n",
    "    return f\"{num} > {output}\""
   ]
  },
  {
   "cell_type": "code",
   "execution_count": 108,
   "id": "8805b80c",
   "metadata": {},
   "outputs": [
    {
     "name": "stdout",
     "output_type": "stream",
     "text": [
      "9119 > 811181\n",
      "2483 > 416649\n",
      "3212 > 9414\n",
      "1418 > 116164\n",
      "1424 > 116416\n"
     ]
    }
   ],
   "source": [
    "print(squre_digit(9119))\n",
    "print(squre_digit(2483))\n",
    "print(squre_digit(3212))\n",
    "print(squre_digit(1418))\n",
    "print(squre_digit(1424))"
   ]
  },
  {
   "cell_type": "code",
   "execution_count": 109,
   "id": "d6956309",
   "metadata": {},
   "outputs": [],
   "source": [
    "#sotrs the list remove duplicets\n",
    "\n",
    "def setify(lst):\n",
    "    output = sorted(set(lst))\n",
    "    return f\"{lst} > {output}\""
   ]
  },
  {
   "cell_type": "code",
   "execution_count": 110,
   "id": "abb52c20",
   "metadata": {},
   "outputs": [
    {
     "name": "stdout",
     "output_type": "stream",
     "text": [
      "[1, 3, 3, 5, 5] > [1, 3, 5]\n",
      "[4, 4, 4, 4] > [4]\n",
      "[11, 4, 7, 11, 7, 7, 8, 99, 9, 9, 6, 6] > [4, 6, 7, 8, 9, 11, 99]\n",
      "[5, 7, 8, 9, 10, 15] > [5, 7, 8, 9, 10, 15]\n",
      "[3, 3, 3, 2, 1] > [1, 2, 3]\n"
     ]
    }
   ],
   "source": [
    "print(setify([1, 3, 3, 5, 5]))\n",
    "print(setify([4, 4, 4, 4]))\n",
    "print(setify([11,4,7,11,7,7,8,99,9,9,6,6]))\n",
    "print(setify([5, 7, 8, 9, 10, 15]))\n",
    "print(setify([3, 3, 3, 2, 1]))"
   ]
  },
  {
   "cell_type": "code",
   "execution_count": 111,
   "id": "edac1762",
   "metadata": {},
   "outputs": [],
   "source": [
    "#return mean of all digits\n",
    "\n",
    "def mean(num):\n",
    "    sum = 0\n",
    "    count = 0\n",
    "    \n",
    "    for i in str(num):\n",
    "        sum += int(i)\n",
    "        count = count+1\n",
    "    return f\"{num} > {sum/count}\""
   ]
  },
  {
   "cell_type": "code",
   "execution_count": 112,
   "id": "2fa11620",
   "metadata": {},
   "outputs": [
    {
     "data": {
      "text/plain": [
       "'42 > 3.0'"
      ]
     },
     "execution_count": 112,
     "metadata": {},
     "output_type": "execute_result"
    }
   ],
   "source": [
    "mean(42)"
   ]
  },
  {
   "cell_type": "code",
   "execution_count": 113,
   "id": "f034b064",
   "metadata": {},
   "outputs": [],
   "source": [
    "# create function take list and five number\n",
    "\n",
    "def amplify(num):\n",
    "    output = []\n",
    "    for i in range(1,num+1):\n",
    "        if i%4 == 0:\n",
    "            output.append(i*10)\n",
    "        else:\n",
    "            output.append(i)\n",
    "    return f\"{num} > {output}\""
   ]
  },
  {
   "cell_type": "code",
   "execution_count": 114,
   "id": "53413ef9",
   "metadata": {},
   "outputs": [
    {
     "name": "stdout",
     "output_type": "stream",
     "text": [
      "4 > [1, 2, 3, 40]\n",
      "3 > [1, 2, 3]\n",
      "25 > [1, 2, 3, 40, 5, 6, 7, 80, 9, 10, 11, 120, 13, 14, 15, 160, 17, 18, 19, 200, 21, 22, 23, 240, 25]\n",
      "15 > [1, 2, 3, 40, 5, 6, 7, 80, 9, 10, 11, 120, 13, 14, 15]\n"
     ]
    }
   ],
   "source": [
    "print(amplify(4))\n",
    "print(amplify(3))\n",
    "print(amplify(25))\n",
    "print(amplify(15))"
   ]
  },
  {
   "cell_type": "code",
   "execution_count": 117,
   "id": "f339a30f",
   "metadata": {},
   "outputs": [],
   "source": [
    "#give unique number\n",
    "\n",
    "def unique(lst):\n",
    "    output = []\n",
    "    \n",
    "    for i in lst:\n",
    "        if lst.count(i) <= 1:\n",
    "            output.append(i)\n",
    "    return f\"{lst} > {output}\"\n",
    "            "
   ]
  },
  {
   "cell_type": "code",
   "execution_count": 118,
   "id": "04e687fd",
   "metadata": {},
   "outputs": [
    {
     "name": "stdout",
     "output_type": "stream",
     "text": [
      "[3, 3, 3, 7, 3, 3] > [7]\n",
      "[0, 0, 0.77, 0, 0] > [0.77]\n",
      "[0, 1, 1, 1, 1, 1, 1, 1] > [0]\n",
      "[5, 44, 7, 8, 8, 8] > [5, 44, 7]\n"
     ]
    }
   ],
   "source": [
    "print(unique([3, 3, 3, 7, 3, 3]))\n",
    "print(unique([0, 0, 0.77, 0, 0]))\n",
    "print(unique([0, 1, 1, 1, 1, 1, 1, 1]))\n",
    "print(unique([5,44,7,8,8,8]))"
   ]
  },
  {
   "cell_type": "code",
   "execution_count": 122,
   "id": "3a534f18",
   "metadata": {},
   "outputs": [],
   "source": [
    "# string shortest to longest\n",
    "\n",
    "def sort_by_length(lst):\n",
    "    output = sorted(lst,key = len)\n",
    "    return f\"{lst} > > {output}\""
   ]
  },
  {
   "cell_type": "code",
   "execution_count": 126,
   "id": "f445fab6",
   "metadata": {},
   "outputs": [
    {
     "name": "stdout",
     "output_type": "stream",
     "text": [
      "['Google', 'Apple', 'Microsoft'] > > ['Apple', 'Google', 'Microsoft']\n",
      "['Leonardo', 'Michelangelo', 'Raphael', 'Donatello'] > > ['Raphael', 'Leonardo', 'Donatello', 'Michelangelo']\n",
      "['Turing', 'Einstein', 'Jung'] > > ['Jung', 'Turing', 'Einstein']\n"
     ]
    }
   ],
   "source": [
    "print(sort_by_length([\"Google\", \"Apple\", \"Microsoft\"]))\n",
    "print(sort_by_length([\"Leonardo\", \"Michelangelo\", \"Raphael\", \"Donatello\"]))\n",
    "print(sort_by_length([\"Turing\", \"Einstein\", \"Jung\"]))"
   ]
  },
  {
   "cell_type": "code",
   "execution_count": 127,
   "id": "84101fec",
   "metadata": {},
   "outputs": [],
   "source": [
    "#Notes: Your function must return 0, 2 or 3.\n",
    "\n",
    "def equal(a,b,c):\n",
    "    if a == b == c:\n",
    "        return f\"{a,b,c} > {0}\"\n",
    "    elif a == b or b == c:\n",
    "        return  f\"{a,b,c} > {2}\"\n",
    "    \n",
    "    else:\n",
    "        return f\"{a,b,c} > {3}\""
   ]
  },
  {
   "cell_type": "code",
   "execution_count": 129,
   "id": "4b202415",
   "metadata": {},
   "outputs": [
    {
     "name": "stdout",
     "output_type": "stream",
     "text": [
      "(3, 4, 3) > 3\n",
      "(1, 1, 1) > 0\n",
      "(3, 4, 1) > 3\n"
     ]
    }
   ],
   "source": [
    "print(equal(3, 4, 3))\n",
    "print(equal(1,1,1))\n",
    "print(equal(3,4,1))"
   ]
  },
  {
   "cell_type": "code",
   "execution_count": 136,
   "id": "bc3aeebf",
   "metadata": {},
   "outputs": [],
   "source": [
    "# convert ditc key value in to list\n",
    "\n",
    "def dict_to_list(d):\n",
    "    output = []\n",
    "    \n",
    "    for key,value in d.items():\n",
    "        output.append((key,value))\n",
    "    return f\"{d} > {sorted(output)}\""
   ]
  },
  {
   "cell_type": "code",
   "execution_count": 139,
   "id": "7e4579e6",
   "metadata": {},
   "outputs": [
    {
     "name": "stdout",
     "output_type": "stream",
     "text": [
      "{'D': 1, 'B': 2, 'C': 3} > [('B', 2), ('C', 3), ('D', 1)]\n",
      "{'likes': 2, 'dislikes': 3, 'followers': 10} > [('dislikes', 3), ('followers', 10), ('likes', 2)]\n"
     ]
    }
   ],
   "source": [
    "print(dict_to_list({ \"D\": 1, \"B\": 2, \"C\": 3 }))\n",
    "print(dict_to_list({\"likes\": 2, \"dislikes\": 3, \"followers\": 10 }))"
   ]
  },
  {
   "cell_type": "code",
   "execution_count": 140,
   "id": "c5d8444b",
   "metadata": {},
   "outputs": [],
   "source": [
    "# convert list key value in to dict\n",
    "\n",
    "def mapping(lst):\n",
    "    output = {}\n",
    "    \n",
    "    for i in lst:\n",
    "        output[i] = i.upper()\n",
    "    return f\"{lst}  >  {output}\" "
   ]
  },
  {
   "cell_type": "code",
   "execution_count": 145,
   "id": "6f9aa26b",
   "metadata": {},
   "outputs": [
    {
     "name": "stdout",
     "output_type": "stream",
     "text": [
      "['p', 's']  >  {'p': 'P', 's': 'S'}\n",
      "['a', 'b', 'c']  >  {'a': 'A', 'b': 'B', 'c': 'C'}\n",
      "['a', 'v', 'y', 'z']  >  {'a': 'A', 'v': 'V', 'y': 'Y', 'z': 'Z'}\n"
     ]
    }
   ],
   "source": [
    "print(mapping([\"p\", \"s\"]))\n",
    "\n",
    "print(mapping([\"a\", \"b\", \"c\"]))\n",
    "\n",
    "print(mapping([\"a\", \"v\", \"y\", \"z\"]))\n"
   ]
  },
  {
   "cell_type": "code",
   "execution_count": 146,
   "id": "ba15e5cb",
   "metadata": {},
   "outputs": [],
   "source": [
    "#a function, that replaces all vowels in a string with a specified vowel.\n",
    "\n",
    "def vowel_replace(string,v):\n",
    "    vowels = ['a','e','i','o','u']\n",
    "    \n",
    "    for i in string:\n",
    "        if i in vowels:\n",
    "            string = string.replace(i,v)\n",
    "    return f\"output: {string}\"\n",
    "        \n",
    "    "
   ]
  },
  {
   "cell_type": "code",
   "execution_count": 152,
   "id": "2717dd24",
   "metadata": {},
   "outputs": [
    {
     "name": "stdout",
     "output_type": "stream",
     "text": [
      "output: upplus und bununus\n",
      "output: chooso cossorolo\n",
      "output: steffed jelepene peppers\n"
     ]
    }
   ],
   "source": [
    "print(vowel_replace(\"apples and bananas\", \"u\"))\n",
    "print(vowel_replace(\"cheese casserole\", \"o\"))\n",
    "print(vowel_replace(\"stuffed jalapeno poppers\", \"e\"))"
   ]
  },
  {
   "cell_type": "code",
   "execution_count": 157,
   "id": "a3ffb55c",
   "metadata": {},
   "outputs": [],
   "source": [
    "def ascii_capitalize(string):\n",
    "    output = \"\"\n",
    "    \n",
    "    for i in range(len(string)):\n",
    "        c = string[i]\n",
    "        if ord(c)%2 == 0:\n",
    "            output += c.upper()\n",
    "        else :\n",
    "            output += c.lower()\n",
    "            \n",
    "    return  f\"{string} > {output}\""
   ]
  },
  {
   "cell_type": "code",
   "execution_count": 158,
   "id": "7328bffe",
   "metadata": {},
   "outputs": [
    {
     "name": "stdout",
     "output_type": "stream",
     "text": [
      "to be or not to be! > To Be oR NoT To Be!\n",
      "THE LITTLE MERMAID > THe LiTTLe meRmaiD\n",
      "Oh what a beautiful morning. > oH wHaT a BeauTiFuL moRNiNg.\n"
     ]
    }
   ],
   "source": [
    "print(ascii_capitalize(\"to be or not to be!\"))\n",
    "print(ascii_capitalize(\"THE LITTLE MERMAID\")) \n",
    "print(ascii_capitalize(\"Oh what a beautiful morning.\")) "
   ]
  },
  {
   "cell_type": "code",
   "execution_count": null,
   "id": "fe5cf0b0",
   "metadata": {},
   "outputs": [],
   "source": [
    "\n"
   ]
  },
  {
   "cell_type": "code",
   "execution_count": null,
   "id": "db8877eb",
   "metadata": {},
   "outputs": [],
   "source": []
  },
  {
   "cell_type": "code",
   "execution_count": null,
   "id": "7ee3e9a5",
   "metadata": {},
   "outputs": [],
   "source": []
  }
 ],
 "metadata": {
  "kernelspec": {
   "display_name": "Python 3 (ipykernel)",
   "language": "python",
   "name": "python3"
  },
  "language_info": {
   "codemirror_mode": {
    "name": "ipython",
    "version": 3
   },
   "file_extension": ".py",
   "mimetype": "text/x-python",
   "name": "python",
   "nbconvert_exporter": "python",
   "pygments_lexer": "ipython3",
   "version": "3.10.6"
  }
 },
 "nbformat": 4,
 "nbformat_minor": 5
}
