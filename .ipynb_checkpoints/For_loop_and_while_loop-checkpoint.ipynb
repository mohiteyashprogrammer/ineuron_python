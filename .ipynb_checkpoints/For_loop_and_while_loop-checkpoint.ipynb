{
 "cells": [
  {
   "cell_type": "code",
   "execution_count": 1,
   "id": "491049f5",
   "metadata": {},
   "outputs": [],
   "source": [
    "s = \"i m yash mohite\""
   ]
  },
  {
   "cell_type": "code",
   "execution_count": 2,
   "id": "65ed4273",
   "metadata": {},
   "outputs": [
    {
     "name": "stdout",
     "output_type": "stream",
     "text": [
      "e t i h o m   h s a y   m   i "
     ]
    }
   ],
   "source": [
    "for i in range(len(s)-1,-1,-1):\n",
    "    print(s[i],end=\" \")# reversing string from for loop\n",
    "    \n",
    "    "
   ]
  },
  {
   "cell_type": "code",
   "execution_count": 3,
   "id": "0c68e3a6",
   "metadata": {},
   "outputs": [
    {
     "name": "stdout",
     "output_type": "stream",
     "text": [
      "e t i h o m   h s a y   m   i "
     ]
    }
   ],
   "source": [
    "i = len(s)-1\n",
    "# using while loop to reverce string\n",
    "while i >=0:\n",
    "    print(s[i],end=\" \")\n",
    "    i=i-1"
   ]
  },
  {
   "cell_type": "code",
   "execution_count": 4,
   "id": "76678a63",
   "metadata": {},
   "outputs": [
    {
     "name": "stdout",
     "output_type": "stream",
     "text": [
      "This are vowel  ['i', 'e', 'u', 'o']\n",
      "This are  not vowel  ['n', 'r', 'n']\n"
     ]
    }
   ],
   "source": [
    "s = \"ineuron\"\n",
    "v = \"a\",\"e\",\"i\",\"o\",\"u\"\n",
    "# saperate vovel and not vovel using for loop\n",
    "pick = []\n",
    "notvovel = []\n",
    "for i in s:\n",
    "    if i in v:\n",
    "        pick.append(i)\n",
    "    else:\n",
    "        notvovel.append(i)\n",
    "print(\"This are vowel \",pick)\n",
    "print(\"This are  not vowel \",notvovel)\n"
   ]
  },
  {
   "cell_type": "code",
   "execution_count": 5,
   "id": "b8b63374",
   "metadata": {},
   "outputs": [
    {
     "name": "stdout",
     "output_type": "stream",
     "text": [
      "vowel is : i\n",
      "not vowel is : n\n",
      "vowel is : e\n",
      "vowel is : u\n",
      "not vowel is : r\n",
      "vowel is : o\n",
      "not vowel is : n\n"
     ]
    }
   ],
   "source": [
    "s = \"ineuron\"\n",
    "v = \"a\",\"e\",\"i\",\"o\",\"u\"\n",
    "# different method\n",
    "for i in s:\n",
    "    if i in v:\n",
    "        print(f\"vowel is : {i}\")\n",
    "    else:\n",
    "        print(f\"not vowel is : {i}\")\n",
    "        "
   ]
  },
  {
   "cell_type": "code",
   "execution_count": 6,
   "id": "1f770ea9",
   "metadata": {},
   "outputs": [
    {
     "data": {
      "text/plain": [
       "True"
      ]
     },
     "execution_count": 6,
     "metadata": {},
     "output_type": "execute_result"
    }
   ],
   "source": [
    "\"y\" in \"yash\" #smiple logoc"
   ]
  },
  {
   "cell_type": "code",
   "execution_count": 15,
   "id": "c5c00f92",
   "metadata": {},
   "outputs": [
    {
     "name": "stdout",
     "output_type": "stream",
     "text": [
      "malayalam\n",
      "pallundrom malayalam\n"
     ]
    }
   ],
   "source": [
    "s = input()\n",
    "p = s[::-1]\n",
    "#for i in s: print pallundrom\n",
    "if s in p:\n",
    "    print(\"pallundrom\" , s)\n",
    "else:\n",
    "    print(\"not pallundrom\" , s)\n",
    "\n"
   ]
  },
  {
   "cell_type": "code",
   "execution_count": 36,
   "id": "1df98edb",
   "metadata": {},
   "outputs": [
    {
     "name": "stdout",
     "output_type": "stream",
     "text": [
      "['india', 'china']\n",
      "['canada', 'united stste']\n"
     ]
    }
   ],
   "source": [
    "d = {\"india\":\"IN\",\"canada\":\"CA\",\"china\":\"CH\",\"united stste\":\"US\"}\n",
    "less_then5 = []\n",
    "more_then = []\n",
    "# pick keys from dict\n",
    "for i in d:\n",
    "    if len(i) <=5:\n",
    "        less_then5.append(i)\n",
    "    else:\n",
    "        more_then.append(i)\n",
    "    \n",
    "print(less_then5) \n",
    "print(more_then)"
   ]
  },
  {
   "cell_type": "code",
   "execution_count": 71,
   "id": "e98841f8",
   "metadata": {},
   "outputs": [
    {
     "name": "stdout",
     "output_type": "stream",
     "text": [
      "[14, 115, 55, 60]\n",
      "115\n"
     ]
    }
   ],
   "source": [
    "d_1 = {\"ineruon\":{\"a\":14,\"b\":10,\"c\":115},\"cource\":{\"x\":55,\"y\":60,\"z\":10}}\n",
    "ls = []\n",
    "# picking kyes values\n",
    "for i in d_1.values():\n",
    "        for j in i.values():\n",
    "            if j >10:\n",
    "                ls.append(j)\n",
    "print(ls)\n",
    "print(max(ls))"
   ]
  },
  {
   "cell_type": "code",
   "execution_count": 81,
   "id": "bb5c0aae",
   "metadata": {},
   "outputs": [
    {
     "name": "stdout",
     "output_type": "stream",
     "text": [
      "115\n",
      "60\n"
     ]
    }
   ],
   "source": [
    "for i in d_1.values():\n",
    "    print(max(i.values()))#another method\n",
    "    "
   ]
  },
  {
   "cell_type": "code",
   "execution_count": 112,
   "id": "05ea4d60",
   "metadata": {},
   "outputs": [],
   "source": [
    "d_2 = {\"ineruon\":{\"a\":14,\"b\":10,\"c\":115},\"cource\":{\"x\":55,\"y\":60,\"z\":10},\"isha\":[1,2,3,6,5,44,7,8],\"yash\":(1,2,5,4,8,999)}"
   ]
  },
  {
   "cell_type": "code",
   "execution_count": 111,
   "id": "f425aabb",
   "metadata": {},
   "outputs": [
    {
     "name": "stdout",
     "output_type": "stream",
     "text": [
      "c\n",
      "z\n",
      "44\n",
      "999\n"
     ]
    }
   ],
   "source": [
    "for i in d_2.values():# find max value\n",
    "    print(max(i))"
   ]
  },
  {
   "cell_type": "code",
   "execution_count": 103,
   "id": "97cdd8a4",
   "metadata": {},
   "outputs": [
    {
     "name": "stdout",
     "output_type": "stream",
     "text": [
      "['c', 'z', 44, 999]\n"
     ]
    }
   ],
   "source": [
    "mx_vl  = []\n",
    "for i in d_2.values():\n",
    "  #another method  \n",
    "    if type(i) == dict():\n",
    "        mx_vl.append(max(i.values()))\n",
    "        \n",
    "    elif type(i) == list:\n",
    "        mx_vl.append(max(i))\n",
    "    else:\n",
    "        mx_vl.append(max(i))\n",
    "        \n",
    "print(mx_vl)\n",
    "        "
   ]
  },
  {
   "cell_type": "code",
   "execution_count": 105,
   "id": "cd2666a8",
   "metadata": {},
   "outputs": [
    {
     "data": {
      "text/plain": [
       "dict_values([{'a': 14, 'b': 10, 'c': 115}, {'x': 55, 'y': 60, 'z': 10}, [1, 2, 3, 6, 5, 44, 7, 8], (1, 2, 5, 4, 8, 999)])"
      ]
     },
     "execution_count": 105,
     "metadata": {},
     "output_type": "execute_result"
    }
   ],
   "source": [
    "d_2.values()"
   ]
  },
  {
   "cell_type": "code",
   "execution_count": null,
   "id": "ffe7c163",
   "metadata": {},
   "outputs": [],
   "source": []
  }
 ],
 "metadata": {
  "kernelspec": {
   "display_name": "Python 3 (ipykernel)",
   "language": "python",
   "name": "python3"
  },
  "language_info": {
   "codemirror_mode": {
    "name": "ipython",
    "version": 3
   },
   "file_extension": ".py",
   "mimetype": "text/x-python",
   "name": "python",
   "nbconvert_exporter": "python",
   "pygments_lexer": "ipython3",
   "version": "3.10.6"
  }
 },
 "nbformat": 4,
 "nbformat_minor": 5
}
