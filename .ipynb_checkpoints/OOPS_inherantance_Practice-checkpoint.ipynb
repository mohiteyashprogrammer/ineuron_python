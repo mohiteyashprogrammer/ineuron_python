{
 "cells": [
  {
   "cell_type": "code",
   "execution_count": 1,
   "id": "95c0cecf",
   "metadata": {},
   "outputs": [],
   "source": [
    "#single inheritance\n",
    "\n",
    "class Person:\n",
    "    \n",
    "    def __init__(self,name,age,education):\n",
    "        self.__name = name\n",
    "        self.__age = age\n",
    "        self.__education =education\n",
    "        \n",
    "    def details(self):\n",
    "            print(\"Person name is:\",self.__name)\n",
    "            print(\"Person age is:\",self.__age)\n",
    "            print(\"Person Education background is:\",self.__education)\n",
    "            \n",
    "class College(Person):\n",
    "    \n",
    "    def __init__(self,name,age,education,clg_id,college_name,location):\n",
    "        super().__init__(name,age,education)\n",
    "        self.__clg_id = clg_id\n",
    "        self.__college_name = college_name\n",
    "        self.__location = location\n",
    "        \n",
    "    def clg_details(self):\n",
    "        \n",
    "        print(f\"my college id is: {self.__clg_id}\")\n",
    "        print(f\"college name is: {self.__college_name}\")\n",
    "        print(f\"my college located at: {self.__location}\")\n",
    "        \n",
    "    def __str__(self):\n",
    "        return \"this is college details and person\"\n",
    "        \n",
    "      "
   ]
  },
  {
   "cell_type": "code",
   "execution_count": 2,
   "id": "e262696c",
   "metadata": {},
   "outputs": [],
   "source": [
    "student = College(\"yash mohite\",22,\"B.Com\",1487,\"Bhavans college\", \"Andheri,west\")"
   ]
  },
  {
   "cell_type": "code",
   "execution_count": 3,
   "id": "01bbdd2e",
   "metadata": {},
   "outputs": [
    {
     "name": "stdout",
     "output_type": "stream",
     "text": [
      "Person name is: yash mohite\n",
      "Person age is: 22\n",
      "Person Education background is: B.Com\n"
     ]
    }
   ],
   "source": [
    "student.details()"
   ]
  },
  {
   "cell_type": "code",
   "execution_count": 4,
   "id": "e1038554",
   "metadata": {},
   "outputs": [
    {
     "name": "stdout",
     "output_type": "stream",
     "text": [
      "my college id is: 1487\n",
      "college name is: Bhavans college\n",
      "my college located at: Andheri,west\n"
     ]
    }
   ],
   "source": [
    "student.clg_details()"
   ]
  },
  {
   "cell_type": "code",
   "execution_count": 5,
   "id": "be025d8c",
   "metadata": {},
   "outputs": [
    {
     "name": "stdout",
     "output_type": "stream",
     "text": [
      "this is college details and person\n"
     ]
    }
   ],
   "source": [
    "print(student)"
   ]
  },
  {
   "cell_type": "code",
   "execution_count": 6,
   "id": "59715eac",
   "metadata": {},
   "outputs": [],
   "source": [
    "class Bruce_banner:\n",
    "    def __init__(self,intaligent,smart,doctor):\n",
    "        self.intaligent = intaligent\n",
    "        self.smart = smart\n",
    "        self.doctor = doctor\n",
    "        \n",
    "    def expert(self):\n",
    "        return \"Bruce banner integelent in body :\" + self.intaligent +  \" and \"  + self.smart + \" and \" +self.doctor\n",
    "    \n",
    "\n",
    "class Hulk(Bruce_banner):\n",
    "    def Strong(self):\n",
    "        return \"Hulk is an strongest avenger\""
   ]
  },
  {
   "cell_type": "code",
   "execution_count": 7,
   "id": "6bb1bfea",
   "metadata": {},
   "outputs": [],
   "source": [
    "h = Hulk(\"hulk have brain of bruce\",\"smart like him\",\"also help people\")"
   ]
  },
  {
   "cell_type": "code",
   "execution_count": 8,
   "id": "58b17ec0",
   "metadata": {},
   "outputs": [
    {
     "data": {
      "text/plain": [
       "'Hulk is an strongest avenger'"
      ]
     },
     "execution_count": 8,
     "metadata": {},
     "output_type": "execute_result"
    }
   ],
   "source": [
    "h.Strong()"
   ]
  },
  {
   "cell_type": "code",
   "execution_count": 9,
   "id": "7e926b7d",
   "metadata": {},
   "outputs": [
    {
     "data": {
      "text/plain": [
       "'Bruce banner integelent in body :hulk have brain of bruce and smart like him and also help people'"
      ]
     },
     "execution_count": 9,
     "metadata": {},
     "output_type": "execute_result"
    }
   ],
   "source": [
    "h.expert()"
   ]
  },
  {
   "cell_type": "code",
   "execution_count": 10,
   "id": "2e791f9e",
   "metadata": {},
   "outputs": [],
   "source": [
    "# multiple level \n",
    "\n",
    "class Parent1:\n",
    "    def __init__(self,iqlevel,strong,sports):\n",
    "        self.__iqlevel = iqlevel\n",
    "        self.__strong = strong\n",
    "        self.__sports = sports\n",
    "        \n",
    "    def sheet1(self):\n",
    "        print(f\"His iq-level is good: {self.__iqlevel}\")\n",
    "        print(f\"He is stronger in fight: {self.__strong}\")\n",
    "        print(f\"He is pro in every sports: {self.__sports}\")\n",
    "        \n",
    "class Parent2(Parent1):\n",
    "    \n",
    "    def __init__(self,iqlevel,strong,sport,fighter):\n",
    "        super().__init__(iqlevel,strong,sport)\n",
    "        self.__fighter = fighter\n",
    "        \n",
    "    def sheet2(self):\n",
    "        print(f\"He knows verious type of fighting styles like: {self.__fighter}\")\n",
    "        \n",
    "class Child(Parent2):\n",
    "    def __init__(self,iqlevel,strong,sport,fighter,super_power):\n",
    "        super().__init__(iqlevel,strong,sport,fighter)\n",
    "        self.__super_power = super_power\n",
    "        \n",
    "    def details(self):\n",
    "        print(f\"He have super power of old god name is: {self.__super_power}\")\n",
    "        \n",
    "    def __str__(self):\n",
    "        return \"this is secret details\""
   ]
  },
  {
   "cell_type": "code",
   "execution_count": 11,
   "id": "c62be2f1",
   "metadata": {},
   "outputs": [],
   "source": [
    "hero1 = Child(\"super iq:95\",100,\"like cricket,football,sex\",\"Thunder Breathing,Water Breathing\",\"Dark Hold\")"
   ]
  },
  {
   "cell_type": "code",
   "execution_count": 12,
   "id": "d06226d2",
   "metadata": {},
   "outputs": [
    {
     "name": "stdout",
     "output_type": "stream",
     "text": [
      "this is secret details\n"
     ]
    }
   ],
   "source": [
    "print(hero1)"
   ]
  },
  {
   "cell_type": "code",
   "execution_count": 13,
   "id": "7d0273cb",
   "metadata": {},
   "outputs": [
    {
     "name": "stdout",
     "output_type": "stream",
     "text": [
      "He have super power of old god name is: Dark Hold\n"
     ]
    }
   ],
   "source": [
    "hero1.details()"
   ]
  },
  {
   "cell_type": "code",
   "execution_count": 14,
   "id": "c6537942",
   "metadata": {},
   "outputs": [
    {
     "name": "stdout",
     "output_type": "stream",
     "text": [
      "His iq-level is good: super iq:95\n",
      "He is stronger in fight: 100\n",
      "He is pro in every sports: like cricket,football,sex\n"
     ]
    }
   ],
   "source": [
    "hero1.sheet1()"
   ]
  },
  {
   "cell_type": "code",
   "execution_count": 15,
   "id": "7f306d1c",
   "metadata": {},
   "outputs": [
    {
     "name": "stdout",
     "output_type": "stream",
     "text": [
      "He knows verious type of fighting styles like: Thunder Breathing,Water Breathing\n"
     ]
    }
   ],
   "source": [
    "hero1.sheet2()"
   ]
  },
  {
   "cell_type": "code",
   "execution_count": 16,
   "id": "fe61fec0",
   "metadata": {},
   "outputs": [],
   "source": [
    "class Old_Car:\n",
    "    \n",
    "    def __init__(self,modelname,body,tyers,tech,giers):\n",
    "        self.__modelname = modelname\n",
    "        self.__body = body\n",
    "        self.__tyers = tyers\n",
    "        self.__tech = tech\n",
    "        self.__giers =giers\n",
    "        \n",
    "    def specification_1(self):\n",
    "        print(f\"Model name of this car is: {self.__modelname}\")\n",
    "        print(f\"Body type of this car is:{self.__body}\")\n",
    "        print(f\"This car have grate tyer all time: {self.__tyers}\")\n",
    "        print(f\"Technology use in this car is: {self.__tech}\")\n",
    "        print(f\"This car have {self.__giers} giers\")\n",
    "        \n",
    "class Normal_car(Old_Car):\n",
    "    \n",
    "    def __init__(self,modelname,body,tyers,tech,giers,bluetooth,electric):\n",
    "        super().__init__(modelname,body,tyers,tech,giers)\n",
    "        self.__bluetooth = bluetooth\n",
    "        self.__electric = electric\n",
    "        \n",
    "    def specification_2(self):\n",
    "        print(f\"This car have Bluetooth version {self.__bluetooth}\")\n",
    "        print(f\"This is the first version of electric car: {self.__electric}\")\n",
    "        \n",
    "class Tesla(Normal_car):\n",
    "    \n",
    "    def __init__(self,modelname,body,tyers,tech,giers,bluetooth,electric,camerasenser,selfdriving):\n",
    "        super().__init__(modelname,body,tyers,tech,giers,bluetooth,electric)\n",
    "        self.__camerasenser = camerasenser\n",
    "        self.__selfdriving =selfdriving\n",
    "        \n",
    "    def special_specification(self):\n",
    "        print(f\"This car models S-sedan have 6 {self.__camerasenser}\")\n",
    "        print(f\"Tesla lanch this latest selfdriving car {self.__selfdriving}\")\n",
    "        \n",
    "    def __str__(self):\n",
    "        return \"this is tesla cars\"\n",
    "    "
   ]
  },
  {
   "cell_type": "code",
   "execution_count": 17,
   "id": "031f8356",
   "metadata": {},
   "outputs": [],
   "source": [
    "obj = Tesla(\"Tesla S sedan\",\"Hatch back\",\"radial tyres\",\"Artifical intelligence & Autopilot\",\"1-speed automatic transmismission\",\"BLE Version8.2\",\"Alternating current\",\"3D cameras\",\"Autopilot mode\")"
   ]
  },
  {
   "cell_type": "code",
   "execution_count": 18,
   "id": "5f044d90",
   "metadata": {},
   "outputs": [
    {
     "name": "stdout",
     "output_type": "stream",
     "text": [
      "Model name of this car is: Tesla S sedan\n",
      "Body type of this car is:Hatch back\n",
      "This car have grate tyer all time: radial tyres\n",
      "Technology use in this car is: Artifical intelligence & Autopilot\n",
      "This car have 1-speed automatic transmismission giers\n"
     ]
    }
   ],
   "source": [
    "obj.specification_1()"
   ]
  },
  {
   "cell_type": "code",
   "execution_count": 19,
   "id": "f6e30eb5",
   "metadata": {},
   "outputs": [
    {
     "name": "stdout",
     "output_type": "stream",
     "text": [
      "This car have Bluetooth version BLE Version8.2\n",
      "This is the first version of electric car: Alternating current\n"
     ]
    }
   ],
   "source": [
    "obj.specification_2()"
   ]
  },
  {
   "cell_type": "code",
   "execution_count": 20,
   "id": "831a35d3",
   "metadata": {},
   "outputs": [
    {
     "name": "stdout",
     "output_type": "stream",
     "text": [
      "This car models S-sedan have 6 3D cameras\n",
      "Tesla lanch this latest selfdriving car Autopilot mode\n"
     ]
    }
   ],
   "source": [
    "obj.special_specification()"
   ]
  },
  {
   "cell_type": "code",
   "execution_count": 21,
   "id": "19c1bc69",
   "metadata": {},
   "outputs": [
    {
     "name": "stdout",
     "output_type": "stream",
     "text": [
      "this is tesla cars\n"
     ]
    }
   ],
   "source": [
    "print(obj)"
   ]
  },
  {
   "cell_type": "code",
   "execution_count": 46,
   "id": "ecd8df7f",
   "metadata": {},
   "outputs": [],
   "source": [
    "# multiple inharintance\n",
    "\n",
    "class Cource:\n",
    "    \n",
    "    def __init__(self,name,fees,duration):\n",
    "        self.name = name\n",
    "        self.__fees = fees\n",
    "        self.__duration = duration\n",
    "        \n",
    "    def cource_details(self):\n",
    "        print(f\"Cource name is: {self.name}\")\n",
    "        print(f\"Cource Fee is: {self.__fees}\")\n",
    "        print(f\"Cource duration is: {self.__duration}\")\n",
    "\n",
    "class Intitution:\n",
    "    \n",
    "\n",
    "\n",
    "    def name_of_institut(self):\n",
    "        return \"This is Ineuron tech institution and best learning platform in cheap price range\"\n",
    "    \n",
    "\n",
    "class Students(Cource,Intitution):\n",
    "    \n",
    "    def show(self):\n",
    "        return \"I am yash mohite i recently join ineuron the are the best in teaching\"\n",
    "        \n",
    "        "
   ]
  },
  {
   "cell_type": "code",
   "execution_count": 47,
   "id": "1cd13ce3",
   "metadata": {},
   "outputs": [],
   "source": [
    "c = Students(\"FULL STACK DATA SCIENCE & MACHINE LEARNING \", 8500,\"one year\")"
   ]
  },
  {
   "cell_type": "code",
   "execution_count": 48,
   "id": "270e424b",
   "metadata": {},
   "outputs": [
    {
     "name": "stdout",
     "output_type": "stream",
     "text": [
      "Cource name is: FULL STACK DATA SCIENCE & MACHINE LEARNING \n",
      "Cource Fee is: 8500\n",
      "Cource duration is: one year\n"
     ]
    }
   ],
   "source": [
    "c.cource_details()"
   ]
  },
  {
   "cell_type": "code",
   "execution_count": 49,
   "id": "16779235",
   "metadata": {},
   "outputs": [
    {
     "data": {
      "text/plain": [
       "'This is Ineuron tech institution and best learning platform in cheap price range'"
      ]
     },
     "execution_count": 49,
     "metadata": {},
     "output_type": "execute_result"
    }
   ],
   "source": [
    "c.name_of_institut()"
   ]
  },
  {
   "cell_type": "code",
   "execution_count": 50,
   "id": "34bbb179",
   "metadata": {},
   "outputs": [
    {
     "data": {
      "text/plain": [
       "'I am yash mohite i recently join ineuron the are the best in teaching'"
      ]
     },
     "execution_count": 50,
     "metadata": {},
     "output_type": "execute_result"
    }
   ],
   "source": [
    "c.show()"
   ]
  },
  {
   "cell_type": "code",
   "execution_count": null,
   "id": "9c2653b9",
   "metadata": {},
   "outputs": [],
   "source": []
  },
  {
   "cell_type": "code",
   "execution_count": 27,
   "id": "e6c4a3ff",
   "metadata": {},
   "outputs": [],
   "source": [
    "class Phone:\n",
    "    \n",
    "    def __init__(self,brand,model,price):\n",
    "        \n",
    "        self.brand = brand\n",
    "        self.__model = model\n",
    "        self.__price = price\n",
    "        \n",
    "    def specifi_1(self):\n",
    "        print(f\"Brand name is: {self.brand}\")\n",
    "        print(f\"Model of this phone is: {self.__model}\")\n",
    "        print(f\"price of this phone is: {self.__price}\")\n",
    "        \n",
    "    def typeofphone(self):\n",
    "        if self.__price < 25000:\n",
    "            return (\"This is not flagship phone\")\n",
    "        else:\n",
    "            return (\"This is flagship phone\")\n",
    "            \n",
    "class Smartphone(Phone):\n",
    "    \n",
    "    def __init__(self,brand,model,price,cameras,ram,storage):\n",
    "        super().__init__(brand,model,price)\n",
    "        self.__cameras = cameras\n",
    "        self.__ram = ram\n",
    "        self.__storage = storage\n",
    "        \n",
    "    def specifi_2(self):\n",
    "        print(f\"phone have {self.__cameras}  cameras in this model\")\n",
    "        print(f\"RAM of this phone is: {self.__ram}\")\n",
    "        print(f\"Storage of this phone is: {self.__storage}\")\n",
    "        \n",
    "class Flagshipphones(Smartphone):\n",
    "    \n",
    "    def __init__(self,brand,model,price,cameras,ram,storage,display,faceunlock):\n",
    "        super().__init__(brand,model,price,cameras,ram,storage)\n",
    "        self.display = display\n",
    "        self.faceunlock = faceunlock\n",
    "        \n",
    "    def specifi_3(self):\n",
    "        print(f\"Display of this phone is: {self.display} display\")\n",
    "        print(f\"Faceunlock of this phone is: {self.faceunlock}\")\n",
    "              "
   ]
  },
  {
   "cell_type": "code",
   "execution_count": 28,
   "id": "2ab062a3",
   "metadata": {},
   "outputs": [],
   "source": [
    "phone = Flagshipphones(\"Apple\",\"Iphone14\",140000,\"12+12+45\",\"12GB\",\"256GB\",\"XDR\",\"3D Unlock\")"
   ]
  },
  {
   "cell_type": "code",
   "execution_count": 29,
   "id": "ed6b0d40",
   "metadata": {},
   "outputs": [
    {
     "name": "stdout",
     "output_type": "stream",
     "text": [
      "Brand name is: Apple\n",
      "Model of this phone is: Iphone14\n",
      "price of this phone is: 140000\n"
     ]
    }
   ],
   "source": [
    "phone.specifi_1()"
   ]
  },
  {
   "cell_type": "code",
   "execution_count": 30,
   "id": "fb0cd2a2",
   "metadata": {},
   "outputs": [
    {
     "data": {
      "text/plain": [
       "'This is flagship phone'"
      ]
     },
     "execution_count": 30,
     "metadata": {},
     "output_type": "execute_result"
    }
   ],
   "source": [
    "phone.typeofphone()"
   ]
  },
  {
   "cell_type": "code",
   "execution_count": 31,
   "id": "a3be5cc9",
   "metadata": {},
   "outputs": [
    {
     "name": "stdout",
     "output_type": "stream",
     "text": [
      "phone have 12+12+45  cameras in this model\n",
      "RAM of this phone is: 12GB\n",
      "Storage of this phone is: 256GB\n"
     ]
    }
   ],
   "source": [
    "phone.specifi_2()"
   ]
  },
  {
   "cell_type": "code",
   "execution_count": 32,
   "id": "aae5c9ed",
   "metadata": {},
   "outputs": [
    {
     "name": "stdout",
     "output_type": "stream",
     "text": [
      "Display of this phone is: XDR display\n",
      "Faceunlock of this phone is: 3D Unlock\n"
     ]
    }
   ],
   "source": [
    "phone.specifi_3()"
   ]
  },
  {
   "cell_type": "code",
   "execution_count": 33,
   "id": "de8c4e01",
   "metadata": {},
   "outputs": [],
   "source": [
    "phone2 = Smartphone(\"Hwawei\",\"Honor Play\",20000,\"16+12\",\"4GB\",\"64GB\")"
   ]
  },
  {
   "cell_type": "code",
   "execution_count": 34,
   "id": "a98420f6",
   "metadata": {},
   "outputs": [
    {
     "data": {
      "text/plain": [
       "'This is not flagship phone'"
      ]
     },
     "execution_count": 34,
     "metadata": {},
     "output_type": "execute_result"
    }
   ],
   "source": [
    "phone2.typeofphone()"
   ]
  },
  {
   "cell_type": "code",
   "execution_count": 35,
   "id": "986fc13f",
   "metadata": {},
   "outputs": [
    {
     "name": "stdout",
     "output_type": "stream",
     "text": [
      "Brand name is: Hwawei\n",
      "Model of this phone is: Honor Play\n",
      "price of this phone is: 20000\n"
     ]
    }
   ],
   "source": [
    "phone2.specifi_1()"
   ]
  },
  {
   "cell_type": "code",
   "execution_count": 36,
   "id": "e4976659",
   "metadata": {},
   "outputs": [
    {
     "name": "stdout",
     "output_type": "stream",
     "text": [
      "phone have 16+12  cameras in this model\n",
      "RAM of this phone is: 4GB\n",
      "Storage of this phone is: 64GB\n"
     ]
    }
   ],
   "source": [
    "phone2.specifi_2()"
   ]
  },
  {
   "cell_type": "code",
   "execution_count": 43,
   "id": "af99dcc0",
   "metadata": {},
   "outputs": [],
   "source": [
    "class ADD:\n",
    "           # overiding method \n",
    "    def add(self,x,y):\n",
    "        return x+y\n",
    "    \n",
    "class Add2(ADD):\n",
    "    \n",
    "    def Add(self,x,y):\n",
    "        return x+y"
   ]
  },
  {
   "cell_type": "code",
   "execution_count": 44,
   "id": "87537231",
   "metadata": {},
   "outputs": [],
   "source": [
    "a = Add2()"
   ]
  },
  {
   "cell_type": "code",
   "execution_count": 45,
   "id": "9d308ece",
   "metadata": {},
   "outputs": [
    {
     "data": {
      "text/plain": [
       "11"
      ]
     },
     "execution_count": 45,
     "metadata": {},
     "output_type": "execute_result"
    }
   ],
   "source": [
    "a.add(5,6)"
   ]
  },
  {
   "cell_type": "code",
   "execution_count": 52,
   "id": "9b250fd1",
   "metadata": {},
   "outputs": [],
   "source": [
    "class Baap:\n",
    "    \n",
    "    def __init__(self,proprty,money,cars):\n",
    "        self.proprty = proprty\n",
    "        self.money = money\n",
    "        self.cars = cars\n",
    "        \n",
    "    def prop(self):\n",
    "        print(\"my proparty worth is around\",self.proprty)\n",
    "        print(\"total mony i have is\",self.money)\n",
    "        print(\"total car i have\",self.cars)\n",
    "        \n",
    "class BadaBacha(Baap):\n",
    "    \n",
    "    def name1(self):\n",
    "        return \"my name is chilli\"\n",
    "    \n",
    "\n",
    "class ChotaBacha(Baap):\n",
    "    def name2(self):\n",
    "        return \"my name is lasan\"\n",
    "    \n",
    "    "
   ]
  },
  {
   "cell_type": "code",
   "execution_count": 54,
   "id": "dd97d359",
   "metadata": {},
   "outputs": [],
   "source": [
    "dad = Baap(\"3 Crore\",\"5 crore\",6)"
   ]
  },
  {
   "cell_type": "code",
   "execution_count": 55,
   "id": "4968574a",
   "metadata": {},
   "outputs": [
    {
     "name": "stdout",
     "output_type": "stream",
     "text": [
      "my proparty worth is around 3 Crore\n",
      "total mony i have is 5 crore\n",
      "total car i have 6\n"
     ]
    }
   ],
   "source": [
    "dad.prop()"
   ]
  },
  {
   "cell_type": "code",
   "execution_count": 57,
   "id": "d225984f",
   "metadata": {},
   "outputs": [],
   "source": [
    "son1 = BadaBacha(\"2 crore\",\"2.5 crore\",3)"
   ]
  },
  {
   "cell_type": "code",
   "execution_count": 60,
   "id": "bcd72cd3",
   "metadata": {},
   "outputs": [
    {
     "name": "stdout",
     "output_type": "stream",
     "text": [
      "my proparty worth is around 2 crore\n",
      "total mony i have is 2.5 crore\n",
      "total car i have 3\n"
     ]
    }
   ],
   "source": [
    "son1.prop()"
   ]
  },
  {
   "cell_type": "code",
   "execution_count": 61,
   "id": "650fc662",
   "metadata": {},
   "outputs": [],
   "source": [
    "son2 = ChotaBacha(\"1 crore\",\"2.5 crore\",3)"
   ]
  },
  {
   "cell_type": "code",
   "execution_count": 62,
   "id": "03e89d7b",
   "metadata": {},
   "outputs": [
    {
     "name": "stdout",
     "output_type": "stream",
     "text": [
      "my proparty worth is around 1 crore\n",
      "total mony i have is 2.5 crore\n",
      "total car i have 3\n"
     ]
    }
   ],
   "source": [
    "son2.prop()"
   ]
  },
  {
   "cell_type": "code",
   "execution_count": null,
   "id": "c3e3e5e0",
   "metadata": {},
   "outputs": [],
   "source": []
  }
 ],
 "metadata": {
  "kernelspec": {
   "display_name": "Python 3 (ipykernel)",
   "language": "python",
   "name": "python3"
  },
  "language_info": {
   "codemirror_mode": {
    "name": "ipython",
    "version": 3
   },
   "file_extension": ".py",
   "mimetype": "text/x-python",
   "name": "python",
   "nbconvert_exporter": "python",
   "pygments_lexer": "ipython3",
   "version": "3.10.6"
  }
 },
 "nbformat": 4,
 "nbformat_minor": 5
}
