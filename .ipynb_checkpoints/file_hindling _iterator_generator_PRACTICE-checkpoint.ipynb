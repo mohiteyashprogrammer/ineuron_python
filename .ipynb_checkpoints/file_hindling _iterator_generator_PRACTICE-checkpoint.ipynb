{
 "cells": [
  {
   "cell_type": "code",
   "execution_count": 1,
   "id": "34770d3e",
   "metadata": {},
   "outputs": [],
   "source": [
    "f = open(\"yash.txt.txt\",\"r\")"
   ]
  },
  {
   "cell_type": "code",
   "execution_count": 2,
   "id": "2abe446e",
   "metadata": {},
   "outputs": [
    {
     "data": {
      "text/plain": [
       "'hey!\\nmy name is yash mohite and i am learning data science and matchine learning \\nand right now i m watching preaton breakand then i will watch pornand then i will watch porn'"
      ]
     },
     "execution_count": 2,
     "metadata": {},
     "output_type": "execute_result"
    }
   ],
   "source": [
    "f.read()"
   ]
  },
  {
   "cell_type": "code",
   "execution_count": 3,
   "id": "aa081dbc",
   "metadata": {},
   "outputs": [
    {
     "data": {
      "text/plain": [
       "176"
      ]
     },
     "execution_count": 3,
     "metadata": {},
     "output_type": "execute_result"
    }
   ],
   "source": [
    "f.tell()"
   ]
  },
  {
   "cell_type": "code",
   "execution_count": 4,
   "id": "4204bc91",
   "metadata": {},
   "outputs": [],
   "source": [
    "f.close()"
   ]
  },
  {
   "cell_type": "code",
   "execution_count": 5,
   "id": "f8c0db8b",
   "metadata": {},
   "outputs": [],
   "source": [
    "with open(\"yash.txt.txt\", \"r\") as f:\n",
    "    f.read()\n",
    "    pass\n"
   ]
  },
  {
   "cell_type": "code",
   "execution_count": 6,
   "id": "c337aae8",
   "metadata": {},
   "outputs": [],
   "source": [
    "data = \"i m yash mohite i love isha and i ma studing data science\"\n",
    "f = open(\"ds.txt\",\"w\")"
   ]
  },
  {
   "cell_type": "code",
   "execution_count": 7,
   "id": "f25a9bfe",
   "metadata": {},
   "outputs": [
    {
     "data": {
      "text/plain": [
       "57"
      ]
     },
     "execution_count": 7,
     "metadata": {},
     "output_type": "execute_result"
    }
   ],
   "source": [
    "f.write(data)"
   ]
  },
  {
   "cell_type": "code",
   "execution_count": 8,
   "id": "bb719c18",
   "metadata": {},
   "outputs": [
    {
     "name": "stdout",
     "output_type": "stream",
     "text": [
      "done\n"
     ]
    }
   ],
   "source": [
    "print(\"done\")"
   ]
  },
  {
   "cell_type": "code",
   "execution_count": 9,
   "id": "7f192c21",
   "metadata": {},
   "outputs": [],
   "source": [
    "f.close()"
   ]
  },
  {
   "cell_type": "code",
   "execution_count": 10,
   "id": "38e5955a",
   "metadata": {},
   "outputs": [
    {
     "name": "stdout",
     "output_type": "stream",
     "text": [
      "yash\n",
      "isha\n",
      "ankita\n",
      "xyz\n"
     ]
    }
   ],
   "source": [
    "a = [\"yash\",\"isha\",\"ankita\",\"xyz\"]\n",
    "for i in a:\n",
    "    print(i)"
   ]
  },
  {
   "cell_type": "code",
   "execution_count": 11,
   "id": "aaf52ca8",
   "metadata": {},
   "outputs": [],
   "source": [
    "b = iter(a)"
   ]
  },
  {
   "cell_type": "code",
   "execution_count": 12,
   "id": "eb3605eb",
   "metadata": {},
   "outputs": [
    {
     "data": {
      "text/plain": [
       "'yash'"
      ]
     },
     "execution_count": 12,
     "metadata": {},
     "output_type": "execute_result"
    }
   ],
   "source": [
    "next(b)"
   ]
  },
  {
   "cell_type": "code",
   "execution_count": 13,
   "id": "9acca945",
   "metadata": {},
   "outputs": [],
   "source": [
    "def multi(n):\n",
    "    for i in range(n):\n",
    "        yield i*9"
   ]
  },
  {
   "cell_type": "code",
   "execution_count": 14,
   "id": "e453e368",
   "metadata": {},
   "outputs": [],
   "source": [
    "a = multi(30)"
   ]
  },
  {
   "cell_type": "code",
   "execution_count": 15,
   "id": "5471f921",
   "metadata": {},
   "outputs": [
    {
     "name": "stdout",
     "output_type": "stream",
     "text": [
      "0\n",
      "9\n",
      "18\n",
      "27\n",
      "36\n",
      "45\n",
      "54\n",
      "63\n",
      "72\n",
      "81\n",
      "90\n",
      "99\n",
      "108\n",
      "117\n",
      "126\n",
      "135\n",
      "144\n",
      "153\n",
      "162\n",
      "171\n",
      "180\n",
      "189\n",
      "198\n",
      "207\n",
      "216\n",
      "225\n",
      "234\n",
      "243\n",
      "252\n",
      "261\n"
     ]
    }
   ],
   "source": [
    "for i in a:\n",
    "    print(i)"
   ]
  },
  {
   "cell_type": "code",
   "execution_count": 16,
   "id": "1f2dccbc",
   "metadata": {},
   "outputs": [],
   "source": [
    "def eg():\n",
    "    yield 4+5\n",
    "    print(\"line one\")\n",
    "    \n",
    "    yield 8*22\n",
    "    print(\"line two\")\n",
    "    \n",
    "    "
   ]
  },
  {
   "cell_type": "code",
   "execution_count": 17,
   "id": "ea7852a9",
   "metadata": {},
   "outputs": [
    {
     "name": "stdout",
     "output_type": "stream",
     "text": [
      "9\n",
      "line one\n",
      "176\n",
      "line two\n"
     ]
    }
   ],
   "source": [
    "for i in eg():\n",
    "    print(i)"
   ]
  },
  {
   "cell_type": "code",
   "execution_count": 18,
   "id": "a0d1a1a6",
   "metadata": {},
   "outputs": [],
   "source": [
    "number = [1,4,5,8,777,98,9,6,584,2,3,6]"
   ]
  },
  {
   "cell_type": "code",
   "execution_count": 19,
   "id": "95e2eee0",
   "metadata": {},
   "outputs": [],
   "source": [
    "num1 = iter(number)"
   ]
  },
  {
   "cell_type": "code",
   "execution_count": 20,
   "id": "904ba965",
   "metadata": {},
   "outputs": [
    {
     "data": {
      "text/plain": [
       "1"
      ]
     },
     "execution_count": 20,
     "metadata": {},
     "output_type": "execute_result"
    }
   ],
   "source": [
    "next(num1)"
   ]
  },
  {
   "cell_type": "code",
   "execution_count": 21,
   "id": "64daa2e9",
   "metadata": {},
   "outputs": [],
   "source": [
    "# string is a iterable object not a iterator\n",
    "# tuple is a iterable object not a iterator"
   ]
  },
  {
   "cell_type": "code",
   "execution_count": 22,
   "id": "ad628a47",
   "metadata": {},
   "outputs": [
    {
     "data": {
      "text/plain": [
       "1"
      ]
     },
     "execution_count": 22,
     "metadata": {},
     "output_type": "execute_result"
    }
   ],
   "source": [
    "t= (1,2,3,6,5,4,7) #we can convert tuple in iterator using iter function \n",
    "next(iter(t))"
   ]
  },
  {
   "cell_type": "code",
   "execution_count": 23,
   "id": "334244a1",
   "metadata": {},
   "outputs": [],
   "source": [
    " r = range(6)"
   ]
  },
  {
   "cell_type": "code",
   "execution_count": 24,
   "id": "bbae8260",
   "metadata": {},
   "outputs": [
    {
     "data": {
      "text/plain": [
       "0"
      ]
     },
     "execution_count": 24,
     "metadata": {},
     "output_type": "execute_result"
    }
   ],
   "source": [
    "r = iter(r)\n",
    "next(r)"
   ]
  },
  {
   "cell_type": "code",
   "execution_count": 25,
   "id": "7074fc04",
   "metadata": {},
   "outputs": [],
   "source": [
    "aa = \"yash\",\"mohite\",\"isha\""
   ]
  },
  {
   "cell_type": "code",
   "execution_count": 26,
   "id": "67fa28ae",
   "metadata": {},
   "outputs": [],
   "source": [
    "aa = iter(aa)"
   ]
  },
  {
   "cell_type": "code",
   "execution_count": 27,
   "id": "6760fa27",
   "metadata": {},
   "outputs": [
    {
     "data": {
      "text/plain": [
       "'yash'"
      ]
     },
     "execution_count": 27,
     "metadata": {},
     "output_type": "execute_result"
    }
   ],
   "source": [
    "next(aa)"
   ]
  },
  {
   "cell_type": "code",
   "execution_count": 28,
   "id": "d25593c8",
   "metadata": {},
   "outputs": [],
   "source": [
    "seta = {1,2,3,6,4,7,8}"
   ]
  },
  {
   "cell_type": "code",
   "execution_count": 29,
   "id": "d1ac9dcf",
   "metadata": {},
   "outputs": [],
   "source": [
    "seta = iter(seta)"
   ]
  },
  {
   "cell_type": "code",
   "execution_count": 30,
   "id": "ac5893ac",
   "metadata": {},
   "outputs": [
    {
     "data": {
      "text/plain": [
       "1"
      ]
     },
     "execution_count": 30,
     "metadata": {},
     "output_type": "execute_result"
    }
   ],
   "source": [
    "next(seta)"
   ]
  },
  {
   "cell_type": "code",
   "execution_count": 31,
   "id": "a5b5b662",
   "metadata": {},
   "outputs": [],
   "source": [
    "dict1 = {\"a\":1,\"b\":2,\"c\":3,\"e\":4}"
   ]
  },
  {
   "cell_type": "code",
   "execution_count": 32,
   "id": "11fee436",
   "metadata": {},
   "outputs": [],
   "source": [
    "dict1 = iter(dict1)"
   ]
  },
  {
   "cell_type": "code",
   "execution_count": 33,
   "id": "54195b4b",
   "metadata": {},
   "outputs": [
    {
     "data": {
      "text/plain": [
       "'a'"
      ]
     },
     "execution_count": 33,
     "metadata": {},
     "output_type": "execute_result"
    }
   ],
   "source": [
    "next(dict1)"
   ]
  },
  {
   "cell_type": "code",
   "execution_count": 34,
   "id": "4dc0d739",
   "metadata": {},
   "outputs": [
    {
     "data": {
      "text/plain": [
       "[0, 2, 4, 6, 8, 10, 12, 14, 16, 18]"
      ]
     },
     "execution_count": 34,
     "metadata": {},
     "output_type": "execute_result"
    }
   ],
   "source": [
    "list(range(0,20,2))"
   ]
  },
  {
   "cell_type": "code",
   "execution_count": 35,
   "id": "fe2b4057",
   "metadata": {},
   "outputs": [],
   "source": [
    "def gencub(n):\n",
    "    l = []\n",
    "    for i in range(n):\n",
    "        l.append(i**3) #this is bad way to generat use more meamory\n",
    "    return l"
   ]
  },
  {
   "cell_type": "code",
   "execution_count": 36,
   "id": "761a3498",
   "metadata": {},
   "outputs": [
    {
     "data": {
      "text/plain": [
       "[0, 1, 8, 27, 64, 125, 216, 343, 512, 729]"
      ]
     },
     "execution_count": 36,
     "metadata": {},
     "output_type": "execute_result"
    }
   ],
   "source": [
    "gencub(10)"
   ]
  },
  {
   "cell_type": "code",
   "execution_count": 37,
   "id": "d319e9e5",
   "metadata": {},
   "outputs": [],
   "source": [
    "def gencub1(n):\n",
    "    for i in range(n):\n",
    "# here we use generator to generate on thr fly values\n",
    "        yield i**3"
   ]
  },
  {
   "cell_type": "code",
   "execution_count": 38,
   "id": "b1c14412",
   "metadata": {},
   "outputs": [],
   "source": [
    " g = gencub1(10)"
   ]
  },
  {
   "cell_type": "code",
   "execution_count": 39,
   "id": "5525ce63",
   "metadata": {},
   "outputs": [
    {
     "name": "stdout",
     "output_type": "stream",
     "text": [
      "0\n",
      "1\n",
      "8\n",
      "27\n",
      "64\n",
      "125\n",
      "216\n",
      "343\n",
      "512\n",
      "729\n"
     ]
    }
   ],
   "source": [
    "for i in g:\n",
    "    print(i)\n"
   ]
  },
  {
   "cell_type": "code",
   "execution_count": 62,
   "id": "060789c0",
   "metadata": {},
   "outputs": [],
   "source": [
    "def fibonaci(n):\n",
    "    a = 1\n",
    "    b = 1\n",
    "    output = []\n",
    "    for i in range(n):\n",
    "        output.append(a)#  generate fibonaci numbers\n",
    "        a,b = b , a+b\n",
    "    return output"
   ]
  },
  {
   "cell_type": "code",
   "execution_count": 66,
   "id": "d4f58d05",
   "metadata": {},
   "outputs": [
    {
     "data": {
      "text/plain": [
       "[1, 1, 2, 3, 5, 8, 13, 21, 34, 55]"
      ]
     },
     "execution_count": 66,
     "metadata": {},
     "output_type": "execute_result"
    }
   ],
   "source": [
    "fibonaci(10)"
   ]
  },
  {
   "cell_type": "code",
   "execution_count": null,
   "id": "5da8c3f3",
   "metadata": {},
   "outputs": [],
   "source": []
  },
  {
   "cell_type": "code",
   "execution_count": null,
   "id": "7f3fdaa7",
   "metadata": {},
   "outputs": [],
   "source": []
  }
 ],
 "metadata": {
  "kernelspec": {
   "display_name": "Python 3 (ipykernel)",
   "language": "python",
   "name": "python3"
  },
  "language_info": {
   "codemirror_mode": {
    "name": "ipython",
    "version": 3
   },
   "file_extension": ".py",
   "mimetype": "text/x-python",
   "name": "python",
   "nbconvert_exporter": "python",
   "pygments_lexer": "ipython3",
   "version": "3.10.6"
  }
 },
 "nbformat": 4,
 "nbformat_minor": 5
}
