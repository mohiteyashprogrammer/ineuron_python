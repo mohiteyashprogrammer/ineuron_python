{
 "cells": [
  {
   "cell_type": "code",
   "execution_count": 1,
   "id": "7ab28bae",
   "metadata": {},
   "outputs": [],
   "source": [
    "from mylist import List"
   ]
  },
  {
   "cell_type": "code",
   "execution_count": 3,
   "id": "a11fd53a",
   "metadata": {},
   "outputs": [],
   "source": [
    "lst  = List([1,4,7,8,5,6,3,2,4])"
   ]
  },
  {
   "cell_type": "code",
   "execution_count": 4,
   "id": "255fdf7f",
   "metadata": {},
   "outputs": [
    {
     "data": {
      "text/plain": [
       "[1, 4, 7, 8, 5, 6, 3, 2, 4]"
      ]
     },
     "execution_count": 4,
     "metadata": {},
     "output_type": "execute_result"
    }
   ],
   "source": [
    "lst.show_list()"
   ]
  },
  {
   "cell_type": "code",
   "execution_count": 5,
   "id": "4d3419fb",
   "metadata": {},
   "outputs": [],
   "source": [
    "lst.sort_list()"
   ]
  },
  {
   "cell_type": "code",
   "execution_count": 6,
   "id": "94a776e5",
   "metadata": {},
   "outputs": [
    {
     "data": {
      "text/plain": [
       "[1, 2, 3, 4, 4, 5, 6, 7, 8]"
      ]
     },
     "execution_count": 6,
     "metadata": {},
     "output_type": "execute_result"
    }
   ],
   "source": [
    "lst.show_list()"
   ]
  },
  {
   "cell_type": "code",
   "execution_count": 7,
   "id": "ae72f6d9",
   "metadata": {},
   "outputs": [],
   "source": [
    "lst.reverse_list()"
   ]
  },
  {
   "cell_type": "code",
   "execution_count": 8,
   "id": "1e9e3da8",
   "metadata": {},
   "outputs": [
    {
     "data": {
      "text/plain": [
       "[8, 7, 6, 5, 4, 4, 3, 2, 1]"
      ]
     },
     "execution_count": 8,
     "metadata": {},
     "output_type": "execute_result"
    }
   ],
   "source": [
    "lst.show_list()"
   ]
  },
  {
   "cell_type": "code",
   "execution_count": 18,
   "id": "a3b1beab",
   "metadata": {},
   "outputs": [],
   "source": [
    "lst.append_no([74,8,99,4,11,2,3,33])"
   ]
  },
  {
   "cell_type": "code",
   "execution_count": 21,
   "id": "6d9069ff",
   "metadata": {},
   "outputs": [
    {
     "data": {
      "text/plain": [
       "[8,\n",
       " 7,\n",
       " 6,\n",
       " 5,\n",
       " 4,\n",
       " 4,\n",
       " 3,\n",
       " 2,\n",
       " 1,\n",
       " [74, 8, 99, 4, 11, 2, 3, 33],\n",
       " [74, 8, 99, 4, 11, 2, 3, 33]]"
      ]
     },
     "execution_count": 21,
     "metadata": {},
     "output_type": "execute_result"
    }
   ],
   "source": [
    "lst.show_list()"
   ]
  },
  {
   "cell_type": "code",
   "execution_count": 22,
   "id": "7a9aa03e",
   "metadata": {},
   "outputs": [],
   "source": [
    "lst.remove_Element([74,8,99,4,11,2,3,33])"
   ]
  },
  {
   "cell_type": "code",
   "execution_count": 23,
   "id": "6dd098ce",
   "metadata": {},
   "outputs": [
    {
     "data": {
      "text/plain": [
       "[8, 7, 6, 5, 4, 4, 3, 2, 1, [74, 8, 99, 4, 11, 2, 3, 33]]"
      ]
     },
     "execution_count": 23,
     "metadata": {},
     "output_type": "execute_result"
    }
   ],
   "source": [
    "lst.show_list()"
   ]
  },
  {
   "cell_type": "code",
   "execution_count": 27,
   "id": "88f41e80",
   "metadata": {},
   "outputs": [
    {
     "data": {
      "text/plain": [
       "0"
      ]
     },
     "execution_count": 27,
     "metadata": {},
     "output_type": "execute_result"
    }
   ],
   "source": [
    "lst.find_index(8)"
   ]
  },
  {
   "cell_type": "code",
   "execution_count": 28,
   "id": "6d9acc20",
   "metadata": {},
   "outputs": [
    {
     "data": {
      "text/plain": [
       "[8, 7, 6, 5, 4, 4, 3, 2, 1, [74, 8, 99, 4, 11, 2, 3, 33]]"
      ]
     },
     "execution_count": 28,
     "metadata": {},
     "output_type": "execute_result"
    }
   ],
   "source": [
    "lst.copy_list()"
   ]
  },
  {
   "cell_type": "code",
   "execution_count": 30,
   "id": "d0da1bea",
   "metadata": {},
   "outputs": [
    {
     "data": {
      "text/plain": [
       "[74, 8, 99, 4, 11, 2, 3, 33]"
      ]
     },
     "execution_count": 30,
     "metadata": {},
     "output_type": "execute_result"
    }
   ],
   "source": [
    "lst.pop_Element(9)"
   ]
  },
  {
   "cell_type": "code",
   "execution_count": 31,
   "id": "d94d1c18",
   "metadata": {},
   "outputs": [
    {
     "data": {
      "text/plain": [
       "[8, 7, 6, 5, 4, 4, 3, 2, 1]"
      ]
     },
     "execution_count": 31,
     "metadata": {},
     "output_type": "execute_result"
    }
   ],
   "source": [
    "lst.show_list()"
   ]
  },
  {
   "cell_type": "code",
   "execution_count": 1,
   "id": "691aa2d9",
   "metadata": {},
   "outputs": [],
   "source": [
    "from mydict import Dictonary"
   ]
  },
  {
   "cell_type": "code",
   "execution_count": 4,
   "id": "9d38994a",
   "metadata": {},
   "outputs": [],
   "source": [
    "d = Dictonary({\"x\":123,\"y\":456,\"z\":78910})"
   ]
  },
  {
   "cell_type": "code",
   "execution_count": 6,
   "id": "8333cd90",
   "metadata": {},
   "outputs": [
    {
     "data": {
      "text/plain": [
       "{'x': 123, 'y': 456, 'z': 78910}"
      ]
     },
     "execution_count": 6,
     "metadata": {},
     "output_type": "execute_result"
    }
   ],
   "source": [
    "d.show_dict()"
   ]
  },
  {
   "cell_type": "code",
   "execution_count": 7,
   "id": "30da54bb",
   "metadata": {},
   "outputs": [
    {
     "data": {
      "text/plain": [
       "{'x': 123, 'y': 456, 'z': 78910}"
      ]
     },
     "execution_count": 7,
     "metadata": {},
     "output_type": "execute_result"
    }
   ],
   "source": [
    "d.copy_dict()"
   ]
  },
  {
   "cell_type": "code",
   "execution_count": 8,
   "id": "ac45742b",
   "metadata": {},
   "outputs": [
    {
     "data": {
      "text/plain": [
       "dict_items([('x', 123), ('y', 456), ('z', 78910)])"
      ]
     },
     "execution_count": 8,
     "metadata": {},
     "output_type": "execute_result"
    }
   ],
   "source": [
    "d.get_items()"
   ]
  },
  {
   "cell_type": "code",
   "execution_count": 9,
   "id": "0e296402",
   "metadata": {},
   "outputs": [
    {
     "data": {
      "text/plain": [
       "dict_keys(['x', 'y', 'z'])"
      ]
     },
     "execution_count": 9,
     "metadata": {},
     "output_type": "execute_result"
    }
   ],
   "source": [
    "d.get_keys()"
   ]
  },
  {
   "cell_type": "code",
   "execution_count": 11,
   "id": "7bb40c7c",
   "metadata": {},
   "outputs": [
    {
     "data": {
      "text/plain": [
       "123"
      ]
     },
     "execution_count": 11,
     "metadata": {},
     "output_type": "execute_result"
    }
   ],
   "source": [
    "d.get_value(\"x\")"
   ]
  },
  {
   "cell_type": "code",
   "execution_count": 12,
   "id": "db29f816",
   "metadata": {},
   "outputs": [
    {
     "data": {
      "text/plain": [
       "dict_values([123, 456, 78910])"
      ]
     },
     "execution_count": 12,
     "metadata": {},
     "output_type": "execute_result"
    }
   ],
   "source": [
    "d.get_values()"
   ]
  },
  {
   "cell_type": "code",
   "execution_count": 17,
   "id": "bc872da3",
   "metadata": {},
   "outputs": [],
   "source": [
    "d.insert_key_value(\"P\",8796)"
   ]
  },
  {
   "cell_type": "code",
   "execution_count": 19,
   "id": "e807f4d8",
   "metadata": {},
   "outputs": [
    {
     "data": {
      "text/plain": [
       "{'x': 123, 'y': 456, 'z': 78910, 'P': 8796}"
      ]
     },
     "execution_count": 19,
     "metadata": {},
     "output_type": "execute_result"
    }
   ],
   "source": [
    "d.show_dict()"
   ]
  },
  {
   "cell_type": "code",
   "execution_count": 23,
   "id": "ceb66524",
   "metadata": {},
   "outputs": [],
   "source": [
    "d.update_dict(a)"
   ]
  },
  {
   "cell_type": "code",
   "execution_count": 24,
   "id": "cb42077c",
   "metadata": {},
   "outputs": [],
   "source": [
    "a = {\"xzw\":100000}"
   ]
  },
  {
   "cell_type": "code",
   "execution_count": 25,
   "id": "e43ae1b5",
   "metadata": {},
   "outputs": [
    {
     "data": {
      "text/plain": [
       "{'x': 123, 'y': 456, 'z': 78910, 'P': 8796, 'xzw': 100000}"
      ]
     },
     "execution_count": 25,
     "metadata": {},
     "output_type": "execute_result"
    }
   ],
   "source": [
    "d.show_dict()"
   ]
  },
  {
   "cell_type": "code",
   "execution_count": null,
   "id": "88d97aac",
   "metadata": {},
   "outputs": [],
   "source": []
  }
 ],
 "metadata": {
  "kernelspec": {
   "display_name": "Python 3 (ipykernel)",
   "language": "python",
   "name": "python3"
  },
  "language_info": {
   "codemirror_mode": {
    "name": "ipython",
    "version": 3
   },
   "file_extension": ".py",
   "mimetype": "text/x-python",
   "name": "python",
   "nbconvert_exporter": "python",
   "pygments_lexer": "ipython3",
   "version": "3.10.6"
  }
 },
 "nbformat": 4,
 "nbformat_minor": 5
}
