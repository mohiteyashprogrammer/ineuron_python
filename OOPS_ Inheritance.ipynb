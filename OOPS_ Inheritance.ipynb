{
 "cells": [
  {
   "cell_type": "code",
   "execution_count": 1,
   "id": "88fdf11f",
   "metadata": {},
   "outputs": [],
   "source": [
    "# Ttype fo inheritance\n",
    "\n",
    "# 1. single inheritange\n",
    "# 2. multiple\n",
    "# 3. multi level\n",
    "# 4. hierarical\n",
    "# 5. hybride"
   ]
  },
  {
   "cell_type": "code",
   "execution_count": 3,
   "id": "6dee6ee4",
   "metadata": {},
   "outputs": [],
   "source": [
    "#single inharintance\n",
    "\n",
    "class parent:\n",
    "    def func(self):\n",
    "        print(\"hello from parent class\")\n",
    "\n",
    "        \n",
    "class child(parent):\n",
    "    def func1(self):\n",
    "        print(\"hello child\")"
   ]
  },
  {
   "cell_type": "code",
   "execution_count": 4,
   "id": "146b4be5",
   "metadata": {},
   "outputs": [],
   "source": [
    "test = child()"
   ]
  },
  {
   "cell_type": "code",
   "execution_count": 6,
   "id": "431d47e1",
   "metadata": {},
   "outputs": [
    {
     "name": "stdout",
     "output_type": "stream",
     "text": [
      "hello from parent class\n"
     ]
    }
   ],
   "source": [
    "test.func()"
   ]
  },
  {
   "cell_type": "code",
   "execution_count": 7,
   "id": "35b896f2",
   "metadata": {},
   "outputs": [
    {
     "name": "stdout",
     "output_type": "stream",
     "text": [
      "hello child\n"
     ]
    }
   ],
   "source": [
    "test.func1()"
   ]
  },
  {
   "cell_type": "code",
   "execution_count": 10,
   "id": "ca6ed9c2",
   "metadata": {},
   "outputs": [],
   "source": [
    "class ineuron:\n",
    "    com_website = \"145789\"\n",
    "    name = \"ineuron\"\n",
    "    def Contect_us(self):\n",
    "        print(f\"contect us {self.com_website}\")\n",
    "        \n",
    "class datascience(ineuron):\n",
    "    def __init__(self):\n",
    "        self.year_est = 2022\n",
    "    def estdetails(self):\n",
    "        print(\"details\",self.name,self.year_est)\n",
    "    \n"
   ]
  },
  {
   "cell_type": "code",
   "execution_count": 11,
   "id": "6dede9ed",
   "metadata": {},
   "outputs": [],
   "source": [
    "test2 = datascience()"
   ]
  },
  {
   "cell_type": "code",
   "execution_count": 12,
   "id": "25c53fd7",
   "metadata": {},
   "outputs": [
    {
     "name": "stdout",
     "output_type": "stream",
     "text": [
      "contect us 145789\n"
     ]
    }
   ],
   "source": [
    "test2.Contect_us()"
   ]
  },
  {
   "cell_type": "code",
   "execution_count": 14,
   "id": "1d85fe18",
   "metadata": {},
   "outputs": [
    {
     "name": "stdout",
     "output_type": "stream",
     "text": [
      "details ineuron 2022\n"
     ]
    }
   ],
   "source": [
    "test2.estdetails()"
   ]
  },
  {
   "cell_type": "code",
   "execution_count": 19,
   "id": "dbfa8a83",
   "metadata": {},
   "outputs": [],
   "source": [
    "# multiple inharintance\n",
    "\n",
    "class Parent1:\n",
    "    def fun(self):\n",
    "        print(\"hello1\")\n",
    "        \n",
    "class Parent2:\n",
    "    def fun2(self):\n",
    "        print(\"hello2\")\n",
    "        \n",
    "class child(Parent1,Parent2):\n",
    "    def fun3(self):\n",
    "        print(\"hello child\")"
   ]
  },
  {
   "cell_type": "code",
   "execution_count": 20,
   "id": "892c8b6d",
   "metadata": {},
   "outputs": [],
   "source": [
    "test3 = child()"
   ]
  },
  {
   "cell_type": "code",
   "execution_count": 21,
   "id": "e1b97aad",
   "metadata": {},
   "outputs": [
    {
     "name": "stdout",
     "output_type": "stream",
     "text": [
      "hello1\n"
     ]
    }
   ],
   "source": [
    "test3.fun()"
   ]
  },
  {
   "cell_type": "code",
   "execution_count": 22,
   "id": "e3a60ad1",
   "metadata": {},
   "outputs": [
    {
     "name": "stdout",
     "output_type": "stream",
     "text": [
      "hello2\n"
     ]
    }
   ],
   "source": [
    "test3.fun2()"
   ]
  },
  {
   "cell_type": "code",
   "execution_count": 23,
   "id": "1e644509",
   "metadata": {},
   "outputs": [
    {
     "name": "stdout",
     "output_type": "stream",
     "text": [
      "hello child\n"
     ]
    }
   ],
   "source": [
    "test3.fun3()"
   ]
  },
  {
   "cell_type": "code",
   "execution_count": 35,
   "id": "3372aa87",
   "metadata": {},
   "outputs": [],
   "source": [
    "class Batch_no:\n",
    "    \n",
    "    batchnum = \"\"\n",
    "    def __init__(self,a,b,c):\n",
    "        self.a = a\n",
    "        self.b=b\n",
    "        self.c=c\n",
    "        \n",
    "    def Batch(self):\n",
    "        print(self.batchnum)\n",
    "        \n",
    "class Cource_name:\n",
    "    cname= \"\"\n",
    "    def cource(self):\n",
    "        print(self.cname)\n",
    "        \n",
    "class Student(Batch_no,Cource_name):\n",
    "    def show(self):\n",
    "        print(\"batch\", self.batchnum)\n",
    "        print(\"cource\", self.cname)"
   ]
  },
  {
   "cell_type": "code",
   "execution_count": 36,
   "id": "436d4c61",
   "metadata": {},
   "outputs": [],
   "source": [
    "test4 = Student(1,2,3,)"
   ]
  },
  {
   "cell_type": "code",
   "execution_count": 37,
   "id": "59eb1fa2",
   "metadata": {},
   "outputs": [],
   "source": [
    "test4.batchnum = 45"
   ]
  },
  {
   "cell_type": "code",
   "execution_count": null,
   "id": "082ea751",
   "metadata": {},
   "outputs": [],
   "source": []
  },
  {
   "cell_type": "code",
   "execution_count": 38,
   "id": "3707784d",
   "metadata": {},
   "outputs": [],
   "source": [
    "test4.cname = \"data science\""
   ]
  },
  {
   "cell_type": "code",
   "execution_count": 42,
   "id": "584b7fb5",
   "metadata": {},
   "outputs": [
    {
     "data": {
      "text/plain": [
       "45"
      ]
     },
     "execution_count": 42,
     "metadata": {},
     "output_type": "execute_result"
    }
   ],
   "source": [
    "test4.batchnum"
   ]
  },
  {
   "cell_type": "code",
   "execution_count": 43,
   "id": "14802781",
   "metadata": {},
   "outputs": [
    {
     "data": {
      "text/plain": [
       "'data science'"
      ]
     },
     "execution_count": 43,
     "metadata": {},
     "output_type": "execute_result"
    }
   ],
   "source": [
    "test4.cname"
   ]
  },
  {
   "cell_type": "code",
   "execution_count": 51,
   "id": "9e54ddba",
   "metadata": {},
   "outputs": [],
   "source": [
    "class Person:\n",
    "    def __init__(self,name,age,skills):\n",
    "        self.__name = name\n",
    "        self.__age = age\n",
    "        self.__skills = skills\n",
    "        \n",
    "    def Details(self):\n",
    "        print(\"my name is:\",self.__name)\n",
    "        print(\"my age is:\",self.__age)\n",
    "        print(\"my skills are:\",self.__skills)\n",
    "        \n",
    "class Company:\n",
    "    \n",
    "    def work(self):\n",
    "        print(\"conmpany is looking fore data scientist\")\n",
    "\n",
    "class Employee(Person,Company):\n",
    "    def work1(self):\n",
    "        print(\"i work or morningstar as data scientist\")"
   ]
  },
  {
   "cell_type": "code",
   "execution_count": 52,
   "id": "2627ea1f",
   "metadata": {},
   "outputs": [],
   "source": [
    "emp  = Employee(\"yash mohite\",22,\"Data scientist\")"
   ]
  },
  {
   "cell_type": "code",
   "execution_count": 53,
   "id": "f21a7bb9",
   "metadata": {},
   "outputs": [
    {
     "name": "stdout",
     "output_type": "stream",
     "text": [
      "my name is: yash mohite\n",
      "my age is: 22\n",
      "my skills are: Data scientist\n"
     ]
    }
   ],
   "source": [
    "emp.Details()"
   ]
  },
  {
   "cell_type": "code",
   "execution_count": 54,
   "id": "1a27c99b",
   "metadata": {},
   "outputs": [
    {
     "name": "stdout",
     "output_type": "stream",
     "text": [
      "conmpany is looking fore data scientist\n"
     ]
    }
   ],
   "source": [
    "emp.work()"
   ]
  },
  {
   "cell_type": "code",
   "execution_count": 56,
   "id": "390eaae5",
   "metadata": {},
   "outputs": [
    {
     "name": "stdout",
     "output_type": "stream",
     "text": [
      "i work or morningstar as data scientist\n"
     ]
    }
   ],
   "source": [
    "emp.work1()"
   ]
  },
  {
   "cell_type": "code",
   "execution_count": 57,
   "id": "e8ceac67",
   "metadata": {},
   "outputs": [],
   "source": [
    "# multi level\n",
    "\n",
    "class T1:\n",
    "    def a(self):\n",
    "        print(\"inside T1\")\n",
    "        \n",
    "class T2(T1):\n",
    "    def b(self):\n",
    "        print(\"inside T2\")\n",
    "        \n",
    "class T3(T2):\n",
    "    def c(self):\n",
    "        print(\"inside T3\")\n",
    "    \n"
   ]
  },
  {
   "cell_type": "code",
   "execution_count": 58,
   "id": "92baa460",
   "metadata": {},
   "outputs": [],
   "source": [
    "o = T3()"
   ]
  },
  {
   "cell_type": "code",
   "execution_count": 59,
   "id": "f25ebb7b",
   "metadata": {},
   "outputs": [
    {
     "name": "stdout",
     "output_type": "stream",
     "text": [
      "inside T1\n"
     ]
    }
   ],
   "source": [
    "o.a()"
   ]
  },
  {
   "cell_type": "code",
   "execution_count": 60,
   "id": "7e224652",
   "metadata": {},
   "outputs": [
    {
     "name": "stdout",
     "output_type": "stream",
     "text": [
      "inside T2\n"
     ]
    }
   ],
   "source": [
    "o.b()"
   ]
  },
  {
   "cell_type": "code",
   "execution_count": 61,
   "id": "25b88f73",
   "metadata": {},
   "outputs": [
    {
     "name": "stdout",
     "output_type": "stream",
     "text": [
      "inside T3\n"
     ]
    }
   ],
   "source": [
    "o.c()"
   ]
  },
  {
   "cell_type": "code",
   "execution_count": 66,
   "id": "5831eb31",
   "metadata": {},
   "outputs": [],
   "source": [
    "class Vehicle:\n",
    "    \n",
    "    def info(self):\n",
    "        print(\"inside vehicle class\")\n",
    "        \n",
    "class Car1(Vehicle):\n",
    "    def car_info(self):\n",
    "        print(\"inside car class\")\n",
    "        \n",
    "class Spotes_car(Vehicle,Car):\n",
    "    def sports_info(self):\n",
    "        print(\"inside sportscar class\")\n",
    "            \n",
    "        "
   ]
  },
  {
   "cell_type": "code",
   "execution_count": 67,
   "id": "7c0a98a1",
   "metadata": {},
   "outputs": [],
   "source": [
    "a = Spotes_car()"
   ]
  },
  {
   "cell_type": "code",
   "execution_count": 68,
   "id": "c6b9fc71",
   "metadata": {},
   "outputs": [
    {
     "name": "stdout",
     "output_type": "stream",
     "text": [
      "inside car class\n"
     ]
    }
   ],
   "source": [
    "a.car_info()"
   ]
  },
  {
   "cell_type": "code",
   "execution_count": 69,
   "id": "7f6e6b50",
   "metadata": {},
   "outputs": [
    {
     "name": "stdout",
     "output_type": "stream",
     "text": [
      "inside vehicle class\n"
     ]
    }
   ],
   "source": [
    "a.info()"
   ]
  },
  {
   "cell_type": "code",
   "execution_count": 70,
   "id": "f27c80b2",
   "metadata": {},
   "outputs": [
    {
     "name": "stdout",
     "output_type": "stream",
     "text": [
      "inside sportscar class\n"
     ]
    }
   ],
   "source": [
    "a.sports_info()"
   ]
  },
  {
   "cell_type": "code",
   "execution_count": 86,
   "id": "d8c9a489",
   "metadata": {},
   "outputs": [],
   "source": [
    "class Phone:\n",
    "    \n",
    "    def __init__(self,brand,model,price):\n",
    "        self.__brand =brand\n",
    "        self.__model =model\n",
    "        self.__price = price\n",
    "        \n",
    "    def spe(self):\n",
    "        return \"brand\",self.__brand, \"price\",self.__price\n",
    "    \n",
    "    def typephone(self):\n",
    "        if self.__price < 30000:\n",
    "            return \"this is not flagship phone\"\n",
    "        else:\n",
    "            return \"this is flagshyip phine\"\n",
    "        \n",
    "class SmartPhones(Phone):\n",
    "    \n",
    "    def __init__(self,brand,model,price,ram,storage):\n",
    "        super().__init__(brand,model,price)\n",
    "        self.__ram = ram\n",
    "        self.__storage =storage\n",
    "        \n",
    "        \n",
    "class FlashshipPhones(SmartPhones):\n",
    "    \n",
    "    def __init__(self,brand,model,price,ram,storage,frontcam,backcam,display):\n",
    "        super().__init__(brand,model,price,ram,storage)\n",
    "        self.__frontcam =frontcam\n",
    "        self.__backcam =backcam\n",
    "        self.__display = display\n",
    "    "
   ]
  },
  {
   "cell_type": "code",
   "execution_count": 87,
   "id": "4bcd6216",
   "metadata": {},
   "outputs": [],
   "source": [
    "p = FlashshipPhones(\"iphone\",\"model14\",150000,25,256,12,\"12+12+45\",\"OLED\")"
   ]
  },
  {
   "cell_type": "code",
   "execution_count": 88,
   "id": "d41e1dc3",
   "metadata": {},
   "outputs": [
    {
     "data": {
      "text/plain": [
       "'this is flagshyip phine'"
      ]
     },
     "execution_count": 88,
     "metadata": {},
     "output_type": "execute_result"
    }
   ],
   "source": [
    "p.typephone()"
   ]
  },
  {
   "cell_type": "code",
   "execution_count": 89,
   "id": "23a9f71a",
   "metadata": {},
   "outputs": [
    {
     "data": {
      "text/plain": [
       "('brand', 'iphone', 'price', 150000)"
      ]
     },
     "execution_count": 89,
     "metadata": {},
     "output_type": "execute_result"
    }
   ],
   "source": [
    "p.spe()"
   ]
  },
  {
   "cell_type": "code",
   "execution_count": 121,
   "id": "7cb8c523",
   "metadata": {},
   "outputs": [],
   "source": [
    "# hierarical\n",
    "\n",
    "class Gadi:\n",
    "    def info(self):\n",
    "        print(\"this is Gadi\")\n",
    "        \n",
    "class Gadis(Gadi):\n",
    "    def infoo(self,name):\n",
    "        print(\"name\",name)\n",
    "        \n",
    "class Truck(Gadi):\n",
    "    def infoo1(self,name):\n",
    "        print(\"tname\",name)"
   ]
  },
  {
   "cell_type": "code",
   "execution_count": 122,
   "id": "8631796a",
   "metadata": {},
   "outputs": [],
   "source": [
    "s1 = Gadis()"
   ]
  },
  {
   "cell_type": "code",
   "execution_count": 123,
   "id": "d74e2700",
   "metadata": {},
   "outputs": [
    {
     "name": "stdout",
     "output_type": "stream",
     "text": [
      "this is Gadi\n"
     ]
    }
   ],
   "source": [
    "s1.info()"
   ]
  },
  {
   "cell_type": "code",
   "execution_count": 124,
   "id": "8516aed2",
   "metadata": {},
   "outputs": [
    {
     "name": "stdout",
     "output_type": "stream",
     "text": [
      "name bmw\n"
     ]
    }
   ],
   "source": [
    "s1.infoo(\"bmw\")"
   ]
  },
  {
   "cell_type": "code",
   "execution_count": 126,
   "id": "00c4cd6e",
   "metadata": {},
   "outputs": [],
   "source": [
    "c = Truck()"
   ]
  },
  {
   "cell_type": "code",
   "execution_count": 128,
   "id": "802752f3",
   "metadata": {},
   "outputs": [
    {
     "name": "stdout",
     "output_type": "stream",
     "text": [
      "tname tata\n"
     ]
    }
   ],
   "source": [
    "c.infoo1(\"tata\")"
   ]
  },
  {
   "cell_type": "code",
   "execution_count": 132,
   "id": "e11bde2d",
   "metadata": {},
   "outputs": [],
   "source": [
    "# 5. hybride\n",
    "class Gadi:\n",
    "    def info(self):\n",
    "        print(\"this is Gadi\")\n",
    "        \n",
    "class Gadis(Gadi):\n",
    "    def infoo(self,name):\n",
    "        print(\"name\",name)\n",
    "        \n",
    "class Truck(Gadi):\n",
    "    def infoo1(self,name):\n",
    "        print(\"tname\",name)\n",
    "        \n",
    "class SpostsGadi(Gadis,Gadi):\n",
    "    def Sp_info(self):\n",
    "        print(\"this is sp car in inside sp\")"
   ]
  },
  {
   "cell_type": "code",
   "execution_count": 133,
   "id": "d45a8be4",
   "metadata": {},
   "outputs": [],
   "source": [
    "c1 = SpostsGadi()"
   ]
  },
  {
   "cell_type": "code",
   "execution_count": 135,
   "id": "10067728",
   "metadata": {},
   "outputs": [
    {
     "name": "stdout",
     "output_type": "stream",
     "text": [
      "this is sp car in inside sp\n"
     ]
    }
   ],
   "source": [
    "c1.Sp_info()"
   ]
  },
  {
   "cell_type": "code",
   "execution_count": 136,
   "id": "c1076c44",
   "metadata": {},
   "outputs": [],
   "source": [
    "# super() is used when need to build class that extend the functionality of previosly build classess\n",
    "# super() function in python use to acess method of immediate parent class"
   ]
  },
  {
   "cell_type": "code",
   "execution_count": 138,
   "id": "46742ab6",
   "metadata": {},
   "outputs": [],
   "source": [
    "class Prnt:\n",
    "    \n",
    "    def __init__(self,a1,a2):\n",
    "        self.a1 =a1\n",
    "        self.a2 =a2\n",
    "        \n",
    "class child5(Prnt):\n",
    "    \n",
    "    def __init__(self,a1,a2,a3):\n",
    "        super().__init__(a1,a2)\n",
    "        self.a3 =a3"
   ]
  },
  {
   "cell_type": "code",
   "execution_count": 139,
   "id": "96458244",
   "metadata": {},
   "outputs": [],
   "source": [
    "r = child5(12,3,6)"
   ]
  },
  {
   "cell_type": "code",
   "execution_count": 142,
   "id": "2ff12875",
   "metadata": {},
   "outputs": [
    {
     "data": {
      "text/plain": [
       "3"
      ]
     },
     "execution_count": 142,
     "metadata": {},
     "output_type": "execute_result"
    }
   ],
   "source": [
    "r.a2"
   ]
  },
  {
   "cell_type": "code",
   "execution_count": null,
   "id": "096d9b4e",
   "metadata": {},
   "outputs": [],
   "source": []
  }
 ],
 "metadata": {
  "kernelspec": {
   "display_name": "Python 3 (ipykernel)",
   "language": "python",
   "name": "python3"
  },
  "language_info": {
   "codemirror_mode": {
    "name": "ipython",
    "version": 3
   },
   "file_extension": ".py",
   "mimetype": "text/x-python",
   "name": "python",
   "nbconvert_exporter": "python",
   "pygments_lexer": "ipython3",
   "version": "3.10.6"
  }
 },
 "nbformat": 4,
 "nbformat_minor": 5
}
