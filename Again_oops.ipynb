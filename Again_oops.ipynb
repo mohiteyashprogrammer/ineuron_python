{
 "cells": [
  {
   "cell_type": "code",
   "execution_count": 1,
   "id": "1d9eaf84",
   "metadata": {},
   "outputs": [],
   "source": [
    "class Test:\n",
    "    def Method(self):\n",
    "        return \"this is my function\"      "
   ]
  },
  {
   "cell_type": "code",
   "execution_count": 2,
   "id": "e677efcc",
   "metadata": {},
   "outputs": [],
   "source": [
    "a  = Test()"
   ]
  },
  {
   "cell_type": "code",
   "execution_count": 3,
   "id": "6a03800c",
   "metadata": {},
   "outputs": [
    {
     "data": {
      "text/plain": [
       "'this is my function'"
      ]
     },
     "execution_count": 3,
     "metadata": {},
     "output_type": "execute_result"
    }
   ],
   "source": [
    "a.Method()"
   ]
  },
  {
   "cell_type": "code",
   "execution_count": 4,
   "id": "e6267328",
   "metadata": {},
   "outputs": [],
   "source": [
    "class Test1:\n",
    "    @staticmethod\n",
    "    def method1():#without self static method will work\n",
    "        return \"this is the method without creating objrct\"\n",
    "    \n",
    "    def method2(self):\n",
    "        return \"this is method without static\""
   ]
  },
  {
   "cell_type": "code",
   "execution_count": 5,
   "id": "23034a89",
   "metadata": {},
   "outputs": [],
   "source": [
    "b = Test1()"
   ]
  },
  {
   "cell_type": "code",
   "execution_count": 6,
   "id": "462f25c1",
   "metadata": {},
   "outputs": [
    {
     "data": {
      "text/plain": [
       "'this is the method without creating objrct'"
      ]
     },
     "execution_count": 6,
     "metadata": {},
     "output_type": "execute_result"
    }
   ],
   "source": [
    "b.method1()"
   ]
  },
  {
   "cell_type": "code",
   "execution_count": 7,
   "id": "85791574",
   "metadata": {},
   "outputs": [
    {
     "data": {
      "text/plain": [
       "'this is method without static'"
      ]
     },
     "execution_count": 7,
     "metadata": {},
     "output_type": "execute_result"
    }
   ],
   "source": [
    "b.method2()"
   ]
  },
  {
   "cell_type": "code",
   "execution_count": 8,
   "id": "6226e6af",
   "metadata": {},
   "outputs": [
    {
     "data": {
      "text/plain": [
       "'this is the method without creating objrct'"
      ]
     },
     "execution_count": 8,
     "metadata": {},
     "output_type": "execute_result"
    }
   ],
   "source": [
    "Test1.method1()# without using object me acess method "
   ]
  },
  {
   "cell_type": "code",
   "execution_count": 9,
   "id": "0653bf83",
   "metadata": {},
   "outputs": [],
   "source": [
    " class Test2:\n",
    "        \n",
    "        def __init__(self,a,b,c):\n",
    "            self.a = a\n",
    "            self.b = b\n",
    "            self.c = c\n",
    "            \n",
    "        def method1(self):\n",
    "            return \"method 1\"\n",
    "        \n",
    "        def method2(self,n):\n",
    "            return n\n",
    "        \n",
    "        def method3(self,m):\n",
    "            return m"
   ]
  },
  {
   "cell_type": "code",
   "execution_count": 10,
   "id": "c58b5377",
   "metadata": {},
   "outputs": [],
   "source": [
    "a = Test2(\"yash\",14,\"mohite\")"
   ]
  },
  {
   "cell_type": "code",
   "execution_count": 11,
   "id": "7cdcf6f2",
   "metadata": {},
   "outputs": [],
   "source": [
    "b = Test2(\"isha\",24,\"gohil\")"
   ]
  },
  {
   "cell_type": "code",
   "execution_count": 12,
   "id": "9202c5df",
   "metadata": {},
   "outputs": [],
   "source": [
    "c = Test2(\"rutuja\",28,\"rane\")"
   ]
  },
  {
   "cell_type": "code",
   "execution_count": 13,
   "id": "43fb5815",
   "metadata": {},
   "outputs": [
    {
     "data": {
      "text/plain": [
       "34"
      ]
     },
     "execution_count": 13,
     "metadata": {},
     "output_type": "execute_result"
    }
   ],
   "source": [
    "a.method3(34)"
   ]
  },
  {
   "cell_type": "code",
   "execution_count": 14,
   "id": "78ce7fbf",
   "metadata": {},
   "outputs": [],
   "source": [
    "class Parent1:#multipal \n",
    "    \n",
    "    def parent_method1(self):\n",
    "        return \"give parent method1\"\n",
    "    \n",
    "class Parent2:\n",
    "    \n",
    "    def parent_method2(self):\n",
    "        return \"give parent method2\"\n",
    "    \n",
    "class Parent3:\n",
    "    def parent_method3(self):\n",
    "        return \"give parent method3\"\n",
    "    \n",
    "class Child(Parent1,Parent2,Parent3):\n",
    "    def child_method(self):\n",
    "        return \"give chile method\""
   ]
  },
  {
   "cell_type": "code",
   "execution_count": 15,
   "id": "e328c18b",
   "metadata": {},
   "outputs": [],
   "source": [
    "a = Child()"
   ]
  },
  {
   "cell_type": "code",
   "execution_count": 16,
   "id": "0328129b",
   "metadata": {},
   "outputs": [
    {
     "data": {
      "text/plain": [
       "'give parent method1'"
      ]
     },
     "execution_count": 16,
     "metadata": {},
     "output_type": "execute_result"
    }
   ],
   "source": [
    "a.parent_method1()"
   ]
  },
  {
   "cell_type": "code",
   "execution_count": 17,
   "id": "1a8da373",
   "metadata": {},
   "outputs": [
    {
     "data": {
      "text/plain": [
       "'give chile method'"
      ]
     },
     "execution_count": 17,
     "metadata": {},
     "output_type": "execute_result"
    }
   ],
   "source": [
    "a.child_method()"
   ]
  },
  {
   "cell_type": "code",
   "execution_count": 18,
   "id": "eaf12f73",
   "metadata": {},
   "outputs": [],
   "source": [
    "class G1:#multilevel\n",
    "    \n",
    "    def parent_method1(self):\n",
    "        return \"give parent method1\"\n",
    "    \n",
    "class G2(G1):\n",
    "    \n",
    "    def parent_method2(self):\n",
    "        return \"give parent method2\"\n",
    "    \n",
    "class G3(G2):\n",
    "    def parent_method3(self):\n",
    "        return \"give parent method3\"\n",
    "    \n",
    "class C(G3):\n",
    "    def child_method(self):\n",
    "        return \"give chile method\""
   ]
  },
  {
   "cell_type": "code",
   "execution_count": 19,
   "id": "e2466827",
   "metadata": {},
   "outputs": [],
   "source": [
    "x = C()"
   ]
  },
  {
   "cell_type": "code",
   "execution_count": 20,
   "id": "7559237a",
   "metadata": {},
   "outputs": [
    {
     "data": {
      "text/plain": [
       "'give parent method1'"
      ]
     },
     "execution_count": 20,
     "metadata": {},
     "output_type": "execute_result"
    }
   ],
   "source": [
    "x.parent_method1()"
   ]
  },
  {
   "cell_type": "code",
   "execution_count": 21,
   "id": "41443141",
   "metadata": {},
   "outputs": [
    {
     "data": {
      "text/plain": [
       "'give chile method'"
      ]
     },
     "execution_count": 21,
     "metadata": {},
     "output_type": "execute_result"
    }
   ],
   "source": [
    "x.child_method()"
   ]
  },
  {
   "cell_type": "code",
   "execution_count": 22,
   "id": "80d4bd47",
   "metadata": {},
   "outputs": [
    {
     "data": {
      "text/plain": [
       "'give parent method2'"
      ]
     },
     "execution_count": 22,
     "metadata": {},
     "output_type": "execute_result"
    }
   ],
   "source": [
    "x.parent_method2()"
   ]
  },
  {
   "cell_type": "code",
   "execution_count": 23,
   "id": "18343238",
   "metadata": {},
   "outputs": [],
   "source": [
    "class T1:  #method overiding\n",
    "    def met(self):\n",
    "        return \"test method\"\n",
    "    \n",
    "class T2:\n",
    "    def met(self):\n",
    "        return \"test method2\"\n",
    "    \n",
    "class T3(T1):\n",
    "    def met(self):\n",
    "        return \"test method3\"    "
   ]
  },
  {
   "cell_type": "code",
   "execution_count": 24,
   "id": "c9bb8a2b",
   "metadata": {},
   "outputs": [],
   "source": [
    "y = T3()"
   ]
  },
  {
   "cell_type": "code",
   "execution_count": 25,
   "id": "656a489e",
   "metadata": {},
   "outputs": [
    {
     "data": {
      "text/plain": [
       "'test method3'"
      ]
     },
     "execution_count": 25,
     "metadata": {},
     "output_type": "execute_result"
    }
   ],
   "source": [
    "y.met()"
   ]
  },
  {
   "cell_type": "code",
   "execution_count": 26,
   "id": "1d01fa21",
   "metadata": {},
   "outputs": [],
   "source": [
    "# over loding is a situation where number of argument and data type will be different\n",
    "# overiding is a situation were signature of the  function means name and parameter will just chnage the def of the function"
   ]
  },
  {
   "cell_type": "code",
   "execution_count": 27,
   "id": "356335f1",
   "metadata": {},
   "outputs": [],
   "source": [
    "# create a file class reading a data from of the file with a method name read write\n",
    "\n",
    "class File:\n",
    "    def __init__(self,filename):\n",
    "        self.filename = filename\n",
    "    \n",
    "    def reading(self):\n",
    "        try:\n",
    "            with open(self.filename,\"r\") as f:\n",
    "                data = f.read()\n",
    "                return data\n",
    "        except FileNotFoundError as e:\n",
    "            print(e)   \n",
    "            \n",
    "     \n",
    "    def writing(self,data1):\n",
    "        try:\n",
    "            with open(self.filename,\"a\") as f:\n",
    "                data = f.write(data1)\n",
    "                return data\n",
    "        except Exception as e:\n",
    "            print(e)        "
   ]
  },
  {
   "cell_type": "code",
   "execution_count": 28,
   "id": "298cc3b3",
   "metadata": {},
   "outputs": [],
   "source": [
    "r = File(\"test.txt\")"
   ]
  },
  {
   "cell_type": "code",
   "execution_count": 29,
   "id": "256bbc42",
   "metadata": {},
   "outputs": [
    {
     "data": {
      "text/plain": [
       "'this is yash mohite /n kesa lagh raha hai phirthis is yash mohite /n kesa lagh raha hai phirthis is yash mohite /n kesa lagh raha hai phirthis is yash mohite /n kesa lagh raha hai phirthis is yash mohite /n kesa lagh raha hai phirthis is yash mohite /n kesa lagh raha hai phir'"
      ]
     },
     "execution_count": 29,
     "metadata": {},
     "output_type": "execute_result"
    }
   ],
   "source": [
    "r.reading()"
   ]
  },
  {
   "cell_type": "code",
   "execution_count": 30,
   "id": "5dfdaf3f",
   "metadata": {},
   "outputs": [
    {
     "data": {
      "text/plain": [
       "46"
      ]
     },
     "execution_count": 30,
     "metadata": {},
     "output_type": "execute_result"
    }
   ],
   "source": [
    "r.writing(\"this is yash mohite /n kesa lagh raha hai phir\")"
   ]
  },
  {
   "cell_type": "code",
   "execution_count": 31,
   "id": "5bce64ef",
   "metadata": {},
   "outputs": [],
   "source": [
    "class ListSearch:\n",
    "    \n",
    "    def __init__(self,data):\n",
    "        self.data = data\n",
    "        \n",
    "    def search(self,element):\n",
    "        \n",
    "        if element in self.data:\n",
    "            return True\n",
    "        else:\n",
    "            return False"
   ]
  },
  {
   "cell_type": "code",
   "execution_count": 32,
   "id": "1ba4756e",
   "metadata": {},
   "outputs": [],
   "source": [
    "lst = ListSearch([1,2,3,6,5,4,7,8])"
   ]
  },
  {
   "cell_type": "code",
   "execution_count": 33,
   "id": "63577c87",
   "metadata": {},
   "outputs": [
    {
     "data": {
      "text/plain": [
       "False"
      ]
     },
     "execution_count": 33,
     "metadata": {},
     "output_type": "execute_result"
    }
   ],
   "source": [
    "lst.search(100)"
   ]
  },
  {
   "cell_type": "code",
   "execution_count": 34,
   "id": "86502e96",
   "metadata": {},
   "outputs": [
    {
     "data": {
      "text/plain": [
       "True"
      ]
     },
     "execution_count": 34,
     "metadata": {},
     "output_type": "execute_result"
    }
   ],
   "source": [
    "lst.search(5)"
   ]
  },
  {
   "cell_type": "code",
   "execution_count": 35,
   "id": "9bcb6933",
   "metadata": {},
   "outputs": [],
   "source": [
    "class Company:\n",
    "    \n",
    "    def __init__(self,comp_name,comp_revanu,founder):\n",
    "        self.comp_name = comp_name\n",
    "        self.__comp_revanu = comp_revanu\n",
    "        self.founder = founder\n",
    "        \n",
    "    def company_details(self):\n",
    "        print(f\"Company Name is {self.comp_name}\")\n",
    "        print(f\"Revenue of company is {self.__comp_revanu}\")\n",
    "        print(f\"The Founder of the company is {self.founder}\")\n",
    "        \n",
    "    def employee(self,ep_id,employ_name,salary,job_role):\n",
    "        self.ep_id = ep_id\n",
    "        self.employ_name = employ_name\n",
    "        self.salary = salary\n",
    "        self.job_role = job_role\n",
    "        a = f\"employee name is {self.employ_name}\"\n",
    "        b = f\"Your employee id is {self.ep_id}\"\n",
    "        c = f\"Employee salary is {self.salary}\"\n",
    "        d = F\"{self.employ_name} is working in this company as {self.job_role}\"\n",
    "        return a,b,c,d"
   ]
  },
  {
   "cell_type": "code",
   "execution_count": 36,
   "id": "dfd27c77",
   "metadata": {},
   "outputs": [],
   "source": [
    "x = Company(\"Ineuron\",\"3CR\",\"sudanshu Kumar\")"
   ]
  },
  {
   "cell_type": "code",
   "execution_count": 37,
   "id": "f152b2f4",
   "metadata": {},
   "outputs": [
    {
     "name": "stdout",
     "output_type": "stream",
     "text": [
      "Company Name is Ineuron\n",
      "Revenue of company is 3CR\n",
      "The Founder of the company is sudanshu Kumar\n"
     ]
    }
   ],
   "source": [
    "x.company_details()"
   ]
  },
  {
   "cell_type": "code",
   "execution_count": 38,
   "id": "abc76369",
   "metadata": {},
   "outputs": [
    {
     "data": {
      "text/plain": [
       "('employee name is yash mohite',\n",
       " 'Your employee id is 1424',\n",
       " 'Employee salary is 75000',\n",
       " 'yash mohite is working in this company as Data Scientist')"
      ]
     },
     "execution_count": 38,
     "metadata": {},
     "output_type": "execute_result"
    }
   ],
   "source": [
    "x.employee(1424,\"yash mohite\",75000,\"Data Scientist\")"
   ]
  },
  {
   "cell_type": "code",
   "execution_count": 39,
   "id": "795e7e41",
   "metadata": {},
   "outputs": [],
   "source": [
    "class List_parser:\n",
    "    \n",
    "    def __init__(self, l):\n",
    "        self.l = l\n",
    "        \n",
    "    def parcer(self):\n",
    "        if type(self.l) == list:\n",
    "            for i in self.l:\n",
    "                print(i)\n",
    "                \n",
    "    def reverser(self):\n",
    "        a = self.l[::-1]\n",
    "        return a\n",
    "                \n",
    "        \n",
    "        "
   ]
  },
  {
   "cell_type": "code",
   "execution_count": 40,
   "id": "f614f8db",
   "metadata": {},
   "outputs": [],
   "source": [
    "a = List_parser([1,2,3,6,5,4,7,8])"
   ]
  },
  {
   "cell_type": "code",
   "execution_count": 41,
   "id": "721f0240",
   "metadata": {},
   "outputs": [
    {
     "name": "stdout",
     "output_type": "stream",
     "text": [
      "1\n",
      "2\n",
      "3\n",
      "6\n",
      "5\n",
      "4\n",
      "7\n",
      "8\n"
     ]
    }
   ],
   "source": [
    "a.parcer()"
   ]
  },
  {
   "cell_type": "code",
   "execution_count": 42,
   "id": "67dc94a8",
   "metadata": {},
   "outputs": [],
   "source": [
    "a = List_parser(\"yash mohite\")"
   ]
  },
  {
   "cell_type": "code",
   "execution_count": 43,
   "id": "49d2113c",
   "metadata": {},
   "outputs": [
    {
     "data": {
      "text/plain": [
       "'etihom hsay'"
      ]
     },
     "execution_count": 43,
     "metadata": {},
     "output_type": "execute_result"
    }
   ],
   "source": [
    "a.reverser()"
   ]
  },
  {
   "cell_type": "code",
   "execution_count": 44,
   "id": "b9584ffa",
   "metadata": {},
   "outputs": [],
   "source": [
    "class Dictonary_parsing:\n",
    "    \n",
    "    def __init__(self,d):\n",
    "        self.d = d\n",
    "        \n",
    "    def give_keys(self):\n",
    "        if type(self.d) == dict:\n",
    "            return list(self.d.keys())\n",
    "        \n",
    "    def give_values(self):\n",
    "        if type(self.d) == dict:\n",
    "            return list(self.d.values())\n",
    "        \n",
    "    def notdict(self):\n",
    "        if type(self.d) != dict:\n",
    "            raise Exception(self.d,\"Not Dictionary\")\n",
    "        return 1\n",
    "    \n",
    "    def insert_key_value(self,key,value):\n",
    "         self.d[key] = value\n",
    "        \n",
    "        "
   ]
  },
  {
   "cell_type": "code",
   "execution_count": 45,
   "id": "76441670",
   "metadata": {},
   "outputs": [],
   "source": [
    "x = Dictonary_parsing({\"a\":\"2\",\"b\":3})"
   ]
  },
  {
   "cell_type": "code",
   "execution_count": 46,
   "id": "e722909b",
   "metadata": {},
   "outputs": [
    {
     "data": {
      "text/plain": [
       "['a', 'b']"
      ]
     },
     "execution_count": 46,
     "metadata": {},
     "output_type": "execute_result"
    }
   ],
   "source": [
    "x.give_keys()"
   ]
  },
  {
   "cell_type": "code",
   "execution_count": 47,
   "id": "e9089067",
   "metadata": {},
   "outputs": [
    {
     "data": {
      "text/plain": [
       "['2', 3]"
      ]
     },
     "execution_count": 47,
     "metadata": {},
     "output_type": "execute_result"
    }
   ],
   "source": [
    "x.give_values()"
   ]
  },
  {
   "cell_type": "code",
   "execution_count": 48,
   "id": "d646cfdf",
   "metadata": {},
   "outputs": [],
   "source": [
    "x.insert_key_value(\"yash\",\"isha\")"
   ]
  },
  {
   "cell_type": "code",
   "execution_count": 49,
   "id": "04e4ab9c",
   "metadata": {},
   "outputs": [],
   "source": [
    "y = Dictonary_parsing([1,2,4,5,6])"
   ]
  },
  {
   "cell_type": "code",
   "execution_count": 50,
   "id": "4f6cf8e9",
   "metadata": {},
   "outputs": [
    {
     "ename": "Exception",
     "evalue": "([1, 2, 4, 5, 6], 'Not Dictionary')",
     "output_type": "error",
     "traceback": [
      "\u001b[1;31m---------------------------------------------------------------------------\u001b[0m",
      "\u001b[1;31mException\u001b[0m                                 Traceback (most recent call last)",
      "Cell \u001b[1;32mIn [50], line 1\u001b[0m\n\u001b[1;32m----> 1\u001b[0m \u001b[43my\u001b[49m\u001b[38;5;241;43m.\u001b[39;49m\u001b[43mnotdict\u001b[49m\u001b[43m(\u001b[49m\u001b[43m)\u001b[49m\n",
      "Cell \u001b[1;32mIn [44], line 16\u001b[0m, in \u001b[0;36mDictonary_parsing.notdict\u001b[1;34m(self)\u001b[0m\n\u001b[0;32m     14\u001b[0m \u001b[38;5;28;01mdef\u001b[39;00m \u001b[38;5;21mnotdict\u001b[39m(\u001b[38;5;28mself\u001b[39m):\n\u001b[0;32m     15\u001b[0m     \u001b[38;5;28;01mif\u001b[39;00m \u001b[38;5;28mtype\u001b[39m(\u001b[38;5;28mself\u001b[39m\u001b[38;5;241m.\u001b[39md) \u001b[38;5;241m!=\u001b[39m \u001b[38;5;28mdict\u001b[39m:\n\u001b[1;32m---> 16\u001b[0m         \u001b[38;5;28;01mraise\u001b[39;00m \u001b[38;5;167;01mException\u001b[39;00m(\u001b[38;5;28mself\u001b[39m\u001b[38;5;241m.\u001b[39md,\u001b[38;5;124m\"\u001b[39m\u001b[38;5;124mNot Dictionary\u001b[39m\u001b[38;5;124m\"\u001b[39m)\n\u001b[0;32m     17\u001b[0m     \u001b[38;5;28;01mreturn\u001b[39;00m \u001b[38;5;241m1\u001b[39m\n",
      "\u001b[1;31mException\u001b[0m: ([1, 2, 4, 5, 6], 'Not Dictionary')"
     ]
    }
   ],
   "source": [
    "y.notdict()"
   ]
  },
  {
   "cell_type": "code",
   "execution_count": 51,
   "id": "b5f5645e",
   "metadata": {},
   "outputs": [],
   "source": [
    "#example of method overiding\n",
    "\n",
    "class Social_media:\n",
    "    def share_story(self):\n",
    "        print(\"share story\")\n",
    "    \n",
    "    def post(self):\n",
    "        print(\"uplode photos\")\n",
    "    \n",
    "class Instagram(Social_media):\n",
    "    def share_story(self):\n",
    "        print(\"share story on instagram\")\n",
    "    \n",
    "    def filters(self):\n",
    "        print(\"This give many type fo people\")\n",
    "        \n",
    "    def reels(self):\n",
    "        print(\"watch a reel on insta\")\n",
    "        print(\"Make your own reel\")\n",
    "\n",
    "class Facebook(Social_media):\n",
    "    def share_story(self):\n",
    "        print(\"share story on Facrebook\")"
   ]
  },
  {
   "cell_type": "code",
   "execution_count": 52,
   "id": "c9da62fb",
   "metadata": {},
   "outputs": [],
   "source": [
    "f = Facebook()"
   ]
  },
  {
   "cell_type": "code",
   "execution_count": 53,
   "id": "be9ba93d",
   "metadata": {},
   "outputs": [
    {
     "name": "stdout",
     "output_type": "stream",
     "text": [
      "share story on Facrebook\n"
     ]
    }
   ],
   "source": [
    "f.share_story()"
   ]
  },
  {
   "cell_type": "code",
   "execution_count": 54,
   "id": "2531a57c",
   "metadata": {},
   "outputs": [],
   "source": [
    "i = Instagram()"
   ]
  },
  {
   "cell_type": "code",
   "execution_count": 55,
   "id": "3b5f1da7",
   "metadata": {},
   "outputs": [
    {
     "name": "stdout",
     "output_type": "stream",
     "text": [
      "share story on instagram\n"
     ]
    }
   ],
   "source": [
    "i.share_story()"
   ]
  },
  {
   "cell_type": "code",
   "execution_count": 56,
   "id": "f8a798d0",
   "metadata": {},
   "outputs": [
    {
     "name": "stdout",
     "output_type": "stream",
     "text": [
      "This give many type fo people\n"
     ]
    }
   ],
   "source": [
    "i.filters()"
   ]
  },
  {
   "cell_type": "code",
   "execution_count": 57,
   "id": "bdef65c3",
   "metadata": {},
   "outputs": [
    {
     "name": "stdout",
     "output_type": "stream",
     "text": [
      "watch a reel on insta\n",
      "Make your own reel\n"
     ]
    }
   ],
   "source": [
    "i.reels()"
   ]
  },
  {
   "cell_type": "code",
   "execution_count": 58,
   "id": "0ca35a6d",
   "metadata": {},
   "outputs": [
    {
     "name": "stdout",
     "output_type": "stream",
     "text": [
      "uplode photos\n"
     ]
    }
   ],
   "source": [
    "i.post()"
   ]
  },
  {
   "cell_type": "code",
   "execution_count": null,
   "id": "b7100374",
   "metadata": {},
   "outputs": [],
   "source": []
  },
  {
   "cell_type": "code",
   "execution_count": 60,
   "id": "dd78c823",
   "metadata": {},
   "outputs": [],
   "source": [
    "d = Dictonary_parsing({\"yash\":14,\"isha\":18})"
   ]
  },
  {
   "cell_type": "code",
   "execution_count": 61,
   "id": "04fa250b",
   "metadata": {},
   "outputs": [
    {
     "data": {
      "text/plain": [
       "['yash', 'isha']"
      ]
     },
     "execution_count": 61,
     "metadata": {},
     "output_type": "execute_result"
    }
   ],
   "source": [
    "d.give_keys()"
   ]
  },
  {
   "cell_type": "code",
   "execution_count": 62,
   "id": "d4d3e109",
   "metadata": {},
   "outputs": [
    {
     "data": {
      "text/plain": [
       "[14, 18]"
      ]
     },
     "execution_count": 62,
     "metadata": {},
     "output_type": "execute_result"
    }
   ],
   "source": [
    "d.give_values()"
   ]
  },
  {
   "cell_type": "code",
   "execution_count": 63,
   "id": "bc9ace4a",
   "metadata": {},
   "outputs": [],
   "source": [
    "d.insert_key_value(\"patade\",\"ankita\")"
   ]
  },
  {
   "cell_type": "code",
   "execution_count": 64,
   "id": "3bc0e754",
   "metadata": {},
   "outputs": [
    {
     "data": {
      "text/plain": [
       "['yash', 'isha', 'patade']"
      ]
     },
     "execution_count": 64,
     "metadata": {},
     "output_type": "execute_result"
    }
   ],
   "source": [
    "d.give_keys()"
   ]
  },
  {
   "cell_type": "code",
   "execution_count": 65,
   "id": "8ede8633",
   "metadata": {},
   "outputs": [
    {
     "data": {
      "text/plain": [
       "[14, 18, 'ankita']"
      ]
     },
     "execution_count": 65,
     "metadata": {},
     "output_type": "execute_result"
    }
   ],
   "source": [
    "d.give_values()"
   ]
  },
  {
   "cell_type": "code",
   "execution_count": 110,
   "id": "9e4d64cd",
   "metadata": {},
   "outputs": [],
   "source": [
    "class List:\n",
    "    \n",
    "    def __init__(self,lst):\n",
    "        self.lst = lst\n",
    "        \n",
    "    def show_list(self):\n",
    "        '''This will show the your list'''\n",
    "        return self.lst\n",
    "        \n",
    "    def append_no(self,n):\n",
    "        '''This method append number on list end'''\n",
    "        return self.lst.append(n)\n",
    "        \n",
    "    def clear_list(self):\n",
    "        '''This will clear the list'''\n",
    "        return self.lst.clear()\n",
    "    \n",
    "    def copy_list(self):\n",
    "        '''This will copy the entire list'''\n",
    "        return self.lst.copy()\n",
    "    \n",
    "    def count_listEliments(self,n):\n",
    "        ''' Return number of occurrences of value'''\n",
    "        return self.lst.count(n)\n",
    "    \n",
    "    def extend_list(self,lt):\n",
    "        '''Extend list by appending elements from the iterable.'''\n",
    "        return self.lst.extend(lt)\n",
    "    \n",
    "    def find_index(self,i):\n",
    "        '''Return first index of value.'''\n",
    "        return self.lst.index(i)\n",
    "    \n",
    "    def insert_Element(self,i,lt):\n",
    "        ''' Insert object before index.'''\n",
    "        return self.lst.insert(i,lt)\n",
    "    \n",
    "    def pop_Element(self,p):\n",
    "        '''Remove and return item at index (default last).'''\n",
    "        return self.lst.pop(p)\n",
    "    \n",
    "    def remove_Element(self,e):\n",
    "        '''Remove first occurrence of value.'''\n",
    "        return self.lst.remove(e)\n",
    "    \n",
    "    def reverse_list(self):\n",
    "        '''Reverse the list'''\n",
    "        return self.lst.reverse()\n",
    "    \n",
    "    def sort_list(self):\n",
    "        '''Sort the list in ascending order and return None.'''\n",
    "        return self.lst.sort()\n",
    "    \n",
    "         \n",
    "    def listsearch(self,element):\n",
    "        \n",
    "        if element in self.lst:\n",
    "            return f\"{element}:{True}\"\n",
    "        else:\n",
    "            return f\"{element}:{False}\"\n",
    "    \n",
    "    def __str__(self):\n",
    "        return \"This is list Class\"\n",
    "         \n",
    "        \n",
    "        "
   ]
  },
  {
   "cell_type": "code",
   "execution_count": 111,
   "id": "9966054e",
   "metadata": {},
   "outputs": [],
   "source": [
    "a = List([1,2,3,6,5,4,7,88,1,9,66,88])"
   ]
  },
  {
   "cell_type": "code",
   "execution_count": 114,
   "id": "f49291bc",
   "metadata": {},
   "outputs": [
    {
     "data": {
      "text/plain": [
       "'88:True'"
      ]
     },
     "execution_count": 114,
     "metadata": {},
     "output_type": "execute_result"
    }
   ],
   "source": [
    "a.listsearch(88)"
   ]
  },
  {
   "cell_type": "code",
   "execution_count": 68,
   "id": "1e4d249b",
   "metadata": {},
   "outputs": [
    {
     "data": {
      "text/plain": [
       "[1, 2, 3, 6, 5, 4, 7, 88, 1, 9, 66, 88]"
      ]
     },
     "execution_count": 68,
     "metadata": {},
     "output_type": "execute_result"
    }
   ],
   "source": [
    "a.show_list()"
   ]
  },
  {
   "cell_type": "code",
   "execution_count": 69,
   "id": "1bc42462",
   "metadata": {},
   "outputs": [],
   "source": [
    "a.append_no(5000)"
   ]
  },
  {
   "cell_type": "code",
   "execution_count": 70,
   "id": "679029bf",
   "metadata": {},
   "outputs": [],
   "source": [
    "a.reverse_list()"
   ]
  },
  {
   "cell_type": "code",
   "execution_count": 71,
   "id": "7bc89131",
   "metadata": {},
   "outputs": [],
   "source": [
    "class Dictonary:\n",
    "    \n",
    "    def __init__(self,d):\n",
    "        self.d = d\n",
    "        \n",
    "    def show_dict(self):\n",
    "        '''This will show you your dictionary'''\n",
    "        return self.d\n",
    "        \n",
    "    \n",
    "    def notdict(self):\n",
    "        '''if its not the dictionary it will raise error'''\n",
    "        if type(self.d) != dict:\n",
    "            raise Exception(self.d,\"Not Dictionary\")\n",
    "        return 1\n",
    "    \n",
    "    def insert_key_value(self,key,value):\n",
    "        '''Insert new value pairs'''\n",
    "        self.d[key] = value\n",
    "            \n",
    "    def clear_dict(self):\n",
    "        '''Remove all items from D.'''\n",
    "        return self.d.clear()\n",
    "    \n",
    "    def copy_dict(self):\n",
    "        '''a shallow copy of Dictionary'''\n",
    "        return self.d.copy()\n",
    "    \n",
    "    def fromkeysOfdict(self,i,v):\n",
    "        '''Create a new dictionary with keys from iterable and values set to value.'''\n",
    "        return self.d.fromkeys(i,v)\n",
    "    \n",
    "    def get_value(self,v):\n",
    "        '''Create a new dictionary with keys from iterable and values set to value.'''\n",
    "        return self.d.get(v)\n",
    "    \n",
    "    def get_items(self):\n",
    "        '''a set-like object providing a view on Dictionary's items'''\n",
    "        return self.d.items()\n",
    "    \n",
    "    def get_keys(self):\n",
    "        '''a set-like object providing a view on D's keys'''\n",
    "        return self.d.keys()\n",
    "    \n",
    "    def get_values(self):\n",
    "        '''an object providing a view on D's values'''\n",
    "        return self.d.values()\n",
    "    \n",
    "    def pop_dict(self,p):\n",
    "        '''remove specified key and return the corresponding value.'''\n",
    "        return self.d.pop(p)\n",
    "    \n",
    "    def pop_item(self):\n",
    "        '''Remove and return a (key, value) pair as a 2-tuple'''\n",
    "        return self.d.popitem()\n",
    "    \n",
    "    def set_defalt(self,k,v):\n",
    "        '''Insert key with a value of default if key is not in the dictionary.'''\n",
    "        return self.d.setdefault(k,v)\n",
    "    \n",
    "    def update_dict(self,dd):\n",
    "        return self.d.update(dd)\n",
    "    \n",
    "    def __str__(self):\n",
    "        return \"this is dictionary class\"\n",
    "    \n",
    "    "
   ]
  },
  {
   "cell_type": "code",
   "execution_count": 72,
   "id": "ee2b219d",
   "metadata": {},
   "outputs": [],
   "source": [
    "d = {\"A\":1,\"B\":2,\"C\":3}"
   ]
  },
  {
   "cell_type": "code",
   "execution_count": 73,
   "id": "b4ee8afc",
   "metadata": {},
   "outputs": [],
   "source": [
    "d1 ={2:\"rutuja\",1:\"o\"}"
   ]
  },
  {
   "cell_type": "code",
   "execution_count": 74,
   "id": "7e259db9",
   "metadata": {},
   "outputs": [],
   "source": [
    "d[\"yash\"] = \"isha\""
   ]
  },
  {
   "cell_type": "code",
   "execution_count": 75,
   "id": "12f058da",
   "metadata": {},
   "outputs": [],
   "source": [
    "d.update(d1)\n"
   ]
  },
  {
   "cell_type": "code",
   "execution_count": null,
   "id": "bc6c0243",
   "metadata": {},
   "outputs": [],
   "source": []
  },
  {
   "cell_type": "code",
   "execution_count": 76,
   "id": "c1e36606",
   "metadata": {},
   "outputs": [
    {
     "data": {
      "text/plain": [
       "{'A': 1, 'B': 2, 'C': 3, 'yash': 'isha', 2: 'rutuja', 1: 'o'}"
      ]
     },
     "execution_count": 76,
     "metadata": {},
     "output_type": "execute_result"
    }
   ],
   "source": [
    "d"
   ]
  },
  {
   "cell_type": "code",
   "execution_count": 77,
   "id": "0aa549a9",
   "metadata": {},
   "outputs": [],
   "source": [
    "my = Dictonary({'A': 1, 'B': 2, 'C': 3, 'yash': 'isha'})"
   ]
  },
  {
   "cell_type": "code",
   "execution_count": 78,
   "id": "b2ef3c31",
   "metadata": {},
   "outputs": [
    {
     "data": {
      "text/plain": [
       "{'A': 1, 'B': 2, 'C': 3, 'yash': 'isha'}"
      ]
     },
     "execution_count": 78,
     "metadata": {},
     "output_type": "execute_result"
    }
   ],
   "source": [
    "my.show_dict()"
   ]
  },
  {
   "cell_type": "code",
   "execution_count": 79,
   "id": "a007a537",
   "metadata": {},
   "outputs": [
    {
     "data": {
      "text/plain": [
       "{'A': 1, 'B': 2, 'C': 3, 'yash': 'isha'}"
      ]
     },
     "execution_count": 79,
     "metadata": {},
     "output_type": "execute_result"
    }
   ],
   "source": [
    "my.copy_dict()"
   ]
  },
  {
   "cell_type": "code",
   "execution_count": 80,
   "id": "dfd63eeb",
   "metadata": {},
   "outputs": [
    {
     "data": {
      "text/plain": [
       "{'y': 69, 'a': 69, 's': 69, 'h': 69}"
      ]
     },
     "execution_count": 80,
     "metadata": {},
     "output_type": "execute_result"
    }
   ],
   "source": [
    "my.fromkeysOfdict(\"yash\",69)"
   ]
  },
  {
   "cell_type": "code",
   "execution_count": 81,
   "id": "f9405c24",
   "metadata": {},
   "outputs": [
    {
     "data": {
      "text/plain": [
       "'isha'"
      ]
     },
     "execution_count": 81,
     "metadata": {},
     "output_type": "execute_result"
    }
   ],
   "source": [
    "my.get_value(\"yash\")"
   ]
  },
  {
   "cell_type": "code",
   "execution_count": 82,
   "id": "64032ce9",
   "metadata": {},
   "outputs": [
    {
     "data": {
      "text/plain": [
       "dict_items([('A', 1), ('B', 2), ('C', 3), ('yash', 'isha')])"
      ]
     },
     "execution_count": 82,
     "metadata": {},
     "output_type": "execute_result"
    }
   ],
   "source": [
    "my.get_items()"
   ]
  },
  {
   "cell_type": "code",
   "execution_count": 83,
   "id": "31b913a0",
   "metadata": {},
   "outputs": [
    {
     "data": {
      "text/plain": [
       "dict_keys(['A', 'B', 'C', 'yash'])"
      ]
     },
     "execution_count": 83,
     "metadata": {},
     "output_type": "execute_result"
    }
   ],
   "source": [
    "my.get_keys()"
   ]
  },
  {
   "cell_type": "code",
   "execution_count": 84,
   "id": "e0b21de4",
   "metadata": {},
   "outputs": [
    {
     "data": {
      "text/plain": [
       "dict_values([1, 2, 3, 'isha'])"
      ]
     },
     "execution_count": 84,
     "metadata": {},
     "output_type": "execute_result"
    }
   ],
   "source": [
    "my.get_values()"
   ]
  },
  {
   "cell_type": "code",
   "execution_count": 85,
   "id": "bfb202b2",
   "metadata": {},
   "outputs": [
    {
     "data": {
      "text/plain": [
       "'isha'"
      ]
     },
     "execution_count": 85,
     "metadata": {},
     "output_type": "execute_result"
    }
   ],
   "source": [
    "my.pop_dict(\"yash\")"
   ]
  },
  {
   "cell_type": "code",
   "execution_count": 86,
   "id": "0170c6d2",
   "metadata": {},
   "outputs": [
    {
     "data": {
      "text/plain": [
       "{'A': 1, 'B': 2, 'C': 3}"
      ]
     },
     "execution_count": 86,
     "metadata": {},
     "output_type": "execute_result"
    }
   ],
   "source": [
    "my.show_dict()"
   ]
  },
  {
   "cell_type": "code",
   "execution_count": 87,
   "id": "b3e72a97",
   "metadata": {},
   "outputs": [
    {
     "data": {
      "text/plain": [
       "('C', 3)"
      ]
     },
     "execution_count": 87,
     "metadata": {},
     "output_type": "execute_result"
    }
   ],
   "source": [
    "my.pop_item()"
   ]
  },
  {
   "cell_type": "code",
   "execution_count": 88,
   "id": "f862cd04",
   "metadata": {},
   "outputs": [
    {
     "data": {
      "text/plain": [
       "{'A': 1, 'B': 2}"
      ]
     },
     "execution_count": 88,
     "metadata": {},
     "output_type": "execute_result"
    }
   ],
   "source": [
    "my.show_dict()"
   ]
  },
  {
   "cell_type": "code",
   "execution_count": 89,
   "id": "295f604e",
   "metadata": {},
   "outputs": [
    {
     "data": {
      "text/plain": [
       "'lasun'"
      ]
     },
     "execution_count": 89,
     "metadata": {},
     "output_type": "execute_result"
    }
   ],
   "source": [
    "my.set_defalt(\"lavda\",\"lasun\")"
   ]
  },
  {
   "cell_type": "code",
   "execution_count": 90,
   "id": "9db19841",
   "metadata": {},
   "outputs": [
    {
     "data": {
      "text/plain": [
       "{'A': 1, 'B': 2, 'lavda': 'lasun'}"
      ]
     },
     "execution_count": 90,
     "metadata": {},
     "output_type": "execute_result"
    }
   ],
   "source": [
    "my.show_dict()"
   ]
  },
  {
   "cell_type": "code",
   "execution_count": 91,
   "id": "49f95a3e",
   "metadata": {},
   "outputs": [],
   "source": [
    "my.update_dict(d1)"
   ]
  },
  {
   "cell_type": "code",
   "execution_count": 92,
   "id": "b7d9eec9",
   "metadata": {},
   "outputs": [
    {
     "data": {
      "text/plain": [
       "{'A': 1, 'B': 2, 'lavda': 'lasun', 2: 'rutuja', 1: 'o'}"
      ]
     },
     "execution_count": 92,
     "metadata": {},
     "output_type": "execute_result"
    }
   ],
   "source": [
    "my.show_dict()"
   ]
  },
  {
   "cell_type": "code",
   "execution_count": 93,
   "id": "e858e035",
   "metadata": {},
   "outputs": [
    {
     "data": {
      "text/plain": [
       "<__main__.Dictonary at 0x23cb0bcc8b0>"
      ]
     },
     "execution_count": 93,
     "metadata": {},
     "output_type": "execute_result"
    }
   ],
   "source": [
    "my"
   ]
  },
  {
   "cell_type": "code",
   "execution_count": 102,
   "id": "9e0a0c84",
   "metadata": {},
   "outputs": [],
   "source": [
    "#list search class\n",
    "class List_Search:\n",
    "    \n",
    "    def __init__(self,data):\n",
    "        self.data = data\n",
    "        \n",
    "    def search(self,element):\n",
    "        \n",
    "        if element in self.data:\n",
    "            return f\"{element}:{True}\"\n",
    "        else:\n",
    "            return f\"{element}:{False}\""
   ]
  },
  {
   "cell_type": "code",
   "execution_count": 103,
   "id": "cd51d2f6",
   "metadata": {},
   "outputs": [],
   "source": [
    "lst = List_Search([1,2,3,6,4,7,8,9])"
   ]
  },
  {
   "cell_type": "code",
   "execution_count": 104,
   "id": "e40524a1",
   "metadata": {},
   "outputs": [
    {
     "data": {
      "text/plain": [
       "[1, 2, 3, 6, 4, 7, 8, 9]"
      ]
     },
     "execution_count": 104,
     "metadata": {},
     "output_type": "execute_result"
    }
   ],
   "source": [
    "lst.data"
   ]
  },
  {
   "cell_type": "code",
   "execution_count": 105,
   "id": "4aa421e6",
   "metadata": {},
   "outputs": [
    {
     "data": {
      "text/plain": [
       "'45:False'"
      ]
     },
     "execution_count": 105,
     "metadata": {},
     "output_type": "execute_result"
    }
   ],
   "source": [
    "lst.search(45)"
   ]
  },
  {
   "cell_type": "code",
   "execution_count": 106,
   "id": "f403f645",
   "metadata": {},
   "outputs": [
    {
     "data": {
      "text/plain": [
       "'1:True'"
      ]
     },
     "execution_count": 106,
     "metadata": {},
     "output_type": "execute_result"
    }
   ],
   "source": [
    "lst.search(1)"
   ]
  },
  {
   "cell_type": "code",
   "execution_count": 115,
   "id": "319daa5a",
   "metadata": {},
   "outputs": [],
   "source": [
    "a = (1,2,3,6,4,7,8,9)"
   ]
  },
  {
   "cell_type": "code",
   "execution_count": 62,
   "id": "dd2df2bc",
   "metadata": {},
   "outputs": [],
   "source": [
    "class Tuples:\n",
    "    def __init__(self,t):\n",
    "        self.t = t\n",
    "        \n",
    "    def count_Elements(self,v,/):\n",
    "        '''Return number of occurrences of value.'''\n",
    "        return self.t.count(v)\n",
    "    \n",
    "    def Index(self,i):\n",
    "        '''Return first index of value.'''\n",
    "        return self.t.index(i)\n",
    "    \n",
    "    def reverse_tuple(self):\n",
    "        '''The method give Reverse Tuples'''\n",
    "        return self.t[::-1]"
   ]
  },
  {
   "cell_type": "code",
   "execution_count": 63,
   "id": "9e874f84",
   "metadata": {},
   "outputs": [],
   "source": [
    "tu = Tuples((1,2,3,6,5,1,5,17,8,9,5))"
   ]
  },
  {
   "cell_type": "code",
   "execution_count": 64,
   "id": "372801e5",
   "metadata": {},
   "outputs": [
    {
     "data": {
      "text/plain": [
       "2"
      ]
     },
     "execution_count": 64,
     "metadata": {},
     "output_type": "execute_result"
    }
   ],
   "source": [
    "tu.count_Elements(1)"
   ]
  },
  {
   "cell_type": "code",
   "execution_count": 65,
   "id": "f3912349",
   "metadata": {},
   "outputs": [
    {
     "data": {
      "text/plain": [
       "7"
      ]
     },
     "execution_count": 65,
     "metadata": {},
     "output_type": "execute_result"
    }
   ],
   "source": [
    "tu.Index(17)"
   ]
  },
  {
   "cell_type": "code",
   "execution_count": 66,
   "id": "b4025ec3",
   "metadata": {},
   "outputs": [
    {
     "data": {
      "text/plain": [
       "(5, 9, 8, 17, 5, 1, 5, 6, 3, 2, 1)"
      ]
     },
     "execution_count": 66,
     "metadata": {},
     "output_type": "execute_result"
    }
   ],
   "source": [
    "tu.reverse_tuple()"
   ]
  },
  {
   "cell_type": "code",
   "execution_count": 69,
   "id": "1205df0b",
   "metadata": {},
   "outputs": [],
   "source": []
  },
  {
   "cell_type": "code",
   "execution_count": null,
   "id": "e8ff35ca",
   "metadata": {},
   "outputs": [],
   "source": []
  },
  {
   "cell_type": "code",
   "execution_count": 70,
   "id": "3f754acf",
   "metadata": {},
   "outputs": [],
   "source": []
  },
  {
   "cell_type": "code",
   "execution_count": null,
   "id": "1e996ca4",
   "metadata": {},
   "outputs": [],
   "source": []
  },
  {
   "cell_type": "code",
   "execution_count": null,
   "id": "9b487985",
   "metadata": {},
   "outputs": [],
   "source": []
  },
  {
   "cell_type": "code",
   "execution_count": null,
   "id": "928e8f09",
   "metadata": {},
   "outputs": [],
   "source": []
  },
  {
   "cell_type": "code",
   "execution_count": null,
   "id": "05949967",
   "metadata": {},
   "outputs": [],
   "source": []
  },
  {
   "cell_type": "code",
   "execution_count": null,
   "id": "28dabee3",
   "metadata": {},
   "outputs": [],
   "source": []
  },
  {
   "cell_type": "code",
   "execution_count": null,
   "id": "82018c3a",
   "metadata": {},
   "outputs": [],
   "source": []
  },
  {
   "cell_type": "code",
   "execution_count": null,
   "id": "e0e14647",
   "metadata": {},
   "outputs": [],
   "source": []
  },
  {
   "cell_type": "code",
   "execution_count": null,
   "id": "3470961f",
   "metadata": {},
   "outputs": [],
   "source": []
  },
  {
   "cell_type": "code",
   "execution_count": null,
   "id": "f3284f22",
   "metadata": {},
   "outputs": [],
   "source": []
  },
  {
   "cell_type": "code",
   "execution_count": null,
   "id": "5fa9cf1c",
   "metadata": {},
   "outputs": [],
   "source": []
  },
  {
   "cell_type": "code",
   "execution_count": null,
   "id": "dd1faf65",
   "metadata": {},
   "outputs": [],
   "source": []
  },
  {
   "cell_type": "code",
   "execution_count": null,
   "id": "3c751850",
   "metadata": {},
   "outputs": [],
   "source": []
  },
  {
   "cell_type": "code",
   "execution_count": null,
   "id": "a4d642b0",
   "metadata": {},
   "outputs": [],
   "source": []
  },
  {
   "cell_type": "code",
   "execution_count": null,
   "id": "267b720d",
   "metadata": {},
   "outputs": [],
   "source": []
  },
  {
   "cell_type": "code",
   "execution_count": null,
   "id": "dba651bc",
   "metadata": {},
   "outputs": [],
   "source": []
  },
  {
   "cell_type": "code",
   "execution_count": null,
   "id": "aaa80a05",
   "metadata": {},
   "outputs": [],
   "source": []
  },
  {
   "cell_type": "code",
   "execution_count": null,
   "id": "56a92bbf",
   "metadata": {},
   "outputs": [],
   "source": []
  },
  {
   "cell_type": "code",
   "execution_count": null,
   "id": "a5acb764",
   "metadata": {},
   "outputs": [],
   "source": []
  },
  {
   "cell_type": "code",
   "execution_count": null,
   "id": "de7c3b98",
   "metadata": {},
   "outputs": [],
   "source": []
  },
  {
   "cell_type": "code",
   "execution_count": null,
   "id": "bb56c02f",
   "metadata": {},
   "outputs": [],
   "source": []
  },
  {
   "cell_type": "code",
   "execution_count": null,
   "id": "884bed83",
   "metadata": {},
   "outputs": [],
   "source": []
  },
  {
   "cell_type": "code",
   "execution_count": null,
   "id": "805ade2b",
   "metadata": {},
   "outputs": [],
   "source": []
  },
  {
   "cell_type": "code",
   "execution_count": null,
   "id": "68b3da69",
   "metadata": {},
   "outputs": [],
   "source": []
  },
  {
   "cell_type": "code",
   "execution_count": null,
   "id": "91d4a55d",
   "metadata": {},
   "outputs": [],
   "source": []
  },
  {
   "cell_type": "code",
   "execution_count": null,
   "id": "d9dea8d2",
   "metadata": {},
   "outputs": [],
   "source": []
  },
  {
   "cell_type": "code",
   "execution_count": null,
   "id": "c90bbd77",
   "metadata": {},
   "outputs": [],
   "source": []
  },
  {
   "cell_type": "code",
   "execution_count": null,
   "id": "3006f815",
   "metadata": {},
   "outputs": [],
   "source": []
  },
  {
   "cell_type": "code",
   "execution_count": null,
   "id": "3244cc02",
   "metadata": {},
   "outputs": [],
   "source": []
  },
  {
   "cell_type": "code",
   "execution_count": null,
   "id": "c0a883e3",
   "metadata": {},
   "outputs": [],
   "source": []
  },
  {
   "cell_type": "code",
   "execution_count": null,
   "id": "0f3a24f4",
   "metadata": {},
   "outputs": [],
   "source": []
  },
  {
   "cell_type": "code",
   "execution_count": null,
   "id": "abfec4cc",
   "metadata": {},
   "outputs": [],
   "source": []
  },
  {
   "cell_type": "code",
   "execution_count": null,
   "id": "a609eb05",
   "metadata": {},
   "outputs": [],
   "source": []
  },
  {
   "cell_type": "code",
   "execution_count": null,
   "id": "6624731c",
   "metadata": {},
   "outputs": [],
   "source": []
  },
  {
   "cell_type": "code",
   "execution_count": null,
   "id": "8710d525",
   "metadata": {},
   "outputs": [],
   "source": []
  },
  {
   "cell_type": "code",
   "execution_count": null,
   "id": "e6186e15",
   "metadata": {},
   "outputs": [],
   "source": []
  }
 ],
 "metadata": {
  "kernelspec": {
   "display_name": "Python 3 (ipykernel)",
   "language": "python",
   "name": "python3"
  },
  "language_info": {
   "codemirror_mode": {
    "name": "ipython",
    "version": 3
   },
   "file_extension": ".py",
   "mimetype": "text/x-python",
   "name": "python",
   "nbconvert_exporter": "python",
   "pygments_lexer": "ipython3",
   "version": "3.10.6"
  }
 },
 "nbformat": 4,
 "nbformat_minor": 5
}
